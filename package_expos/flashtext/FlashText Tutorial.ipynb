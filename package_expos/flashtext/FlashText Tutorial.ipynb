{
 "cells": [
  {
   "cell_type": "markdown",
   "metadata": {},
   "source": [
    "This tutorial contains the text of *The Hunger Games* by Suzanne Collins."
   ]
  },
  {
   "cell_type": "markdown",
   "metadata": {},
   "source": [
    "# FlashText Tutorial"
   ]
  },
  {
   "cell_type": "code",
   "execution_count": 1,
   "metadata": {},
   "outputs": [],
   "source": [
    "#install for the first time - uncomment the below line to install"
   ]
  },
  {
   "cell_type": "code",
   "execution_count": 2,
   "metadata": {},
   "outputs": [],
   "source": [
    "#!pip install flashtext"
   ]
  },
  {
   "cell_type": "code",
   "execution_count": 3,
   "metadata": {},
   "outputs": [],
   "source": [
    "from flashtext import KeywordProcessor\n",
    "kp = KeywordProcessor() #can make the search for keywords case sensitive by adding the argument (case_sensitive = True)"
   ]
  },
  {
   "cell_type": "markdown",
   "metadata": {},
   "source": [
    "The dataset is a text file (.txt) containing the text of the the novel *The Hunger Games*."
   ]
  },
  {
   "cell_type": "code",
   "execution_count": 4,
   "metadata": {},
   "outputs": [
    {
     "name": "stdout",
     "output_type": "stream",
     "text": [
      "1.\n",
      "\n",
      "When I wake up, the other side of the bed is cold. My fingers stretch out, seeking Prims warmth but finding only the rough canvas cover of the mattress. She must have had bad dreams and climbed in with our mother. Of course, she did. This is the day of the reaping. I prop myself up on one elbow. Theres enough light in the bedroom to see them. My little sister, Prim, curled up on her side, cocooned in my mothers body, their cheeks pressed together. In sleep, my mother looks younger, still worn but not so beaten-down. Prims face is as fresh as a raindrop, as lovely as the primrose for which she was named. My mother was very beautiful once, too. Or so\n",
      "\n",
      "they tell me. Sitting at Prims knees, guarding her, is the worlds ugliest cat. Mashed-in nose, half of one ear missing, eyes the color of rotting squash. Prim named him Buttercup, insisting that his muddy yellow coat matched the bright flower. I he hates m\n"
     ]
    }
   ],
   "source": [
    "#import text data\n",
    "\n",
    "with open('The Hunger Games.txt') as f:\n",
    "    contents = f.read()\n",
    "\n",
    "    print(contents[82:1000])"
   ]
  },
  {
   "cell_type": "markdown",
   "metadata": {},
   "source": [
    "## Extracting keywords"
   ]
  },
  {
   "cell_type": "code",
   "execution_count": 5,
   "metadata": {},
   "outputs": [
    {
     "name": "stdout",
     "output_type": "stream",
     "text": [
      "{'Katniss Everdeen - protagonist', 'District 12', 'battle costume'}\n"
     ]
    }
   ],
   "source": [
    "#compile keywords to search for\n",
    "#function structure: kp.add_keyword(<unprocessed word>, optional: <standardized word to extract when unprocessed word is found>)\n",
    "\n",
    "kp.add_keyword('Katniss', 'Katniss Everdeen - protagonist')\n",
    "kp.add_keyword('District twelve', 'District 12')  \n",
    "kp.add_keyword('costume', 'battle costume')\n",
    "\n",
    "wordsfound = kp.extract_keywords(contents)\n",
    "\n",
    "print(set(wordsfound))"
   ]
  },
  {
   "cell_type": "markdown",
   "metadata": {},
   "source": [
    "### Add multiple keywords simultaneously"
   ]
  },
  {
   "cell_type": "code",
   "execution_count": 6,
   "metadata": {},
   "outputs": [
    {
     "name": "stdout",
     "output_type": "stream",
     "text": [
      "{'Katniss Everdeen - protagonist', 'Peeta', 'Rue', 'Primrose Everdeen', 'capitol', 'District 12', 'Gale', 'Hunger Games setting', 'battle costume'}\n"
     ]
    }
   ],
   "source": [
    "#when want to substitute standardized word for an unprocessed word, compile keywords in a dictionary\n",
    "#dict structure: {<standardized word to extract: [<list of unprocessed words that can be substituted for standardized word>]}\n",
    "\n",
    "word_dict = {'Primrose Everdeen': ['Prim', 'my sister'], 'Hunger Games setting': ['dome', 'arena']}\n",
    "kp.add_keywords_from_dict(word_dict)\n",
    "\n",
    "#when there is no need to differentiate between the unprocessed and standardized word, keywords can be compiled in a list\n",
    "\n",
    "characters = ['Peeta', 'Gale', 'Rue', 'capitol']\n",
    "kp.add_keywords_from_list(characters)\n",
    "\n",
    "wordsfound = kp.extract_keywords(contents)\n",
    "print(set(wordsfound))"
   ]
  },
  {
   "cell_type": "markdown",
   "metadata": {},
   "source": [
    "Note that words added previously are still in the dictionary and therefore extracted. The dictionary is cumulative; the function will also extract or replace all words added to the dictionary in previous steps, unless they are removed."
   ]
  },
  {
   "cell_type": "markdown",
   "metadata": {},
   "source": [
    "## Replacing keywords"
   ]
  },
  {
   "cell_type": "code",
   "execution_count": 7,
   "metadata": {},
   "outputs": [
    {
     "name": "stdout",
     "output_type": "stream",
     "text": [
      "Katniss Everdeen - protagonist wore her battle costume in the Hunger Games setting, allowing her to move quickly and hide when necessary.\n"
     ]
    }
   ],
   "source": [
    "#To replace keywords, the standardized word identified in the add_keywords step(s) will be what replaces the unprocessed words listed in the add_keywords step(s) as they are found\"\n",
    "\n",
    "sample_sentence = 'Katniss wore her costume in the arena, allowing her to move quickly and hide when necessary.'\n",
    "new_sentence = kp.replace_keywords(sample_sentence)\n",
    "print(new_sentence)"
   ]
  },
  {
   "cell_type": "code",
   "execution_count": 8,
   "metadata": {},
   "outputs": [
    {
     "name": "stdout",
     "output_type": "stream",
     "text": [
      "t. Gale and I divide our spoils, leaving two fish, a couple of loaves of good bread, greens, a quart of strawberries, salt, paraffin, and a bit of money for each. See you in the square, I say. Wear something\n",
      "\n",
      "pretty, he says flatly. At home, I find my mother and sister are ready to go. My mother wears a fine dress from her apothecary days. Primrose Everdeen is in my first reaping outfit, a skirt and ruffled blouse. Its a bit big on her, but my mother has made it stay with pins. Even so, shes having trouble keeping the blouse tucked in at the back. A tub of warm water waits for me. I scrub off the dirt and sweat from the woods and even wash my hair. To my surprise, my mother has laid out one of her own lovely dresses for me. A soft blue thing with matching shoes. Are you sure? I ask. Im trying to get past rejecting offers of help from her. For a while, I was so angry, I wouldnt allow her to do anything for me. And this is something special. Her clothes from her\n",
      "\n",
      "past are very precious to her. Of course. Lets put your hair up, too, she says. I let her towel-dry it and braid it up on my head. I can hardly recognize myself in the cracked mirror that leans against the wall. You look beautiful, says Primrose Everdeen in a hushed voice. And nothing like myself, I say. I hug her, because I know these next few hours will be terrible for her. Her first reaping. Shes about as safe as you can get, since shes only entered once. I wouldnt let her take out any tesserae. But shes worried about me. That the unthinkable might happen. I protect Primrose Everdeen in every way I can, but Im powerless against the reaping. The anguish I always feel when shes in pain wells up in my chest and threatens to register on my (ace. I notice her blouse has pulled out of her skirt in the back again and force myself to stay calm. Tuck your tail in, little duck, I say, smoothing the blouse back in place. Primrose Everdeen giggles and gives me a small Quack. Quack yourself, I say with a light laugh. T\n"
     ]
    }
   ],
   "source": [
    "new_contents = kp.replace_keywords(contents)\n",
    "print(new_contents[18000:20000])"
   ]
  },
  {
   "cell_type": "markdown",
   "metadata": {},
   "source": [
    "## Determine words in dictionary"
   ]
  },
  {
   "cell_type": "code",
   "execution_count": 9,
   "metadata": {},
   "outputs": [
    {
     "name": "stdout",
     "output_type": "stream",
     "text": [
      "{'katniss': 'Katniss Everdeen - protagonist', 'district twelve': 'District 12', 'dome': 'Hunger Games setting', 'costume': 'battle costume', 'capitol': 'capitol', 'prim': 'Primrose Everdeen', 'peeta': 'Peeta', 'my sister': 'Primrose Everdeen', 'arena': 'Hunger Games setting', 'gale': 'Gale', 'rue': 'Rue'}\n"
     ]
    },
    {
     "data": {
      "text/plain": [
       "True"
      ]
     },
     "execution_count": 9,
     "metadata": {},
     "output_type": "execute_result"
    }
   ],
   "source": [
    "#get all keywords in the dictionary\n",
    "\n",
    "all_words = kp.get_all_keywords()\n",
    "print(all_words)\n",
    "\n",
    "#check if a keyword is present in the dictionary\n",
    "\n",
    "'Prim' in kp"
   ]
  },
  {
   "cell_type": "code",
   "execution_count": 10,
   "metadata": {},
   "outputs": [
    {
     "name": "stdout",
     "output_type": "stream",
     "text": [
      "['Katniss Everdeen - protagonist', 'battle costume', 'Hunger Games setting']\n",
      "['Katniss Everdeen - protagonist', 'Hunger Games setting']\n"
     ]
    }
   ],
   "source": [
    "#Remove keyword\n",
    "\n",
    "print(kp.extract_keywords(sample_sentence))\n",
    "\n",
    "kp.remove_keyword('costume')\n",
    "new_sentence2 = kp.extract_keywords(sample_sentence)\n",
    "print(new_sentence2)\n"
   ]
  }
 ],
 "metadata": {
  "kernelspec": {
   "display_name": "Python 3",
   "language": "python",
   "name": "python3"
  },
  "language_info": {
   "codemirror_mode": {
    "name": "ipython",
    "version": 3
   },
   "file_extension": ".py",
   "mimetype": "text/x-python",
   "name": "python",
   "nbconvert_exporter": "python",
   "pygments_lexer": "ipython3",
   "version": "3.8.5"
  }
 },
 "nbformat": 4,
 "nbformat_minor": 4
}
