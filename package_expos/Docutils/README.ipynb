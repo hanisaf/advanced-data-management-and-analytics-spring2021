{
 "cells": [
  {
   "cell_type": "markdown",
   "metadata": {},
   "source": [
    "# Docutils"
   ]
  },
  {
   "cell_type": "markdown",
   "metadata": {},
   "source": [
    "## Presentation"
   ]
  },
  {
   "cell_type": "markdown",
   "metadata": {},
   "source": [
    "Click [__here__] (youtube link) for the video presentation"
   ]
  },
  {
   "cell_type": "markdown",
   "metadata": {},
   "source": [
    "## Summary of Support Files"
   ]
  },
  {
   "cell_type": "markdown",
   "metadata": {},
   "source": [
    "- `demo.ipynb`: the notebook containing this tutorial code\n",
    "- `test.csv`: a small file data used in the tutorial code"
   ]
  },
  {
   "cell_type": "markdown",
   "metadata": {},
   "source": [
    "## Installation Instructions"
   ]
  },
  {
   "cell_type": "markdown",
   "metadata": {},
   "source": [
    "Use `!pip install docutils` to install the `docutils` package. Next, use `import docutils`to import the package into your notebook.\n",
    "\n",
    "For example, to import specific modules from `docutils` package use the following line of code:\n",
    " `from docutils import core, io`\n",
    " \n",
    "Below is a list of modules and subpackages as apart of the `docutils` package:"
   ]
  },
  {
   "cell_type": "markdown",
   "metadata": {},
   "source": [
    "## Guide"
   ]
  },
  {
   "cell_type": "markdown",
   "metadata": {},
   "source": [
    "__docutils 0.17.1 version__\n",
    "\n",
    "- Author: David Goodger\n",
    "- Contact: goodger@python.org\n",
    "\n",
    "[Docutils](https://pypi.org/project/docutils/) is an open-source, modular text processing system for processing plaintext documentation into a more useful format. Formats include HTML, man-pages, OpenDocument, LaTeX, or XML.\n",
    "\n",
    "Docutils supports reStructuredText for input, an easy-to-read, what-you-see-is-what-you-get plaintext markup syntax.\n",
    "\n",
    "Docutils is short for \"Python Documentation Utilities\"."
   ]
  },
  {
   "cell_type": "markdown",
   "metadata": {},
   "source": [
    "Support for the following sources has been implemented:\n",
    " - Standalone files\n",
    " - `PEPs (Python Enhancement Proposals)`\n",
    " \n",
    "Support for these sources is currently being developed:\n",
    " - Inline documentation\n",
    " - Wikis\n",
    " - Email and more"
   ]
  },
  {
   "cell_type": "markdown",
   "metadata": {},
   "source": [
    "Docutils Distribution Consists of:\n",
    " - the `docutils` package (or library)\n",
    " - front-end tools\n",
    " - test suite\n",
    " - documentation.\n",
    " "
   ]
  },
  {
   "cell_type": "markdown",
   "metadata": {},
   "source": [
    "## Notable docutils Modules & Subpackages\n",
    "-----------------------------\n",
    "Module        | Definition\n",
    "------------- | -------------\n",
    "__core__      | Contains the ``Publisher`` class and ``publish_()``convenience functions\n",
    "__io__        | Provides a uniform API for low-level input and output\n",
    "__nodes__     | Docutils document tree (doctree) node class library\n",
    "\n",
    "\n",
    "-----------------------------\n",
    "Subpackages   | Definition\n",
    "------------- | -------------\n",
    "**languages** | Language-specific mappings of terms\n",
    "**parsers**   | Syntax-specific input parser modules or packages\n",
    "**readers**   | Context-specific input handlers which understand the data source and manage a parser\n"
   ]
  },
  {
   "cell_type": "markdown",
   "metadata": {},
   "source": [
    "Below is an overview of the `docutils` package:\n",
    "![alt text](docutils.png \"Docutils\")\n"
   ]
  },
  {
   "cell_type": "markdown",
   "metadata": {},
   "source": [
    "## Main Use Applications of Package"
   ]
  },
  {
   "cell_type": "markdown",
   "metadata": {},
   "source": [
    "The reStructured Text component of the `docutils` package makes it easy to convert between different formats, especially from plain text to a static website. It is unique because it is extensible. Better than simpler markups. \n",
    "\n",
    "Additionally, users can pair `docutils` with `Sphinx` to convert text to html. The `Sphinx` package is built on the `docutils` package. The docutils parser creates the parse tree as a representation of the text in the memory for the Sphinx application and .rst environment."
   ]
  }
 ],
 "metadata": {
  "kernelspec": {
   "display_name": "Python 3",
   "language": "python",
   "name": "python3"
  },
  "language_info": {
   "codemirror_mode": {
    "name": "ipython",
    "version": 3
   },
   "file_extension": ".py",
   "mimetype": "text/x-python",
   "name": "python",
   "nbconvert_exporter": "python",
   "pygments_lexer": "ipython3",
   "version": "3.8.5"
  }
 },
 "nbformat": 4,
 "nbformat_minor": 4
}
