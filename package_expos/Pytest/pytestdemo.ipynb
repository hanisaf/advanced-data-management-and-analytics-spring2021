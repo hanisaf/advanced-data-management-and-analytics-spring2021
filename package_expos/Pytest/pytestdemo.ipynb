{
 "cells": [
  {
   "cell_type": "markdown",
   "metadata": {},
   "source": [
    "# Pytest Introduction"
   ]
  },
  {
   "cell_type": "code",
   "execution_count": 1,
   "metadata": {},
   "outputs": [],
   "source": [
    "#Install this for the first time\n",
    "#!pip install -U ipytest #uncomment code "
   ]
  },
  {
   "cell_type": "code",
   "execution_count": 2,
   "metadata": {},
   "outputs": [],
   "source": [
    "import ipytest\n",
    "ipytest.autoconfig()"
   ]
  },
  {
   "cell_type": "markdown",
   "metadata": {},
   "source": [
    "# Executing Tests\n",
    "Pytest: is a framework that helps you test code very easily.\n",
    "\n",
    "### ipytest.autoconfig\n",
    "1. #### run_pytest[clean]\n",
    "- Same as the %%run_pytest, but cleans any previously found tests, i.e., only tests defined in the current cell are executed. To register the magics, run ipytest.config.magics = True first."
   ]
  },
  {
   "cell_type": "code",
   "execution_count": 3,
   "metadata": {},
   "outputs": [
    {
     "name": "stdout",
     "output_type": "stream",
     "text": [
      ".                                                                        [100%]\n",
      "1 passed in 0.02s\n"
     ]
    }
   ],
   "source": [
    "%%run_pytest[clean] \n",
    "#below is the switch values case, where the x and y values are switched\n",
    "#run_pytest[clean] checks the functions to make sure it operates properly shown below\n",
    "\n",
    "def switchvalues(x,y):\n",
    "    x1 = x\n",
    "    y1 = y\n",
    "    x = y1\n",
    "    y = x1\n",
    "    return (x,y)\n",
    "def test_func():\n",
    "    assert switchvalues(0,1) == (1,0)\n",
    "    "
   ]
  },
  {
   "cell_type": "code",
   "execution_count": 4,
   "metadata": {},
   "outputs": [
    {
     "name": "stdout",
     "output_type": "stream",
     "text": [
      "F                                                                        [100%]\n",
      "=================================== FAILURES ===================================\n",
      "__________________________________ test_func ___________________________________\n",
      "\n",
      "    def test_func():\n",
      ">       assert func(1) == 3\n",
      "E       assert 1 == 3\n",
      "E        +  where 1 = func(1)\n",
      "\n",
      "<ipython-input-4-3c0044331142>:10: AssertionError\n",
      "=========================== short test summary info ============================\n",
      "FAILED tmp321_ublt.py::test_func - assert 1 == 3\n",
      "1 failed in 0.13s\n"
     ]
    }
   ],
   "source": [
    "%%run_pytest[clean]\n",
    "#below is another example of a function being checked it if it runs properly.\n",
    "#we see it doesnt because when you plug 1 into func(x), it should return 1\n",
    "#however, we said func(1) should equal 3.\n",
    "#pytest runs it to show that this is false, and gives you depth on why it is wrong\n",
    "def func(x):\n",
    "    return x * 1\n",
    "\n",
    "\n",
    "def test_func():\n",
    "    assert func(1) == 3"
   ]
  },
  {
   "cell_type": "code",
   "execution_count": 5,
   "metadata": {},
   "outputs": [
    {
     "name": "stdout",
     "output_type": "stream",
     "text": [
      ".                                                                        [100%]\n",
      "1 passed in 0.01s\n"
     ]
    }
   ],
   "source": [
    "%%run_pytest[clean]\n",
    "#On this cell, I ran the same function but instead of func(1) equaling 3, I said\n",
    "#func(1) == 1, I ran pytest to make sure, and it shows that this test works.\n",
    "def func(x):\n",
    "    return x * 1\n",
    "\n",
    "\n",
    "def test_func():\n",
    "    assert func(1) == 1"
   ]
  },
  {
   "cell_type": "code",
   "execution_count": 6,
   "metadata": {},
   "outputs": [
    {
     "name": "stdout",
     "output_type": "stream",
     "text": [
      ".                                                                        [100%]\n",
      "1 passed in 0.01s\n"
     ]
    }
   ],
   "source": [
    "%%run_pytest[clean]\n",
    "#On this cell, I created a palindrome function, to see if my function works, I created test_Palindrom function\n",
    "#to see if a word like 'rotator' is a palindrome. \n",
    "#I ran pytest on the function and it shows it was successful\n",
    "def isPalindrome(string):\n",
    "        if string == string[::-1]:\n",
    "            return string\n",
    "        \n",
    "def test_Palindrome():\n",
    "    assert isPalindrome('rotator') == 'rotator'"
   ]
  },
  {
   "cell_type": "code",
   "execution_count": 7,
   "metadata": {},
   "outputs": [
    {
     "name": "stdout",
     "output_type": "stream",
     "text": [
      "F                                                                        [100%]\n",
      "=================================== FAILURES ===================================\n",
      "_______________________________ test_Palindrome ________________________________\n",
      "\n",
      "    def test_Palindrome():\n",
      ">       assert isPalindrome('rotator') == 'balloon'\n",
      "E       AssertionError: assert 'rotator' == 'balloon'\n",
      "E         - balloon\n",
      "E         + rotator\n",
      "\n",
      "<ipython-input-7-8bf45bbde021>:9: AssertionError\n",
      "=========================== short test summary info ============================\n",
      "FAILED tmpoc0dh3nq.py::test_Palindrome - AssertionError: assert 'rotator' == ...\n",
      "1 failed in 0.02s\n"
     ]
    }
   ],
   "source": [
    "%%run_pytest[clean]\n",
    "#On this cell, I ran the same function.\n",
    "#This time, I checked to see if the palindrome of rotator would be balloon, would my code still work\n",
    "#or is my code actually working and the run_pytest function would tell me.\n",
    "def isPalindrome(string):\n",
    "        if string == string[::-1]:\n",
    "            return string\n",
    "        \n",
    "def test_Palindrome():\n",
    "    assert isPalindrome('rotator') == 'balloon'"
   ]
  },
  {
   "cell_type": "markdown",
   "metadata": {},
   "source": [
    "2. #### ipytest.run()\n",
    "- Execute all tests in the passed module (defaults to main) with pytest."
   ]
  },
  {
   "cell_type": "code",
   "execution_count": 8,
   "metadata": {},
   "outputs": [
    {
     "name": "stdout",
     "output_type": "stream",
     "text": [
      "F                                                                        [100%]\n",
      "=================================== FAILURES ===================================\n",
      "_______________________________ test_Palindrome ________________________________\n",
      "\n",
      "    def test_Palindrome():\n",
      ">       assert isPalindrome('rotator') == 'balloon'\n",
      "E       AssertionError: assert 'rotator' == 'balloon'\n",
      "E         - balloon\n",
      "E         + rotator\n",
      "\n",
      "<ipython-input-7-8bf45bbde021>:9: AssertionError\n",
      "=========================== short test summary info ============================\n",
      "FAILED tmpvufv065a.py::test_Palindrome - AssertionError: assert 'rotator' == ...\n",
      "1 failed in 0.02s\n"
     ]
    }
   ],
   "source": [
    "ipytest.run()\n",
    "#in this circumstace,it ran the last test"
   ]
  },
  {
   "cell_type": "code",
   "execution_count": 9,
   "metadata": {},
   "outputs": [
    {
     "name": "stdout",
     "output_type": "stream",
     "text": [
      ".                                                                        [100%]\n",
      "1 passed in 0.01s\n"
     ]
    }
   ],
   "source": [
    "%%run_pytest[clean]\n",
    "def isPalindrome(string):\n",
    "        if string == string[::-1]:\n",
    "            return string\n",
    "        \n",
    "def test_Palindrome():\n",
    "    assert isPalindrome('rotator') == 'rotator'"
   ]
  },
  {
   "cell_type": "code",
   "execution_count": 10,
   "metadata": {},
   "outputs": [
    {
     "name": "stdout",
     "output_type": "stream",
     "text": [
      ".                                                                        [100%]\n",
      "1 passed in 0.01s\n"
     ]
    }
   ],
   "source": [
    "ipytest.run()"
   ]
  },
  {
   "cell_type": "markdown",
   "metadata": {},
   "source": [
    "3. #### ipytest.exit_code"
   ]
  },
  {
   "cell_type": "code",
   "execution_count": 11,
   "metadata": {},
   "outputs": [
    {
     "name": "stdout",
     "output_type": "stream",
     "text": [
      "F                                                                        [100%]\n",
      "=================================== FAILURES ===================================\n",
      "_______________________________ test_Palindrome ________________________________\n",
      "\n",
      "    def test_Palindrome():\n",
      ">       assert isPalindrome('rotator') == 'balloon'\n",
      "E       AssertionError: assert 'rotator' == 'balloon'\n",
      "E         - balloon\n",
      "E         + rotator\n",
      "\n",
      "<ipython-input-11-954abd443774>:6: AssertionError\n",
      "=========================== short test summary info ============================\n",
      "FAILED tmpyhug573g.py::test_Palindrome - AssertionError: assert 'rotator' == ...\n",
      "1 failed in 0.02s\n"
     ]
    }
   ],
   "source": [
    "%%run_pytest[clean]\n",
    "def isPalindrome(string):\n",
    "        if string == string[::-1]:\n",
    "            return string\n",
    "        \n",
    "def test_Palindrome():\n",
    "    assert isPalindrome('rotator') == 'balloon'"
   ]
  },
  {
   "cell_type": "code",
   "execution_count": 12,
   "metadata": {},
   "outputs": [
    {
     "data": {
      "text/plain": [
       "<ExitCode.TESTS_FAILED: 1>"
      ]
     },
     "execution_count": 12,
     "metadata": {},
     "output_type": "execute_result"
    }
   ],
   "source": [
    "ipytest.exit_code\n",
    "#since the last code failed, it shows failed"
   ]
  },
  {
   "cell_type": "code",
   "execution_count": 13,
   "metadata": {},
   "outputs": [
    {
     "name": "stdout",
     "output_type": "stream",
     "text": [
      ".                                                                        [100%]\n",
      "1 passed in 0.02s\n"
     ]
    }
   ],
   "source": [
    "%%run_pytest[clean]\n",
    "def isPalindrome(string):\n",
    "        if string == string[::-1]:\n",
    "            return string\n",
    "        \n",
    "def test_Palindrome():\n",
    "    assert isPalindrome('rotator') == 'rotator'"
   ]
  },
  {
   "cell_type": "code",
   "execution_count": 14,
   "metadata": {},
   "outputs": [
    {
     "data": {
      "text/plain": [
       "<ExitCode.OK: 0>"
      ]
     },
     "execution_count": 14,
     "metadata": {},
     "output_type": "execute_result"
    }
   ],
   "source": [
    "ipytest.exit_code"
   ]
  }
 ],
 "metadata": {
  "kernelspec": {
   "display_name": "Python 3",
   "language": "python",
   "name": "python3"
  },
  "language_info": {
   "codemirror_mode": {
    "name": "ipython",
    "version": 3
   },
   "file_extension": ".py",
   "mimetype": "text/x-python",
   "name": "python",
   "nbconvert_exporter": "python",
   "pygments_lexer": "ipython3",
   "version": "3.8.5"
  }
 },
 "nbformat": 4,
 "nbformat_minor": 4
}
