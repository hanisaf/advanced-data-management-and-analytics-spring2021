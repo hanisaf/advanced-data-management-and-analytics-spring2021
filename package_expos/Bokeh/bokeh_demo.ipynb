{
 "cells": [
  {
   "cell_type": "code",
   "execution_count": null,
   "metadata": {},
   "outputs": [],
   "source": [
    "pip install bokeh"
   ]
  },
  {
   "cell_type": "code",
   "execution_count": null,
   "metadata": {},
   "outputs": [],
   "source": [
    "from bokeh.plotting import figure, show, output_notebook\n",
    "output_notebook()"
   ]
  },
  {
   "cell_type": "code",
   "execution_count": null,
   "metadata": {},
   "outputs": [],
   "source": [
    "#lists\n",
    "x1 = [1, 2, 3, 4, 5]\n",
    "y1= [6, 7, 2, 4, 5]\n",
    "\n",
    "#ColumnDataSource\n",
    "from bokeh.models import ColumnDataSource\n",
    "data = {'x_values': [1, 2, 3, 4, 5],\n",
    "        'y_values': [6, 7, 2, 3, 6]}\n",
    "\n",
    "source = ColumnDataSource(data=data)\n",
    "\n",
    "plot1 = figure()\n",
    "plot1.square(x='x_values', y='y_values', size=20, source=source, angle=2)\n",
    "show(plot1)"
   ]
  },
  {
   "cell_type": "code",
   "execution_count": null,
   "metadata": {},
   "outputs": [],
   "source": [
    "new_sequence = [8, 1, 4, 7, 3]\n",
    "source.data[\"new_column\"] = new_sequence\n",
    "\n",
    "cds = ColumnDataSource(df)"
   ]
  },
  {
   "cell_type": "code",
   "execution_count": null,
   "metadata": {},
   "outputs": [],
   "source": [
    "plot2 = figure(plot_width=400, plot_height=400)\n",
    "\n",
    "# add a circle renderer with a size, color, and alpha\n",
    "plot2.circle([1, 2, 3, 4, 5], [6, 7, 2, 4, 5], size=20, color=\"navy\", alpha=.2)\n",
    "\n",
    "show(plot2)"
   ]
  },
  {
   "cell_type": "code",
   "execution_count": null,
   "metadata": {},
   "outputs": [],
   "source": [
    "source = ColumnDataSource(data=dict(\n",
    "    y=[1, 2, 3, 4, 5],\n",
    "    x1=[1, 2, 4, 3, 4],\n",
    "    x2=[1, 4, 2, 2, 3],\n",
    "))\n",
    "plot3 = figure(plot_width=400, plot_height=400)\n",
    "\n",
    "plot3.hbar_stack(['x1', 'x2'], y='y', height=0.3, color=(\"grey\", \"lightgrey\"), source=source)\n",
    "\n",
    "show(plot3)"
   ]
  },
  {
   "cell_type": "code",
   "execution_count": null,
   "metadata": {},
   "outputs": [],
   "source": [
    "from bokeh.layouts import column, row, gridplot\n",
    "#show(column(plot1, plot2, plot3))\n",
    "#show(row(plot1, plot2, plot3))\n",
    "grid = gridplot([[plot1, plot2], [None, plot3]], plot_width=250, plot_height=250) #gridplot([plot1, plot2, plot3], ncols=2)\n",
    "show(grid)"
   ]
  },
  {
   "cell_type": "code",
   "execution_count": null,
   "metadata": {
    "scrolled": false
   },
   "outputs": [],
   "source": [
    "x = [1, 2, 3, 4, 5]\n",
    "y = [6, 7, 2, 4, 5]\n",
    "p = figure(title=\"Simple line example\", x_axis_label='x', y_axis_label='y', tools='hover')\n",
    "p.line(x=x, y=y)\n",
    "show(p)"
   ]
  },
  {
   "cell_type": "code",
   "execution_count": null,
   "metadata": {},
   "outputs": [],
   "source": [
    "import pandas as pd\n",
    "import numpy as np\n",
    "from bokeh.tile_providers import CARTODBPOSITRON, get_provider\n",
    "cities  = pd.read_csv(\"demo.csv\")\n",
    "\n",
    "cities.head()\n",
    "us = cities[0:50]\n",
    "us['usaLocation'] = list(zip(us['usa_state_latitude'], us['usa_state_longitude']))\n",
    "cities"
   ]
  },
  {
   "cell_type": "code",
   "execution_count": null,
   "metadata": {},
   "outputs": [],
   "source": [
    "def x_coord(x, y):\n",
    "    \n",
    "    lat = x\n",
    "    lon = y\n",
    "    \n",
    "    r_major = 6378137.000\n",
    "    x = r_major * np.radians(lon)\n",
    "    scale = x/lon\n",
    "    y = 180.0/np.pi * np.log(np.tan(np.pi/4.0 + \n",
    "        lat * (np.pi/180.0)/2.0)) * scale\n",
    "    return (x, y)\n",
    "\n",
    "mercators = [x_coord(x, y) for x, y in us['usaLocation'] ]\n",
    "us['mercator'] = mercators\n",
    "us[['mercator_x', 'mercator_y']] = us['mercator'].apply(pd.Series)"
   ]
  },
  {
   "cell_type": "code",
   "execution_count": null,
   "metadata": {},
   "outputs": [],
   "source": [
    "cityCDS = ColumnDataSource(us)\n",
    "world = get_provider(CARTODBPOSITRON)\n",
    "\n",
    "# range bounds supplied in web mercator coordinates\n",
    "tooltips=('State: @usa_state')\n",
    "worldMap = figure(x_range=(-2000000, 6000000), y_range=(-1000000, 7000000),\n",
    "           x_axis_type=\"mercator\", y_axis_type=\"mercator\", tools='hover, pan', tooltips=tooltips)\n",
    "worldMap.add_tile(world)\n",
    "worldMap.circle(x=\"mercator_x\", y=\"mercator_y\", source=cityCDS)\n",
    "\n",
    "\n",
    "show(worldMap)"
   ]
  },
  {
   "cell_type": "markdown",
   "metadata": {},
   "source": [
    "# Bokeh\n",
    "\n",
    "## Package Expo Video\n",
    "Video Link: [here](https://youtu.be/VCFpxd5_taI)\n",
    "\n",
    "## Package Expo Files\n",
    "\n",
    "- `bokeh_demo.ipynb`: this notebook contains the code used during the demo video\n",
    "- `demo.csv`: this file contains the data used in the demo video\n",
    "\n",
    "## Bokeh Guide\n",
    "\n",
    "### Installation\n",
    "`pip install bokeh`\n",
    "\n",
    "### Overview\n",
    "[Bokeh](https://bokeh.org/) is a data visualization package that focuses on creating interactive visualizations within browser. The packages' functionality ranges from simplistic to complex applications. Some of the more complex visualization use cases include real time data streaming, 3-D plotting, dashboards, etc..\n",
    "\n",
    "Bokeh has two main user interfaces, bokeh.plotting and bokeh.models. The models interface is more complex and requires more user experience, but it allows the user mopre control over the visuals that they create. For our purpose, I did my demo over the plotting interface since it is more simple and still gives a good overview of the functionality of the package. \n",
    "\n",
    "Bokeh's visualizations are created through the `figure()` function which allows users to customize the plots that they create.\n",
    "\n",
    "Renderers are the data points themselves within a plot. Renderers such get added to figures and represent the data visually. There is a huge range of different kinds of renderers with each having different attributes that a user can customize. \n",
    "ex: `plot1 = figure()\n",
    "    plot1.circle([1,2], [1,2])`\n",
    "this code would create a simple plot with two points that are shown as circles. The first list of values are the x values for the plot and the second set are the y values. The video demo gives a better overview of the different attributes for the renderers and the various ways that data can be defined for the plots.\n",
    "\n",
    "Bokeh provides users with a huge variety of functionality that can be used to create all kinds of visualizations and it's a great resource to have. In the video demo I go over a slighly more complex example that gives some insight on how powerful Bokeh can be.\n",
    "\n",
    "## Resources used\n",
    "-[webite used for demo](https://towardsdatascience.com/creating-an-interactive-map-in-python-using-bokeh-and-pandas-f84414536a06)\n",
    "this site gave me some great insight and code on how to correctly transform by data to the values that I needed in order to be able to plot my points on the Map tile that I imported. "
   ]
  },
  {
   "cell_type": "code",
   "execution_count": null,
   "metadata": {},
   "outputs": [],
   "source": []
  }
 ],
 "metadata": {
  "kernelspec": {
   "display_name": "Python 3",
   "language": "python",
   "name": "python3"
  },
  "language_info": {
   "codemirror_mode": {
    "name": "ipython",
    "version": 3
   },
   "file_extension": ".py",
   "mimetype": "text/x-python",
   "name": "python",
   "nbconvert_exporter": "python",
   "pygments_lexer": "ipython3",
   "version": "3.8.5"
  }
 },
 "nbformat": 4,
 "nbformat_minor": 4
}
