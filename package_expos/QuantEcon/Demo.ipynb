{
 "cells": [
  {
   "cell_type": "markdown",
   "metadata": {},
   "source": [
    "During this tutorial we will demonstrate how to use QuantEcon to solve a Payoff Matrix, as well as find any nash equillibrium values\n",
    "\n",
    "Don't worry if you are not familiar with Nash Equillibriums, as we will do our best to explain it here.\n",
    "\n",
    "First, install quantecon using the code below"
   ]
  },
  {
   "cell_type": "code",
   "execution_count": 1,
   "metadata": {},
   "outputs": [],
   "source": [
    "#!pip install quantecon\n",
    "\n",
    "import numpy as np\n",
    "import quantecon.game_theory as gt"
   ]
  },
  {
   "cell_type": "markdown",
   "metadata": {},
   "source": [
    "Then our next step is to simply assign a name to your matrix, then use the normalformgame function to have quantecon load it in as a game.\n"
   ]
  },
  {
   "cell_type": "code",
   "execution_count": 2,
   "metadata": {},
   "outputs": [
    {
     "name": "stdout",
     "output_type": "stream",
     "text": [
      "2-player NormalFormGame with payoff profile array:\n",
      "[[[9, 3],  [1, 6]],\n",
      " [[2, 2],  [0, 1]]]\n"
     ]
    }
   ],
   "source": [
    "matrix = [[(9,3), (1, 6)],\n",
    "                             [(2, 2), (0, 1)]]\n",
    "game = gt.NormalFormGame(matrix)\n",
    "print(game)\n"
   ]
  },
  {
   "cell_type": "markdown",
   "metadata": {},
   "source": [
    "You can also create games by creating individual players and then joining them together to form games\n",
    "\n",
    "This is useful if you want to see how a number of different players stack up against each other.\n",
    "\n",
    "So first, we will create the players. "
   ]
  },
  {
   "cell_type": "code",
   "execution_count": 3,
   "metadata": {},
   "outputs": [],
   "source": [
    "player_A = gt.Player([[9,1], [2, 0]])\n",
    "player_B = gt.Player([[3, 2], [6, 1]])\n",
    "player_C = gt.Player([[9, 9], [1, 1]])"
   ]
  },
  {
   "cell_type": "markdown",
   "metadata": {},
   "source": [
    "Once I have my players set up I can create games.\n",
    "\n",
    "Here is the same game I created before:"
   ]
  },
  {
   "cell_type": "code",
   "execution_count": 4,
   "metadata": {},
   "outputs": [
    {
     "name": "stdout",
     "output_type": "stream",
     "text": [
      "2-player NormalFormGame with payoff profile array:\n",
      "[[[9, 3],  [1, 6]],\n",
      " [[2, 2],  [0, 1]]]\n"
     ]
    }
   ],
   "source": [
    "same_game = gt.NormalFormGame((player_A, player_B))\n",
    "print(same_game)"
   ]
  },
  {
   "cell_type": "markdown",
   "metadata": {},
   "source": [
    "Here is a different game where I swap player b for a new player c"
   ]
  },
  {
   "cell_type": "code",
   "execution_count": 6,
   "metadata": {},
   "outputs": [
    {
     "name": "stdout",
     "output_type": "stream",
     "text": [
      "2-player NormalFormGame with payoff profile array:\n",
      "[[[9, 9],  [1, 1]],\n",
      " [[2, 9],  [0, 1]]]\n"
     ]
    }
   ],
   "source": [
    "different_game = gt.NormalFormGame((player_A, player_C))\n",
    "print(different_game)"
   ]
  },
  {
   "cell_type": "markdown",
   "metadata": {},
   "source": [
    "Moving into actual game theory, we'll be exaimining the Stag Hunting problem.\n",
    "\n",
    "In this scenario:\n",
    "    \n",
    "    -there are two hunters each trying to catch rabits and stags\n",
    "    \n",
    "    -the stag has 10 units of meat and there is only one\n",
    "       \n",
    "       -the only way to catch it is to collaborate\n",
    "    \n",
    "    -the rabbits are 1 unit of meat each and there are 2 of them\n",
    "        \n",
    "        -if you both try to hunt the rabbits you split the rabbits\n",
    "        \n",
    "This translates to the following matrix-"
   ]
  },
  {
   "cell_type": "code",
   "execution_count": 7,
   "metadata": {},
   "outputs": [],
   "source": [
    "stag_hunt = [[(5,5), (0, 2)],\n",
    "                             [(2, 0), (1, 1)]]"
   ]
  },
  {
   "cell_type": "markdown",
   "metadata": {},
   "source": [
    "Now we load the matrix into quant econ's normal form game function\n"
   ]
  },
  {
   "cell_type": "code",
   "execution_count": 8,
   "metadata": {},
   "outputs": [
    {
     "name": "stdout",
     "output_type": "stream",
     "text": [
      "2-player NormalFormGame with payoff profile array:\n",
      "[[[5, 5],  [0, 2]],\n",
      " [[2, 0],  [1, 1]]]\n"
     ]
    }
   ],
   "source": [
    "stag_hunt_matrix = gt.NormalFormGame(stag_hunt)\n",
    "print(stag_hunt_matrix)"
   ]
  },
  {
   "cell_type": "markdown",
   "metadata": {},
   "source": [
    "If I want to see the different players individual matrixes, I can add '.players[]' at the end and put a 0 or a 1 in the brackets in order to see the payoff array for player 1 or player 2\n",
    "\n",
    "Here is the payoff array for player 1:"
   ]
  },
  {
   "cell_type": "code",
   "execution_count": 9,
   "metadata": {},
   "outputs": [
    {
     "data": {
      "text/plain": [
       "array([[5, 0],\n",
       "       [2, 1]])"
      ]
     },
     "execution_count": 9,
     "metadata": {},
     "output_type": "execute_result"
    }
   ],
   "source": [
    "stag_hunt_matrix.players[0].payoff_array "
   ]
  },
  {
   "cell_type": "markdown",
   "metadata": {},
   "source": [
    "Here is the payoff array for player 2:"
   ]
  },
  {
   "cell_type": "code",
   "execution_count": 10,
   "metadata": {},
   "outputs": [
    {
     "data": {
      "text/plain": [
       "array([[5, 0],\n",
       "       [2, 1]])"
      ]
     },
     "execution_count": 10,
     "metadata": {},
     "output_type": "execute_result"
    }
   ],
   "source": [
    "stag_hunt_matrix.players[1].payoff_array "
   ]
  },
  {
   "cell_type": "markdown",
   "metadata": {},
   "source": [
    "If I want to see what each individuals best response is given the other's response you can use the 'best_response()' function\n",
    "\n",
    "In the example below, this is showing you player 1's best response given that player 2 chooses choice 1"
   ]
  },
  {
   "cell_type": "code",
   "execution_count": 11,
   "metadata": {},
   "outputs": [
    {
     "data": {
      "text/plain": [
       "0"
      ]
     },
     "execution_count": 11,
     "metadata": {},
     "output_type": "execute_result"
    }
   ],
   "source": [
    "stag_hunt_matrix.players[0].best_response(0)"
   ]
  },
  {
   "cell_type": "markdown",
   "metadata": {},
   "source": [
    "An alternate way of looking at the same problem is to use the payoff_vector function. "
   ]
  },
  {
   "cell_type": "code",
   "execution_count": 12,
   "metadata": {},
   "outputs": [
    {
     "data": {
      "text/plain": [
       "array([5, 2])"
      ]
     },
     "execution_count": 12,
     "metadata": {},
     "output_type": "execute_result"
    }
   ],
   "source": [
    "stag_hunt_matrix.players[0].payoff_vector(0)"
   ]
  },
  {
   "cell_type": "markdown",
   "metadata": {},
   "source": [
    "This also communicates that the best option for player 1 if player 2 chooses choice 1 is to also choose choice 1."
   ]
  },
  {
   "cell_type": "markdown",
   "metadata": {},
   "source": [
    "Here is the best response of player 1 should player 2 choose choice 2"
   ]
  },
  {
   "cell_type": "code",
   "execution_count": 13,
   "metadata": {},
   "outputs": [
    {
     "data": {
      "text/plain": [
       "1"
      ]
     },
     "execution_count": 13,
     "metadata": {},
     "output_type": "execute_result"
    }
   ],
   "source": [
    "stag_hunt_matrix.players[0].best_response(1)"
   ]
  },
  {
   "cell_type": "markdown",
   "metadata": {},
   "source": [
    "If the best response was the same independent of whether player 2 chose choice 1 or choice 2, then that is considered a dominant strategy for player 1.\n",
    "\n",
    "In this scenario there is no dominant strategy, because it is dependent on the other players move"
   ]
  },
  {
   "cell_type": "markdown",
   "metadata": {},
   "source": [
    "With regard to game theory there is a concept called a nash equillibrium\n",
    "\n",
    "This concept describes an outcome where the payoffs for each player are such that neither player has any incentive to deviate from their strategy. Meaning that if we pick an outcome, could either player individually deviate from that outcome to make themselves better off?\n",
    "\n",
    "\n",
    "This isnt captured by simply looking at the best responses for each player, and thus quantecon has provides us with a function to acquire pure nash equillibriums\n",
    "\n",
    "As well there are two types of nash equillibrium, mixed and pure, that mean different things, but for now to not complicate things, lets go ahead and find the pure nash equillibrium for the stag hunt:\n"
   ]
  },
  {
   "cell_type": "code",
   "execution_count": 14,
   "metadata": {},
   "outputs": [
    {
     "data": {
      "text/plain": [
       "[(0, 0), (1, 1)]"
      ]
     },
     "execution_count": 14,
     "metadata": {},
     "output_type": "execute_result"
    }
   ],
   "source": [
    "gt.pure_nash_brute(stag_hunt_matrix)\n"
   ]
  },
  {
   "cell_type": "markdown",
   "metadata": {},
   "source": [
    "This result states that the pure nash equlibrium is either, for both players to hunt the stag or both players to hunt the rabbits\n",
    "\n",
    "This is because if they both agree to hunt the rabbit or the stag, then they cant individually deviate from that choice (knowing the other persons choice remains the same) and be better off. If you know the other person is hunting the stag of rabbit definitively, moving away from that choice can only be harmful. \n"
   ]
  },
  {
   "cell_type": "markdown",
   "metadata": {},
   "source": [
    "To confirm this result is a nash equillibrium we can inspect what the payoff matrix (or use best_response) is for player 2, should player 1 choose to go for choice 1\n",
    "and what the payoff is for player 1 should player 2 choose choice 1. If both answers are to not deviate then it confirms it as a pure nash equillibrium like the 'pure_nash_brute' function already informed us"
   ]
  },
  {
   "cell_type": "code",
   "execution_count": 15,
   "metadata": {},
   "outputs": [
    {
     "data": {
      "text/plain": [
       "array([5, 2])"
      ]
     },
     "execution_count": 15,
     "metadata": {},
     "output_type": "execute_result"
    }
   ],
   "source": [
    "stag_hunt_matrix.players[0].payoff_vector(0)\n"
   ]
  },
  {
   "cell_type": "code",
   "execution_count": 16,
   "metadata": {
    "scrolled": true
   },
   "outputs": [
    {
     "data": {
      "text/plain": [
       "array([5, 2])"
      ]
     },
     "execution_count": 16,
     "metadata": {},
     "output_type": "execute_result"
    }
   ],
   "source": [
    "stag_hunt_matrix.players[1].payoff_vector(0)"
   ]
  },
  {
   "cell_type": "markdown",
   "metadata": {},
   "source": [
    "The best option is still choice 1 for both parties if the other chooses choice 1, thus it is a pure nash equilibrium."
   ]
  },
  {
   "cell_type": "markdown",
   "metadata": {},
   "source": [
    "That concludes this tutorial, if you are interested in the mixed strategy nash equilibrium, although it is not mentioned in this demo, you can find mixed strategy nash equilibriums using the 'support_enumeration' function. "
   ]
  }
 ],
 "metadata": {
  "kernelspec": {
   "display_name": "Python 3",
   "language": "python",
   "name": "python3"
  },
  "language_info": {
   "codemirror_mode": {
    "name": "ipython",
    "version": 3
   },
   "file_extension": ".py",
   "mimetype": "text/x-python",
   "name": "python",
   "nbconvert_exporter": "python",
   "pygments_lexer": "ipython3",
   "version": "3.8.5"
  }
 },
 "nbformat": 4,
 "nbformat_minor": 4
}
