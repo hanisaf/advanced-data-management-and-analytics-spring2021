{
 "cells": [
  {
   "cell_type": "markdown",
   "metadata": {},
   "source": [
    "# Pygame Package Expo"
   ]
  },
  {
   "cell_type": "markdown",
   "metadata": {},
   "source": [
    "## Pygame Background"
   ]
  },
  {
   "cell_type": "markdown",
   "metadata": {},
   "source": [
    "Pygame is a set of python modules that are designed for writing video games created in 2000 by Pete Shinners.. \n",
    "it mixes Python and SDL or Simple DirectMedia Layer, which is a cross-platform C library for controlling multimedia and has been used commonly for commercial and open-source games. \n",
    "pygame can run on almost every single platform and OS, including Linux, Windows, and MacOS. You can also use it on hand held devices and game consoles\n",
    "this highly accessible library has spawned over 660 projects \n"
   ]
  },
  {
   "cell_type": "markdown",
   "metadata": {},
   "source": [
    "## How to Initialize"
   ]
  },
  {
   "cell_type": "markdown",
   "metadata": {},
   "source": [
    "We install pygame with the pip tool, which Python uses to install packages. Then we import the package to use. We also then need to initialize the pygame modules with the pygame.init(). This automatically initializes all the pygame modules that need to be initialized. We could also initialize individual modules manually by calling the specific module like pygame.mixer.init() which only initializes the module that loads and plays sounds.\n",
    "\n",
    "Modules that are initialized come equipped with a quit() function. We don’t need to call these functions - pygame will automatically call them and clean up when pygame is exited. \n"
   ]
  },
  {
   "cell_type": "code",
   "execution_count": null,
   "metadata": {},
   "outputs": [],
   "source": [
    "!pip install pygame\n",
    "import pygame\n",
    "\n",
    "pygame.init()\n",
    "\n",
    "pygame.mixer.init()"
   ]
  },
  {
   "cell_type": "markdown",
   "metadata": {},
   "source": [
    "## Pygame Components"
   ]
  },
  {
   "cell_type": "markdown",
   "metadata": {},
   "source": [
    "### Graphical Window and Surface"
   ]
  },
  {
   "cell_type": "markdown",
   "metadata": {},
   "source": [
    "Calling the function pygame.display.set_mode() creates a graphical window (which is like a monitor) and a new Surface object. Surface objects are how pygame represents images that are displayed. Any drawing we do to the Surface will become visible on the monitor.\n",
    "\n",
    "This function also defaults to the best graphics modes for the graphics hardware that is used. users can override these modes and SDL will compensate for what the hardware cannot do. \n"
   ]
  },
  {
   "cell_type": "code",
   "execution_count": null,
   "metadata": {},
   "outputs": [],
   "source": [
    "pygame.display.set_mode()\n",
    "\n",
    "surface objects = images"
   ]
  },
  {
   "cell_type": "markdown",
   "metadata": {},
   "source": [
    "### Images"
   ]
  },
  {
   "cell_type": "markdown",
   "metadata": {},
   "source": [
    "Pygame supports a variety of image formats through the SDL_image library, including BMP, JPG, PNG, TGA, and GIF. The function pygame.image.load() takes the image data and places it on the surface. The function surface.blit() draws the images’ movement by copying pixel colors from one image source to place on a destination. Rectangles are used to represent many things in pygame from Surface objects to images to windows. They are so heavily used that a special Rect class handles them. "
   ]
  },
  {
   "cell_type": "code",
   "execution_count": null,
   "metadata": {},
   "outputs": [],
   "source": [
    "pygame.image.load()\n",
    "\n",
    "surface.blit()"
   ]
  },
  {
   "cell_type": "markdown",
   "metadata": {},
   "source": [
    "### Animation"
   ]
  },
  {
   "cell_type": "markdown",
   "metadata": {},
   "source": [
    "Animation is actually just a series of single images, which when displayed in sequence basically trick the human eye into seeing motion. To animate in pygame, we use an infinite loop (while loop with for loops and if statements) for when the game is initialized. It will check for user input and move the position of the surface object accordingly. We also need to erase the screen by filling it with black between the ball moving to different positions. Otherwise, there would be remnants and evidence of the object as we move positions.  "
   ]
  },
  {
   "cell_type": "code",
   "execution_count": null,
   "metadata": {},
   "outputs": [],
   "source": [
    "while:\n",
    "    for:\n",
    "        if:\n",
    "screen.fill(black)"
   ]
  },
  {
   "cell_type": "markdown",
   "metadata": {},
   "source": [
    "### Display"
   ]
  },
  {
   "cell_type": "markdown",
   "metadata": {},
   "source": [
    "We create a Clock object with the function pygame.time.Clock() to track time and control a game’s framerate. Frames per second or FPS refers to the number of frames shown in our game per unit of time. To set the rate of frames per second, we initialize the variable FPS and set a value. We then use the clock.tick() function to specify the runtime speed of the game. \n",
    "\n",
    "The last thing we do in creating our game is to call the method pygame.display.flip(). This updates the visible display of our screen and only allows us to see completely drawn frames.\n"
   ]
  },
  {
   "cell_type": "code",
   "execution_count": null,
   "metadata": {},
   "outputs": [],
   "source": [
    "pygame.time.Clock()\n",
    "clock.tick()\n",
    "pygame.display.flip()"
   ]
  },
  {
   "cell_type": "markdown",
   "metadata": {},
   "source": [
    "## Demo"
   ]
  },
  {
   "cell_type": "code",
   "execution_count": null,
   "metadata": {},
   "outputs": [
    {
     "name": "stdout",
     "output_type": "stream",
     "text": [
      "pygame 2.0.1 (SDL 2.0.14, Python 3.8.5)\n",
      "Hello from the pygame community. https://www.pygame.org/contribute.html\n"
     ]
    }
   ],
   "source": [
    "import sys, pygame\n",
    "pygame.init()\n",
    "\n",
    "size = width, height = 1440, 850\n",
    "speed = [2, 2]\n",
    "black = 0, 0, 0\n",
    "\n",
    "screen = pygame.display.set_mode(size)\n",
    "clock = pygame.time.Clock()\n",
    "FPS = 60.0\n",
    "\n",
    "#shape = pygame.image.load('/Users/brantwhite/Desktop/sampledvd.png')\n",
    "shape = pygame.Surface((30,30)).convert()\n",
    "shape.fill((255,0,0))\n",
    "shaperect = shape.get_rect()\n",
    "\n",
    "while 1:\n",
    "    for event in pygame.event.get():\n",
    "        if event.type == pygame.QUIT:\n",
    "            pygame.quit()\n",
    "            sys.exit()\n",
    "\n",
    "    shaperect = shaperect.move(speed)\n",
    "    if shaperect.left < 0 or shaperect.right > width:\n",
    "        speed[0] = -speed[0]\n",
    "    if shaperect.top < 0 or shaperect.bottom > height:\n",
    "        speed[1] = -speed[1]\n",
    "\n",
    "    screen.fill(black)\n",
    "    screen.blit(shape, shaperect)\n",
    "    pygame.display.flip()\n",
    "    clock.tick(FPS)"
   ]
  },
  {
   "cell_type": "markdown",
   "metadata": {},
   "source": [
    "## Conclusion"
   ]
  },
  {
   "cell_type": "markdown",
   "metadata": {},
   "source": [
    "1. Pygame is comprised of many modules, functions, and methods at the user’s disposal.You could create a simple, functional game in pygame with just a few hours or days’ effort. or you could spend weeks, months, years to make a sophisticated program. \n",
    "\n",
    "\n",
    "2. The requirements and process to create a game in pygame make it a great exercise to hone your programming logical thinking. \n",
    "\n",
    "\n",
    "3. Pygame is a free, open-source, cross-platform library available to anyone. It is constantly adapting and getting better with users being able to contribute to the project.\n"
   ]
  },
  {
   "cell_type": "code",
   "execution_count": null,
   "metadata": {},
   "outputs": [],
   "source": []
  }
 ],
 "metadata": {
  "kernelspec": {
   "display_name": "Python 3",
   "language": "python",
   "name": "python3"
  },
  "language_info": {
   "codemirror_mode": {
    "name": "ipython",
    "version": 3
   },
   "file_extension": ".py",
   "mimetype": "text/x-python",
   "name": "python",
   "nbconvert_exporter": "python",
   "pygments_lexer": "ipython3",
   "version": "3.8.5"
  }
 },
 "nbformat": 4,
 "nbformat_minor": 4
}
