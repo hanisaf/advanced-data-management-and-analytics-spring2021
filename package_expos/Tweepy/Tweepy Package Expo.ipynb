{
 "cells": [
  {
   "cell_type": "markdown",
   "metadata": {},
   "source": [
    "# Tweepy Package Expo Group 44\n"
   ]
  },
  {
   "cell_type": "markdown",
   "metadata": {},
   "source": [
    "First, ensure that you have installed Tweepy using the following commmand:"
   ]
  },
  {
   "cell_type": "code",
   "execution_count": null,
   "metadata": {},
   "outputs": [],
   "source": [
    "pip install tweepy"
   ]
  },
  {
   "cell_type": "markdown",
   "metadata": {},
   "source": [
    "Next, import Tweepy, Pandas, and a few other packages we will need to work with"
   ]
  },
  {
   "cell_type": "code",
   "execution_count": null,
   "metadata": {},
   "outputs": [],
   "source": [
    "import tweepy\n",
    "import webbrowser\n",
    "import time \n",
    "import pandas as pd"
   ]
  },
  {
   "cell_type": "markdown",
   "metadata": {},
   "source": [
    "## Twitter API Authentication Credentials\n",
    "\n",
    "The Twitter API requires that all requests use OAuth to authenticate, so you will need the following 4 credentials to use the API: Consumer Key, Consumer Secret, Acess Token, Access Secret. In order to gain access to these credentials, use these steps:\n",
    "1. Apply for a Twitter developer account at the folllwing link: https://developer.twitter.com/en . Make sure you state that you are a student using this for educational purposes.\n",
    "2. Once you get a developer account, you will need to create an app within your developer account. Twitter grants authentication credentials to apps, not users or accounts. An app can be any tool or bot that uses the Twitter API. For our purposes, we are creating an app called \"Tweepy Package Expo\"\n",
    "3. Once you create your app, click the \"Details\" button of the app to find the \"Keys and Tokens\" tab where you can generate and copy the key, token, and secrets to use in your code. Make sure to save these somewhere on your computer so you don't have to generate new credentials every time. Store your Consumer Key and Consumer Secret as variables to be used in the OAuth handler like as follows:"
   ]
  },
  {
   "cell_type": "code",
   "execution_count": null,
   "metadata": {},
   "outputs": [],
   "source": [
    "consumer_key = \"Yz9KyQNKUEU25mZrc7XuvHUnQ\"\n",
    "consumer_secret = \"Y2QTFiAyuZNQmjwDZUKCXzZRi1F3RS3PnmI8jfDl7MPBOCNFwA\"\n",
    "\n",
    "callback_uri = 'oob'"
   ]
  },
  {
   "cell_type": "code",
   "execution_count": null,
   "metadata": {},
   "outputs": [],
   "source": [
    "#Authenticate with Twitter\n",
    "auth = tweepy.OAuthHandler(consumer_key,consumer_secret, callback_uri)\n",
    "\n",
    "#Authenticates our credentials and grabs redirect url to send user to\n",
    "redirect_url = auth.get_authorization_url()"
   ]
  },
  {
   "cell_type": "code",
   "execution_count": null,
   "metadata": {},
   "outputs": [],
   "source": [
    "#Opens webbrowser to authenticate from Twitter\n",
    "webbrowser.open(redirect_url)"
   ]
  },
  {
   "cell_type": "markdown",
   "metadata": {},
   "source": [
    "The previous command opens a web browser that will ask you to allow Tweepy to gain full access to your Developer Twitter account. Click \"Authorize App\" and then store the pin that shows next as \"User Pin Input\""
   ]
  },
  {
   "cell_type": "code",
   "execution_count": null,
   "metadata": {},
   "outputs": [],
   "source": [
    "user_pin_input = input(\"What is the pin? \")"
   ]
  },
  {
   "cell_type": "code",
   "execution_count": null,
   "metadata": {},
   "outputs": [],
   "source": [
    "auth.get_access_token(user_pin_input)"
   ]
  },
  {
   "cell_type": "markdown",
   "metadata": {},
   "source": [
    "Call the API using the following statement and input the auth object that contains your consumer key and consumer secret"
   ]
  },
  {
   "cell_type": "code",
   "execution_count": null,
   "metadata": {},
   "outputs": [],
   "source": [
    "api = tweepy.API(auth)"
   ]
  },
  {
   "cell_type": "markdown",
   "metadata": {},
   "source": [
    ".me()  is a Tweepy method that is used to get the authenicated user's information"
   ]
  },
  {
   "cell_type": "code",
   "execution_count": null,
   "metadata": {},
   "outputs": [],
   "source": [
    "me = api.me()\n"
   ]
  },
  {
   "cell_type": "markdown",
   "metadata": {},
   "source": [
    "# Methods for Tweets\n",
    "\n",
    "The following statements create a home_timeline object called \"timeline\" that iterates through every username and tweet of our timeline: \n",
    "- update_status() is used to create a new tweet from a Python String\n",
    "- home_timeline() is used to pull the last 20 entries from your timeline"
   ]
  },
  {
   "cell_type": "code",
   "execution_count": null,
   "metadata": {},
   "outputs": [],
   "source": [
    "timeline = api.home_timeline()\n",
    "\n",
    "for tweet in timeline:\n",
    "    print(f\"{tweet.user.name} said {tweet.text}\")"
   ]
  },
  {
   "cell_type": "code",
   "execution_count": null,
   "metadata": {},
   "outputs": [],
   "source": [
    "api.update_status(\"Good morning MIST 5730\")"
   ]
  },
  {
   "cell_type": "markdown",
   "metadata": {},
   "source": [
    "# Follow Users using create_friendship() method\n",
    "Parameters:\n",
    "- screen_name: Specifies the screen name of the user. Helpful for disambiguating when a valid screen name is also a user ID.\n",
    "- user_id: Specifies the ID of the user. Helpful for disambiguating when a valid user ID is also a valid screen name.\n",
    "- follow: Enable notifications for the target user in addition to becoming friends.\n",
    "\n",
    "Returns User object"
   ]
  },
  {
   "cell_type": "code",
   "execution_count": null,
   "metadata": {},
   "outputs": [],
   "source": [
    "first_follow = api.create_friendship(\"microsoft\")\n",
    "print(first_follow)"
   ]
  },
  {
   "cell_type": "code",
   "execution_count": null,
   "metadata": {},
   "outputs": [],
   "source": [
    "second_follow = api.create_friendship(\"elonmusk\")\n",
    "print(second_follow)"
   ]
  },
  {
   "cell_type": "markdown",
   "metadata": {},
   "source": [
    "## Return top 50 trends based on location with trends_place() method"
   ]
  },
  {
   "cell_type": "markdown",
   "metadata": {},
   "source": [
    "Parameters:\n",
    "- id : The Yahoo! Where On Earth ID of the location to return trending information for. Global information is available by using 1 as the WOEID.\n",
    "- exclude : Setting this equal to hashtags will remove all hashtags from the trends\n",
    "\n",
    "Returns JSON object"
   ]
  },
  {
   "cell_type": "code",
   "execution_count": null,
   "metadata": {},
   "outputs": [],
   "source": [
    "atlantaID = 2357024\n",
    "\n",
    "trends = api.trends_place(atlantaID)\n",
    "print(trends)"
   ]
  },
  {
   "cell_type": "code",
   "execution_count": null,
   "metadata": {},
   "outputs": [],
   "source": [
    "import pandas as pd"
   ]
  },
  {
   "cell_type": "code",
   "execution_count": null,
   "metadata": {},
   "outputs": [],
   "source": [
    "df = pd.json_normalize(trends, record_path = ['trends'])\n",
    "df"
   ]
  },
  {
   "cell_type": "markdown",
   "metadata": {},
   "source": [
    "## Follow and Reply to Mentions Bot\n",
    "\n",
    "Create a \"bot\" that replies to users who Tweet certain key words and follows them if you are not already."
   ]
  },
  {
   "cell_type": "code",
   "execution_count": null,
   "metadata": {},
   "outputs": [],
   "source": [
    "import logging\n",
    "import os\n",
    "\n",
    "logger = logging.getLogger()\n",
    "logging.basicConfig(level=logging.INFO)\n",
    "\n",
    "\n",
    "#Create check mentions function\n",
    "def check_mentions(api, keywords, since_id):\n",
    "    logger.info(\"Retrieving mentions\")\n",
    "    new_since_id = since_id\n",
    "    for tweet in tweepy.Cursor(api.mentions_timeline,\n",
    "        since_id=since_id).items():\n",
    "        new_since_id = max(tweet.id, new_since_id)\n",
    "        if tweet.in_reply_to_status_id is not None:\n",
    "            continue\n",
    "            #if keyword is in tweet, console will print answering to ____ and continue\n",
    "        if any(keyword in tweet.text.lower() for keyword in keywords):\n",
    "            logger.info(f\"Answering to {tweet.user.name}\")\n",
    "            \n",
    "            #follows user tweeting at account if not following already\n",
    "            if not tweet.user.following:\n",
    "                tweet.user.follow()\n",
    "            \n",
    "            #actualy reply to tweet\n",
    "            api.update_status(\n",
    "                status=\"MIST 5730 is a great course you should take with Dr. Safadi at UGA. That's where I was created.\",\n",
    "                in_reply_to_status_id=tweet.id,\n",
    "                auto_populate_reply_metadata = True\n",
    "            )\n",
    "    return new_since_id\n",
    "\n",
    "def main():\n",
    "    since_id = 1\n",
    "    while True:\n",
    "        #set keywords that we will check our mentions for \n",
    "        since_id = check_mentions(api, [\"python\", \"learn\"], since_id)\n",
    "        logger.info(\"Waiting...\")\n",
    "        time.sleep(15)\n",
    "\n",
    "if __name__ == \"__main__\":\n",
    "    main()"
   ]
  },
  {
   "cell_type": "code",
   "execution_count": null,
   "metadata": {},
   "outputs": [],
   "source": []
  }
 ],
 "metadata": {
  "kernelspec": {
   "display_name": "Python 3",
   "language": "python",
   "name": "python3"
  },
  "language_info": {
   "codemirror_mode": {
    "name": "ipython",
    "version": 3
   },
   "file_extension": ".py",
   "mimetype": "text/x-python",
   "name": "python",
   "nbconvert_exporter": "python",
   "pygments_lexer": "ipython3",
   "version": "3.8.5"
  }
 },
 "nbformat": 4,
 "nbformat_minor": 4
}
