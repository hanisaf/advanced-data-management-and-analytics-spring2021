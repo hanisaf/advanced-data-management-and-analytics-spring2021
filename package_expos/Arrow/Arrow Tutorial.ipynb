{
 "cells": [
  {
   "cell_type": "markdown",
   "metadata": {},
   "source": [
    "### Arrow Package\n",
    "\n",
    "<p> Arrow is a python library that offers an approach to creating, formatting, and manipulating dates and times that is user-friendly. It implements and updates datetimes typpes, plugging gaps in functionality and provides module APIs that support different creation scenarios. Comparing to the built-in date and time tools, it makes much easier to create, manipulate, format and convert dates, times, and timestamps. Ultimately, it helps individuals work with dates and times with fewer imports and less code. "
   ]
  },
  {
   "cell_type": "markdown",
   "metadata": {},
   "source": [
    "### Imports"
   ]
  },
  {
   "cell_type": "code",
   "execution_count": 1,
   "metadata": {},
   "outputs": [
    {
     "name": "stdout",
     "output_type": "stream",
     "text": [
      "Requirement already up-to-date: arrow in c:\\users\\ragav\\anaconda3\\lib\\site-packages (1.1.0)\n",
      "Requirement already satisfied, skipping upgrade: python-dateutil>=2.7.0 in c:\\users\\ragav\\anaconda3\\lib\\site-packages (from arrow) (2.8.1)\n",
      "Requirement already satisfied, skipping upgrade: six>=1.5 in c:\\users\\ragav\\anaconda3\\lib\\site-packages (from python-dateutil>=2.7.0->arrow) (1.15.0)\n"
     ]
    }
   ],
   "source": [
    "!pip install -U arrow\n",
    "import arrow"
   ]
  },
  {
   "cell_type": "markdown",
   "metadata": {},
   "source": [
    "### UTC time \n",
    "<p> There is a need for a singular global time. This helps to reduce confusion when people are comparing time zones and daylight savings time. UTC stands for Universal Coordinated Time and is considered the primary time standard. UTC is especially important in aviation, weather forcating, flight plans, air traffic control, and maps. Unlike other datetime functions UTC remains the same even with changes in seasons. "
   ]
  },
  {
   "cell_type": "code",
   "execution_count": 2,
   "metadata": {},
   "outputs": [
    {
     "name": "stdout",
     "output_type": "stream",
     "text": [
      "2021-04-28T21:14:54.326149+00:00\n"
     ]
    }
   ],
   "source": [
    "utc = arrow.utcnow()\n",
    "print(utc)"
   ]
  },
  {
   "cell_type": "markdown",
   "metadata": {},
   "source": [
    "### Local Time \n",
    "<p> Local time is a time in a particular region or time zone.The local time is created with the now() method. The to() method is used to convert the local time into the UTC time.\n",
    "\n"
   ]
  },
  {
   "cell_type": "code",
   "execution_count": 3,
   "metadata": {},
   "outputs": [
    {
     "name": "stdout",
     "output_type": "stream",
     "text": [
      "2021-04-28T17:14:54.343095-04:00\n",
      "2021-04-28T21:14:54.343095+00:00\n"
     ]
    }
   ],
   "source": [
    "now = arrow.now()\n",
    "print(now)\n",
    "print(now.to('UTC'))"
   ]
  },
  {
   "cell_type": "markdown",
   "metadata": {},
   "source": [
    "### Parsing Time \n",
    "<p> The get() method is used to parse time.\n",
    "<p> the arrow function also allows you to parse from a string"
   ]
  },
  {
   "cell_type": "code",
   "execution_count": 4,
   "metadata": {},
   "outputs": [
    {
     "name": "stdout",
     "output_type": "stream",
     "text": [
      "2021-04-27T17:01:03+00:00\n"
     ]
    }
   ],
   "source": [
    "d1 = arrow.get('2021-04-27 17:01:03', 'YYYY-MM-DD HH:mm:ss')\n",
    "print(d1)"
   ]
  },
  {
   "cell_type": "code",
   "execution_count": 5,
   "metadata": {
    "scrolled": true
   },
   "outputs": [
    {
     "name": "stdout",
     "output_type": "stream",
     "text": [
      "2023-08-01T00:00:00+00:00\n"
     ]
    }
   ],
   "source": [
    "d2 = arrow.get('Im going to the beach in August 2023.', 'MMMM YYYY')\n",
    "print(d2)"
   ]
  },
  {
   "cell_type": "code",
   "execution_count": 6,
   "metadata": {},
   "outputs": [
    {
     "name": "stdout",
     "output_type": "stream",
     "text": [
      "2019-08-24T00:00:00+00:00\n"
     ]
    }
   ],
   "source": [
    "d3 = arrow.get('Im going to the beach in 08-24-2019.', 'MM-DD-YYYY')\n",
    "print(d3)"
   ]
  },
  {
   "cell_type": "markdown",
   "metadata": {},
   "source": [
    "### Get any datetime value by doing the following "
   ]
  },
  {
   "cell_type": "code",
   "execution_count": 7,
   "metadata": {},
   "outputs": [],
   "source": [
    "example = arrow.utcnow()"
   ]
  },
  {
   "cell_type": "code",
   "execution_count": 8,
   "metadata": {},
   "outputs": [
    {
     "data": {
      "text/plain": [
       "2021"
      ]
     },
     "execution_count": 8,
     "metadata": {},
     "output_type": "execute_result"
    }
   ],
   "source": [
    "example.year"
   ]
  },
  {
   "cell_type": "code",
   "execution_count": 9,
   "metadata": {},
   "outputs": [
    {
     "data": {
      "text/plain": [
       "4"
      ]
     },
     "execution_count": 9,
     "metadata": {},
     "output_type": "execute_result"
    }
   ],
   "source": [
    "example.month"
   ]
  },
  {
   "cell_type": "code",
   "execution_count": 10,
   "metadata": {},
   "outputs": [
    {
     "data": {
      "text/plain": [
       "28"
      ]
     },
     "execution_count": 10,
     "metadata": {},
     "output_type": "execute_result"
    }
   ],
   "source": [
    "example.day"
   ]
  },
  {
   "cell_type": "code",
   "execution_count": 11,
   "metadata": {},
   "outputs": [
    {
     "data": {
      "text/plain": [
       "datetime.date(2021, 4, 28)"
      ]
     },
     "execution_count": 11,
     "metadata": {},
     "output_type": "execute_result"
    }
   ],
   "source": [
    "example.date()"
   ]
  },
  {
   "cell_type": "code",
   "execution_count": 12,
   "metadata": {},
   "outputs": [
    {
     "data": {
      "text/plain": [
       "datetime.time(21, 14, 54, 420015)"
      ]
     },
     "execution_count": 12,
     "metadata": {},
     "output_type": "execute_result"
    }
   ],
   "source": [
    "example.time()"
   ]
  },
  {
   "cell_type": "markdown",
   "metadata": {},
   "source": [
    "### Extracting parts of a date\n"
   ]
  },
  {
   "cell_type": "code",
   "execution_count": 13,
   "metadata": {},
   "outputs": [
    {
     "data": {
      "text/plain": [
       "'Tuesday'"
      ]
     },
     "execution_count": 13,
     "metadata": {},
     "output_type": "execute_result"
    }
   ],
   "source": [
    "date = arrow.get('2021-04-27')\n",
    "date.format('dddd')"
   ]
  },
  {
   "cell_type": "markdown",
   "metadata": {},
   "source": [
    "### Formatting date and times"
   ]
  },
  {
   "cell_type": "code",
   "execution_count": 14,
   "metadata": {},
   "outputs": [
    {
     "name": "stdout",
     "output_type": "stream",
     "text": [
      "Date: April 28 2021\n",
      "Year: 2021\n",
      "Date and time: 04/28/2021 17:14:55\n"
     ]
    }
   ],
   "source": [
    "now = arrow.now()\n",
    "\n",
    "date = now.format('MMMM D YYYY')\n",
    "print(\"Date: {0}\".format(date))\n",
    "\n",
    "year = now.format('YYYY')\n",
    "print(\"Year: {0}\".format(year))\n",
    "\n",
    "date_time = now.format('MM/DD/YYYY HH:mm:ss')\n",
    "print(\"Date and time: {0}\".format(date_time))"
   ]
  },
  {
   "cell_type": "markdown",
   "metadata": {},
   "source": [
    "### Convert to different timezones"
   ]
  },
  {
   "cell_type": "code",
   "execution_count": 15,
   "metadata": {},
   "outputs": [],
   "source": [
    "utc = arrow.utcnow()"
   ]
  },
  {
   "cell_type": "code",
   "execution_count": 16,
   "metadata": {},
   "outputs": [
    {
     "data": {
      "text/plain": [
       "<Arrow [2021-04-28T17:14:56.293033-04:00]>"
      ]
     },
     "execution_count": 16,
     "metadata": {},
     "output_type": "execute_result"
    }
   ],
   "source": [
    "utc.to('US/Eastern')"
   ]
  },
  {
   "cell_type": "code",
   "execution_count": 17,
   "metadata": {},
   "outputs": [
    {
     "data": {
      "text/plain": [
       "<Arrow [2021-04-28T14:14:56.293033-07:00]>"
      ]
     },
     "execution_count": 17,
     "metadata": {},
     "output_type": "execute_result"
    }
   ],
   "source": [
    "utc.to('US/Pacific')"
   ]
  },
  {
   "cell_type": "code",
   "execution_count": 18,
   "metadata": {},
   "outputs": [
    {
     "data": {
      "text/plain": [
       "<Arrow [2021-04-29T05:14:56.293033+08:00]>"
      ]
     },
     "execution_count": 18,
     "metadata": {},
     "output_type": "execute_result"
    }
   ],
   "source": [
    "utc.to('Asia/Hong_Kong')"
   ]
  },
  {
   "cell_type": "code",
   "execution_count": 19,
   "metadata": {},
   "outputs": [],
   "source": [
    "d1 = arrow.get('2021-04-27 17:01:03')"
   ]
  },
  {
   "cell_type": "code",
   "execution_count": 20,
   "metadata": {},
   "outputs": [
    {
     "data": {
      "text/plain": [
       "<Arrow [2021-04-28T01:01:03+08:00]>"
      ]
     },
     "execution_count": 20,
     "metadata": {},
     "output_type": "execute_result"
    }
   ],
   "source": [
    "d1.to('Asia/Hong_Kong')"
   ]
  },
  {
   "cell_type": "markdown",
   "metadata": {},
   "source": [
    "### Shifting\n",
    "<p> shift() method shifts time"
   ]
  },
  {
   "cell_type": "code",
   "execution_count": 21,
   "metadata": {},
   "outputs": [
    {
     "name": "stdout",
     "output_type": "stream",
     "text": [
      "2021-04-28T17:15:01.935689-04:00\n",
      "15:15:01.935689\n",
      "2021-05-07\n",
      "2018-04-28\n",
      "15:45:01.935689\n",
      "2021-04-27T17:01:03+00:00\n",
      "2021-04-22\n"
     ]
    }
   ],
   "source": [
    "present = arrow.now()\n",
    "\n",
    "print(present)\n",
    "print(present.shift(hours=-2).time()) #2 hours before present\n",
    "print(present.shift(days=9).date()) #9 days after present\n",
    "print(present.shift(years=-3).date()) #3 years before present\n",
    "print(present.shift(minutes= -90).time()) #90 minutes before present\n",
    "\n",
    "d1 = arrow.get('2021-04-27 17:01:03')\n",
    "\n",
    "print(d1)\n",
    "print(d1.shift(days = -5).date())"
   ]
  },
  {
   "cell_type": "markdown",
   "metadata": {},
   "source": [
    "### Humanizing dates and times"
   ]
  },
  {
   "cell_type": "code",
   "execution_count": 22,
   "metadata": {},
   "outputs": [
    {
     "name": "stdout",
     "output_type": "stream",
     "text": [
      "2021-04-28T21:15:02.585662+00:00\n",
      "2021-04-26T21:15:02.585662+00:00\n",
      "just now\n",
      "2 days ago\n",
      "2 days\n"
     ]
    }
   ],
   "source": [
    "present = arrow.utcnow()\n",
    "future = arrow.utcnow().shift(days = -2)\n",
    "print(present)\n",
    "print(future)\n",
    "\n",
    "\n",
    "print(present.humanize())\n",
    "print(future.humanize())\n",
    "print(future.humanize(present, only_distance=True))"
   ]
  },
  {
   "cell_type": "markdown",
   "metadata": {},
   "source": [
    "### Shifting and humanizing dates and times"
   ]
  },
  {
   "cell_type": "code",
   "execution_count": 23,
   "metadata": {},
   "outputs": [
    {
     "name": "stdout",
     "output_type": "stream",
     "text": [
      "4 days ago\n",
      "4 days and 6 hours ago\n"
     ]
    }
   ],
   "source": [
    "present = arrow.utcnow()\n",
    "past = present.shift(days = -4, hours = -6)\n",
    "print(past.humanize(present, granularity=\"day\"))\n",
    "print(past.humanize(present, granularity=[\"day\", \"hour\"]))"
   ]
  },
  {
   "cell_type": "markdown",
   "metadata": {},
   "source": [
    "### Ranges and Spans"
   ]
  },
  {
   "cell_type": "code",
   "execution_count": 24,
   "metadata": {},
   "outputs": [
    {
     "name": "stdout",
     "output_type": "stream",
     "text": [
      "(<Arrow [2021-04-28T21:00:00+00:00]>, <Arrow [2021-04-28T21:59:59.999999+00:00]>)\n"
     ]
    }
   ],
   "source": [
    "print(arrow.utcnow().span('hour'))"
   ]
  },
  {
   "cell_type": "code",
   "execution_count": 25,
   "metadata": {
    "scrolled": true
   },
   "outputs": [
    {
     "name": "stdout",
     "output_type": "stream",
     "text": [
      "(<Arrow [2021-04-28T00:00:00+00:00]>, <Arrow [2021-04-28T23:59:59.999999+00:00]>)\n"
     ]
    }
   ],
   "source": [
    "print(arrow.utcnow().span('day'))"
   ]
  },
  {
   "cell_type": "code",
   "execution_count": 26,
   "metadata": {},
   "outputs": [
    {
     "name": "stdout",
     "output_type": "stream",
     "text": [
      "Wednesday\n",
      "Thursday\n",
      "Friday\n",
      "Saturday\n",
      "Sunday\n",
      "Monday\n",
      "Tuesday\n",
      "Wednesday\n",
      "Thursday\n",
      "Friday\n",
      "Saturday\n",
      "Sunday\n",
      "Monday\n"
     ]
    }
   ],
   "source": [
    "now = arrow.now()\n",
    "future = now.shift(days=12)\n",
    "for each in arrow.Arrow.range('day',now,future):\n",
    "    print(each.format('dddd'))"
   ]
  },
  {
   "cell_type": "markdown",
   "metadata": {},
   "source": [
    "## Example Problem"
   ]
  },
  {
   "cell_type": "code",
   "execution_count": 27,
   "metadata": {},
   "outputs": [],
   "source": [
    "import pandas as pd\n",
    "import arrow"
   ]
  },
  {
   "cell_type": "code",
   "execution_count": 28,
   "metadata": {},
   "outputs": [],
   "source": [
    "flights  = pd.read_csv(\"flights_20_perc.csv.gz\")"
   ]
  },
  {
   "cell_type": "code",
   "execution_count": 30,
   "metadata": {},
   "outputs": [
    {
     "data": {
      "text/html": [
       "<div>\n",
       "<style scoped>\n",
       "    .dataframe tbody tr th:only-of-type {\n",
       "        vertical-align: middle;\n",
       "    }\n",
       "\n",
       "    .dataframe tbody tr th {\n",
       "        vertical-align: top;\n",
       "    }\n",
       "\n",
       "    .dataframe thead th {\n",
       "        text-align: right;\n",
       "    }\n",
       "</style>\n",
       "<table border=\"1\" class=\"dataframe\">\n",
       "  <thead>\n",
       "    <tr style=\"text-align: right;\">\n",
       "      <th></th>\n",
       "      <th>YEAR</th>\n",
       "      <th>MONTH</th>\n",
       "      <th>DAY</th>\n",
       "      <th>DAY_OF_WEEK</th>\n",
       "      <th>AIRLINE</th>\n",
       "      <th>FLIGHT_NUMBER</th>\n",
       "      <th>TAIL_NUMBER</th>\n",
       "      <th>ORIGIN_AIRPORT</th>\n",
       "      <th>DESTINATION_AIRPORT</th>\n",
       "      <th>SCHEDULED_DEPARTURE</th>\n",
       "      <th>...</th>\n",
       "      <th>ARRIVAL_DELAY</th>\n",
       "      <th>DIVERTED</th>\n",
       "      <th>CANCELLED</th>\n",
       "      <th>CANCELLATION_REASON</th>\n",
       "      <th>AIR_SYSTEM_DELAY</th>\n",
       "      <th>SECURITY_DELAY</th>\n",
       "      <th>AIRLINE_DELAY</th>\n",
       "      <th>LATE_AIRCRAFT_DELAY</th>\n",
       "      <th>WEATHER_DELAY</th>\n",
       "      <th>Date</th>\n",
       "    </tr>\n",
       "  </thead>\n",
       "  <tbody>\n",
       "    <tr>\n",
       "      <th>0</th>\n",
       "      <td>2015</td>\n",
       "      <td>10</td>\n",
       "      <td>14</td>\n",
       "      <td>3</td>\n",
       "      <td>UA</td>\n",
       "      <td>356</td>\n",
       "      <td>N494UA</td>\n",
       "      <td>11618</td>\n",
       "      <td>13930</td>\n",
       "      <td>1945</td>\n",
       "      <td>...</td>\n",
       "      <td>-20.0</td>\n",
       "      <td>0</td>\n",
       "      <td>0</td>\n",
       "      <td>NaN</td>\n",
       "      <td>NaN</td>\n",
       "      <td>NaN</td>\n",
       "      <td>NaN</td>\n",
       "      <td>NaN</td>\n",
       "      <td>NaN</td>\n",
       "      <td>2015-10-14</td>\n",
       "    </tr>\n",
       "    <tr>\n",
       "      <th>1</th>\n",
       "      <td>2015</td>\n",
       "      <td>1</td>\n",
       "      <td>27</td>\n",
       "      <td>2</td>\n",
       "      <td>MQ</td>\n",
       "      <td>3458</td>\n",
       "      <td>N671MQ</td>\n",
       "      <td>ORD</td>\n",
       "      <td>MLI</td>\n",
       "      <td>820</td>\n",
       "      <td>...</td>\n",
       "      <td>107.0</td>\n",
       "      <td>0</td>\n",
       "      <td>0</td>\n",
       "      <td>NaN</td>\n",
       "      <td>34.0</td>\n",
       "      <td>0.0</td>\n",
       "      <td>0.0</td>\n",
       "      <td>63.0</td>\n",
       "      <td>10.0</td>\n",
       "      <td>2015-01-27</td>\n",
       "    </tr>\n",
       "    <tr>\n",
       "      <th>2</th>\n",
       "      <td>2015</td>\n",
       "      <td>7</td>\n",
       "      <td>6</td>\n",
       "      <td>1</td>\n",
       "      <td>B6</td>\n",
       "      <td>1202</td>\n",
       "      <td>N535JB</td>\n",
       "      <td>FLL</td>\n",
       "      <td>JFK</td>\n",
       "      <td>1507</td>\n",
       "      <td>...</td>\n",
       "      <td>-4.0</td>\n",
       "      <td>0</td>\n",
       "      <td>0</td>\n",
       "      <td>NaN</td>\n",
       "      <td>NaN</td>\n",
       "      <td>NaN</td>\n",
       "      <td>NaN</td>\n",
       "      <td>NaN</td>\n",
       "      <td>NaN</td>\n",
       "      <td>2015-07-06</td>\n",
       "    </tr>\n",
       "    <tr>\n",
       "      <th>3</th>\n",
       "      <td>2015</td>\n",
       "      <td>6</td>\n",
       "      <td>13</td>\n",
       "      <td>6</td>\n",
       "      <td>DL</td>\n",
       "      <td>2529</td>\n",
       "      <td>N301DQ</td>\n",
       "      <td>ATL</td>\n",
       "      <td>CLE</td>\n",
       "      <td>2204</td>\n",
       "      <td>...</td>\n",
       "      <td>-9.0</td>\n",
       "      <td>0</td>\n",
       "      <td>0</td>\n",
       "      <td>NaN</td>\n",
       "      <td>NaN</td>\n",
       "      <td>NaN</td>\n",
       "      <td>NaN</td>\n",
       "      <td>NaN</td>\n",
       "      <td>NaN</td>\n",
       "      <td>2015-06-13</td>\n",
       "    </tr>\n",
       "    <tr>\n",
       "      <th>4</th>\n",
       "      <td>2015</td>\n",
       "      <td>6</td>\n",
       "      <td>6</td>\n",
       "      <td>6</td>\n",
       "      <td>WN</td>\n",
       "      <td>2560</td>\n",
       "      <td>N7729A</td>\n",
       "      <td>CLT</td>\n",
       "      <td>BWI</td>\n",
       "      <td>1325</td>\n",
       "      <td>...</td>\n",
       "      <td>-1.0</td>\n",
       "      <td>0</td>\n",
       "      <td>0</td>\n",
       "      <td>NaN</td>\n",
       "      <td>NaN</td>\n",
       "      <td>NaN</td>\n",
       "      <td>NaN</td>\n",
       "      <td>NaN</td>\n",
       "      <td>NaN</td>\n",
       "      <td>2015-06-06</td>\n",
       "    </tr>\n",
       "  </tbody>\n",
       "</table>\n",
       "<p>5 rows × 32 columns</p>\n",
       "</div>"
      ],
      "text/plain": [
       "   YEAR  MONTH  DAY  DAY_OF_WEEK AIRLINE  FLIGHT_NUMBER TAIL_NUMBER  \\\n",
       "0  2015     10   14            3      UA            356      N494UA   \n",
       "1  2015      1   27            2      MQ           3458      N671MQ   \n",
       "2  2015      7    6            1      B6           1202      N535JB   \n",
       "3  2015      6   13            6      DL           2529      N301DQ   \n",
       "4  2015      6    6            6      WN           2560      N7729A   \n",
       "\n",
       "  ORIGIN_AIRPORT DESTINATION_AIRPORT  SCHEDULED_DEPARTURE  ...  ARRIVAL_DELAY  \\\n",
       "0          11618               13930                 1945  ...          -20.0   \n",
       "1            ORD                 MLI                  820  ...          107.0   \n",
       "2            FLL                 JFK                 1507  ...           -4.0   \n",
       "3            ATL                 CLE                 2204  ...           -9.0   \n",
       "4            CLT                 BWI                 1325  ...           -1.0   \n",
       "\n",
       "   DIVERTED  CANCELLED  CANCELLATION_REASON  AIR_SYSTEM_DELAY  SECURITY_DELAY  \\\n",
       "0         0          0                  NaN               NaN             NaN   \n",
       "1         0          0                  NaN              34.0             0.0   \n",
       "2         0          0                  NaN               NaN             NaN   \n",
       "3         0          0                  NaN               NaN             NaN   \n",
       "4         0          0                  NaN               NaN             NaN   \n",
       "\n",
       "   AIRLINE_DELAY  LATE_AIRCRAFT_DELAY  WEATHER_DELAY       Date  \n",
       "0            NaN                  NaN            NaN 2015-10-14  \n",
       "1            0.0                 63.0           10.0 2015-01-27  \n",
       "2            NaN                  NaN            NaN 2015-07-06  \n",
       "3            NaN                  NaN            NaN 2015-06-13  \n",
       "4            NaN                  NaN            NaN 2015-06-06  \n",
       "\n",
       "[5 rows x 32 columns]"
      ]
     },
     "execution_count": 30,
     "metadata": {},
     "output_type": "execute_result"
    }
   ],
   "source": [
    "flights['Date'] = pd.to_datetime(flights[['YEAR', 'MONTH', 'DAY']], format='%Y%b%d')\n",
    "flights.head()"
   ]
  },
  {
   "cell_type": "markdown",
   "metadata": {},
   "source": [
    "### Questions\n",
    "1. How long ago (year and month) and on what weekday was the first flight in the dataframe?\n",
    "    \n",
    "2. Create a new column that formats the date column (Month Day Year) and name it Formatted Date.\n",
    "\n",
    "3. Given the phrase, \"I can't believe I'm graduating May 13 2021.\", extract the data as an arrow object.\n",
    "    "
   ]
  },
  {
   "cell_type": "code",
   "execution_count": 31,
   "metadata": {},
   "outputs": [
    {
     "data": {
      "text/plain": [
       "('5 years and 6 months ago', 'Wednesday')"
      ]
     },
     "execution_count": 31,
     "metadata": {},
     "output_type": "execute_result"
    }
   ],
   "source": [
    "weekday = arrow.get(flights['Date'].iloc[0])\n",
    "weekday.humanize(granularity = ('year','month')), weekday.format('dddd')"
   ]
  },
  {
   "cell_type": "code",
   "execution_count": 32,
   "metadata": {
    "scrolled": true
   },
   "outputs": [
    {
     "data": {
      "text/html": [
       "<div>\n",
       "<style scoped>\n",
       "    .dataframe tbody tr th:only-of-type {\n",
       "        vertical-align: middle;\n",
       "    }\n",
       "\n",
       "    .dataframe tbody tr th {\n",
       "        vertical-align: top;\n",
       "    }\n",
       "\n",
       "    .dataframe thead th {\n",
       "        text-align: right;\n",
       "    }\n",
       "</style>\n",
       "<table border=\"1\" class=\"dataframe\">\n",
       "  <thead>\n",
       "    <tr style=\"text-align: right;\">\n",
       "      <th></th>\n",
       "      <th>YEAR</th>\n",
       "      <th>MONTH</th>\n",
       "      <th>DAY</th>\n",
       "      <th>DAY_OF_WEEK</th>\n",
       "      <th>AIRLINE</th>\n",
       "      <th>FLIGHT_NUMBER</th>\n",
       "      <th>TAIL_NUMBER</th>\n",
       "      <th>ORIGIN_AIRPORT</th>\n",
       "      <th>DESTINATION_AIRPORT</th>\n",
       "      <th>SCHEDULED_DEPARTURE</th>\n",
       "      <th>...</th>\n",
       "      <th>DIVERTED</th>\n",
       "      <th>CANCELLED</th>\n",
       "      <th>CANCELLATION_REASON</th>\n",
       "      <th>AIR_SYSTEM_DELAY</th>\n",
       "      <th>SECURITY_DELAY</th>\n",
       "      <th>AIRLINE_DELAY</th>\n",
       "      <th>LATE_AIRCRAFT_DELAY</th>\n",
       "      <th>WEATHER_DELAY</th>\n",
       "      <th>Date</th>\n",
       "      <th>Formatted Date</th>\n",
       "    </tr>\n",
       "  </thead>\n",
       "  <tbody>\n",
       "    <tr>\n",
       "      <th>0</th>\n",
       "      <td>2015</td>\n",
       "      <td>10</td>\n",
       "      <td>14</td>\n",
       "      <td>3</td>\n",
       "      <td>UA</td>\n",
       "      <td>356</td>\n",
       "      <td>N494UA</td>\n",
       "      <td>11618</td>\n",
       "      <td>13930</td>\n",
       "      <td>1945</td>\n",
       "      <td>...</td>\n",
       "      <td>0</td>\n",
       "      <td>0</td>\n",
       "      <td>NaN</td>\n",
       "      <td>NaN</td>\n",
       "      <td>NaN</td>\n",
       "      <td>NaN</td>\n",
       "      <td>NaN</td>\n",
       "      <td>NaN</td>\n",
       "      <td>2015-10-14</td>\n",
       "      <td>October 14 2015</td>\n",
       "    </tr>\n",
       "    <tr>\n",
       "      <th>1</th>\n",
       "      <td>2015</td>\n",
       "      <td>1</td>\n",
       "      <td>27</td>\n",
       "      <td>2</td>\n",
       "      <td>MQ</td>\n",
       "      <td>3458</td>\n",
       "      <td>N671MQ</td>\n",
       "      <td>ORD</td>\n",
       "      <td>MLI</td>\n",
       "      <td>820</td>\n",
       "      <td>...</td>\n",
       "      <td>0</td>\n",
       "      <td>0</td>\n",
       "      <td>NaN</td>\n",
       "      <td>34.0</td>\n",
       "      <td>0.0</td>\n",
       "      <td>0.0</td>\n",
       "      <td>63.0</td>\n",
       "      <td>10.0</td>\n",
       "      <td>2015-01-27</td>\n",
       "      <td>January 27 2015</td>\n",
       "    </tr>\n",
       "    <tr>\n",
       "      <th>2</th>\n",
       "      <td>2015</td>\n",
       "      <td>7</td>\n",
       "      <td>6</td>\n",
       "      <td>1</td>\n",
       "      <td>B6</td>\n",
       "      <td>1202</td>\n",
       "      <td>N535JB</td>\n",
       "      <td>FLL</td>\n",
       "      <td>JFK</td>\n",
       "      <td>1507</td>\n",
       "      <td>...</td>\n",
       "      <td>0</td>\n",
       "      <td>0</td>\n",
       "      <td>NaN</td>\n",
       "      <td>NaN</td>\n",
       "      <td>NaN</td>\n",
       "      <td>NaN</td>\n",
       "      <td>NaN</td>\n",
       "      <td>NaN</td>\n",
       "      <td>2015-07-06</td>\n",
       "      <td>July 6 2015</td>\n",
       "    </tr>\n",
       "    <tr>\n",
       "      <th>3</th>\n",
       "      <td>2015</td>\n",
       "      <td>6</td>\n",
       "      <td>13</td>\n",
       "      <td>6</td>\n",
       "      <td>DL</td>\n",
       "      <td>2529</td>\n",
       "      <td>N301DQ</td>\n",
       "      <td>ATL</td>\n",
       "      <td>CLE</td>\n",
       "      <td>2204</td>\n",
       "      <td>...</td>\n",
       "      <td>0</td>\n",
       "      <td>0</td>\n",
       "      <td>NaN</td>\n",
       "      <td>NaN</td>\n",
       "      <td>NaN</td>\n",
       "      <td>NaN</td>\n",
       "      <td>NaN</td>\n",
       "      <td>NaN</td>\n",
       "      <td>2015-06-13</td>\n",
       "      <td>June 13 2015</td>\n",
       "    </tr>\n",
       "    <tr>\n",
       "      <th>4</th>\n",
       "      <td>2015</td>\n",
       "      <td>6</td>\n",
       "      <td>6</td>\n",
       "      <td>6</td>\n",
       "      <td>WN</td>\n",
       "      <td>2560</td>\n",
       "      <td>N7729A</td>\n",
       "      <td>CLT</td>\n",
       "      <td>BWI</td>\n",
       "      <td>1325</td>\n",
       "      <td>...</td>\n",
       "      <td>0</td>\n",
       "      <td>0</td>\n",
       "      <td>NaN</td>\n",
       "      <td>NaN</td>\n",
       "      <td>NaN</td>\n",
       "      <td>NaN</td>\n",
       "      <td>NaN</td>\n",
       "      <td>NaN</td>\n",
       "      <td>2015-06-06</td>\n",
       "      <td>June 6 2015</td>\n",
       "    </tr>\n",
       "    <tr>\n",
       "      <th>...</th>\n",
       "      <td>...</td>\n",
       "      <td>...</td>\n",
       "      <td>...</td>\n",
       "      <td>...</td>\n",
       "      <td>...</td>\n",
       "      <td>...</td>\n",
       "      <td>...</td>\n",
       "      <td>...</td>\n",
       "      <td>...</td>\n",
       "      <td>...</td>\n",
       "      <td>...</td>\n",
       "      <td>...</td>\n",
       "      <td>...</td>\n",
       "      <td>...</td>\n",
       "      <td>...</td>\n",
       "      <td>...</td>\n",
       "      <td>...</td>\n",
       "      <td>...</td>\n",
       "      <td>...</td>\n",
       "      <td>...</td>\n",
       "      <td>...</td>\n",
       "    </tr>\n",
       "    <tr>\n",
       "      <th>1163811</th>\n",
       "      <td>2015</td>\n",
       "      <td>2</td>\n",
       "      <td>25</td>\n",
       "      <td>3</td>\n",
       "      <td>WN</td>\n",
       "      <td>1872</td>\n",
       "      <td>N500WR</td>\n",
       "      <td>SAN</td>\n",
       "      <td>SMF</td>\n",
       "      <td>1415</td>\n",
       "      <td>...</td>\n",
       "      <td>0</td>\n",
       "      <td>0</td>\n",
       "      <td>NaN</td>\n",
       "      <td>NaN</td>\n",
       "      <td>NaN</td>\n",
       "      <td>NaN</td>\n",
       "      <td>NaN</td>\n",
       "      <td>NaN</td>\n",
       "      <td>2015-02-25</td>\n",
       "      <td>February 25 2015</td>\n",
       "    </tr>\n",
       "    <tr>\n",
       "      <th>1163812</th>\n",
       "      <td>2015</td>\n",
       "      <td>8</td>\n",
       "      <td>26</td>\n",
       "      <td>3</td>\n",
       "      <td>UA</td>\n",
       "      <td>1416</td>\n",
       "      <td>N79402</td>\n",
       "      <td>EWR</td>\n",
       "      <td>DEN</td>\n",
       "      <td>1904</td>\n",
       "      <td>...</td>\n",
       "      <td>0</td>\n",
       "      <td>0</td>\n",
       "      <td>NaN</td>\n",
       "      <td>NaN</td>\n",
       "      <td>NaN</td>\n",
       "      <td>NaN</td>\n",
       "      <td>NaN</td>\n",
       "      <td>NaN</td>\n",
       "      <td>2015-08-26</td>\n",
       "      <td>August 26 2015</td>\n",
       "    </tr>\n",
       "    <tr>\n",
       "      <th>1163813</th>\n",
       "      <td>2015</td>\n",
       "      <td>3</td>\n",
       "      <td>15</td>\n",
       "      <td>7</td>\n",
       "      <td>UA</td>\n",
       "      <td>363</td>\n",
       "      <td>N509UA</td>\n",
       "      <td>IAD</td>\n",
       "      <td>ORD</td>\n",
       "      <td>2230</td>\n",
       "      <td>...</td>\n",
       "      <td>0</td>\n",
       "      <td>0</td>\n",
       "      <td>NaN</td>\n",
       "      <td>NaN</td>\n",
       "      <td>NaN</td>\n",
       "      <td>NaN</td>\n",
       "      <td>NaN</td>\n",
       "      <td>NaN</td>\n",
       "      <td>2015-03-15</td>\n",
       "      <td>March 15 2015</td>\n",
       "    </tr>\n",
       "    <tr>\n",
       "      <th>1163814</th>\n",
       "      <td>2015</td>\n",
       "      <td>6</td>\n",
       "      <td>12</td>\n",
       "      <td>5</td>\n",
       "      <td>B6</td>\n",
       "      <td>656</td>\n",
       "      <td>N348JB</td>\n",
       "      <td>MCO</td>\n",
       "      <td>SYR</td>\n",
       "      <td>1855</td>\n",
       "      <td>...</td>\n",
       "      <td>0</td>\n",
       "      <td>0</td>\n",
       "      <td>NaN</td>\n",
       "      <td>NaN</td>\n",
       "      <td>NaN</td>\n",
       "      <td>NaN</td>\n",
       "      <td>NaN</td>\n",
       "      <td>NaN</td>\n",
       "      <td>2015-06-12</td>\n",
       "      <td>June 12 2015</td>\n",
       "    </tr>\n",
       "    <tr>\n",
       "      <th>1163815</th>\n",
       "      <td>2015</td>\n",
       "      <td>9</td>\n",
       "      <td>14</td>\n",
       "      <td>1</td>\n",
       "      <td>WN</td>\n",
       "      <td>105</td>\n",
       "      <td>N468WN</td>\n",
       "      <td>MDW</td>\n",
       "      <td>SFO</td>\n",
       "      <td>1525</td>\n",
       "      <td>...</td>\n",
       "      <td>0</td>\n",
       "      <td>0</td>\n",
       "      <td>NaN</td>\n",
       "      <td>NaN</td>\n",
       "      <td>NaN</td>\n",
       "      <td>NaN</td>\n",
       "      <td>NaN</td>\n",
       "      <td>NaN</td>\n",
       "      <td>2015-09-14</td>\n",
       "      <td>September 14 2015</td>\n",
       "    </tr>\n",
       "  </tbody>\n",
       "</table>\n",
       "<p>1163816 rows × 33 columns</p>\n",
       "</div>"
      ],
      "text/plain": [
       "         YEAR  MONTH  DAY  DAY_OF_WEEK AIRLINE  FLIGHT_NUMBER TAIL_NUMBER  \\\n",
       "0        2015     10   14            3      UA            356      N494UA   \n",
       "1        2015      1   27            2      MQ           3458      N671MQ   \n",
       "2        2015      7    6            1      B6           1202      N535JB   \n",
       "3        2015      6   13            6      DL           2529      N301DQ   \n",
       "4        2015      6    6            6      WN           2560      N7729A   \n",
       "...       ...    ...  ...          ...     ...            ...         ...   \n",
       "1163811  2015      2   25            3      WN           1872      N500WR   \n",
       "1163812  2015      8   26            3      UA           1416      N79402   \n",
       "1163813  2015      3   15            7      UA            363      N509UA   \n",
       "1163814  2015      6   12            5      B6            656      N348JB   \n",
       "1163815  2015      9   14            1      WN            105      N468WN   \n",
       "\n",
       "        ORIGIN_AIRPORT DESTINATION_AIRPORT  SCHEDULED_DEPARTURE  ...  \\\n",
       "0                11618               13930                 1945  ...   \n",
       "1                  ORD                 MLI                  820  ...   \n",
       "2                  FLL                 JFK                 1507  ...   \n",
       "3                  ATL                 CLE                 2204  ...   \n",
       "4                  CLT                 BWI                 1325  ...   \n",
       "...                ...                 ...                  ...  ...   \n",
       "1163811            SAN                 SMF                 1415  ...   \n",
       "1163812            EWR                 DEN                 1904  ...   \n",
       "1163813            IAD                 ORD                 2230  ...   \n",
       "1163814            MCO                 SYR                 1855  ...   \n",
       "1163815            MDW                 SFO                 1525  ...   \n",
       "\n",
       "         DIVERTED  CANCELLED  CANCELLATION_REASON  AIR_SYSTEM_DELAY  \\\n",
       "0               0          0                  NaN               NaN   \n",
       "1               0          0                  NaN              34.0   \n",
       "2               0          0                  NaN               NaN   \n",
       "3               0          0                  NaN               NaN   \n",
       "4               0          0                  NaN               NaN   \n",
       "...           ...        ...                  ...               ...   \n",
       "1163811         0          0                  NaN               NaN   \n",
       "1163812         0          0                  NaN               NaN   \n",
       "1163813         0          0                  NaN               NaN   \n",
       "1163814         0          0                  NaN               NaN   \n",
       "1163815         0          0                  NaN               NaN   \n",
       "\n",
       "         SECURITY_DELAY  AIRLINE_DELAY  LATE_AIRCRAFT_DELAY  WEATHER_DELAY  \\\n",
       "0                   NaN            NaN                  NaN            NaN   \n",
       "1                   0.0            0.0                 63.0           10.0   \n",
       "2                   NaN            NaN                  NaN            NaN   \n",
       "3                   NaN            NaN                  NaN            NaN   \n",
       "4                   NaN            NaN                  NaN            NaN   \n",
       "...                 ...            ...                  ...            ...   \n",
       "1163811             NaN            NaN                  NaN            NaN   \n",
       "1163812             NaN            NaN                  NaN            NaN   \n",
       "1163813             NaN            NaN                  NaN            NaN   \n",
       "1163814             NaN            NaN                  NaN            NaN   \n",
       "1163815             NaN            NaN                  NaN            NaN   \n",
       "\n",
       "              Date     Formatted Date  \n",
       "0       2015-10-14    October 14 2015  \n",
       "1       2015-01-27    January 27 2015  \n",
       "2       2015-07-06        July 6 2015  \n",
       "3       2015-06-13       June 13 2015  \n",
       "4       2015-06-06        June 6 2015  \n",
       "...            ...                ...  \n",
       "1163811 2015-02-25   February 25 2015  \n",
       "1163812 2015-08-26     August 26 2015  \n",
       "1163813 2015-03-15      March 15 2015  \n",
       "1163814 2015-06-12       June 12 2015  \n",
       "1163815 2015-09-14  September 14 2015  \n",
       "\n",
       "[1163816 rows x 33 columns]"
      ]
     },
     "execution_count": 32,
     "metadata": {},
     "output_type": "execute_result"
    }
   ],
   "source": [
    "newdate = []\n",
    "for i in flights['Date']:\n",
    "    date = arrow.get(i)\n",
    "    date = date.format('MMMM D YYYY')\n",
    "    newdate.append(date)\n",
    "flights[\"Formatted Date\"] = newdate\n",
    "flights"
   ]
  },
  {
   "cell_type": "code",
   "execution_count": 33,
   "metadata": {},
   "outputs": [
    {
     "name": "stdout",
     "output_type": "stream",
     "text": [
      "2021-05-13T00:00:00+00:00\n"
     ]
    }
   ],
   "source": [
    "date = arrow.get(\"I can't believe I'm graduating May 13 2021.\", \"MMMM D YYYY\")\n",
    "print(date)"
   ]
  },
  {
   "cell_type": "code",
   "execution_count": null,
   "metadata": {},
   "outputs": [],
   "source": []
  }
 ],
 "metadata": {
  "kernelspec": {
   "display_name": "Python 3",
   "language": "python",
   "name": "python3"
  },
  "language_info": {
   "codemirror_mode": {
    "name": "ipython",
    "version": 3
   },
   "file_extension": ".py",
   "mimetype": "text/x-python",
   "name": "python",
   "nbconvert_exporter": "python",
   "pygments_lexer": "ipython3",
   "version": "3.8.5"
  }
 },
 "nbformat": 4,
 "nbformat_minor": 4
}
