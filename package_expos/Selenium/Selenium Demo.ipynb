{
 "cells": [
  {
   "cell_type": "code",
   "execution_count": 26,
   "metadata": {},
   "outputs": [],
   "source": [
    "#install for the first time\n",
    "#pip install selenium\n",
    "from selenium import webdriver"
   ]
  },
  {
   "cell_type": "code",
   "execution_count": 27,
   "metadata": {},
   "outputs": [],
   "source": [
    "#need to download the proper browser web driver for Selenium to work\n",
    "#driver = webdriver.Firefox(executable_path=r'C:\\Users\\liz\\Downloads\\geckodriver-v0.29.1-win64\\geckodriver.exe')"
   ]
  },
  {
   "cell_type": "code",
   "execution_count": 50,
   "metadata": {},
   "outputs": [],
   "source": [
    "#setting the web driver path to the correct location to be able to be used\n",
    "driver = webdriver.Firefox(executable_path=r'C:\\Users\\liz\\Downloads\\geckodriver-v0.29.1-win64\\geckodriver.exe')\n",
    "\n",
    "#open a web browser with the selected url\n",
    "driver.get(\"http://ec2-54-83-131-121.compute-1.amazonaws.com:8090/AmortizationApp/\")"
   ]
  },
  {
   "cell_type": "code",
   "execution_count": 51,
   "metadata": {},
   "outputs": [],
   "source": [
    "#storing elements\n",
    "principal = driver.find_element_by_name('principal')\n",
    "apr = driver.find_element_by_name('apr')\n",
    "term = driver.find_element_by_name('term')\n",
    "submit = driver.find_element_by_xpath(\"/html/body/form/table/tbody/tr[4]/td/input\")\n",
    "\n",
    "#inputting data into the page\n",
    "principal.send_keys(\"50000\")\n",
    "apr.send_keys(\"5\")\n",
    "term.send_keys(\"5\")\n",
    "\n",
    "#stimulating a click on the page\n",
    "submit.click()"
   ]
  },
  {
   "cell_type": "code",
   "execution_count": 68,
   "metadata": {},
   "outputs": [
    {
     "name": "stdout",
     "output_type": "stream",
     "text": [
      "Month Monthly Payment Monthly Interest Payment Monthly Principal Payment Monthly Balance\n",
      "1 $943.56 $208.33 $735.23 $49,264.77\n",
      "2 $943.56 $205.27 $738.29 $48,526.48\n",
      "3 $943.56 $202.19 $741.37 $47,785.11\n",
      "4 $943.56 $199.10 $744.46 $47,040.65\n",
      "5 $943.56 $196.00 $747.56 $46,293.10\n",
      "6 $943.56 $192.89 $750.67 $45,542.42\n",
      "7 $943.56 $189.76 $753.80 $44,788.62\n",
      "8 $943.56 $186.62 $756.94 $44,031.68\n",
      "9 $943.56 $183.47 $760.10 $43,271.58\n",
      "10 $943.56 $180.30 $763.26 $42,508.32\n",
      "11 $943.56 $177.12 $766.44 $41,741.87\n",
      "12 $943.56 $173.92 $769.64 $40,972.24\n",
      "13 $943.56 $170.72 $772.84 $40,199.39\n",
      "14 $943.56 $167.50 $776.06 $39,423.33\n",
      "15 $943.56 $164.26 $779.30 $38,644.03\n",
      "16 $943.56 $161.02 $782.54 $37,861.49\n",
      "17 $943.56 $157.76 $785.81 $37,075.68\n",
      "18 $943.56 $154.48 $789.08 $36,286.60\n",
      "19 $943.56 $151.19 $792.37 $35,494.23\n",
      "20 $943.56 $147.89 $795.67 $34,698.56\n",
      "21 $943.56 $144.58 $798.98 $33,899.58\n",
      "22 $943.56 $141.25 $802.31 $33,097.27\n",
      "23 $943.56 $137.91 $805.66 $32,291.61\n",
      "24 $943.56 $134.55 $809.01 $31,482.60\n",
      "25 $943.56 $131.18 $812.38 $30,670.21\n",
      "26 $943.56 $127.79 $815.77 $29,854.44\n",
      "27 $943.56 $124.39 $819.17 $29,035.28\n",
      "28 $943.56 $120.98 $822.58 $28,212.69\n",
      "29 $943.56 $117.55 $826.01 $27,386.69\n",
      "30 $943.56 $114.11 $829.45 $26,557.24\n",
      "31 $943.56 $110.66 $832.91 $25,724.33\n",
      "32 $943.56 $107.18 $836.38 $24,887.95\n",
      "33 $943.56 $103.70 $839.86 $24,048.09\n",
      "34 $943.56 $100.20 $843.36 $23,204.73\n",
      "35 $943.56 $96.69 $846.88 $22,357.85\n",
      "36 $943.56 $93.16 $850.40 $21,507.45\n",
      "37 $943.56 $89.61 $853.95 $20,653.50\n",
      "38 $943.56 $86.06 $857.51 $19,796.00\n",
      "39 $943.56 $82.48 $861.08 $18,934.92\n",
      "40 $943.56 $78.90 $864.67 $18,070.25\n",
      "41 $943.56 $75.29 $868.27 $17,201.98\n",
      "42 $943.56 $71.67 $871.89 $16,330.10\n",
      "43 $943.56 $68.04 $875.52 $15,454.58\n",
      "44 $943.56 $64.39 $879.17 $14,575.41\n",
      "45 $943.56 $60.73 $882.83 $13,692.58\n",
      "46 $943.56 $57.05 $886.51 $12,806.07\n",
      "47 $943.56 $53.36 $890.20 $11,915.87\n",
      "48 $943.56 $49.65 $893.91 $11,021.95\n",
      "49 $943.56 $45.92 $897.64 $10,124.32\n",
      "50 $943.56 $42.18 $901.38 $9,222.94\n",
      "51 $943.56 $38.43 $905.13 $8,317.81\n",
      "52 $943.56 $34.66 $908.90 $7,408.90\n",
      "53 $943.56 $30.87 $912.69 $6,496.21\n",
      "54 $943.56 $27.07 $916.49 $5,579.72\n",
      "55 $943.56 $23.25 $920.31 $4,659.40\n",
      "56 $943.56 $19.41 $924.15 $3,735.26\n",
      "57 $943.56 $15.56 $928.00 $2,807.26\n",
      "58 $943.56 $11.70 $931.86 $1,875.39\n",
      "59 $943.56 $7.81 $935.75 $939.65\n",
      "60 $943.56 $3.92 $939.65 -$0.00\n"
     ]
    }
   ],
   "source": [
    "table = driver.find_element_by_xpath('/html/body/center/table')\n",
    "print(table.text)"
   ]
  },
  {
   "cell_type": "code",
   "execution_count": 49,
   "metadata": {},
   "outputs": [],
   "source": [
    "#closing the browser\n",
    "driver.close()"
   ]
  },
  {
   "cell_type": "code",
   "execution_count": null,
   "metadata": {},
   "outputs": [],
   "source": []
  }
 ],
 "metadata": {
  "kernelspec": {
   "display_name": "Python 3",
   "language": "python",
   "name": "python3"
  },
  "language_info": {
   "codemirror_mode": {
    "name": "ipython",
    "version": 3
   },
   "file_extension": ".py",
   "mimetype": "text/x-python",
   "name": "python",
   "nbconvert_exporter": "python",
   "pygments_lexer": "ipython3",
   "version": "3.8.5"
  }
 },
 "nbformat": 4,
 "nbformat_minor": 4
}
