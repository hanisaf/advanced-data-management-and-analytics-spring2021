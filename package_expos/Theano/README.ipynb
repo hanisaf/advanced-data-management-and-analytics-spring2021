{
 "cells": [
  {
   "cell_type": "markdown",
   "metadata": {},
   "source": [
    "# Theano\n",
    "\n",
    "## Presentation\n",
    "\n",
    "You can find our presentation [here](https://youtu.be/3k1dLsMf85M).\n",
    "\n",
    "## Summary of the Support Files\n",
    "\n",
    "- 'TheanoDemo.ipynb': Our demo notebook containing the code used in presentation's walkthrough\n",
    "- 'TheanoTest.csv': Our demo notebook's test dataset\n",
    "\n",
    "## Guide\n",
    "\n",
    "Theano allows users to define, optimize and evaluate mathematical expressions involving multi-dimensional arrays. \n",
    "\n",
    "Developed by the Montreal Institute of Learning Algorithms at the Université de Montréal and first released in 2007, Theano is one of the most widely used libraries for deep learning. It can be downloaded [here](https://pypi.org/project/Theano/) from PyPi. \n",
    "\n",
    "To properly use Theano with the demo video, make sure to prepare the following as well:\n",
    "- NumPy\n",
    "- SciPy\n",
    "- PyDot"
   ]
  },
  {
   "cell_type": "markdown",
   "metadata": {},
   "source": []
  }
 ],
 "metadata": {
  "kernelspec": {
   "display_name": "Python 3",
   "language": "python",
   "name": "python3"
  },
  "language_info": {
   "codemirror_mode": {
    "name": "ipython",
    "version": 3
   },
   "file_extension": ".py",
   "mimetype": "text/x-python",
   "name": "python",
   "nbconvert_exporter": "python",
   "pygments_lexer": "ipython3",
   "version": "3.8.5"
  }
 },
 "nbformat": 4,
 "nbformat_minor": 4
}
