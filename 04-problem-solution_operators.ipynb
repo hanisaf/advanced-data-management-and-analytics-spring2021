{
 "cells": [
  {
   "cell_type": "markdown",
   "metadata": {},
   "source": [
    "Below are the grade distribution in one UGA class\n",
    "Create a histogram, like the one below"
   ]
  },
  {
   "cell_type": "raw",
   "metadata": {},
   "source": [
    "A  **********\n",
    "A- *****\n",
    "B+ ******\n",
    "B  ******\n",
    "B- ****\n",
    "C+ ***\n",
    "C  *\n",
    "C- \n",
    "D  \n",
    "F  *"
   ]
  },
  {
   "cell_type": "code",
   "execution_count": 1,
   "metadata": {},
   "outputs": [],
   "source": [
    "a = 10 #10 students got a grade of a\n",
    "a_minus = 5 #5 students got a grade of a-\n",
    "b_plus = 6 \n",
    "b = 6\n",
    "b_minus = 4\n",
    "c_plus = 3\n",
    "c = 1\n",
    "c_minus = 0\n",
    "d = 0\n",
    "f = 1"
   ]
  },
  {
   "cell_type": "code",
   "execution_count": 2,
   "metadata": {},
   "outputs": [],
   "source": [
    "a_s = \"A  \" + a*'*'\n",
    "a_minus_s = \"A- \" + a_minus*'*'\n",
    "b_plus_s = \"B+ \" + b_plus*'*'\n",
    "b_s = \"B  \" + b*'*'\n",
    "b_minus_s = \"B- \" + b_minus*'*'\n",
    "c_plus_s = \"C+ \" + c_plus*'*'\n",
    "c_s = \"C  \" + c*'*'\n",
    "c_minus_s = \"C- \" + c_minus*'*'\n",
    "d_s = \"D  \" + d*'*'\n",
    "f_s = \"F  \" + f*'*'\n"
   ]
  },
  {
   "cell_type": "markdown",
   "metadata": {},
   "source": [
    "## Approach 1"
   ]
  },
  {
   "cell_type": "code",
   "execution_count": 3,
   "metadata": {},
   "outputs": [
    {
     "name": "stdout",
     "output_type": "stream",
     "text": [
      "A  **********\n",
      "A- *****\n",
      "B+ ******\n",
      "B  ******\n",
      "B- ****\n",
      "C+ ***\n",
      "C  *\n",
      "C- \n",
      "D  \n",
      "F  *\n"
     ]
    }
   ],
   "source": [
    "print(a_s)\n",
    "print(a_minus_s)\n",
    "print(b_plus_s)\n",
    "print(b_s)\n",
    "print(b_minus_s)\n",
    "print(c_plus_s)\n",
    "print(c_s)\n",
    "print(c_minus_s)\n",
    "print(d_s)\n",
    "print(f_s)"
   ]
  },
  {
   "cell_type": "markdown",
   "metadata": {},
   "source": [
    "## Approach 2\n",
    "\n",
    "Combine all lines in one variable separated by new lines `\\n` and then print"
   ]
  },
  {
   "cell_type": "code",
   "execution_count": 4,
   "metadata": {},
   "outputs": [],
   "source": [
    "histogram = a_s + '\\n' + a_minus_s + '\\n' + b_plus_s + '\\n' + b_s + '\\n' + b_minus_s + '\\n' + c_plus_s + '\\n' + c_s + '\\n' + c_minus_s + '\\n' + d_s + '\\n' + f_s "
   ]
  },
  {
   "cell_type": "code",
   "execution_count": 5,
   "metadata": {},
   "outputs": [
    {
     "name": "stdout",
     "output_type": "stream",
     "text": [
      "A  **********\n",
      "A- *****\n",
      "B+ ******\n",
      "B  ******\n",
      "B- ****\n",
      "C+ ***\n",
      "C  *\n",
      "C- \n",
      "D  \n",
      "F  *\n"
     ]
    }
   ],
   "source": [
    "print(histogram)"
   ]
  },
  {
   "cell_type": "code",
   "execution_count": null,
   "metadata": {},
   "outputs": [],
   "source": []
  }
 ],
 "metadata": {
  "kernelspec": {
   "display_name": "Python 3",
   "language": "python",
   "name": "python3"
  },
  "language_info": {
   "codemirror_mode": {
    "name": "ipython",
    "version": 3
   },
   "file_extension": ".py",
   "mimetype": "text/x-python",
   "name": "python",
   "nbconvert_exporter": "python",
   "pygments_lexer": "ipython3",
   "version": "3.8.5"
  }
 },
 "nbformat": 4,
 "nbformat_minor": 4
}
