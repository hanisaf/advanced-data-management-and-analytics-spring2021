{
 "cells": [
  {
   "cell_type": "code",
   "execution_count": 2,
   "metadata": {},
   "outputs": [],
   "source": [
    "import pandas as pd\n",
    "import numpy as np"
   ]
  },
  {
   "cell_type": "code",
   "execution_count": 3,
   "metadata": {},
   "outputs": [],
   "source": [
    "data = [{'City': 'Kirkwood', 'State': 'MO', 'Zip': '63122', 'Income': '842711'}, {'City': 'Saint Louis', 'State': 'MO', 'Zip': '63108', 'Income': '780412'}, {'City': 'Kirkwood', 'State': 'MO', 'Zip': '63122', 'Income': '41924'}, {'City': 'U City', 'State': 'MO', 'Zip': '63130', 'Income': '719394'}, {'City': 'Saint Louis', 'State': 'MO', 'Zip': '63110', 'Income': '273406'}, {'City': 'Saint Louis', 'State': 'MO', 'Zip': '63110', 'Income': '477025'}, {'City': 'Saint Louis', 'State': 'MO', 'Zip': '63110', 'Income': '533929'}, {'City': 'Kirkwood', 'State': 'MO', 'Zip': '63122', 'Income': '350840'}, {'City': 'Saint Louis', 'State': 'MO', 'Zip': '63108', 'Income': '386011'}, {'City': 'Kirkwood', 'State': 'MO', 'Zip': '63122', 'Income': '601569'}, {'City': 'U City', 'State': 'MO', 'Zip': '63130', 'Income': '79496'}, {'City': 'Saint Louis', 'State': 'MO', 'Zip': '63110', 'Income': '278006'}, {'City': 'Saint Louis', 'State': 'MO', 'Zip': '63110', 'Income': '67963'}, {'City': 'Saint Louis', 'State': 'MO', 'Zip': '63110', 'Income': '480613'}, {'City': 'Kirkwood', 'State': 'MO', 'Zip': '63122', 'Income': '370803'}, {'City': 'Saint Louis', 'State': 'MO', 'Zip': '63108', 'Income': '613963'}, {'City': 'Kirkwood', 'State': 'MO', 'Zip': '63122', 'Income': '54130'}, {'City': 'U City', 'State': 'MO', 'Zip': '63130', 'Income': '394805'}, {'City': 'Saint Louis', 'State': 'M0', 'Zip': '63110', 'Income': '338788'}, {'City': 'Saint Louis', 'State': 'MO', 'Zip': '63110', 'Income': '518334'}, {'City': 'Saint Louis', 'State': 'MO', 'Zip': '63110', 'Income': '979554'}, {'City': 'kirkwood', 'State': 'MO', 'Zip': '63122', 'Income': '640675'}, {'City': 'Saint Louis', 'State': 'MO', 'Zip': '631o8', 'Income': '263677'}, {'City': 'Kirkwood', 'State': 'MO', 'Zip': '63122', 'Income': '728727'}, {'City': 'U City', 'State': 'MO', 'Zip': '63130', 'Income': '256780'}, {'City': 'Saint Louis', 'State': 'MO', 'Zip': '63110', 'Income': '84284'}, {'City': 'Saint Louis', 'State': 'MO', 'Zip': '63110', 'Income': '867721'}, {'City': 'Saint Louis', 'State': 'MO', 'Zip': '63110', 'Income': '785886'}, {'City': 'Kirkwood', 'State': 'MO', 'Zip': '63122', 'Income': '135528'}, {'City': 'Saint Louis', 'State': 'MO', 'Zip': '63108', 'Income': '897005'}, {'City': 'Kirkwood', 'State': 'MO', 'Zip': '63122', 'Income': '850568'}, {'City': 'U City', 'State': 'MO', 'Zip': '63130', 'Income': '314870'}, {'City': 'Saint Louis', 'State': 'mo', 'Zip': '63110', 'Income': '735704'}, {'City': 'Saint Louis', 'State': 'MO', 'Zip': '63110', 'Income': '468759'}, {'City': 'saint louis', 'State': 'MO', 'Zip': '63110', 'Income': '485499'}, {'City': 'Kirkwood', 'State': 'MO', 'Zip': '63122', 'Income': '223582'}, {'City': 'Saint Louis', 'State': 'MO', 'Zip': '63108', 'Income': '984475'}, {'City': 'Kirkwood', 'State': 'MO', 'Zip': '63122', 'Income': '224892'}, {'City': 'U City', 'State': 'MO', 'Zip': '63130', 'Income': '945438'}, {'City': 'Saint Louis', 'State': 'MO', 'Zip': '63110', 'Income': '242228'}, {'City': 'Saint Louis', 'State': 'MO', 'Zip': '63110', 'Income': '675569'}, {'City': 'Saint Louis', 'State': 'MO', 'Zip': '63110', 'Income': '809887'}, {'City': 'Kirkwood', 'State': 'MO', 'Zip': '63122', 'Income': '457095'}, {'City': 'Kirkwood', 'State': 'MO', 'Zip': '63123', 'Income': '802479'}, {'City': 'Kirkwood', 'State': 'MO', 'Zip': '63124', 'Income': '953993'}, {'City': 'Kirkwood', 'State': 'MO', 'Zip': '63125', 'Income': '268044'}, {'City': 'Kirkwood', 'State': 'MO', 'Zip': '63126', 'Income': '149765'}, {'City': 'Kirkwood', 'State': 'MO', 'Zip': '63127', 'Income': '29783'}, {'City': 'Kirkwood', 'State': 'MO', 'Zip': '63128', 'Income': '416247'}, {'City': 'Kirkwood', 'State': 'MO', 'Zip': '63129', 'Income': '933001'}, {'City': 'Kirkwood', 'State': 'MO', 'Zip': '6313X', 'Income': '516733'}, {'City': 'Kirkwood', 'State': 'MO', 'Zip': '63131', 'Income': '209980'}, {'City': 'U City', 'State': 'MO', 'Zip': '63131', 'Income': '779844'}, {'City': 'Saint Louis', 'State': 'MO', 'Zip': '63131', 'Income': '279732'}, {'City': 'Saint Louis', 'State': 'MO', 'Zip': '63131', 'Income': '449682'}, {'City': 'Saint Louis', 'State': 'MO', 'Zip': '63131', 'Income': '745449'}, {'City': 'KIRKWOOD', 'State': 'MO', 'Zip': '63131', 'Income': '65797'}, {'City': 'Saint Louis', 'State': 'MO', 'Zip': '63131', 'Income': '1538nn'}, {'City': 'Kirkwood', 'State': 'MO', 'Zip': '63131', 'Income': '950713'}, {'City': 'U City', 'State': 'MO', 'Zip': '63131', 'Income': '350738'}, {'City': 'Saint Louis', 'State': 'MO', 'Zip': '63131', 'Income': '857845'}, {'City': 'Saint Louis', 'State': 'MO', 'Zip': '63131', 'Income': '716629'}, {'City': 'Saint Louis', 'State': 'MO', 'Zip': '63131', 'Income': '299394'}, {'City': 'Kirkwood', 'State': 'MO', 'Zip': '63131', 'Income': '845559'}, {'City': 'Saint Louis', 'State': 'MO', 'Zip': '63131', 'Income': '715647'}, {'City': 'Kirkwood', 'State': 'MO', 'Zip': '63131', 'Income': '698171'}, {'City': 'U City', 'State': 'MO', 'Zip': '63131', 'Income': '449146'}, {'City': 'Saint Louis', 'State': 'MO', 'Zip': '63131', 'Income': '771438'}, {'City': 'Saint Louis', 'State': 'MO', 'Zip': '63131', 'Income': '894131'}, {'City': 'Saint Louis', 'State': 'MO', 'Zip': '63131', 'Income': '225024'}, {'City': 'Kirkwood', 'State': 'MO', 'Zip': '63131', 'Income': '709049'}, {'City': 'Saint Louis', 'State': 'MO', 'Zip': '63131', 'Income': '912193'}, {'City': 'Kirkwood', 'State': 'MO', 'Zip': '63131', 'Income': '404430'}, {'City': 'U City', 'State': 'MO', 'Zip': '63131', 'Income': '32016'}, {'City': 'Saint Louis', 'State': 'MO', 'Zip': '63131', 'Income': '301580'}, {'City': 'Saint Louis', 'State': 'MO', 'Zip': '63131', 'Income': '817085'}, {'City': 'Saint Louis', 'State': 'MO', 'Zip': '63131', 'Income': '823890'}, {'City': 'Kirkwood', 'State': 'MO', 'Zip': '63131', 'Income': '680976'}, {'City': 'Saint Louis', 'State': 'MO', 'Zip': '63131', 'Income': '346918'}, {'City': 'Kirkwood', 'State': 'MO', 'Zip': '63131', 'Income': '550041'}, {'City': 'U City', 'State': 'MO', 'Zip': '63131', 'Income': '392842'}, {'City': 'Saint Louis', 'State': 'MO', 'Zip': '63131', 'Income': '148017'}, {'City': 'Saint Louis', 'State': 'MO', 'Zip': '63131', 'Income': '525076'}, {'City': 'Saint Louis', 'State': 'MO', 'Zip': '63131', 'Income': '58363'}, {'City': 'Kirkwood', 'State': 'MO', 'Zip': '63131', 'Income': '838320'}, {'City': 'Saint Louis', 'State': 'MO', 'Zip': '63131', 'Income': '318148'}, {'City': 'Kirkwood', 'State': 'MO', 'Zip': '63131', 'Income': '256102'}, {'City': 'U City', 'State': 'MO', 'Zip': '63131', 'Income': '958737'}, {'City': 'Saint Louis', 'State': 'MO', 'Zip': '63131', 'Income': '153484'}, {'City': 'Saint Louis', 'State': 'MO', 'Zip': '63131', 'Income': '887116'}, {'City': 'Saint Louis', 'State': 'MO', 'Zip': '63131', 'Income': '99928'}, {'City': 'Kirkwood', 'State': 'MO', 'Zip': '63131', 'Income': '73989'}, {'City': 'Saint Louis', 'State': 'MO', 'Zip': '63131', 'Income': '425779'}, {'City': 'Kirkwood', 'State': 'MO', 'Zip': '63131', 'Income': '784345'}, {'City': 'U City', 'State': 'MO', 'Zip': '63131', 'Income': '582669'}, {'City': 'Saint Louis', 'State': 'MO', 'Zip': '63131', 'Income': '28013'}, {'City': 'Saint Louis', 'State': 'MO', 'Zip': '63131', 'Income': '75185'}, {'City': 'Saint Louis', 'State': 'MO', 'Zip': '63131', 'Income': '791295'}, {'City': 'Kirkwood', 'State': 'MO', 'Zip': '63131', 'Income': '866714'}, {'City': 'Saint Louis', 'State': 'MO', 'Zip': '63131', 'Income': '593427'}, {'City': 'Kirkwood', 'State': 'MO', 'Zip': '63131', 'Income': '497884'}, {'City': 'U City', 'State': 'MO', 'Zip': '63131', 'Income': '321411'}, {'City': 'Saint Louis', 'State': 'MO', 'Zip': '63131', 'Income': '901691'}, {'City': 'Saint Louis', 'State': 'MO', 'Zip': '63131', 'Income': '688629'}, {'City': 'Saint Louis', 'State': 'MO', 'Zip': '63131', 'Income': '735805'}, {'City': 'Kirkwood', 'State': 'MO', 'Zip': '63131', 'Income': '996374'}, {'City': 'Saint Louis', 'State': 'MO', 'Zip': '63131', 'Income': '715421'}, {'City': 'Kirkwood', 'State': 'MO', 'Zip': '63131', 'Income': '271566'}, {'City': 'U City', 'State': 'MO', 'Zip': '63131', 'Income': '119366'}, {'City': 'Saint Louis', 'State': 'MO', 'Zip': '63131', 'Income': '942727'}, {'City': 'Saint Louis', 'State': 'MO', 'Zip': '63131', 'Income': '446689'}, {'City': 'Saint Louis', 'State': 'MO', 'Zip': '63131', 'Income': '58427'}, {'City': 'Kirkwood', 'State': 'MO', 'Zip': '63131', 'Income': '343765'}, {'City': 'Saint Louis', 'State': 'MO', 'Zip': '63131', 'Income': '738578'}, {'City': 'Kirkwood', 'State': 'MO', 'Zip': '63131', 'Income': '377531'}, {'City': 'U City', 'State': 'MO', 'Zip': '63131', 'Income': '777953'}, {'City': 'Saint Louis', 'State': 'MO', 'Zip': '63131', 'Income': '275088'}, {'City': 'Saint Louis', 'State': 'MO', 'Zip': '63131', 'Income': '113063'}, {'City': 'Saint Louis', 'State': 'MO', 'Zip': '63131', 'Income': '614558'}, {'City': 'Kirkwood', 'State': 'MO', 'Zip': '63131', 'Income': '856373'}, {'City': 'Saint Louis', 'State': 'MO', 'Zip': '63131', 'Income': '70331'}, {'City': 'Kirkwood', 'State': 'MO', 'Zip': '63131', 'Income': '378194'}, {'City': 'U City', 'State': 'MO', 'Zip': '63131', 'Income': '341612'}, {'City': 'Saint Louis', 'State': 'MO', 'Zip': '63131', 'Income': '901243'}, {'City': 'Saint Louis', 'State': 'MO', 'Zip': '63131', 'Income': '621410'}, {'City': 'Saint Louis', 'State': 'MO', 'Zip': '63131', 'Income': '385146'}, {'City': 'Kirkwood', 'State': 'MO', 'Zip': '63131', 'Income': '389227'}, {'City': 'Saint Louis', 'State': 'MO', 'Zip': '63131', 'Income': '507587'}, {'City': 'Kirkwood', 'State': 'MO', 'Zip': '63131', 'Income': '740263'}, {'City': 'U City', 'State': 'MO', 'Zip': '63131', 'Income': '496464'}, {'City': 'Saint Louis', 'State': 'MO', 'Zip': '63131', 'Income': '941830'}, {'City': 'Saint Louis', 'State': 'MO', 'Zip': '63131', 'Income': '198702'}, {'City': 'Saint Louis', 'State': 'MO', 'Zip': '63131', 'Income': '841121'}, {'City': 'Kirkwood', 'State': 'MO', 'Zip': '63131', 'Income': '206672'}, {'City': 'Saint Louis', 'State': 'MO', 'Zip': '63131', 'Income': '534528'}, {'City': 'Kirkwood', 'State': 'MO', 'Zip': '63131', 'Income': '124721'}, {'City': 'U City', 'State': 'MO', 'Zip': '63131', 'Income': '37549'}, {'City': 'Saint Louis', 'State': 'MO', 'Zip': '63131', 'Income': '608675'}, {'City': 'Saint Louis', 'State': 'MO', 'Zip': '63131', 'Income': '286071'}, {'City': 'Saint Louis', 'State': 'MO', 'Zip': '63131', 'Income': '365390'}, {'City': 'Kirkwood', 'State': 'MO', 'Zip': '63131', 'Income': '194456'}, {'City': 'Saint Louis', 'State': 'MO', 'Zip': '63131', 'Income': '93617'}, {'City': 'Kirkwood', 'State': 'MO', 'Zip': '63131', 'Income': '349889'}, {'City': 'U City', 'State': 'MO', 'Zip': '63131', 'Income': '69577'}, {'City': 'Saint Louis', 'State': 'MO', 'Zip': '63131', 'Income': '535024'}, {'City': 'Saint Louis', 'State': 'MO', 'Zip': '63131', 'Income': '787295'}, {'City': 'Saint Louis', 'State': 'MO', 'Zip': '63131', 'Income': '207190'}, {'City': 'Kirkwood', 'State': 'MO', 'Zip': '63131', 'Income': '958984'}, {'City': 'Saint Louis', 'State': 'MO', 'Zip': '63131', 'Income': '650110'}, {'City': 'Kirkwood', 'State': 'MO', 'Zip': '63131', 'Income': '295215'}, {'City': 'U City', 'State': 'MO', 'Zip': '63131', 'Income': '417949'}, {'City': 'Saint Louis', 'State': 'MO', 'Zip': '63131', 'Income': '327146'}, {'City': 'Saint Louis', 'State': 'MO', 'Zip': '63131', 'Income': '659956'}, {'City': 'Saint Louis', 'State': 'MO', 'Zip': '63131', 'Income': '511729'}, {'City': 'Kirkwood', 'State': 'MO', 'Zip': '63131', 'Income': '766046'}, {'City': 'Saint Louis', 'State': 'MO', 'Zip': '63131', 'Income': '895272'}, {'City': 'Kirkwood', 'State': 'MO', 'Zip': '63131', 'Income': '486185'}, {'City': 'U City', 'State': 'MO', 'Zip': '63131', 'Income': '237809'}, {'City': 'Saint Louis', 'State': 'MO', 'Zip': '63131', 'Income': '268912'}, {'City': 'Saint Louis', 'State': 'MO', 'Zip': '63131', 'Income': '928339'}, {'City': 'Saint Louis', 'State': 'MO', 'Zip': '63131', 'Income': '368050'}, {'City': 'Kirkwood', 'State': 'MO', 'Zip': '63131', 'Income': '612166'}, {'City': 'Saint Louis', 'State': 'MO', 'Zip': '63131', 'Income': '233068'}, {'City': 'Kirkwood', 'State': 'MO', 'Zip': '63131', 'Income': '53045'}, {'City': 'U City', 'State': 'MO', 'Zip': '63131', 'Income': '143555'}, {'City': 'Saint Louis', 'State': 'MO', 'Zip': '63131', 'Income': '425380'}, {'City': 'Saint Louis', 'State': 'MO', 'Zip': '63131', 'Income': '755990'}, {'City': 'Saint Louis', 'State': 'MO', 'Zip': '63131', 'Income': '865542'}, {'City': 'Kirkwood', 'State': 'MO', 'Zip': '63131', 'Income': '323856'}, {'City': 'Saint Louis', 'State': 'MO', 'Zip': '63131', 'Income': '625613'}, {'City': 'Kirkwood', 'State': 'MO', 'Zip': '63131', 'Income': '471396'}, {'City': 'U City', 'State': 'MO', 'Zip': '63131', 'Income': '928140'}, {'City': 'Saint Louis', 'State': 'MO', 'Zip': '63131', 'Income': '230186'}, {'City': 'Saint Louis', 'State': 'MO', 'Zip': '63131', 'Income': '756482'}, {'City': 'Saint Louis', 'State': 'MO', 'Zip': '63131', 'Income': '655205'}, {'City': 'Kirkwood', 'State': 'MO', 'Zip': '63131', 'Income': '714793'}, {'City': 'Saint Louis', 'State': 'MO', 'Zip': '63131', 'Income': '438611'}, {'City': 'Kirkwood', 'State': 'MO', 'Zip': '63131', 'Income': '755662'}, {'City': 'U City', 'State': 'MO', 'Zip': '63131', 'Income': '174682'}, {'City': 'Saint Louis', 'State': 'MO', 'Zip': '63131', 'Income': '328154'}, {'City': 'Saint Louis', 'State': 'MO', 'Zip': '63131', 'Income': '676315'}, {'City': 'Saint Louis', 'State': 'MO', 'Zip': '63131', 'Income': '316414'}, {'City': 'Kirkwood', 'State': 'MO', 'Zip': '63131', 'Income': '677062'}, {'City': 'Saint Louis', 'State': 'MO', 'Zip': '63131', 'Income': '675394'}, {'City': 'Kirkwood', 'State': 'MO', 'Zip': '63131', 'Income': '282420'}, {'City': 'U City', 'State': 'MO', 'Zip': '63131', 'Income': '529550'}, {'City': 'Saint Louis', 'State': 'MO', 'Zip': '63131', 'Income': '695780'}, {'City': 'Saint Louis', 'State': 'MO', 'Zip': '63131', 'Income': '280253'}, {'City': 'Saint Louis', 'State': 'MO', 'Zip': '63131', 'Income': '124519'}, {'City': 'Kirkwood', 'State': 'MO', 'Zip': '63131', 'Income': '805547'}, {'City': 'Saint Louis', 'State': 'MO', 'Zip': '63131', 'Income': '292497'}, {'City': 'Kirkwood', 'State': 'MO', 'Zip': '63131', 'Income': '564701'}, {'City': 'U City', 'State': 'MO', 'Zip': '63131', 'Income': '632087'}, {'City': 'Saint Louis', 'State': 'MO', 'Zip': '63131', 'Income': '112534'}, {'City': 'Saint Louis', 'State': 'MO', 'Zip': '63131', 'Income': '200036'}, {'City': 'Saint Louis', 'State': 'MO', 'Zip': '63131', 'Income': '602850'}, {'City': 'Kirkwood', 'State': 'MO', 'Zip': '63131', 'Income': '116028'}, {'City': 'Saint Louis', 'State': 'MO', 'Zip': '63131', 'Income': '584063'}, {'City': 'Kirkwood', 'State': 'MO', 'Zip': '63131', 'Income': '97752'}, {'City': 'U City', 'State': 'MO', 'Zip': '63131', 'Income': '320760'}, {'City': 'Saint Louis', 'State': 'MO', 'Zip': '63131', 'Income': '480908'}, {'City': 'Saint Louis', 'State': 'MO', 'Zip': '63131', 'Income': '858038'}, {'City': 'Saint Louis', 'State': 'MO', 'Zip': '63131', 'Income': '38168'}, {'City': 'Kirkwood', 'State': 'MO', 'Zip': '63131', 'Income': '360009'}, {'City': 'Saint Louis', 'State': 'MO', 'Zip': '63131', 'Income': '448970'}, {'City': 'Kirkwood', 'State': 'MO', 'Zip': '63131', 'Income': '911428'}, {'City': 'U City', 'State': 'MO', 'Zip': '63131', 'Income': '250492'}, {'City': 'Saint Louis', 'State': 'MO', 'Zip': '63131', 'Income': '998573'}, {'City': 'Saint Louis', 'State': 'MO', 'Zip': '63131', 'Income': '671350'}, {'City': 'Saint Louis', 'State': 'MO', 'Zip': '63131', 'Income': '507391'}, {'City': 'Kirkwood', 'State': 'MO', 'Zip': '63131', 'Income': '523514'}, {'City': 'Saint Louis', 'State': 'MO', 'Zip': '63131', 'Income': '91420'}, {'City': 'Kirkwood', 'State': 'MO', 'Zip': '63131', 'Income': '223390'}, {'City': 'U City', 'State': 'MO', 'Zip': '63131', 'Income': '458245'}, {'City': 'Saint Louis', 'State': 'MO', 'Zip': '63131', 'Income': '870760'}, {'City': 'Saint Louis', 'State': 'MO', 'Zip': '63131', 'Income': '587589'}, {'City': 'Saint Louis', 'State': 'MO', 'Zip': '63131', 'Income': '772091'}, {'City': 'Kirkwood', 'State': 'MO', 'Zip': '63131', 'Income': '971823'}, {'City': 'Saint Louis', 'State': 'MO', 'Zip': '63131', 'Income': '677793'}, {'City': 'Kirkwood', 'State': 'MO', 'Zip': '63131', 'Income': '766183'}, {'City': 'U City', 'State': 'MO', 'Zip': '63131', 'Income': '204730'}, {'City': 'Saint Louis', 'State': 'MO', 'Zip': '63131', 'Income': '225014'}, {'City': 'Saint Louis', 'State': 'MO', 'Zip': '63131', 'Income': '819773'}, {'City': 'Saint Louis', 'State': 'MO', 'Zip': '63131', 'Income': '200054'}, {'City': 'Kirkwood', 'State': 'MO', 'Zip': '63131', 'Income': '868185'}, {'City': 'Saint Louis', 'State': 'MO', 'Zip': '63131', 'Income': '294643'}, {'City': 'Kirkwood', 'State': 'MO', 'Zip': '63131', 'Income': '433294'}, {'City': 'U City', 'State': 'MO', 'Zip': '63131', 'Income': '384728'}, {'City': 'Saint Louis', 'State': 'MO', 'Zip': '63131', 'Income': '305157'}, {'City': 'Saint Louis', 'State': 'MO', 'Zip': '63131', 'Income': '108925'}, {'City': 'Saint Louis', 'State': 'MO', 'Zip': '63131', 'Income': '614158'}, {'City': 'Kirkwood', 'State': 'MO', 'Zip': '63131', 'Income': '988650'}, {'City': 'Saint Louis', 'State': 'MO', 'Zip': '63131', 'Income': '347923'}, {'City': 'Kirkwood', 'State': 'MO', 'Zip': '63131', 'Income': '166994'}, {'City': 'U City', 'State': 'MO', 'Zip': '63131', 'Income': '367649'}, {'City': 'Saint Louis', 'State': 'MO', 'Zip': '63131', 'Income': '875991'}, {'City': 'Saint Louis', 'State': 'MO', 'Zip': '63131', 'Income': '368130'}, {'City': 'Saint Louis', 'State': 'MO', 'Zip': '63131', 'Income': '530484'}, {'City': 'Kirkwood', 'State': 'MO', 'Zip': '63131', 'Income': '907809'}, {'City': 'Saint Louis', 'State': 'MO', 'Zip': '63131', 'Income': '263433'}, {'City': 'Kirkwood', 'State': 'MO', 'Zip': '63131', 'Income': '455794'}, {'City': 'U City', 'State': 'MO', 'Zip': '63131', 'Income': '159905'}, {'City': 'Saint Louis', 'State': 'MO', 'Zip': '63131', 'Income': '229748'}, {'City': 'Saint Louis', 'State': 'MO', 'Zip': '63131', 'Income': '330031'}, {'City': 'Saint Louis', 'State': 'MO', 'Zip': '63131', 'Income': '854223'}, {'City': 'Kirkwood', 'State': 'MO', 'Zip': '63131', 'Income': '772307'}, {'City': 'Saint Louis', 'State': 'MO', 'Zip': '63131', 'Income': '224826'}, {'City': 'Kirkwood', 'State': 'MO', 'Zip': '63131', 'Income': '398068'}, {'City': 'U City', 'State': 'MO', 'Zip': '63131', 'Income': '394676'}, {'City': 'Saint Louis', 'State': 'MO', 'Zip': '63131', 'Income': '658287'}, {'City': 'Saint Louis', 'State': 'MO', 'Zip': '63131', 'Income': '904138'}, {'City': 'Saint Louis', 'State': 'MO', 'Zip': '63131', 'Income': '973497'}, {'City': 'Kirkwood', 'State': 'MO', 'Zip': '63131', 'Income': '398025'}, {'City': 'Saint Louis', 'State': 'MO', 'Zip': '63131', 'Income': '832894'}, {'City': 'Kirkwood', 'State': 'MO', 'Zip': '63131', 'Income': '342437'}, {'City': 'U City', 'State': 'MO', 'Zip': '63131', 'Income': '944975'}, {'City': 'Saint Louis', 'State': 'MO', 'Zip': '63131', 'Income': '635571'}, {'City': 'Saint Louis', 'State': 'MO', 'Zip': '63131', 'Income': '271451'}, {'City': 'Saint Louis', 'State': 'MO', 'Zip': '63131', 'Income': '970195'}, {'City': 'Kirkwood', 'State': 'MO', 'Zip': '63131', 'Income': '957289'}, {'City': 'Saint Louis', 'State': 'MO', 'Zip': '63131', 'Income': '902575'}, {'City': 'Kirkwood', 'State': 'MO', 'Zip': '63131', 'Income': '436550'}, {'City': 'U City', 'State': 'MO', 'Zip': '63131', 'Income': '844384'}, {'City': 'Saint Louis', 'State': 'MO', 'Zip': '63131', 'Income': '996959'}, {'City': 'Saint Louis', 'State': 'MO', 'Zip': '63131', 'Income': '894683'}, {'City': 'Saint Louis', 'State': 'MO', 'Zip': '63131', 'Income': '947923'}, {'City': 'Kirkwood', 'State': 'MO', 'Zip': '63131', 'Income': '560023'}, {'City': 'Saint Louis', 'State': 'MO', 'Zip': '63131', 'Income': '859739'}, {'City': 'Kirkwood', 'State': 'MO', 'Zip': '63131', 'Income': '293334'}, {'City': 'U City', 'State': 'MO', 'Zip': '63131', 'Income': '189281'}, {'City': 'Saint Louis', 'State': 'MO', 'Zip': '63131', 'Income': '857630'}, {'City': 'Saint Louis', 'State': 'MO', 'Zip': '63131', 'Income': '389422'}, {'City': 'Saint Louis', 'State': 'MO', 'Zip': '63131', 'Income': '552482'}, {'City': 'Kirkwood', 'State': 'MO', 'Zip': '63131', 'Income': '885747'}, {'City': 'Saint Louis', 'State': 'MO', 'Zip': '63131', 'Income': '707787'}, {'City': 'Kirkwood', 'State': 'MO', 'Zip': '63131', 'Income': '919959'}, {'City': 'U City', 'State': 'MO', 'Zip': '63131', 'Income': '493081'}, {'City': 'Saint Louis', 'State': 'MO', 'Zip': '63131', 'Income': '115751'}, {'City': 'Saint Louis', 'State': 'MO', 'Zip': '63131', 'Income': '662793'}, {'City': 'Saint Louis', 'State': 'MO', 'Zip': '63131', 'Income': '297023'}, {'City': 'Kirkwood', 'State': 'MO', 'Zip': '63131', 'Income': '836748'}, {'City': 'Saint Louis', 'State': 'MO', 'Zip': '63131', 'Income': '661787'}, {'City': 'Kirkwood', 'State': 'MO', 'Zip': '63131', 'Income': '778201'}, {'City': 'U City', 'State': 'MO', 'Zip': '63131', 'Income': '71338'}, {'City': 'Saint Louis', 'State': 'MO', 'Zip': '63131', 'Income': '164641'}, {'City': 'Saint Louis', 'State': 'MO', 'Zip': '63131', 'Income': '816982'}, {'City': 'Saint Louis', 'State': 'MO', 'Zip': '63131', 'Income': '550778'}, {'City': 'Kirkwood', 'State': 'MO', 'Zip': '63131', 'Income': '557175'}, {'City': 'Saint Louis', 'State': 'MO', 'Zip': '63131', 'Income': '882775'}, {'City': 'Kirkwood', 'State': 'MO', 'Zip': '63131', 'Income': '256740'}, {'City': 'U City', 'State': 'MO', 'Zip': '63131', 'Income': '339890'}, {'City': 'Saint Louis', 'State': 'MO', 'Zip': '63131', 'Income': '74235'}, {'City': 'Saint Louis', 'State': 'MO', 'Zip': '63131', 'Income': '653443'}, {'City': 'Saint Louis', 'State': 'MO', 'Zip': '63131', 'Income': '396753'}, {'City': 'Kirkwood', 'State': 'MO', 'Zip': '63131', 'Income': '984762'}, {'City': 'Saint Louis', 'State': 'MO', 'Zip': '63131', 'Income': '877539'}, {'City': 'Kirkwood', 'State': 'MO', 'Zip': '63131', 'Income': '933008'}, {'City': 'U City', 'State': 'MO', 'Zip': '63131', 'Income': '73434'}, {'City': 'Saint Louis', 'State': 'MO', 'Zip': '63131', 'Income': '132613'}, {'City': 'Saint Louis', 'State': 'MO', 'Zip': '63131', 'Income': '212232'}, {'City': 'Saint Louis', 'State': 'MO', 'Zip': '63131', 'Income': '336598'}, {'City': 'Kirkwood', 'State': 'MO', 'Zip': '63131', 'Income': '671490'}, {'City': 'Saint Louis', 'State': 'MO', 'Zip': '63131', 'Income': '780717'}, {'City': 'Kirkwood', 'State': 'MO', 'Zip': '63131', 'Income': '162175'}, {'City': 'U City', 'State': 'MO', 'Zip': '63131', 'Income': '940812'}, {'City': 'Saint Louis', 'State': 'MO', 'Zip': '63131', 'Income': '577640'}, {'City': 'Saint Louis', 'State': 'MO', 'Zip': '63131', 'Income': '905606'}, {'City': 'Saint Louis', 'State': 'MO', 'Zip': '63131', 'Income': '828798'}, {'City': 'Kirkwood', 'State': 'MO', 'Zip': '63131', 'Income': '748801'}, {'City': 'Saint Louis', 'State': 'MO', 'Zip': '63131', 'Income': '262506'}, {'City': 'Kirkwood', 'State': 'MO', 'Zip': '63131', 'Income': '78868'}, {'City': 'U City', 'State': 'MO', 'Zip': '63131', 'Income': '850577'}, {'City': 'Saint Louis', 'State': 'MO', 'Zip': '63131', 'Income': '542249'}, {'City': 'Saint Louis', 'State': 'MO', 'Zip': '63131', 'Income': '830279'}, {'City': 'Saint Louis', 'State': 'MO', 'Zip': '63131', 'Income': '717221'}, {'City': 'Kirkwood', 'State': 'MO', 'Zip': '63131', 'Income': '539006'}, {'City': 'Saint Louis', 'State': 'MO', 'Zip': '63131', 'Income': '193226'}, {'City': 'Kirkwood', 'State': 'MO', 'Zip': '63131', 'Income': '598485'}, {'City': 'U City', 'State': 'MO', 'Zip': '63131', 'Income': '445448'}, {'City': 'Saint Louis', 'State': 'MO', 'Zip': '63131', 'Income': '974736'}, {'City': 'Saint Louis', 'State': 'MO', 'Zip': '63131', 'Income': '660676'}, {'City': 'Saint Louis', 'State': 'MO', 'Zip': '63131', 'Income': '559458'}, {'City': 'Kirkwood', 'State': 'MO', 'Zip': '63131', 'Income': '386289'}, {'City': 'Saint Louis', 'State': 'MO', 'Zip': '63131', 'Income': '189543'}, {'City': 'Kirkwood', 'State': 'MO', 'Zip': '63131', 'Income': '480505'}, {'City': 'U City', 'State': 'MO', 'Zip': '63131', 'Income': '963216'}, {'City': 'Saint Louis', 'State': 'MO', 'Zip': '63131', 'Income': '802991'}, {'City': 'Saint Louis', 'State': 'MO', 'Zip': '63131', 'Income': '819109'}, {'City': 'Saint Louis', 'State': 'MO', 'Zip': '63131', 'Income': '895580'}, {'City': 'Kirkwood', 'State': 'MO', 'Zip': '63131', 'Income': '47202'}, {'City': 'Saint Louis', 'State': 'MO', 'Zip': '63131', 'Income': '357217'}, {'City': 'Kirkwood', 'State': 'MO', 'Zip': '63131', 'Income': '153844'}, {'City': 'U City', 'State': 'MO', 'Zip': '63131', 'Income': '757556'}, {'City': 'Saint Louis', 'State': 'MO', 'Zip': '63131', 'Income': '979374'}, {'City': 'Saint Louis', 'State': 'MO', 'Zip': '63131', 'Income': '103683'}, {'City': 'Saint Louis', 'State': 'MO', 'Zip': '63131', 'Income': '881649'}, {'City': 'Kirkwood', 'State': 'MO', 'Zip': '63131', 'Income': '372093'}, {'City': 'Saint Louis', 'State': 'MO', 'Zip': '63131', 'Income': '54811'}, {'City': 'Kirkwood', 'State': 'MO', 'Zip': '63131', 'Income': '460689'}, {'City': 'U City', 'State': 'MO', 'Zip': '63131', 'Income': '75345'}, {'City': 'Saint Louis', 'State': 'MO', 'Zip': '63131', 'Income': '820454'}, {'City': 'Saint Louis', 'State': 'MO', 'Zip': '63131', 'Income': '869726'}, {'City': 'Saint Louis', 'State': 'MO', 'Zip': '63131', 'Income': '402132'}, {'City': 'Kirkwood', 'State': 'MO', 'Zip': '63131', 'Income': '467370'}, {'City': 'Saint Louis', 'State': 'MO', 'Zip': '63131', 'Income': '757224'}, {'City': 'Kirkwood', 'State': 'MO', 'Zip': '63131', 'Income': '851794'}, {'City': 'U City', 'State': 'MO', 'Zip': '63131', 'Income': '976096'}, {'City': 'Saint Louis', 'State': 'MO', 'Zip': '63131', 'Income': '929064'}, {'City': 'Saint Louis', 'State': 'MO', 'Zip': '63131', 'Income': '851251'}, {'City': 'Saint Louis', 'State': 'MO', 'Zip': '63131', 'Income': '553285'}, {'City': 'Kirkwood', 'State': 'MO', 'Zip': '63131', 'Income': '803742'}, {'City': 'Saint Louis', 'State': 'MO', 'Zip': '63131', 'Income': '189419'}, {'City': 'Kirkwood', 'State': 'MO', 'Zip': '63131', 'Income': '292859'}, {'City': 'U City', 'State': 'MO', 'Zip': '63131', 'Income': '871773'}, {'City': 'Saint Louis', 'State': 'MO', 'Zip': '63131', 'Income': '96056'}, {'City': 'Saint Louis', 'State': 'MO', 'Zip': '63131', 'Income': '577677'}, {'City': 'Saint Louis', 'State': 'MO', 'Zip': '63131', 'Income': '638191'}, {'City': 'Kirkwood', 'State': 'MO', 'Zip': '63131', 'Income': '327580'}, {'City': 'Saint Louis', 'State': 'MO', 'Zip': '63131', 'Income': '114354'}, {'City': 'Kirkwood', 'State': 'MO', 'Zip': '63131', 'Income': '640130'}, {'City': 'U City', 'State': 'MO', 'Zip': '63131', 'Income': '418141'}, {'City': 'Saint Louis', 'State': 'MO', 'Zip': '63131', 'Income': '139489'}, {'City': 'Saint Louis', 'State': 'MO', 'Zip': '63131', 'Income': '746360'}, {'City': 'Saint Louis', 'State': 'MO', 'Zip': '63131', 'Income': '951241'}, {'City': 'Kirkwood', 'State': 'MO', 'Zip': '63131', 'Income': '600353'}, {'City': 'Saint Louis', 'State': 'MO', 'Zip': '63131', 'Income': '500245'}, {'City': 'Kirkwood', 'State': 'MO', 'Zip': '63131', 'Income': '588307'}, {'City': 'U City', 'State': 'MO', 'Zip': '63131', 'Income': '694896'}, {'City': 'Saint Louis', 'State': 'MO', 'Zip': '63131', 'Income': '318646'}, {'City': 'Saint Louis', 'State': 'MO', 'Zip': '63131', 'Income': '826652'}, {'City': 'Saint Louis', 'State': 'MO', 'Zip': '63131', 'Income': '181398'}, {'City': 'Kirkwood', 'State': 'MO', 'Zip': '63131', 'Income': '193928'}, {'City': 'Saint Louis', 'State': 'MO', 'Zip': '63131', 'Income': '751150'}, {'City': 'Kirkwood', 'State': 'MO', 'Zip': '63131', 'Income': '622133'}, {'City': 'U City', 'State': 'MO', 'Zip': '63131', 'Income': '268930'}, {'City': 'Saint Louis', 'State': 'MO', 'Zip': '63131', 'Income': '968419'}, {'City': 'Saint Louis', 'State': 'MO', 'Zip': '63131', 'Income': '985659'}, {'City': 'Saint Louis', 'State': 'MO', 'Zip': '63131', 'Income': '133695'}, {'City': 'Kirkwood', 'State': 'MO', 'Zip': '63131', 'Income': '859186'}, {'City': 'Saint Louis', 'State': 'MO', 'Zip': '63131', 'Income': '87236'}, {'City': 'Kirkwood', 'State': 'MO', 'Zip': '63131', 'Income': '948002'}, {'City': 'U City', 'State': 'MO', 'Zip': '63131', 'Income': '771469'}, {'City': 'Saint Louis', 'State': 'MO', 'Zip': '63131', 'Income': '461519'}, {'City': 'Saint Louis', 'State': 'MO', 'Zip': '63131', 'Income': '281204'}, {'City': 'Saint Louis', 'State': 'MO', 'Zip': '63131', 'Income': '902624'}, {'City': 'Kirkwood', 'State': 'MO', 'Zip': '63131', 'Income': '564249'}, {'City': 'Saint Louis', 'State': 'MO', 'Zip': '63131', 'Income': '613448'}, {'City': 'Kirkwood', 'State': 'MO', 'Zip': '63131', 'Income': '352458'}, {'City': 'U City', 'State': 'MO', 'Zip': '63131', 'Income': '272975'}, {'City': 'Saint Louis', 'State': 'MO', 'Zip': '63131', 'Income': '897119'}, {'City': 'Saint Louis', 'State': 'MO', 'Zip': '63131', 'Income': '137123'}, {'City': 'Saint Louis', 'State': 'MO', 'Zip': '63131', 'Income': '180801'}, {'City': 'Kirkwood', 'State': 'MO', 'Zip': '63131', 'Income': '96476'}, {'City': 'Saint Louis', 'State': 'MO', 'Zip': '63131', 'Income': '636387'}, {'City': 'Kirkwood', 'State': 'MO', 'Zip': '63131', 'Income': '199630'}, {'City': 'U City', 'State': 'MO', 'Zip': '63131', 'Income': '896153'}, {'City': 'Saint Louis', 'State': 'MO', 'Zip': '63131', 'Income': '701941'}, {'City': 'Saint Louis', 'State': 'MO', 'Zip': '63131', 'Income': '339382'}, {'City': 'Saint Louis', 'State': 'MO', 'Zip': '63131', 'Income': '248649'}, {'City': 'Kirkwood', 'State': 'MO', 'Zip': '63131', 'Income': '804016'}, {'City': 'Saint Louis', 'State': 'MO', 'Zip': '63131', 'Income': '143430'}, {'City': 'Kirkwood', 'State': 'MO', 'Zip': '63131', 'Income': '393334'}, {'City': 'U City', 'State': 'MO', 'Zip': '63131', 'Income': '308347'}, {'City': 'Saint Louis', 'State': 'MO', 'Zip': '63131', 'Income': '593200'}, {'City': 'Saint Louis', 'State': 'MO', 'Zip': '63131', 'Income': '676565'}, {'City': 'Saint Louis', 'State': 'MO', 'Zip': '63131', 'Income': '213934'}, {'City': 'Kirkwood', 'State': 'MO', 'Zip': '63131', 'Income': '562158'}, {'City': 'Saint Louis', 'State': 'MO', 'Zip': '63131', 'Income': '542685'}, {'City': 'Kirkwood', 'State': 'MO', 'Zip': '63131', 'Income': '903136'}, {'City': 'U City', 'State': 'MO', 'Zip': '63131', 'Income': '343789'}, {'City': 'Saint Louis', 'State': 'MO', 'Zip': '63131', 'Income': '452688'}, {'City': 'Saint Louis', 'State': 'MO', 'Zip': '63131', 'Income': '676720'}, {'City': 'Saint Louis', 'State': 'MO', 'Zip': '63131', 'Income': '379390'}, {'City': 'Kirkwood', 'State': 'MO', 'Zip': '63131', 'Income': '564089'}, {'City': 'Saint Louis', 'State': 'MO', 'Zip': '63131', 'Income': '436608'}, {'City': 'Kirkwood', 'State': 'MO', 'Zip': '63131', 'Income': '412714'}, {'City': 'U City', 'State': 'MO', 'Zip': '63131', 'Income': '819418'}, {'City': 'Saint Louis', 'State': 'MO', 'Zip': '63131', 'Income': '814543'}, {'City': 'Saint Louis', 'State': 'MO', 'Zip': '63131', 'Income': '876721'}, {'City': 'Saint Louis', 'State': 'MO', 'Zip': '63131', 'Income': '631832'}, {'City': 'Kirkwood', 'State': 'MO', 'Zip': '63131', 'Income': '273637'}, {'City': 'Saint Louis', 'State': 'MO', 'Zip': '63131', 'Income': '448946'}, {'City': 'Kirkwood', 'State': 'MO', 'Zip': '63131', 'Income': '876611'}, {'City': 'U City', 'State': 'MO', 'Zip': '63131', 'Income': '158046'}, {'City': 'Saint Louis', 'State': 'MO', 'Zip': '63131', 'Income': '246828'}, {'City': 'Saint Louis', 'State': 'MO', 'Zip': '63131', 'Income': '121943'}, {'City': 'Saint Louis', 'State': 'MO', 'Zip': '63131', 'Income': '312403'}, {'City': 'Kirkwood', 'State': 'MO', 'Zip': '63131', 'Income': '701743'}, {'City': 'Saint Louis', 'State': 'MO', 'Zip': '63131', 'Income': '51897'}, {'City': 'Kirkwood', 'State': 'MO', 'Zip': '63131', 'Income': '166179'}, {'City': 'U City', 'State': 'MO', 'Zip': '63131', 'Income': '59733'}, {'City': 'Saint Louis', 'State': 'MO', 'Zip': '63131', 'Income': '122098'}, {'City': 'Saint Louis', 'State': 'MO', 'Zip': '63131', 'Income': '831538'}, {'City': 'Saint Louis', 'State': 'MO', 'Zip': '63131', 'Income': '112721'}, {'City': 'Kirkwood', 'State': 'MO', 'Zip': '63131', 'Income': '548575'}, {'City': 'Saint Louis', 'State': 'MO', 'Zip': '63131', 'Income': '609654'}, {'City': 'Kirkwood', 'State': 'MO', 'Zip': '63131', 'Income': '464583'}, {'City': 'U City', 'State': 'MO', 'Zip': '63131', 'Income': '278464'}, {'City': 'Saint Louis', 'State': 'MO', 'Zip': '63131', 'Income': '234802'}, {'City': 'Saint Louis', 'State': 'MO', 'Zip': '63131', 'Income': '451560'}, {'City': 'Saint Louis', 'State': 'MO', 'Zip': '63131', 'Income': '396097'}, {'City': 'Kirkwood', 'State': 'MO', 'Zip': '63131', 'Income': '921801'}, {'City': 'Saint Louis', 'State': 'MO', 'Zip': '63131', 'Income': '462984'}, {'City': 'Kirkwood', 'State': 'MO', 'Zip': '63131', 'Income': '261706'}, {'City': 'U City', 'State': 'MO', 'Zip': '63131', 'Income': '791272'}, {'City': 'Saint Louis', 'State': 'MO', 'Zip': '63131', 'Income': '750050'}, {'City': 'Saint Louis', 'State': 'MO', 'Zip': '63131', 'Income': '210712'}, {'City': 'Saint Louis', 'State': 'MO', 'Zip': '63131', 'Income': '163832'}, {'City': 'Kirkwood', 'State': 'MO', 'Zip': '63131', 'Income': '64359'}, {'City': 'Saint Louis', 'State': 'MO', 'Zip': '63131', 'Income': '174382'}, {'City': 'Kirkwood', 'State': 'MO', 'Zip': '63131', 'Income': '756859'}, {'City': 'U City', 'State': 'MO', 'Zip': '63131', 'Income': '270678'}, {'City': 'Saint Louis', 'State': 'MO', 'Zip': '63131', 'Income': '820444'}, {'City': 'Saint Louis', 'State': 'MO', 'Zip': '63131', 'Income': '239068'}, {'City': 'Saint Louis', 'State': 'MO', 'Zip': '63131', 'Income': '104464'}, {'City': 'Kirkwood', 'State': 'MO', 'Zip': '63131', 'Income': '658828'}, {'City': 'Saint Louis', 'State': 'MO', 'Zip': '63131', 'Income': '263052'}, {'City': 'Kirkwood', 'State': 'MO', 'Zip': '63131', 'Income': '192418'}, {'City': 'U City', 'State': 'MO', 'Zip': '63131', 'Income': '268537'}, {'City': 'Saint Louis', 'State': 'MO', 'Zip': '63131', 'Income': '283590'}, {'City': 'Saint Louis', 'State': 'MO', 'Zip': '63131', 'Income': '97991'}, {'City': 'Saint Louis', 'State': 'MO', 'Zip': '63131', 'Income': '248961'}, {'City': 'Kirkwood', 'State': 'MO', 'Zip': '63131', 'Income': '278192'}, {'City': 'Saint Louis', 'State': 'MO', 'Zip': '63131', 'Income': '674342'}, {'City': 'Kirkwood', 'State': 'MO', 'Zip': '63131', 'Income': '306732'}, {'City': 'U City', 'State': 'MO', 'Zip': '63131', 'Income': '74351'}, {'City': 'Saint Louis', 'State': 'MO', 'Zip': '63131', 'Income': '332290'}, {'City': 'Saint Louis', 'State': 'MO', 'Zip': '63131', 'Income': '463354'}, {'City': 'Saint Louis', 'State': 'MO', 'Zip': '63131', 'Income': '676512'}, {'City': 'Kirkwood', 'State': 'MO', 'Zip': '63131', 'Income': '445866'}, {'City': 'Saint Louis', 'State': 'MO', 'Zip': '63131', 'Income': '451673'}, {'City': 'Kirkwood', 'State': 'MO', 'Zip': '63131', 'Income': '98692'}, {'City': 'U City', 'State': 'MO', 'Zip': '63131', 'Income': '321950'}, {'City': 'Saint Louis', 'State': 'MO', 'Zip': '63131', 'Income': '953121'}, {'City': 'Saint Louis', 'State': 'MO', 'Zip': '63131', 'Income': '246024'}, {'City': 'Saint Louis', 'State': 'MO', 'Zip': '63131', 'Income': '544077'}, {'City': 'Kirkwood', 'State': 'MO', 'Zip': '63131', 'Income': '919812'}, {'City': 'Saint Louis', 'State': 'MO', 'Zip': '63131', 'Income': '953573'}, {'City': 'Kirkwood', 'State': 'MO', 'Zip': '63131', 'Income': '955656'}, {'City': 'U City', 'State': 'MO', 'Zip': '63131', 'Income': '259502'}, {'City': 'Saint Louis', 'State': 'MO', 'Zip': '63131', 'Income': '530148'}, {'City': 'Saint Louis', 'State': 'MO', 'Zip': '63131', 'Income': '425772'}, {'City': 'Saint Louis', 'State': 'MO', 'Zip': '63131', 'Income': '544777'}, {'City': 'Kirkwood', 'State': 'MO', 'Zip': '63131', 'Income': '961492'}, {'City': 'Saint Louis', 'State': 'MO', 'Zip': '63131', 'Income': '196873'}, {'City': 'Kirkwood', 'State': 'MO', 'Zip': '63131', 'Income': '663961'}, {'City': 'U City', 'State': 'MO', 'Zip': '63131', 'Income': '138154'}, {'City': 'Saint Louis', 'State': 'MO', 'Zip': '63131', 'Income': '801360'}, {'City': 'Saint Louis', 'State': 'MO', 'Zip': '63131', 'Income': '539840'}, {'City': 'Saint Louis', 'State': 'MO', 'Zip': '63131', 'Income': '760630'}, {'City': 'Kirkwood', 'State': 'MO', 'Zip': '63131', 'Income': '247700'}, {'City': 'Saint Louis', 'State': 'MO', 'Zip': '63131', 'Income': '207504'}, {'City': 'Kirkwood', 'State': 'MO', 'Zip': '63131', 'Income': '53323'}, {'City': 'U City', 'State': 'MO', 'Zip': '63131', 'Income': '395358'}, {'City': 'Saint Louis', 'State': 'MO', 'Zip': '63131', 'Income': '714869'}, {'City': 'Saint Louis', 'State': 'MO', 'Zip': '63131', 'Income': '166674'}, {'City': 'Saint Louis', 'State': 'MO', 'Zip': '63131', 'Income': '561894'}, {'City': 'Kirkwood', 'State': 'MO', 'Zip': '63131', 'Income': '171096'}, {'City': 'Saint Louis', 'State': 'MO', 'Zip': '63131', 'Income': '100921'}, {'City': 'Kirkwood', 'State': 'MO', 'Zip': '63131', 'Income': '614899'}, {'City': 'U City', 'State': 'MO', 'Zip': '63131', 'Income': '385567'}, {'City': 'Saint Louis', 'State': 'MO', 'Zip': '63131', 'Income': '28568'}, {'City': 'Saint Louis', 'State': 'MO', 'Zip': '63131', 'Income': '390823'}, {'City': 'Saint Louis', 'State': 'MO', 'Zip': '63131', 'Income': '590717'}, {'City': 'Kirkwood', 'State': 'MO', 'Zip': '63131', 'Income': '42461'}, {'City': 'Saint Louis', 'State': 'MO', 'Zip': '63131', 'Income': '116253'}, {'City': 'Kirkwood', 'State': 'MO', 'Zip': '63131', 'Income': '588545'}, {'City': 'U City', 'State': 'MO', 'Zip': '63131', 'Income': '320543'}, {'City': 'Saint Louis', 'State': 'MO', 'Zip': '63131', 'Income': '289531'}, {'City': 'Saint Louis', 'State': 'MO', 'Zip': '63131', 'Income': '725614'}, {'City': 'Saint Louis', 'State': 'MO', 'Zip': '63131', 'Income': '480791'}, {'City': 'Kirkwood', 'State': 'MO', 'Zip': '63131', 'Income': '354685'}, {'City': 'Saint Louis', 'State': 'MO', 'Zip': '63131', 'Income': '433683'}, {'City': 'Kirkwood', 'State': 'MO', 'Zip': '63131', 'Income': '680864'}, {'City': 'U City', 'State': 'MO', 'Zip': '63131', 'Income': '301771'}, {'City': 'Saint Louis', 'State': 'MO', 'Zip': '63131', 'Income': '948182'}, {'City': 'Saint Louis', 'State': 'MO', 'Zip': '63131', 'Income': '238878'}, {'City': 'Saint Louis', 'State': 'MO', 'Zip': '63131', 'Income': '466500'}, {'City': 'Kirkwood', 'State': 'MO', 'Zip': '63131', 'Income': '827353'}, {'City': 'Saint Louis', 'State': 'MO', 'Zip': '63131', 'Income': '850768'}, {'City': 'Kirkwood', 'State': 'MO', 'Zip': '63131', 'Income': '275063'}, {'City': 'U City', 'State': 'MO', 'Zip': '63131', 'Income': '476727'}, {'City': 'Saint Louis', 'State': 'MO', 'Zip': '63131', 'Income': '418249'}, {'City': 'Saint Louis', 'State': 'MO', 'Zip': '63131', 'Income': '117031'}, {'City': 'Saint Louis', 'State': 'MO', 'Zip': '63131', 'Income': '136787'}, {'City': 'Kirkwood', 'State': 'MO', 'Zip': '63131', 'Income': '803322'}, {'City': 'Saint Louis', 'State': 'MO', 'Zip': '63131', 'Income': '363848'}, {'City': 'Kirkwood', 'State': 'MO', 'Zip': '63131', 'Income': '290060'}, {'City': 'U City', 'State': 'MO', 'Zip': '63131', 'Income': '474072'}, {'City': 'Saint Louis', 'State': 'MO', 'Zip': '63131', 'Income': '596668'}, {'City': 'Saint Louis', 'State': 'MO', 'Zip': '63131', 'Income': '829707'}, {'City': 'Saint Louis', 'State': 'MO', 'Zip': '63131', 'Income': '820932'}, {'City': 'Kirkwood', 'State': 'MO', 'Zip': '63131', 'Income': '259923'}, {'City': 'Saint Louis', 'State': 'MO', 'Zip': '63131', 'Income': '299006'}, {'City': 'Kirkwood', 'State': 'MO', 'Zip': '63131', 'Income': '849394'}, {'City': 'U City', 'State': 'MO', 'Zip': '63131', 'Income': '278940'}, {'City': 'Saint Louis', 'State': 'MO', 'Zip': '63131', 'Income': '251421'}, {'City': 'Saint Louis', 'State': 'MO', 'Zip': '63131', 'Income': '135860'}, {'City': 'Saint Louis', 'State': 'MO', 'Zip': '63131', 'Income': '618784'}, {'City': 'Kirkwood', 'State': 'MO', 'Zip': '63131', 'Income': '890108'}, {'City': 'Saint Louis', 'State': 'MO', 'Zip': '63131', 'Income': '436680'}, {'City': 'Kirkwood', 'State': 'MO', 'Zip': '63131', 'Income': '824848'}, {'City': 'U City', 'State': 'MO', 'Zip': '63131', 'Income': '120381'}, {'City': 'Saint Louis', 'State': 'MO', 'Zip': '63131', 'Income': '61473'}, {'City': 'Saint Louis', 'State': 'MO', 'Zip': '63131', 'Income': '429905'}, {'City': 'Saint Louis', 'State': 'MO', 'Zip': '63131', 'Income': '647110'}, {'City': 'Kirkwood', 'State': 'MO', 'Zip': '63131', 'Income': '575994'}, {'City': 'Saint Louis', 'State': 'MO', 'Zip': '63131', 'Income': '516886'}, {'City': 'Kirkwood', 'State': 'MO', 'Zip': '63131', 'Income': '998839'}, {'City': 'U City', 'State': 'MO', 'Zip': '63131', 'Income': '63057'}, {'City': 'Saint Louis', 'State': 'MO', 'Zip': '63131', 'Income': '515196'}, {'City': 'Saint Louis', 'State': 'MO', 'Zip': '63131', 'Income': '225696'}, {'City': 'Saint Louis', 'State': 'MO', 'Zip': '63131', 'Income': '893633'}, {'City': 'Kirkwood', 'State': 'MO', 'Zip': '63131', 'Income': '923268'}, {'City': 'Saint Louis', 'State': 'MO', 'Zip': '63131', 'Income': '804781'}, {'City': 'Kirkwood', 'State': 'MO', 'Zip': '63131', 'Income': '580603'}, {'City': 'U City', 'State': 'MO', 'Zip': '63131', 'Income': '289353'}, {'City': 'Saint Louis', 'State': 'MO', 'Zip': '63131', 'Income': '791095'}, {'City': 'Saint Louis', 'State': 'MO', 'Zip': '63131', 'Income': '807150'}, {'City': 'Saint Louis', 'State': 'MO', 'Zip': '63131', 'Income': '826465'}, {'City': 'Kirkwood', 'State': 'MO', 'Zip': '63131', 'Income': '211310'}, {'City': 'Saint Louis', 'State': 'MO', 'Zip': '63131', 'Income': '695673'}, {'City': 'Kirkwood', 'State': 'MO', 'Zip': '63131', 'Income': '912502'}, {'City': 'U City', 'State': 'MO', 'Zip': '63131', 'Income': '86953'}, {'City': 'Saint Louis', 'State': 'MO', 'Zip': '63131', 'Income': '164728'}, {'City': 'Saint Louis', 'State': 'MO', 'Zip': '63131', 'Income': '862933'}, {'City': 'Saint Louis', 'State': 'MO', 'Zip': '63131', 'Income': '292551'}, {'City': 'Kirkwood', 'State': 'MO', 'Zip': '63131', 'Income': '605255'}, {'City': 'Saint Louis', 'State': 'MO', 'Zip': '63131', 'Income': '744943'}, {'City': 'Kirkwood', 'State': 'MO', 'Zip': '63131', 'Income': '891107'}, {'City': 'U City', 'State': 'MO', 'Zip': '63131', 'Income': '498937'}, {'City': 'Saint Louis', 'State': 'MO', 'Zip': '63131', 'Income': '715103'}, {'City': 'Saint Louis', 'State': 'MO', 'Zip': '63131', 'Income': '788561'}, {'City': 'Saint Louis', 'State': 'MO', 'Zip': '63131', 'Income': '109350'}, {'City': 'Kirkwood', 'State': 'MO', 'Zip': '63131', 'Income': '283662'}, {'City': 'Saint Louis', 'State': 'MO', 'Zip': '63131', 'Income': '972265'}, {'City': 'Kirkwood', 'State': 'MO', 'Zip': '63131', 'Income': '706023'}, {'City': 'U City', 'State': 'MO', 'Zip': '63131', 'Income': '459347'}, {'City': 'Saint Louis', 'State': 'MO', 'Zip': '63131', 'Income': '409050'}, {'City': 'Saint Louis', 'State': 'MO', 'Zip': '63131', 'Income': '388023'}, {'City': 'Saint Louis', 'State': 'MO', 'Zip': '63131', 'Income': '450549'}, {'City': 'Kirkwood', 'State': 'MO', 'Zip': '63131', 'Income': '916248'}, {'City': 'Saint Louis', 'State': 'MO', 'Zip': '63131', 'Income': '576289'}, {'City': 'Kirkwood', 'State': 'MO', 'Zip': '63131', 'Income': '841138'}, {'City': 'U City', 'State': 'MO', 'Zip': '63131', 'Income': '511424'}, {'City': 'Saint Louis', 'State': 'MO', 'Zip': '63131', 'Income': '238398'}, {'City': 'Saint Louis', 'State': 'MO', 'Zip': '63131', 'Income': '339948'}, {'City': 'Saint Louis', 'State': 'MO', 'Zip': '63131', 'Income': '806784'}, {'City': 'Kirkwood', 'State': 'MO', 'Zip': '63131', 'Income': '293140'}, {'City': 'Saint Louis', 'State': 'MO', 'Zip': '63131', 'Income': '566377'}, {'City': 'Kirkwood', 'State': 'MO', 'Zip': '63131', 'Income': '730371'}, {'City': 'U City', 'State': 'MO', 'Zip': '63131', 'Income': '377569'}, {'City': 'Saint Louis', 'State': 'MO', 'Zip': '63131', 'Income': '988110'}, {'City': 'Saint Louis', 'State': 'MO', 'Zip': '63131', 'Income': '103082'}, {'City': 'Saint Louis', 'State': 'MO', 'Zip': '63131', 'Income': '609572'}, {'City': 'Kirkwood', 'State': 'MO', 'Zip': '63131', 'Income': '306341'}, {'City': 'Saint Louis', 'State': 'MO', 'Zip': '63131', 'Income': '883090'}, {'City': 'Kirkwood', 'State': 'MO', 'Zip': '63131', 'Income': '700355'}, {'City': 'U City', 'State': 'MO', 'Zip': '63131', 'Income': '428671'}, {'City': 'Saint Louis', 'State': 'MO', 'Zip': '63131', 'Income': '609925'}, {'City': 'Saint Louis', 'State': 'MO', 'Zip': '63131', 'Income': '345750'}, {'City': 'Saint Louis', 'State': 'MO', 'Zip': '63131', 'Income': '50297'}, {'City': 'Kirkwood', 'State': 'MO', 'Zip': '63131', 'Income': '442425'}, {'City': 'Saint Louis', 'State': 'MO', 'Zip': '63131', 'Income': '169749'}, {'City': 'Kirkwood', 'State': 'MO', 'Zip': '63131', 'Income': '195360'}, {'City': 'U City', 'State': 'MO', 'Zip': '63131', 'Income': '185237'}, {'City': 'Saint Louis', 'State': 'MO', 'Zip': '63131', 'Income': '574104'}, {'City': 'Saint Louis', 'State': 'MO', 'Zip': '63131', 'Income': '305074'}, {'City': 'Saint Louis', 'State': 'MO', 'Zip': '63131', 'Income': '507512'}, {'City': 'Kirkwood', 'State': 'MO', 'Zip': '63131', 'Income': '156380'}, {'City': 'Saint Louis', 'State': 'MO', 'Zip': '63131', 'Income': '727524'}, {'City': 'Kirkwood', 'State': 'MO', 'Zip': '63131', 'Income': '843921'}, {'City': 'U City', 'State': 'MO', 'Zip': '63131', 'Income': '370327'}, {'City': 'Saint Louis', 'State': 'MO', 'Zip': '63131', 'Income': '603567'}, {'City': 'Saint Louis', 'State': 'MO', 'Zip': '63131', 'Income': '848337'}, {'City': 'Saint Louis', 'State': 'MO', 'Zip': '63131', 'Income': '111338'}, {'City': 'Kirkwood', 'State': 'MO', 'Zip': '63131', 'Income': '991540'}, {'City': 'Saint Louis', 'State': 'MO', 'Zip': '63131', 'Income': '355306'}, {'City': 'Kirkwood', 'State': 'MO', 'Zip': '63131', 'Income': '484743'}, {'City': 'U City', 'State': 'MO', 'Zip': '63131', 'Income': '385364'}, {'City': 'Saint Louis', 'State': 'MO', 'Zip': '63131', 'Income': '122971'}, {'City': 'Saint Louis', 'State': 'MO', 'Zip': '63131', 'Income': '910675'}, {'City': 'Saint Louis', 'State': 'MO', 'Zip': '63131', 'Income': '735146'}, {'City': 'Kirkwood', 'State': 'MO', 'Zip': '63131', 'Income': '300638'}, {'City': 'Saint Louis', 'State': 'MO', 'Zip': '63131', 'Income': '323508'}, {'City': 'Kirkwood', 'State': 'MO', 'Zip': '63131', 'Income': '562693'}, {'City': 'U City', 'State': 'MO', 'Zip': '63131', 'Income': '36224'}, {'City': 'Saint Louis', 'State': 'MO', 'Zip': '63131', 'Income': '784808'}, {'City': 'Saint Louis', 'State': 'MO', 'Zip': '63131', 'Income': '511714'}, {'City': 'Saint Louis', 'State': 'MO', 'Zip': '63131', 'Income': '223991'}, {'City': 'Kirkwood', 'State': 'MO', 'Zip': '63131', 'Income': '561254'}, {'City': 'Saint Louis', 'State': 'MO', 'Zip': '63131', 'Income': '315523'}, {'City': 'Kirkwood', 'State': 'MO', 'Zip': '63131', 'Income': '951624'}, {'City': 'U City', 'State': 'MO', 'Zip': '63131', 'Income': '410866'}, {'City': 'Saint Louis', 'State': 'MO', 'Zip': '63131', 'Income': '661880'}, {'City': 'Saint Louis', 'State': 'MO', 'Zip': '63131', 'Income': '510826'}, {'City': 'Saint Louis', 'State': 'MO', 'Zip': '63131', 'Income': '716148'}, {'City': 'Kirkwood', 'State': 'MO', 'Zip': '63131', 'Income': '472909'}, {'City': 'Saint Louis', 'State': 'MO', 'Zip': '63131', 'Income': '52380'}, {'City': 'Kirkwood', 'State': 'MO', 'Zip': '63131', 'Income': '851386'}, {'City': 'U City', 'State': 'MO', 'Zip': '63131', 'Income': '292335'}, {'City': 'Saint Louis', 'State': 'MO', 'Zip': '63131', 'Income': '284422'}, {'City': 'Saint Louis', 'State': 'MO', 'Zip': '63131', 'Income': '359848'}, {'City': 'Saint Louis', 'State': 'MO', 'Zip': '63131', 'Income': '700857'}, {'City': 'Kirkwood', 'State': 'MO', 'Zip': '63131', 'Income': '640116'}, {'City': 'Saint Louis', 'State': 'MO', 'Zip': '63131', 'Income': '461768'}, {'City': 'Kirkwood', 'State': 'MO', 'Zip': '63131', 'Income': '552564'}, {'City': 'U City', 'State': 'MO', 'Zip': '63131', 'Income': '445892'}, {'City': 'Saint Louis', 'State': 'MO', 'Zip': '63131', 'Income': '357230'}, {'City': 'Saint Louis', 'State': 'MO', 'Zip': '63131', 'Income': '380006'}, {'City': 'Saint Louis', 'State': 'MO', 'Zip': '63131', 'Income': '61890'}, {'City': 'Kirkwood', 'State': 'MO', 'Zip': '63131', 'Income': '860976'}, {'City': 'Saint Louis', 'State': 'MO', 'Zip': '63131', 'Income': '656141'}, {'City': 'Kirkwood', 'State': 'MO', 'Zip': '63131', 'Income': '189449'}, {'City': 'U City', 'State': 'MO', 'Zip': '63131', 'Income': '510278'}, {'City': 'Saint Louis', 'State': 'MO', 'Zip': '63131', 'Income': '509534'}, {'City': 'Saint Louis', 'State': 'MO', 'Zip': '63131', 'Income': '628976'}, {'City': 'Saint Louis', 'State': 'MO', 'Zip': '63131', 'Income': '348413'}, {'City': 'Kirkwood', 'State': 'MO', 'Zip': '63131', 'Income': '430306'}, {'City': 'Saint Louis', 'State': 'MO', 'Zip': '63131', 'Income': '198714'}, {'City': 'Kirkwood', 'State': 'MO', 'Zip': '63131', 'Income': '354004'}, {'City': 'U City', 'State': 'MO', 'Zip': '63131', 'Income': '315277'}, {'City': 'Saint Louis', 'State': 'MO', 'Zip': '63131', 'Income': '101685'}, {'City': 'Saint Louis', 'State': 'MO', 'Zip': '63131', 'Income': '557859'}, {'City': 'Saint Louis', 'State': 'MO', 'Zip': '63131', 'Income': '885430'}, {'City': 'Kirkwood', 'State': 'MO', 'Zip': '63131', 'Income': '343776'}, {'City': 'Saint Louis', 'State': 'MO', 'Zip': '63131', 'Income': '868372'}, {'City': 'Kirkwood', 'State': 'MO', 'Zip': '63131', 'Income': '789011'}, {'City': 'U City', 'State': 'MO', 'Zip': '63131', 'Income': '474550'}, {'City': 'Saint Louis', 'State': 'MO', 'Zip': '63131', 'Income': '617633'}, {'City': 'Saint Louis', 'State': 'MO', 'Zip': '63131', 'Income': '929474'}, {'City': 'Saint Louis', 'State': 'MO', 'Zip': '63131', 'Income': '453795'}, {'City': 'Kirkwood', 'State': 'MO', 'Zip': '63131', 'Income': '805431'}, {'City': 'Saint Louis', 'State': 'MO', 'Zip': '63131', 'Income': '921275'}, {'City': 'Kirkwood', 'State': 'MO', 'Zip': '63131', 'Income': '850510'}, {'City': 'U City', 'State': 'MO', 'Zip': '63131', 'Income': '946962'}, {'City': 'Saint Louis', 'State': 'MO', 'Zip': '63131', 'Income': '593182'}, {'City': 'Saint Louis', 'State': 'MO', 'Zip': '63131', 'Income': '48173'}, {'City': 'Saint Louis', 'State': 'MO', 'Zip': '63131', 'Income': '340626'}, {'City': 'Kirkwood', 'State': 'MO', 'Zip': '63131', 'Income': '714084'}, {'City': 'Saint Louis', 'State': 'MO', 'Zip': '63131', 'Income': '29099'}, {'City': 'Kirkwood', 'State': 'MO', 'Zip': '63131', 'Income': '458610'}, {'City': 'U City', 'State': 'MO', 'Zip': '63131', 'Income': '735599'}, {'City': 'Saint Louis', 'State': 'MO', 'Zip': '63131', 'Income': '39983'}, {'City': 'Saint Louis', 'State': 'MO', 'Zip': '63131', 'Income': '947592'}, {'City': 'Saint Louis', 'State': 'MO', 'Zip': '63131', 'Income': '798253'}, {'City': 'Kirkwood', 'State': 'MO', 'Zip': '63131', 'Income': '940419'}, {'City': 'Saint Louis', 'State': 'MO', 'Zip': '63131', 'Income': '297048'}, {'City': 'Kirkwood', 'State': 'MO', 'Zip': '63131', 'Income': '161501'}, {'City': 'U City', 'State': 'MO', 'Zip': '63131', 'Income': '664479'}, {'City': 'Saint Louis', 'State': 'MO', 'Zip': '63131', 'Income': '584217'}, {'City': 'Saint Louis', 'State': 'MO', 'Zip': '63131', 'Income': '593350'}, {'City': 'Saint Louis', 'State': 'MO', 'Zip': '63131', 'Income': '112477'}, {'City': 'Kirkwood', 'State': 'MO', 'Zip': '63131', 'Income': '479160'}, {'City': 'Saint Louis', 'State': 'MO', 'Zip': '63131', 'Income': '754869'}, {'City': 'Kirkwood', 'State': 'MO', 'Zip': '63131', 'Income': '879573'}, {'City': 'U City', 'State': 'MO', 'Zip': '63131', 'Income': '704863'}, {'City': 'Saint Louis', 'State': 'MO', 'Zip': '63131', 'Income': '332876'}, {'City': 'Saint Louis', 'State': 'MO', 'Zip': '63131', 'Income': '402697'}, {'City': 'Saint Louis', 'State': 'MO', 'Zip': '63131', 'Income': '740998'}, {'City': 'Kirkwood', 'State': 'MO', 'Zip': '63131', 'Income': '807217'}, {'City': 'Saint Louis', 'State': 'MO', 'Zip': '63131', 'Income': '312696'}, {'City': 'Kirkwood', 'State': 'MO', 'Zip': '63131', 'Income': '383889'}, {'City': 'U City', 'State': 'MO', 'Zip': '63131', 'Income': '372301'}, {'City': 'Saint Louis', 'State': 'MO', 'Zip': '63131', 'Income': '721204'}, {'City': 'Saint Louis', 'State': 'MO', 'Zip': '63131', 'Income': '676532'}, {'City': 'Saint Louis', 'State': 'MO', 'Zip': '63131', 'Income': '670970'}, {'City': 'Kirkwood', 'State': 'MO', 'Zip': '63131', 'Income': '883203'}, {'City': 'Saint Louis', 'State': 'MO', 'Zip': '63131', 'Income': '625715'}, {'City': 'Kirkwood', 'State': 'MO', 'Zip': '63131', 'Income': '660331'}, {'City': 'U City', 'State': 'MO', 'Zip': '63131', 'Income': '87856'}, {'City': 'Saint Louis', 'State': 'MO', 'Zip': '63131', 'Income': '786166'}, {'City': 'Saint Louis', 'State': 'MO', 'Zip': '63131', 'Income': '875051'}, {'City': 'Saint Louis', 'State': 'MO', 'Zip': '63131', 'Income': '169993'}, {'City': 'Kirkwood', 'State': 'MO', 'Zip': '63131', 'Income': '640460'}, {'City': 'Saint Louis', 'State': 'MO', 'Zip': '63131', 'Income': '828826'}, {'City': 'Kirkwood', 'State': 'MO', 'Zip': '63131', 'Income': '366393'}, {'City': 'U City', 'State': 'MO', 'Zip': '63131', 'Income': '288655'}, {'City': 'Saint Louis', 'State': 'MO', 'Zip': '63131', 'Income': '344117'}, {'City': 'Saint Louis', 'State': 'MO', 'Zip': '63131', 'Income': '967302'}, {'City': 'Saint Louis', 'State': 'MO', 'Zip': '63131', 'Income': '61659'}, {'City': 'Kirkwood', 'State': 'MO', 'Zip': '63131', 'Income': '918764'}, {'City': 'Saint Louis', 'State': 'MO', 'Zip': '63131', 'Income': '66643'}, {'City': 'Kirkwood', 'State': 'MO', 'Zip': '63131', 'Income': '902185'}, {'City': 'U City', 'State': 'MO', 'Zip': '63131', 'Income': '297427'}, {'City': 'Saint Louis', 'State': 'MO', 'Zip': '63131', 'Income': '65395'}, {'City': 'Saint Louis', 'State': 'MO', 'Zip': '63131', 'Income': '392624'}, {'City': 'Saint Louis', 'State': 'MO', 'Zip': '63131', 'Income': '636556'}, {'City': 'Kirkwood', 'State': 'MO', 'Zip': '63131', 'Income': '187561'}, {'City': 'Saint Louis', 'State': 'MO', 'Zip': '63131', 'Income': '791387'}, {'City': 'Kirkwood', 'State': 'MO', 'Zip': '63131', 'Income': '80052'}, {'City': 'U City', 'State': 'MO', 'Zip': '63131', 'Income': '762890'}, {'City': 'Saint Louis', 'State': 'MO', 'Zip': '63131', 'Income': '805106'}, {'City': 'Saint Louis', 'State': 'MO', 'Zip': '63131', 'Income': '694682'}, {'City': 'Saint Louis', 'State': 'MO', 'Zip': '63131', 'Income': '754084'}, {'City': 'Kirkwood', 'State': 'MO', 'Zip': '63131', 'Income': '464861'}, {'City': 'Saint Louis', 'State': 'MO', 'Zip': '63131', 'Income': '748023'}, {'City': 'Kirkwood', 'State': 'MO', 'Zip': '63131', 'Income': '810460'}, {'City': 'U City', 'State': 'MO', 'Zip': '63131', 'Income': '574356'}, {'City': 'Saint Louis', 'State': 'MO', 'Zip': '63131', 'Income': '826274'}, {'City': 'Saint Louis', 'State': 'MO', 'Zip': '63131', 'Income': '611352'}, {'City': 'Saint Louis', 'State': 'MO', 'Zip': '63131', 'Income': '607561'}, {'City': 'Kirkwood', 'State': 'MO', 'Zip': '63131', 'Income': '839091'}, {'City': 'Saint Louis', 'State': 'MO', 'Zip': '63131', 'Income': '201142'}, {'City': 'Kirkwood', 'State': 'MO', 'Zip': '63131', 'Income': '330105'}, {'City': 'U City', 'State': 'MO', 'Zip': '63131', 'Income': '601789'}, {'City': 'Saint Louis', 'State': 'MO', 'Zip': '63131', 'Income': '980491'}, {'City': 'Saint Louis', 'State': 'MO', 'Zip': '63131', 'Income': '527197'}, {'City': 'Saint Louis', 'State': 'MO', 'Zip': '63131', 'Income': '67119'}, {'City': 'Kirkwood', 'State': 'MO', 'Zip': '63131', 'Income': '417945'}, {'City': 'Saint Louis', 'State': 'MO', 'Zip': '63131', 'Income': '768043'}, {'City': 'Kirkwood', 'State': 'MO', 'Zip': '63131', 'Income': '81286'}, {'City': 'U City', 'State': 'MO', 'Zip': '63131', 'Income': '290165'}, {'City': 'Saint Louis', 'State': 'MO', 'Zip': '63131', 'Income': '338190'}, {'City': 'Saint Louis', 'State': 'MO', 'Zip': '63131', 'Income': '560373'}, {'City': 'Saint Louis', 'State': 'MO', 'Zip': '63131', 'Income': '666424'}, {'City': 'Kirkwood', 'State': 'MO', 'Zip': '63131', 'Income': '800315'}, {'City': 'Saint Louis', 'State': 'MO', 'Zip': '63131', 'Income': '45617'}, {'City': 'Kirkwood', 'State': 'MO', 'Zip': '63131', 'Income': '663915'}, {'City': 'U City', 'State': 'MO', 'Zip': '63131', 'Income': '850360'}, {'City': 'Saint Louis', 'State': 'MO', 'Zip': '63131', 'Income': '802588'}, {'City': 'Saint Louis', 'State': 'MO', 'Zip': '63131', 'Income': '385940'}, {'City': 'Saint Louis', 'State': 'MO', 'Zip': '63131', 'Income': '111802'}, {'City': 'Kirkwood', 'State': 'MO', 'Zip': '63131', 'Income': '907146'}, {'City': 'Saint Louis', 'State': 'MO', 'Zip': '63131', 'Income': '62912'}, {'City': 'Kirkwood', 'State': 'MO', 'Zip': '63131', 'Income': '734440'}, {'City': 'U City', 'State': 'MO', 'Zip': '63131', 'Income': '824767'}, {'City': 'Saint Louis', 'State': 'MO', 'Zip': '63131', 'Income': '516558'}, {'City': 'Saint Louis', 'State': 'MO', 'Zip': '63131', 'Income': '266463'}, {'City': 'Saint Louis', 'State': 'MO', 'Zip': '63131', 'Income': '817416'}, {'City': 'Kirkwood', 'State': 'MO', 'Zip': '63131', 'Income': '436331'}, {'City': 'Saint Louis', 'State': 'MO', 'Zip': '63131', 'Income': '240271'}, {'City': 'Kirkwood', 'State': 'MO', 'Zip': '63131', 'Income': '517981'}, {'City': 'U City', 'State': 'MO', 'Zip': '63131', 'Income': '517012'}, {'City': 'Saint Louis', 'State': 'MO', 'Zip': '63131', 'Income': '417359'}, {'City': 'Saint Louis', 'State': 'MO', 'Zip': '63131', 'Income': '535457'}, {'City': 'Saint Louis', 'State': 'MO', 'Zip': '63131', 'Income': '601615'}, {'City': 'Kirkwood', 'State': 'MO', 'Zip': '63131', 'Income': '690032'}, {'City': 'Saint Louis', 'State': 'MO', 'Zip': '63131', 'Income': '96899'}, {'City': 'Kirkwood', 'State': 'MO', 'Zip': '63131', 'Income': '200648'}, {'City': 'U City', 'State': 'MO', 'Zip': '63131', 'Income': '376798'}, {'City': 'Saint Louis', 'State': 'MO', 'Zip': '63131', 'Income': '644835'}, {'City': 'Saint Louis', 'State': 'MO', 'Zip': '63131', 'Income': '270721'}, {'City': 'Saint Louis', 'State': 'MO', 'Zip': '63131', 'Income': '542999'}, {'City': 'Kirkwood', 'State': 'MO', 'Zip': '63131', 'Income': '885286'}, {'City': 'Saint Louis', 'State': 'MO', 'Zip': '63131', 'Income': '933903'}, {'City': 'Kirkwood', 'State': 'MO', 'Zip': '63131', 'Income': '569355'}, {'City': 'U City', 'State': 'MO', 'Zip': '63131', 'Income': '294040'}, {'City': 'Saint Louis', 'State': 'MO', 'Zip': '63131', 'Income': '804497'}, {'City': 'Saint Louis', 'State': 'MO', 'Zip': '63131', 'Income': '966181'}, {'City': 'Saint Louis', 'State': 'MO', 'Zip': '63131', 'Income': '939679'}, {'City': 'Kirkwood', 'State': 'MO', 'Zip': '63131', 'Income': '675772'}, {'City': 'Saint Louis', 'State': 'MO', 'Zip': '63131', 'Income': '474240'}, {'City': 'Kirkwood', 'State': 'MO', 'Zip': '63131', 'Income': '156834'}, {'City': 'U City', 'State': 'MO', 'Zip': '63131', 'Income': '946479'}, {'City': 'Saint Louis', 'State': 'MO', 'Zip': '63131', 'Income': '397753'}, {'City': 'Saint Louis', 'State': 'MO', 'Zip': '63131', 'Income': '809475'}, {'City': 'Saint Louis', 'State': 'MO', 'Zip': '63131', 'Income': '478103'}, {'City': 'Kirkwood', 'State': 'MO', 'Zip': '63131', 'Income': '422148'}, {'City': 'Saint Louis', 'State': 'MO', 'Zip': '63131', 'Income': '426887'}, {'City': 'Kirkwood', 'State': 'MO', 'Zip': '63131', 'Income': '154236'}, {'City': 'U City', 'State': 'MO', 'Zip': '63131', 'Income': '826047'}, {'City': 'Saint Louis', 'State': 'MO', 'Zip': '63131', 'Income': '892225'}, {'City': 'Saint Louis', 'State': 'MO', 'Zip': '63131', 'Income': '406912'}, {'City': 'Saint Louis', 'State': 'MO', 'Zip': '63131', 'Income': '652220'}, {'City': 'Kirkwood', 'State': 'MO', 'Zip': '63131', 'Income': '576303'}, {'City': 'Saint Louis', 'State': 'MO', 'Zip': '63131', 'Income': '675560'}, {'City': 'Kirkwood', 'State': 'MO', 'Zip': '63131', 'Income': '612485'}, {'City': 'U City', 'State': 'MO', 'Zip': '63131', 'Income': '131763'}, {'City': 'Saint Louis', 'State': 'MO', 'Zip': '63131', 'Income': '118273'}, {'City': 'Saint Louis', 'State': 'MO', 'Zip': '63131', 'Income': '609584'}, {'City': 'Saint Louis', 'State': 'MO', 'Zip': '63131', 'Income': '515055'}, {'City': 'Kirkwood', 'State': 'MO', 'Zip': '63131', 'Income': '175391'}, {'City': 'Saint Louis', 'State': 'MO', 'Zip': '63131', 'Income': '327845'}, {'City': 'Kirkwood', 'State': 'MO', 'Zip': '63131', 'Income': '567256'}, {'City': 'U City', 'State': 'MO', 'Zip': '63131', 'Income': '665830'}, {'City': 'Saint Louis', 'State': 'MO', 'Zip': '63131', 'Income': '376924'}, {'City': 'Saint Louis', 'State': 'MO', 'Zip': '63131', 'Income': '993795'}, {'City': 'Saint Louis', 'State': 'MO', 'Zip': '63131', 'Income': '502262'}, {'City': 'Kirkwood', 'State': 'MO', 'Zip': '63131', 'Income': '634605'}, {'City': 'Saint Louis', 'State': 'MO', 'Zip': '63131', 'Income': '662906'}, {'City': 'Kirkwood', 'State': 'MO', 'Zip': '63131', 'Income': '655919'}, {'City': 'U City', 'State': 'MO', 'Zip': '63131', 'Income': '89576'}, {'City': 'Saint Louis', 'State': 'MO', 'Zip': '63131', 'Income': '434323'}, {'City': 'Saint Louis', 'State': 'MO', 'Zip': '63131', 'Income': '582301'}, {'City': 'Saint Louis', 'State': 'MO', 'Zip': '63131', 'Income': '847985'}, {'City': 'Kirkwood', 'State': 'MO', 'Zip': '63131', 'Income': '207124'}, {'City': 'Saint Louis', 'State': 'MO', 'Zip': '63131', 'Income': '463050'}, {'City': 'Kirkwood', 'State': 'MO', 'Zip': '63131', 'Income': '410252'}, {'City': 'U City', 'State': 'MO', 'Zip': '63131', 'Income': '240209'}, {'City': 'Saint Louis', 'State': 'MO', 'Zip': '63131', 'Income': '952125'}, {'City': 'Saint Louis', 'State': 'MO', 'Zip': '63131', 'Income': '756199'}, {'City': 'Saint Louis', 'State': 'MO', 'Zip': '63131', 'Income': '908260'}, {'City': 'Kirkwood', 'State': 'MO', 'Zip': '63131', 'Income': '95419'}, {'City': 'Saint Louis', 'State': 'MO', 'Zip': '63131', 'Income': '786021'}, {'City': 'Kirkwood', 'State': 'MO', 'Zip': '63131', 'Income': '562047'}, {'City': 'U City', 'State': 'MO', 'Zip': '63131', 'Income': '662891'}, {'City': 'Saint Louis', 'State': 'MO', 'Zip': '63131', 'Income': '416541'}, {'City': 'Saint Louis', 'State': 'MO', 'Zip': '63131', 'Income': '958389'}, {'City': 'Saint Louis', 'State': 'MO', 'Zip': '63131', 'Income': '609393'}, {'City': 'Kirkwood', 'State': 'MO', 'Zip': '63131', 'Income': '652321'}, {'City': 'Saint Louis', 'State': 'MO', 'Zip': '63131', 'Income': '85108'}, {'City': 'Kirkwood', 'State': 'MO', 'Zip': '63131', 'Income': '502874'}, {'City': 'U City', 'State': 'MO', 'Zip': '63131', 'Income': '450162'}, {'City': 'Saint Louis', 'State': 'MO', 'Zip': '63131', 'Income': '257818'}, {'City': 'Saint Louis', 'State': 'MO', 'Zip': '63131', 'Income': '537594'}, {'City': 'Saint Louis', 'State': 'MO', 'Zip': '63131', 'Income': '729025'}, {'City': 'Kirkwood', 'State': 'MO', 'Zip': '63131', 'Income': '56071'}, {'City': 'Saint Louis', 'State': 'MO', 'Zip': '63131', 'Income': '249553'}, {'City': 'Kirkwood', 'State': 'MO', 'Zip': '63131', 'Income': '813568'}, {'City': 'U City', 'State': 'MO', 'Zip': '63131', 'Income': '312010'}, {'City': 'Saint Louis', 'State': 'MO', 'Zip': '63131', 'Income': '59239'}, {'City': 'Saint Louis', 'State': 'MO', 'Zip': '63131', 'Income': '270345'}, {'City': 'Saint Louis', 'State': 'MO', 'Zip': '63131', 'Income': '758247'}, {'City': 'Kirkwood', 'State': 'MO', 'Zip': '63131', 'Income': '395565'}, {'City': 'Saint Louis', 'State': 'MO', 'Zip': '63131', 'Income': '660761'}, {'City': 'Kirkwood', 'State': 'MO', 'Zip': '63131', 'Income': '719681'}, {'City': 'U City', 'State': 'MO', 'Zip': '63131', 'Income': '819261'}, {'City': 'Saint Louis', 'State': 'MO', 'Zip': '63131', 'Income': '69531'}, {'City': 'Saint Louis', 'State': 'MO', 'Zip': '63131', 'Income': '292853'}, {'City': 'Saint Louis', 'State': 'MO', 'Zip': '63131', 'Income': '824872'}, {'City': 'Kirkwood', 'State': 'MO', 'Zip': '63131', 'Income': '365491'}, {'City': 'Saint Louis', 'State': 'MO', 'Zip': '63131', 'Income': '900224'}, {'City': 'Kirkwood', 'State': 'MO', 'Zip': '63131', 'Income': '403418'}, {'City': 'U City', 'State': 'MO', 'Zip': '63131', 'Income': '782750'}, {'City': 'Saint Louis', 'State': 'MO', 'Zip': '63131', 'Income': '547587'}, {'City': 'Saint Louis', 'State': 'MO', 'Zip': '63131', 'Income': '738553'}, {'City': 'Saint Louis', 'State': 'MO', 'Zip': '63131', 'Income': '818752'}, {'City': 'Kirkwood', 'State': 'MO', 'Zip': '63131', 'Income': '764414'}, {'City': 'Saint Louis', 'State': 'MO', 'Zip': '63131', 'Income': '688284'}, {'City': 'Kirkwood', 'State': 'MO', 'Zip': '63131', 'Income': '397448'}, {'City': 'U City', 'State': 'MO', 'Zip': '63131', 'Income': '808038'}, {'City': 'Saint Louis', 'State': 'MO', 'Zip': '63131', 'Income': '700541'}, {'City': 'Saint Louis', 'State': 'MO', 'Zip': '63131', 'Income': '802261'}, {'City': 'Saint Louis', 'State': 'MO', 'Zip': '63131', 'Income': '407220'}, {'City': 'Kirkwood', 'State': 'MO', 'Zip': '63131', 'Income': '666288'}, {'City': 'Saint Louis', 'State': 'MO', 'Zip': '63131', 'Income': '689868'}, {'City': 'Kirkwood', 'State': 'MO', 'Zip': '63131', 'Income': '85326'}, {'City': 'U City', 'State': 'MO', 'Zip': '63131', 'Income': '422851'}, {'City': 'Saint Louis', 'State': 'MO', 'Zip': '63131', 'Income': '501654'}, {'City': 'Saint Louis', 'State': 'MO', 'Zip': '63131', 'Income': '119769'}, {'City': 'Saint Louis', 'State': 'MO', 'Zip': '63131', 'Income': '48425'}, {'City': 'Kirkwood', 'State': 'MO', 'Zip': '63131', 'Income': '224306'}, {'City': 'Saint Louis', 'State': 'MO', 'Zip': '63131', 'Income': '483565'}, {'City': 'Kirkwood', 'State': 'MO', 'Zip': '63131', 'Income': '135469'}, {'City': 'U City', 'State': 'MO', 'Zip': '63131', 'Income': '98310'}, {'City': 'Saint Louis', 'State': 'MO', 'Zip': '63131', 'Income': '310793'}, {'City': 'Saint Louis', 'State': 'MO', 'Zip': '63131', 'Income': '40899'}, {'City': 'Saint Louis', 'State': 'MO', 'Zip': '63131', 'Income': '894079'}, {'City': 'Kirkwood', 'State': 'MO', 'Zip': '63131', 'Income': '70680'}, {'City': 'Saint Louis', 'State': 'MO', 'Zip': '63131', 'Income': '349103'}, {'City': 'Kirkwood', 'State': 'MO', 'Zip': '63131', 'Income': '762293'}, {'City': 'U City', 'State': 'MO', 'Zip': '63131', 'Income': '498591'}, {'City': 'Saint Louis', 'State': 'MO', 'Zip': '63131', 'Income': '719653'}, {'City': 'Saint Louis', 'State': 'MO', 'Zip': '63131', 'Income': '85407'}, {'City': 'Saint Louis', 'State': 'MO', 'Zip': '63131', 'Income': '411462'}, {'City': 'Kirkwood', 'State': 'MO', 'Zip': '63131', 'Income': '169101'}, {'City': 'Saint Louis', 'State': 'MO', 'Zip': '63131', 'Income': '796326'}, {'City': 'Kirkwood', 'State': 'MO', 'Zip': '63131', 'Income': '861213'}, {'City': 'U City', 'State': 'MO', 'Zip': '63131', 'Income': '799679'}, {'City': 'Saint Louis', 'State': 'MO', 'Zip': '63131', 'Income': '628534'}, {'City': 'Saint Louis', 'State': 'MO', 'Zip': '63131', 'Income': '690923'}, {'City': 'Saint Louis', 'State': 'MO', 'Zip': '63131', 'Income': '522668'}, {'City': 'Kirkwood', 'State': 'MO', 'Zip': '63131', 'Income': '940490'}, {'City': 'Saint Louis', 'State': 'MO', 'Zip': '63131', 'Income': '957009'}, {'City': 'Kirkwood', 'State': 'MO', 'Zip': '63131', 'Income': '897650'}, {'City': 'U City', 'State': 'MO', 'Zip': '63131', 'Income': '47592'}, {'City': 'Saint Louis', 'State': 'MO', 'Zip': '63131', 'Income': '203377'}, {'City': 'Saint Louis', 'State': 'MO', 'Zip': '63131', 'Income': '291650'}, {'City': 'Saint Louis', 'State': 'MO', 'Zip': '63131', 'Income': '234849'}, {'City': 'Kirkwood', 'State': 'MO', 'Zip': '63131', 'Income': '480184'}, {'City': 'Saint Louis', 'State': 'MO', 'Zip': '63131', 'Income': '679270'}, {'City': 'Kirkwood', 'State': 'MO', 'Zip': '63131', 'Income': '708102'}, {'City': 'U City', 'State': 'MO', 'Zip': '63131', 'Income': '235925'}, {'City': 'Saint Louis', 'State': 'MO', 'Zip': '63131', 'Income': '216644'}, {'City': 'Saint Louis', 'State': 'MO', 'Zip': '63131', 'Income': '917976'}, {'City': 'Saint Louis', 'State': 'MO', 'Zip': '63131', 'Income': '165407'}, {'City': 'Kirkwood', 'State': 'MO', 'Zip': '63131', 'Income': '351214'}, {'City': 'Saint Louis', 'State': 'MO', 'Zip': '63131', 'Income': '390088'}, {'City': 'Kirkwood', 'State': 'MO', 'Zip': '63131', 'Income': '328321'}, {'City': 'U City', 'State': 'MO', 'Zip': '63131', 'Income': '927090'}, {'City': 'Saint Louis', 'State': 'MO', 'Zip': '63131', 'Income': '708641'}, {'City': 'Saint Louis', 'State': 'MO', 'Zip': '63131', 'Income': '155192'}, {'City': 'Saint Louis', 'State': 'MO', 'Zip': '63131', 'Income': '111671'}, {'City': 'Kirkwood', 'State': 'MO', 'Zip': '63131', 'Income': '926756'}, {'City': 'Saint Louis', 'State': 'MO', 'Zip': '63131', 'Income': '556685'}, {'City': 'Kirkwood', 'State': 'MO', 'Zip': '63131', 'Income': '545525'}, {'City': 'U City', 'State': 'MO', 'Zip': '63131', 'Income': '376369'}, {'City': 'Saint Louis', 'State': 'MO', 'Zip': '63131', 'Income': '738040'}, {'City': 'Saint Louis', 'State': 'MO', 'Zip': '63131', 'Income': '612053'}, {'City': 'Saint Louis', 'State': 'MO', 'Zip': '63131', 'Income': '936249'}, {'City': 'Kirkwood', 'State': 'MO', 'Zip': '63131', 'Income': '811117'}, {'City': 'Saint Louis', 'State': 'MO', 'Zip': '63131', 'Income': '849828'}, {'City': 'Kirkwood', 'State': 'MO', 'Zip': '63131', 'Income': '983405'}, {'City': 'U City', 'State': 'MO', 'Zip': '63131', 'Income': '728438'}, {'City': 'Saint Louis', 'State': 'MO', 'Zip': '63131', 'Income': '319153'}, {'City': 'Saint Louis', 'State': 'MO', 'Zip': '63131', 'Income': '684006'}, {'City': 'Saint Louis', 'State': 'MO', 'Zip': '63131', 'Income': '345457'}, {'City': 'Kirkwood', 'State': 'MO', 'Zip': '63131', 'Income': '357395'}, {'City': 'Saint Louis', 'State': 'MO', 'Zip': '63131', 'Income': '764108'}, {'City': 'Kirkwood', 'State': 'MO', 'Zip': '63131', 'Income': '934481'}, {'City': 'U City', 'State': 'MO', 'Zip': '63131', 'Income': '118132'}, {'City': 'Saint Louis', 'State': 'MO', 'Zip': '63131', 'Income': '286915'}, {'City': 'Saint Louis', 'State': 'MO', 'Zip': '63131', 'Income': '374051'}, {'City': 'Saint Louis', 'State': 'MO', 'Zip': '63131', 'Income': '140180'}, {'City': 'Kirkwood', 'State': 'MO', 'Zip': '63131', 'Income': '194974'}, {'City': 'Saint Louis', 'State': 'MO', 'Zip': '63131', 'Income': '826160'}, {'City': 'Kirkwood', 'State': 'MO', 'Zip': '63131', 'Income': '60759'}, {'City': 'U City', 'State': 'MO', 'Zip': '63131', 'Income': '497106'}, {'City': 'Saint Louis', 'State': 'MO', 'Zip': '63131', 'Income': '934606'}, {'City': 'Saint Louis', 'State': 'MO', 'Zip': '63131', 'Income': '311633'}, {'City': 'Saint Louis', 'State': 'MO', 'Zip': '63131', 'Income': '530208'}, {'City': 'Kirkwood', 'State': 'MO', 'Zip': '63131', 'Income': '672213'}, {'City': 'Saint Louis', 'State': 'MO', 'Zip': '63131', 'Income': '755607'}, {'City': 'Kirkwood', 'State': 'MO', 'Zip': '63131', 'Income': '805937'}, {'City': 'U City', 'State': 'MO', 'Zip': '63131', 'Income': '435877'}, {'City': 'Saint Louis', 'State': 'MO', 'Zip': '63131', 'Income': '52855'}, {'City': 'Saint Louis', 'State': 'MO', 'Zip': '63131', 'Income': '355244'}, {'City': 'Saint Louis', 'State': 'MO', 'Zip': '63131', 'Income': '865925'}, {'City': 'Kirkwood', 'State': 'MO', 'Zip': '63131', 'Income': '928088'}, {'City': 'Saint Louis', 'State': 'MO', 'Zip': '63131', 'Income': '436157'}, {'City': 'Kirkwood', 'State': 'MO', 'Zip': '63131', 'Income': '66788'}, {'City': 'U City', 'State': 'MO', 'Zip': '63131', 'Income': '886949'}, {'City': 'Saint Louis', 'State': 'MO', 'Zip': '63131', 'Income': '215359'}, {'City': 'Saint Louis', 'State': 'MO', 'Zip': '63131', 'Income': '477672'}, {'City': 'Saint Louis', 'State': 'MO', 'Zip': '63131', 'Income': '410840'}, {'City': 'Kirkwood', 'State': 'MO', 'Zip': '63131', 'Income': '191175'}, {'City': 'Saint Louis', 'State': 'MO', 'Zip': '63131', 'Income': '736973'}, {'City': 'Kirkwood', 'State': 'MO', 'Zip': '63131', 'Income': '627957'}, {'City': 'U City', 'State': 'MO', 'Zip': '63131', 'Income': '325797'}, {'City': 'Saint Louis', 'State': 'MO', 'Zip': '63131', 'Income': '470788'}, {'City': 'Saint Louis', 'State': 'MO', 'Zip': '63131', 'Income': '67012'}, {'City': 'Saint Louis', 'State': 'MO', 'Zip': '63131', 'Income': '605090'}, {'City': 'Kirkwood', 'State': 'MO', 'Zip': '63131', 'Income': '947077'}, {'City': 'Saint Louis', 'State': 'MO', 'Zip': '63131', 'Income': '634077'}, {'City': 'Kirkwood', 'State': 'MO', 'Zip': '63131', 'Income': '579816'}, {'City': 'U City', 'State': 'MO', 'Zip': '63131', 'Income': '990511'}, {'City': 'Saint Louis', 'State': 'MO', 'Zip': '63131', 'Income': '847332'}, {'City': 'Saint Louis', 'State': 'MO', 'Zip': '63131', 'Income': '774938'}, {'City': 'Saint Louis', 'State': 'MO', 'Zip': '63131', 'Income': '118740'}, {'City': 'Kirkwood', 'State': 'MO', 'Zip': '63131', 'Income': '849717'}, {'City': 'Saint Louis', 'State': 'MO', 'Zip': '63131', 'Income': '979838'}, {'City': 'Kirkwood', 'State': 'MO', 'Zip': '63131', 'Income': '993464'}, {'City': 'U City', 'State': 'MO', 'Zip': '63131', 'Income': '69746'}, {'City': 'Saint Louis', 'State': 'MO', 'Zip': '63131', 'Income': '253146'}, {'City': 'Saint Louis', 'State': 'MO', 'Zip': '63131', 'Income': '643112'}, {'City': 'Saint Louis', 'State': 'MO', 'Zip': '63131', 'Income': '391280'}, {'City': 'Kirkwood', 'State': 'MO', 'Zip': '63131', 'Income': '612891'}, {'City': 'Saint Louis', 'State': 'MO', 'Zip': '63131', 'Income': '400958'}, {'City': 'Kirkwood', 'State': 'MO', 'Zip': '63131', 'Income': '966916'}, {'City': 'U City', 'State': 'MO', 'Zip': '63131', 'Income': '497297'}, {'City': 'Saint Louis', 'State': 'MO', 'Zip': '63131', 'Income': '41321'}, {'City': 'Saint Louis', 'State': 'MO', 'Zip': '63131', 'Income': '260120'}, {'City': 'Saint Louis', 'State': 'MO', 'Zip': '63131', 'Income': '580254'}, {'City': 'Kirkwood', 'State': 'MO', 'Zip': '63131', 'Income': '228144'}, {'City': 'Saint Louis', 'State': 'MO', 'Zip': '63131', 'Income': '80737'}, {'City': 'Kirkwood', 'State': 'MO', 'Zip': '63131', 'Income': '383720'}, {'City': 'U City', 'State': 'MO', 'Zip': '63131', 'Income': '277868'}, {'City': 'Saint Louis', 'State': 'MO', 'Zip': '63131', 'Income': '437716'}, {'City': 'Saint Louis', 'State': 'MO', 'Zip': '63131', 'Income': '889124'}, {'City': 'Saint Louis', 'State': 'MO', 'Zip': '63131', 'Income': '36069'}, {'City': 'Kirkwood', 'State': 'MO', 'Zip': '63131', 'Income': '201655'}, {'City': 'Saint Louis', 'State': 'MO', 'Zip': '63131', 'Income': '737951'}, {'City': 'Kirkwood', 'State': 'MO', 'Zip': '63131', 'Income': '355482'}, {'City': 'U City', 'State': 'MO', 'Zip': '63131', 'Income': '804473'}, {'City': 'Saint Louis', 'State': 'MO', 'Zip': '63131', 'Income': '792305'}, {'City': 'Saint Louis', 'State': 'MO', 'Zip': '63131', 'Income': '222648'}, {'City': 'Saint Louis', 'State': 'MO', 'Zip': '63131', 'Income': '430424'}, {'City': 'Kirkwood', 'State': 'MO', 'Zip': '63131', 'Income': '790452'}, {'City': 'Saint Louis', 'State': 'MO', 'Zip': '63131', 'Income': '147623'}, {'City': 'Kirkwood', 'State': 'MO', 'Zip': '63131', 'Income': '571621'}, {'City': 'U City', 'State': 'MO', 'Zip': '63131', 'Income': '712381'}, {'City': 'Saint Louis', 'State': 'MO', 'Zip': '63131', 'Income': '119546'}, {'City': 'Saint Louis', 'State': 'MO', 'Zip': '63131', 'Income': '478445'}, {'City': 'Saint Louis', 'State': 'MO', 'Zip': '63131', 'Income': '446154'}, {'City': 'Kirkwood', 'State': 'MO', 'Zip': '63131', 'Income': '206177'}, {'City': 'Saint Louis', 'State': 'MO', 'Zip': '63131', 'Income': '661452'}, {'City': 'Kirkwood', 'State': 'MO', 'Zip': '63131', 'Income': '594274'}, {'City': 'U City', 'State': 'MO', 'Zip': '63131', 'Income': '339578'}, {'City': 'Saint Louis', 'State': 'MO', 'Zip': '63131', 'Income': '601446'}, {'City': 'Saint Louis', 'State': 'MO', 'Zip': '63131', 'Income': '85481'}, {'City': 'Saint Louis', 'State': 'MO', 'Zip': '63131', 'Income': '266023'}, {'City': 'Kirkwood', 'State': 'MO', 'Zip': '63131', 'Income': '901697'}, {'City': 'Saint Louis', 'State': 'MO', 'Zip': '63131', 'Income': '572513'}, {'City': 'Kirkwood', 'State': 'MO', 'Zip': '63131', 'Income': '437468'}, {'City': 'U City', 'State': 'MO', 'Zip': '63131', 'Income': '879766'}, {'City': 'Saint Louis', 'State': 'MO', 'Zip': '63131', 'Income': '324427'}, {'City': 'Saint Louis', 'State': 'MO', 'Zip': '63131', 'Income': '563664'}, {'City': 'Saint Louis', 'State': 'MO', 'Zip': '63131', 'Income': '866217'}, {'City': 'Kirkwood', 'State': 'MO', 'Zip': '63131', 'Income': '96181'}, {'City': 'Saint Louis', 'State': 'MO', 'Zip': '63131', 'Income': '169833'}, {'City': 'Kirkwood', 'State': 'MO', 'Zip': '63131', 'Income': '292450'}, {'City': 'U City', 'State': 'MO', 'Zip': '63131', 'Income': '174459'}, {'City': 'Saint Louis', 'State': 'MO', 'Zip': '63131', 'Income': '365117'}, {'City': 'Saint Louis', 'State': 'MO', 'Zip': '63131', 'Income': '140769'}, {'City': 'Saint Louis', 'State': 'MO', 'Zip': '63131', 'Income': '564537'}, {'City': 'Kirkwood', 'State': 'MO', 'Zip': '63131', 'Income': '814833'}, {'City': 'Saint Louis', 'State': 'MO', 'Zip': '63131', 'Income': '874370'}, {'City': 'Kirkwood', 'State': 'MO', 'Zip': '63131', 'Income': '64499'}, {'City': 'U City', 'State': 'MO', 'Zip': '63131', 'Income': '173338'}, {'City': 'Saint Louis', 'State': 'MO', 'Zip': '63131', 'Income': '823219'}, {'City': 'Saint Louis', 'State': 'MO', 'Zip': '63131', 'Income': '595877'}, {'City': 'Saint Louis', 'State': 'MO', 'Zip': '63131', 'Income': '534928'}, {'City': 'Kirkwood', 'State': 'MO', 'Zip': '63131', 'Income': '429887'}, {'City': 'Saint Louis', 'State': 'MO', 'Zip': '63131', 'Income': '941958'}, {'City': 'Kirkwood', 'State': 'MO', 'Zip': '63131', 'Income': '850417'}, {'City': 'U City', 'State': 'MO', 'Zip': '63131', 'Income': '517655'}, {'City': 'Saint Louis', 'State': 'MO', 'Zip': '63131', 'Income': '564517'}, {'City': 'Saint Louis', 'State': 'MO', 'Zip': '63131', 'Income': '975296'}, {'City': 'Saint Louis', 'State': 'MO', 'Zip': '63131', 'Income': '787941'}, {'City': 'Kirkwood', 'State': 'MO', 'Zip': '63131', 'Income': '647828'}, {'City': 'Saint Louis', 'State': 'MO', 'Zip': '63131', 'Income': '783195'}, {'City': 'Kirkwood', 'State': 'MO', 'Zip': '63131', 'Income': '62243'}, {'City': 'U City', 'State': 'MO', 'Zip': '63131', 'Income': '962932'}, {'City': 'Saint Louis', 'State': 'MO', 'Zip': '63131', 'Income': '767734'}, {'City': 'Saint Louis', 'State': 'MO', 'Zip': '63131', 'Income': '809908'}, {'City': 'Saint Louis', 'State': 'MO', 'Zip': '63131', 'Income': '631014'}, {'City': 'Kirkwood', 'State': 'MO', 'Zip': '63131', 'Income': '301062'}, {'City': 'Saint Louis', 'State': 'MO', 'Zip': '63131', 'Income': '591797'}, {'City': 'Kirkwood', 'State': 'MO', 'Zip': '63131', 'Income': '634905'}, {'City': 'U City', 'State': 'MO', 'Zip': '63131', 'Income': '486441'}, {'City': 'Saint Louis', 'State': 'MO', 'Zip': '63131', 'Income': '266336'}, {'City': 'Saint Louis', 'State': 'MO', 'Zip': '63131', 'Income': '296350'}, {'City': 'Saint Louis', 'State': 'MO', 'Zip': '63131', 'Income': '792260'}, {'City': 'Kirkwood', 'State': 'MO', 'Zip': '63131', 'Income': '184213'}, {'City': 'Saint Louis', 'State': 'MO', 'Zip': '63131', 'Income': '800678'}, {'City': 'Kirkwood', 'State': 'MO', 'Zip': '63131', 'Income': '659200'}, {'City': 'U City', 'State': 'MO', 'Zip': '63131', 'Income': '283005'}]"
   ]
  },
  {
   "cell_type": "markdown",
   "metadata": {},
   "source": [
    "Instead of using built-in Python data structures, we are going to load `data` into a pandas data frame"
   ]
  },
  {
   "cell_type": "code",
   "execution_count": 5,
   "metadata": {},
   "outputs": [
    {
     "data": {
      "text/html": [
       "<div>\n",
       "<style scoped>\n",
       "    .dataframe tbody tr th:only-of-type {\n",
       "        vertical-align: middle;\n",
       "    }\n",
       "\n",
       "    .dataframe tbody tr th {\n",
       "        vertical-align: top;\n",
       "    }\n",
       "\n",
       "    .dataframe thead th {\n",
       "        text-align: right;\n",
       "    }\n",
       "</style>\n",
       "<table border=\"1\" class=\"dataframe\">\n",
       "  <thead>\n",
       "    <tr style=\"text-align: right;\">\n",
       "      <th></th>\n",
       "      <th>City</th>\n",
       "      <th>State</th>\n",
       "      <th>Zip</th>\n",
       "      <th>Income</th>\n",
       "    </tr>\n",
       "  </thead>\n",
       "  <tbody>\n",
       "    <tr>\n",
       "      <th>0</th>\n",
       "      <td>Kirkwood</td>\n",
       "      <td>MO</td>\n",
       "      <td>63122</td>\n",
       "      <td>842711</td>\n",
       "    </tr>\n",
       "    <tr>\n",
       "      <th>1</th>\n",
       "      <td>Saint Louis</td>\n",
       "      <td>MO</td>\n",
       "      <td>63108</td>\n",
       "      <td>780412</td>\n",
       "    </tr>\n",
       "    <tr>\n",
       "      <th>2</th>\n",
       "      <td>Kirkwood</td>\n",
       "      <td>MO</td>\n",
       "      <td>63122</td>\n",
       "      <td>41924</td>\n",
       "    </tr>\n",
       "    <tr>\n",
       "      <th>3</th>\n",
       "      <td>U City</td>\n",
       "      <td>MO</td>\n",
       "      <td>63130</td>\n",
       "      <td>719394</td>\n",
       "    </tr>\n",
       "    <tr>\n",
       "      <th>4</th>\n",
       "      <td>Saint Louis</td>\n",
       "      <td>MO</td>\n",
       "      <td>63110</td>\n",
       "      <td>273406</td>\n",
       "    </tr>\n",
       "  </tbody>\n",
       "</table>\n",
       "</div>"
      ],
      "text/plain": [
       "          City State    Zip  Income\n",
       "0     Kirkwood    MO  63122  842711\n",
       "1  Saint Louis    MO  63108  780412\n",
       "2     Kirkwood    MO  63122   41924\n",
       "3       U City    MO  63130  719394\n",
       "4  Saint Louis    MO  63110  273406"
      ]
     },
     "execution_count": 5,
     "metadata": {},
     "output_type": "execute_result"
    }
   ],
   "source": [
    "df = pd.DataFrame(data)\n",
    "df.head()"
   ]
  },
  {
   "cell_type": "code",
   "execution_count": 6,
   "metadata": {},
   "outputs": [
    {
     "data": {
      "text/plain": [
       "City      object\n",
       "State     object\n",
       "Zip       object\n",
       "Income    object\n",
       "dtype: object"
      ]
     },
     "execution_count": 6,
     "metadata": {},
     "output_type": "execute_result"
    }
   ],
   "source": [
    "df.dtypes"
   ]
  },
  {
   "cell_type": "markdown",
   "metadata": {},
   "source": [
    "The goal of this exercise is to clean the data\n",
    "\n",
    "- What are the (unique) values that `State` takes?\n",
    "- Ensure that discrepancies of data entry are resolved.\n",
    "- Ensure that all values of `City` are in title case\n",
    "- Convert `Income` to a numeric type, mark corrupt values with `NaN`. **HINT** a helpful function is `pd.to_numeric` check out its documentation\n",
    "- What is the average income?\n",
    "- What is the average income in `Saint Louis`?\n",
    "- What is the average income in `Kirkwood`?\n",
    "- What is the average income in `U City`?\n"
   ]
  },
  {
   "cell_type": "code",
   "execution_count": 10,
   "metadata": {},
   "outputs": [
    {
     "data": {
      "text/plain": [
       "{'M0', 'MO', 'mo'}"
      ]
     },
     "execution_count": 10,
     "metadata": {},
     "output_type": "execute_result"
    }
   ],
   "source": [
    "set(df.State) # or df.State.value_counts()"
   ]
  },
  {
   "cell_type": "code",
   "execution_count": 11,
   "metadata": {},
   "outputs": [],
   "source": [
    "df['State'] = df.State.replace('M0', 'MO').replace('mo', 'MO')"
   ]
  },
  {
   "cell_type": "code",
   "execution_count": 12,
   "metadata": {},
   "outputs": [
    {
     "data": {
      "text/plain": [
       "{'MO'}"
      ]
     },
     "execution_count": 12,
     "metadata": {},
     "output_type": "execute_result"
    }
   ],
   "source": [
    "set(df.State)"
   ]
  },
  {
   "cell_type": "code",
   "execution_count": 13,
   "metadata": {},
   "outputs": [
    {
     "data": {
      "text/plain": [
       "{'KIRKWOOD', 'Kirkwood', 'Saint Louis', 'U City', 'kirkwood', 'saint louis'}"
      ]
     },
     "execution_count": 13,
     "metadata": {},
     "output_type": "execute_result"
    }
   ],
   "source": [
    "set(df.City)"
   ]
  },
  {
   "cell_type": "code",
   "execution_count": 16,
   "metadata": {},
   "outputs": [],
   "source": [
    "df.City = df.City.apply(lambda x: x.title())"
   ]
  },
  {
   "cell_type": "code",
   "execution_count": 17,
   "metadata": {},
   "outputs": [
    {
     "data": {
      "text/plain": [
       "{'Kirkwood', 'Saint Louis', 'U City'}"
      ]
     },
     "execution_count": 17,
     "metadata": {},
     "output_type": "execute_result"
    }
   ],
   "source": [
    "set(df.City)"
   ]
  },
  {
   "cell_type": "code",
   "execution_count": 19,
   "metadata": {},
   "outputs": [],
   "source": [
    "# pd.to_numeric(df.Income) # this will generate an error at the incorrect value"
   ]
  },
  {
   "cell_type": "code",
   "execution_count": 21,
   "metadata": {},
   "outputs": [
    {
     "name": "stdout",
     "output_type": "stream",
     "text": [
      "Help on function to_numeric in module pandas.core.tools.numeric:\n",
      "\n",
      "to_numeric(arg, errors='raise', downcast=None)\n",
      "    Convert argument to a numeric type.\n",
      "    \n",
      "    The default return dtype is `float64` or `int64`\n",
      "    depending on the data supplied. Use the `downcast` parameter\n",
      "    to obtain other dtypes.\n",
      "    \n",
      "    Please note that precision loss may occur if really large numbers\n",
      "    are passed in. Due to the internal limitations of `ndarray`, if\n",
      "    numbers smaller than `-9223372036854775808` (np.iinfo(np.int64).min)\n",
      "    or larger than `18446744073709551615` (np.iinfo(np.uint64).max) are\n",
      "    passed in, it is very likely they will be converted to float so that\n",
      "    they can stored in an `ndarray`. These warnings apply similarly to\n",
      "    `Series` since it internally leverages `ndarray`.\n",
      "    \n",
      "    Parameters\n",
      "    ----------\n",
      "    arg : scalar, list, tuple, 1-d array, or Series\n",
      "    errors : {'ignore', 'raise', 'coerce'}, default 'raise'\n",
      "        - If 'raise', then invalid parsing will raise an exception.\n",
      "        - If 'coerce', then invalid parsing will be set as NaN.\n",
      "        - If 'ignore', then invalid parsing will return the input.\n",
      "    downcast : {'integer', 'signed', 'unsigned', 'float'}, default None\n",
      "        If not None, and if the data has been successfully cast to a\n",
      "        numerical dtype (or if the data was numeric to begin with),\n",
      "        downcast that resulting data to the smallest numerical dtype\n",
      "        possible according to the following rules:\n",
      "    \n",
      "        - 'integer' or 'signed': smallest signed int dtype (min.: np.int8)\n",
      "        - 'unsigned': smallest unsigned int dtype (min.: np.uint8)\n",
      "        - 'float': smallest float dtype (min.: np.float32)\n",
      "    \n",
      "        As this behaviour is separate from the core conversion to\n",
      "        numeric values, any errors raised during the downcasting\n",
      "        will be surfaced regardless of the value of the 'errors' input.\n",
      "    \n",
      "        In addition, downcasting will only occur if the size\n",
      "        of the resulting data's dtype is strictly larger than\n",
      "        the dtype it is to be cast to, so if none of the dtypes\n",
      "        checked satisfy that specification, no downcasting will be\n",
      "        performed on the data.\n",
      "    \n",
      "    Returns\n",
      "    -------\n",
      "    ret : numeric if parsing succeeded.\n",
      "        Return type depends on input.  Series if Series, otherwise ndarray.\n",
      "    \n",
      "    See Also\n",
      "    --------\n",
      "    DataFrame.astype : Cast argument to a specified dtype.\n",
      "    to_datetime : Convert argument to datetime.\n",
      "    to_timedelta : Convert argument to timedelta.\n",
      "    numpy.ndarray.astype : Cast a numpy array to a specified type.\n",
      "    convert_dtypes : Convert dtypes.\n",
      "    \n",
      "    Examples\n",
      "    --------\n",
      "    Take separate series and convert to numeric, coercing when told to\n",
      "    \n",
      "    >>> s = pd.Series(['1.0', '2', -3])\n",
      "    >>> pd.to_numeric(s)\n",
      "    0    1.0\n",
      "    1    2.0\n",
      "    2   -3.0\n",
      "    dtype: float64\n",
      "    >>> pd.to_numeric(s, downcast='float')\n",
      "    0    1.0\n",
      "    1    2.0\n",
      "    2   -3.0\n",
      "    dtype: float32\n",
      "    >>> pd.to_numeric(s, downcast='signed')\n",
      "    0    1\n",
      "    1    2\n",
      "    2   -3\n",
      "    dtype: int8\n",
      "    >>> s = pd.Series(['apple', '1.0', '2', -3])\n",
      "    >>> pd.to_numeric(s, errors='ignore')\n",
      "    0    apple\n",
      "    1      1.0\n",
      "    2        2\n",
      "    3       -3\n",
      "    dtype: object\n",
      "    >>> pd.to_numeric(s, errors='coerce')\n",
      "    0    NaN\n",
      "    1    1.0\n",
      "    2    2.0\n",
      "    3   -3.0\n",
      "    dtype: float64\n",
      "\n"
     ]
    }
   ],
   "source": [
    "help(pd.to_numeric)"
   ]
  },
  {
   "cell_type": "code",
   "execution_count": 23,
   "metadata": {},
   "outputs": [],
   "source": [
    "df.Income = pd.to_numeric(df.Income, errors='coerce')"
   ]
  },
  {
   "cell_type": "code",
   "execution_count": 24,
   "metadata": {},
   "outputs": [
    {
     "data": {
      "text/plain": [
       "City       object\n",
       "State      object\n",
       "Zip        object\n",
       "Income    float64\n",
       "dtype: object"
      ]
     },
     "execution_count": 24,
     "metadata": {},
     "output_type": "execute_result"
    }
   ],
   "source": [
    "df.dtypes"
   ]
  },
  {
   "cell_type": "code",
   "execution_count": 25,
   "metadata": {},
   "outputs": [
    {
     "data": {
      "text/plain": [
       "512385.13308341143"
      ]
     },
     "execution_count": 25,
     "metadata": {},
     "output_type": "execute_result"
    }
   ],
   "source": [
    "df.Income.mean()"
   ]
  },
  {
   "cell_type": "code",
   "execution_count": 28,
   "metadata": {},
   "outputs": [
    {
     "data": {
      "text/plain": [
       "516659.8855721393"
      ]
     },
     "execution_count": 28,
     "metadata": {},
     "output_type": "execute_result"
    }
   ],
   "source": [
    "df[df.City == 'Saint Louis'].Income.mean()"
   ]
  },
  {
   "cell_type": "code",
   "execution_count": 29,
   "metadata": {},
   "outputs": [
    {
     "data": {
      "text/plain": [
       "533662.9487179487"
      ]
     },
     "execution_count": 29,
     "metadata": {},
     "output_type": "execute_result"
    }
   ],
   "source": [
    "df[df.City == 'Kirkwood'].Income.mean()"
   ]
  },
  {
   "cell_type": "code",
   "execution_count": 30,
   "metadata": {},
   "outputs": [
    {
     "data": {
      "text/plain": [
       "451751.2236842105"
      ]
     },
     "execution_count": 30,
     "metadata": {},
     "output_type": "execute_result"
    }
   ],
   "source": [
    "df[df.City == 'U City'].Income.mean()"
   ]
  },
  {
   "cell_type": "code",
   "execution_count": null,
   "metadata": {},
   "outputs": [],
   "source": []
  }
 ],
 "metadata": {
  "kernelspec": {
   "display_name": "Python 3",
   "language": "python",
   "name": "python3"
  },
  "language_info": {
   "codemirror_mode": {
    "name": "ipython",
    "version": 3
   },
   "file_extension": ".py",
   "mimetype": "text/x-python",
   "name": "python",
   "nbconvert_exporter": "python",
   "pygments_lexer": "ipython3",
   "version": "3.8.3"
  }
 },
 "nbformat": 4,
 "nbformat_minor": 4
}
