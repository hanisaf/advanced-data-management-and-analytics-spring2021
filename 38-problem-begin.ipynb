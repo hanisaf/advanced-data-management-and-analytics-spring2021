{
 "cells": [
  {
   "cell_type": "markdown",
   "metadata": {},
   "source": [
    "The following network represents interaction between characters in Star Wars Episode VI: Return of the Jedi.\n",
    "Each node represents a character, a link indicates that the two characters interacted in the movie more than three times.\n",
    "\n",
    "Data for this network was obtained from [Kaggle](https://www.kaggle.com/ruchi798/star-wars) \n",
    "\n",
    "![Star Wars Episode VI: Return of the Jedi](images/star-wars-7.png)\n",
    "\n",
    "\n",
    "- Use networkx to represent the network.\n",
    "- (re)draw the network.\n",
    "- Show the adjacency Matrix\n",
    "- Who are the connections of `LEIA`?\n",
    "- What is the distance between `KYLO REN` and `MAZ`?\n",
    "- What is the largest clique in the network?"
   ]
  },
  {
   "cell_type": "code",
   "execution_count": 12,
   "metadata": {},
   "outputs": [],
   "source": [
    "import networkx as nx\n",
    "import pandas as pd"
   ]
  },
  {
   "cell_type": "code",
   "execution_count": null,
   "metadata": {},
   "outputs": [],
   "source": []
  }
 ],
 "metadata": {
  "kernelspec": {
   "display_name": "Python 3",
   "language": "python",
   "name": "python3"
  },
  "language_info": {
   "codemirror_mode": {
    "name": "ipython",
    "version": 3
   },
   "file_extension": ".py",
   "mimetype": "text/x-python",
   "name": "python",
   "nbconvert_exporter": "python",
   "pygments_lexer": "ipython3",
   "version": "3.8.3"
  }
 },
 "nbformat": 4,
 "nbformat_minor": 4
}
