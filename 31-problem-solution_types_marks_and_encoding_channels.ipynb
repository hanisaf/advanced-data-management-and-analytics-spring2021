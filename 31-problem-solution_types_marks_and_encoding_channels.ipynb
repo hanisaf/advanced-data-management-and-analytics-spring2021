{
 "cells": [
  {
   "cell_type": "code",
   "execution_count": 1,
   "metadata": {},
   "outputs": [],
   "source": [
    "import pandas as pd\n",
    "import altair as alt"
   ]
  },
  {
   "cell_type": "code",
   "execution_count": 8,
   "metadata": {},
   "outputs": [],
   "source": [
    "data = pd.read_excel('data/eastmank.xlsx')\n",
    "data.Year = data.Year.apply(str)"
   ]
  },
  {
   "cell_type": "code",
   "execution_count": 9,
   "metadata": {},
   "outputs": [
    {
     "data": {
      "text/html": [
       "<div>\n",
       "<style scoped>\n",
       "    .dataframe tbody tr th:only-of-type {\n",
       "        vertical-align: middle;\n",
       "    }\n",
       "\n",
       "    .dataframe tbody tr th {\n",
       "        vertical-align: top;\n",
       "    }\n",
       "\n",
       "    .dataframe thead th {\n",
       "        text-align: right;\n",
       "    }\n",
       "</style>\n",
       "<table border=\"1\" class=\"dataframe\">\n",
       "  <thead>\n",
       "    <tr style=\"text-align: right;\">\n",
       "      <th></th>\n",
       "      <th>Year</th>\n",
       "      <th>Coded Year</th>\n",
       "      <th>Act-Revenue</th>\n",
       "      <th>CPI-U</th>\n",
       "      <th>Real-Revenue</th>\n",
       "    </tr>\n",
       "  </thead>\n",
       "  <tbody>\n",
       "    <tr>\n",
       "      <th>0</th>\n",
       "      <td>1975</td>\n",
       "      <td>0</td>\n",
       "      <td>5.0</td>\n",
       "      <td>53.8</td>\n",
       "      <td>9.3</td>\n",
       "    </tr>\n",
       "    <tr>\n",
       "      <th>1</th>\n",
       "      <td>1976</td>\n",
       "      <td>1</td>\n",
       "      <td>5.4</td>\n",
       "      <td>56.9</td>\n",
       "      <td>9.5</td>\n",
       "    </tr>\n",
       "    <tr>\n",
       "      <th>2</th>\n",
       "      <td>1977</td>\n",
       "      <td>2</td>\n",
       "      <td>6.0</td>\n",
       "      <td>60.6</td>\n",
       "      <td>9.9</td>\n",
       "    </tr>\n",
       "    <tr>\n",
       "      <th>3</th>\n",
       "      <td>1978</td>\n",
       "      <td>3</td>\n",
       "      <td>7.0</td>\n",
       "      <td>65.2</td>\n",
       "      <td>10.7</td>\n",
       "    </tr>\n",
       "    <tr>\n",
       "      <th>4</th>\n",
       "      <td>1979</td>\n",
       "      <td>4</td>\n",
       "      <td>8.0</td>\n",
       "      <td>72.6</td>\n",
       "      <td>11.0</td>\n",
       "    </tr>\n",
       "  </tbody>\n",
       "</table>\n",
       "</div>"
      ],
      "text/plain": [
       "   Year  Coded Year  Act-Revenue  CPI-U  Real-Revenue\n",
       "0  1975           0          5.0   53.8           9.3\n",
       "1  1976           1          5.4   56.9           9.5\n",
       "2  1977           2          6.0   60.6           9.9\n",
       "3  1978           3          7.0   65.2          10.7\n",
       "4  1979           4          8.0   72.6          11.0"
      ]
     },
     "execution_count": 9,
     "metadata": {},
     "output_type": "execute_result"
    }
   ],
   "source": [
    "data.head()"
   ]
  },
  {
   "cell_type": "markdown",
   "metadata": {},
   "source": [
    "- Create a line chart on which the x is Year and y is Act-Revenue\n",
    "- For better presentation label Year as T (temporal type)\n",
    "- Plot another line of the same chart that shows the Real-Revenue, make this line red to differentiate between it and the previous line\n",
    "- Let us visualize this difference between real and actual revenue with an area mark. Encode x as year, y as real revenue and y2 as actual revenue\n",
    "- Let us visualize it again with a bar chart where x is the year, y is the real revenue and y2 is the actual revenue\n",
    "- Use color to differentiate bars based on if real revenue is smaller than actual revenue\n",
    "- Add a tooltip showing the actual difference between real revenue and actual revenue"
   ]
  },
  {
   "cell_type": "code",
   "execution_count": 12,
   "metadata": {},
   "outputs": [
    {
     "data": {
      "text/html": [
       "\n",
       "<div id=\"altair-viz-31e74dee906648caa50d2df9ec7b9014\"></div>\n",
       "<script type=\"text/javascript\">\n",
       "  (function(spec, embedOpt){\n",
       "    let outputDiv = document.currentScript.previousElementSibling;\n",
       "    if (outputDiv.id !== \"altair-viz-31e74dee906648caa50d2df9ec7b9014\") {\n",
       "      outputDiv = document.getElementById(\"altair-viz-31e74dee906648caa50d2df9ec7b9014\");\n",
       "    }\n",
       "    const paths = {\n",
       "      \"vega\": \"https://cdn.jsdelivr.net/npm//vega@5?noext\",\n",
       "      \"vega-lib\": \"https://cdn.jsdelivr.net/npm//vega-lib?noext\",\n",
       "      \"vega-lite\": \"https://cdn.jsdelivr.net/npm//vega-lite@4.8.1?noext\",\n",
       "      \"vega-embed\": \"https://cdn.jsdelivr.net/npm//vega-embed@6?noext\",\n",
       "    };\n",
       "\n",
       "    function loadScript(lib) {\n",
       "      return new Promise(function(resolve, reject) {\n",
       "        var s = document.createElement('script');\n",
       "        s.src = paths[lib];\n",
       "        s.async = true;\n",
       "        s.onload = () => resolve(paths[lib]);\n",
       "        s.onerror = () => reject(`Error loading script: ${paths[lib]}`);\n",
       "        document.getElementsByTagName(\"head\")[0].appendChild(s);\n",
       "      });\n",
       "    }\n",
       "\n",
       "    function showError(err) {\n",
       "      outputDiv.innerHTML = `<div class=\"error\" style=\"color:red;\">${err}</div>`;\n",
       "      throw err;\n",
       "    }\n",
       "\n",
       "    function displayChart(vegaEmbed) {\n",
       "      vegaEmbed(outputDiv, spec, embedOpt)\n",
       "        .catch(err => showError(`Javascript Error: ${err.message}<br>This usually means there's a typo in your chart specification. See the javascript console for the full traceback.`));\n",
       "    }\n",
       "\n",
       "    if(typeof define === \"function\" && define.amd) {\n",
       "      requirejs.config({paths});\n",
       "      require([\"vega-embed\"], displayChart, err => showError(`Error loading script: ${err.message}`));\n",
       "    } else if (typeof vegaEmbed === \"function\") {\n",
       "      displayChart(vegaEmbed);\n",
       "    } else {\n",
       "      loadScript(\"vega\")\n",
       "        .then(() => loadScript(\"vega-lite\"))\n",
       "        .then(() => loadScript(\"vega-embed\"))\n",
       "        .catch(showError)\n",
       "        .then(() => displayChart(vegaEmbed));\n",
       "    }\n",
       "  })({\"config\": {\"view\": {\"continuousWidth\": 400, \"continuousHeight\": 300}}, \"data\": {\"name\": \"data-e85553bf9b73d4da9895a4c68afef039\"}, \"mark\": \"line\", \"encoding\": {\"x\": {\"type\": \"nominal\", \"field\": \"Year\"}, \"y\": {\"type\": \"quantitative\", \"field\": \"Act-Revenue\"}}, \"$schema\": \"https://vega.github.io/schema/vega-lite/v4.8.1.json\", \"datasets\": {\"data-e85553bf9b73d4da9895a4c68afef039\": [{\"Year\": \"1975\", \"Coded Year\": 0, \"Act-Revenue\": 5.0, \"CPI-U\": 53.8, \"Real-Revenue\": 9.3}, {\"Year\": \"1976\", \"Coded Year\": 1, \"Act-Revenue\": 5.4, \"CPI-U\": 56.9, \"Real-Revenue\": 9.5}, {\"Year\": \"1977\", \"Coded Year\": 2, \"Act-Revenue\": 6.0, \"CPI-U\": 60.6, \"Real-Revenue\": 9.9}, {\"Year\": \"1978\", \"Coded Year\": 3, \"Act-Revenue\": 7.0, \"CPI-U\": 65.2, \"Real-Revenue\": 10.7}, {\"Year\": \"1979\", \"Coded Year\": 4, \"Act-Revenue\": 8.0, \"CPI-U\": 72.6, \"Real-Revenue\": 11.0}, {\"Year\": \"1980\", \"Coded Year\": 5, \"Act-Revenue\": 9.7, \"CPI-U\": 82.4, \"Real-Revenue\": 11.8}, {\"Year\": \"1981\", \"Coded Year\": 6, \"Act-Revenue\": 10.3, \"CPI-U\": 90.9, \"Real-Revenue\": 11.3}, {\"Year\": \"1982\", \"Coded Year\": 7, \"Act-Revenue\": 10.8, \"CPI-U\": 96.5, \"Real-Revenue\": 11.2}, {\"Year\": \"1983\", \"Coded Year\": 8, \"Act-Revenue\": 10.2, \"CPI-U\": 99.6, \"Real-Revenue\": 10.2}, {\"Year\": \"1984\", \"Coded Year\": 9, \"Act-Revenue\": 10.6, \"CPI-U\": 103.9, \"Real-Revenue\": 10.2}, {\"Year\": \"1985\", \"Coded Year\": 10, \"Act-Revenue\": 10.6, \"CPI-U\": 107.6, \"Real-Revenue\": 9.9}, {\"Year\": \"1986\", \"Coded Year\": 11, \"Act-Revenue\": 11.5, \"CPI-U\": 109.6, \"Real-Revenue\": 10.5}, {\"Year\": \"1987\", \"Coded Year\": 12, \"Act-Revenue\": 13.3, \"CPI-U\": 113.6, \"Real-Revenue\": 11.7}, {\"Year\": \"1988\", \"Coded Year\": 13, \"Act-Revenue\": 17.0, \"CPI-U\": 118.3, \"Real-Revenue\": 14.4}, {\"Year\": \"1989\", \"Coded Year\": 14, \"Act-Revenue\": 18.4, \"CPI-U\": 124.0, \"Real-Revenue\": 14.8}, {\"Year\": \"1990\", \"Coded Year\": 15, \"Act-Revenue\": 18.9, \"CPI-U\": 130.7, \"Real-Revenue\": 14.5}, {\"Year\": \"1991\", \"Coded Year\": 16, \"Act-Revenue\": 19.4, \"CPI-U\": 136.2, \"Real-Revenue\": 14.2}, {\"Year\": \"1992\", \"Coded Year\": 17, \"Act-Revenue\": 20.2, \"CPI-U\": 140.3, \"Real-Revenue\": 14.4}, {\"Year\": \"1993\", \"Coded Year\": 18, \"Act-Revenue\": 16.3, \"CPI-U\": 144.5, \"Real-Revenue\": 11.3}, {\"Year\": \"1994\", \"Coded Year\": 19, \"Act-Revenue\": 13.7, \"CPI-U\": 148.2, \"Real-Revenue\": 9.2}, {\"Year\": \"1995\", \"Coded Year\": 20, \"Act-Revenue\": 15.3, \"CPI-U\": 152.4, \"Real-Revenue\": 10.0}, {\"Year\": \"1996\", \"Coded Year\": 21, \"Act-Revenue\": 16.2, \"CPI-U\": 156.9, \"Real-Revenue\": 10.3}]}}, {\"mode\": \"vega-lite\"});\n",
       "</script>"
      ],
      "text/plain": [
       "alt.Chart(...)"
      ]
     },
     "execution_count": 12,
     "metadata": {},
     "output_type": "execute_result"
    }
   ],
   "source": [
    "c1 = alt.Chart(data).mark_line().encode(x='Year', y='Act-Revenue')\n",
    "c1"
   ]
  },
  {
   "cell_type": "code",
   "execution_count": 13,
   "metadata": {},
   "outputs": [
    {
     "data": {
      "text/html": [
       "\n",
       "<div id=\"altair-viz-04278a855e494f678c8ed306e1d3e494\"></div>\n",
       "<script type=\"text/javascript\">\n",
       "  (function(spec, embedOpt){\n",
       "    let outputDiv = document.currentScript.previousElementSibling;\n",
       "    if (outputDiv.id !== \"altair-viz-04278a855e494f678c8ed306e1d3e494\") {\n",
       "      outputDiv = document.getElementById(\"altair-viz-04278a855e494f678c8ed306e1d3e494\");\n",
       "    }\n",
       "    const paths = {\n",
       "      \"vega\": \"https://cdn.jsdelivr.net/npm//vega@5?noext\",\n",
       "      \"vega-lib\": \"https://cdn.jsdelivr.net/npm//vega-lib?noext\",\n",
       "      \"vega-lite\": \"https://cdn.jsdelivr.net/npm//vega-lite@4.8.1?noext\",\n",
       "      \"vega-embed\": \"https://cdn.jsdelivr.net/npm//vega-embed@6?noext\",\n",
       "    };\n",
       "\n",
       "    function loadScript(lib) {\n",
       "      return new Promise(function(resolve, reject) {\n",
       "        var s = document.createElement('script');\n",
       "        s.src = paths[lib];\n",
       "        s.async = true;\n",
       "        s.onload = () => resolve(paths[lib]);\n",
       "        s.onerror = () => reject(`Error loading script: ${paths[lib]}`);\n",
       "        document.getElementsByTagName(\"head\")[0].appendChild(s);\n",
       "      });\n",
       "    }\n",
       "\n",
       "    function showError(err) {\n",
       "      outputDiv.innerHTML = `<div class=\"error\" style=\"color:red;\">${err}</div>`;\n",
       "      throw err;\n",
       "    }\n",
       "\n",
       "    function displayChart(vegaEmbed) {\n",
       "      vegaEmbed(outputDiv, spec, embedOpt)\n",
       "        .catch(err => showError(`Javascript Error: ${err.message}<br>This usually means there's a typo in your chart specification. See the javascript console for the full traceback.`));\n",
       "    }\n",
       "\n",
       "    if(typeof define === \"function\" && define.amd) {\n",
       "      requirejs.config({paths});\n",
       "      require([\"vega-embed\"], displayChart, err => showError(`Error loading script: ${err.message}`));\n",
       "    } else if (typeof vegaEmbed === \"function\") {\n",
       "      displayChart(vegaEmbed);\n",
       "    } else {\n",
       "      loadScript(\"vega\")\n",
       "        .then(() => loadScript(\"vega-lite\"))\n",
       "        .then(() => loadScript(\"vega-embed\"))\n",
       "        .catch(showError)\n",
       "        .then(() => displayChart(vegaEmbed));\n",
       "    }\n",
       "  })({\"config\": {\"view\": {\"continuousWidth\": 400, \"continuousHeight\": 300}}, \"data\": {\"name\": \"data-e85553bf9b73d4da9895a4c68afef039\"}, \"mark\": \"line\", \"encoding\": {\"x\": {\"type\": \"temporal\", \"field\": \"Year\"}, \"y\": {\"type\": \"quantitative\", \"field\": \"Act-Revenue\"}}, \"$schema\": \"https://vega.github.io/schema/vega-lite/v4.8.1.json\", \"datasets\": {\"data-e85553bf9b73d4da9895a4c68afef039\": [{\"Year\": \"1975\", \"Coded Year\": 0, \"Act-Revenue\": 5.0, \"CPI-U\": 53.8, \"Real-Revenue\": 9.3}, {\"Year\": \"1976\", \"Coded Year\": 1, \"Act-Revenue\": 5.4, \"CPI-U\": 56.9, \"Real-Revenue\": 9.5}, {\"Year\": \"1977\", \"Coded Year\": 2, \"Act-Revenue\": 6.0, \"CPI-U\": 60.6, \"Real-Revenue\": 9.9}, {\"Year\": \"1978\", \"Coded Year\": 3, \"Act-Revenue\": 7.0, \"CPI-U\": 65.2, \"Real-Revenue\": 10.7}, {\"Year\": \"1979\", \"Coded Year\": 4, \"Act-Revenue\": 8.0, \"CPI-U\": 72.6, \"Real-Revenue\": 11.0}, {\"Year\": \"1980\", \"Coded Year\": 5, \"Act-Revenue\": 9.7, \"CPI-U\": 82.4, \"Real-Revenue\": 11.8}, {\"Year\": \"1981\", \"Coded Year\": 6, \"Act-Revenue\": 10.3, \"CPI-U\": 90.9, \"Real-Revenue\": 11.3}, {\"Year\": \"1982\", \"Coded Year\": 7, \"Act-Revenue\": 10.8, \"CPI-U\": 96.5, \"Real-Revenue\": 11.2}, {\"Year\": \"1983\", \"Coded Year\": 8, \"Act-Revenue\": 10.2, \"CPI-U\": 99.6, \"Real-Revenue\": 10.2}, {\"Year\": \"1984\", \"Coded Year\": 9, \"Act-Revenue\": 10.6, \"CPI-U\": 103.9, \"Real-Revenue\": 10.2}, {\"Year\": \"1985\", \"Coded Year\": 10, \"Act-Revenue\": 10.6, \"CPI-U\": 107.6, \"Real-Revenue\": 9.9}, {\"Year\": \"1986\", \"Coded Year\": 11, \"Act-Revenue\": 11.5, \"CPI-U\": 109.6, \"Real-Revenue\": 10.5}, {\"Year\": \"1987\", \"Coded Year\": 12, \"Act-Revenue\": 13.3, \"CPI-U\": 113.6, \"Real-Revenue\": 11.7}, {\"Year\": \"1988\", \"Coded Year\": 13, \"Act-Revenue\": 17.0, \"CPI-U\": 118.3, \"Real-Revenue\": 14.4}, {\"Year\": \"1989\", \"Coded Year\": 14, \"Act-Revenue\": 18.4, \"CPI-U\": 124.0, \"Real-Revenue\": 14.8}, {\"Year\": \"1990\", \"Coded Year\": 15, \"Act-Revenue\": 18.9, \"CPI-U\": 130.7, \"Real-Revenue\": 14.5}, {\"Year\": \"1991\", \"Coded Year\": 16, \"Act-Revenue\": 19.4, \"CPI-U\": 136.2, \"Real-Revenue\": 14.2}, {\"Year\": \"1992\", \"Coded Year\": 17, \"Act-Revenue\": 20.2, \"CPI-U\": 140.3, \"Real-Revenue\": 14.4}, {\"Year\": \"1993\", \"Coded Year\": 18, \"Act-Revenue\": 16.3, \"CPI-U\": 144.5, \"Real-Revenue\": 11.3}, {\"Year\": \"1994\", \"Coded Year\": 19, \"Act-Revenue\": 13.7, \"CPI-U\": 148.2, \"Real-Revenue\": 9.2}, {\"Year\": \"1995\", \"Coded Year\": 20, \"Act-Revenue\": 15.3, \"CPI-U\": 152.4, \"Real-Revenue\": 10.0}, {\"Year\": \"1996\", \"Coded Year\": 21, \"Act-Revenue\": 16.2, \"CPI-U\": 156.9, \"Real-Revenue\": 10.3}]}}, {\"mode\": \"vega-lite\"});\n",
       "</script>"
      ],
      "text/plain": [
       "alt.Chart(...)"
      ]
     },
     "execution_count": 13,
     "metadata": {},
     "output_type": "execute_result"
    }
   ],
   "source": [
    "c2 = alt.Chart(data).mark_line().encode(x='Year:T', y='Act-Revenue')\n",
    "c2"
   ]
  },
  {
   "cell_type": "code",
   "execution_count": 18,
   "metadata": {},
   "outputs": [
    {
     "data": {
      "text/html": [
       "\n",
       "<div id=\"altair-viz-61f20ad117ec4033be19b9ed7c8d472e\"></div>\n",
       "<script type=\"text/javascript\">\n",
       "  (function(spec, embedOpt){\n",
       "    let outputDiv = document.currentScript.previousElementSibling;\n",
       "    if (outputDiv.id !== \"altair-viz-61f20ad117ec4033be19b9ed7c8d472e\") {\n",
       "      outputDiv = document.getElementById(\"altair-viz-61f20ad117ec4033be19b9ed7c8d472e\");\n",
       "    }\n",
       "    const paths = {\n",
       "      \"vega\": \"https://cdn.jsdelivr.net/npm//vega@5?noext\",\n",
       "      \"vega-lib\": \"https://cdn.jsdelivr.net/npm//vega-lib?noext\",\n",
       "      \"vega-lite\": \"https://cdn.jsdelivr.net/npm//vega-lite@4.8.1?noext\",\n",
       "      \"vega-embed\": \"https://cdn.jsdelivr.net/npm//vega-embed@6?noext\",\n",
       "    };\n",
       "\n",
       "    function loadScript(lib) {\n",
       "      return new Promise(function(resolve, reject) {\n",
       "        var s = document.createElement('script');\n",
       "        s.src = paths[lib];\n",
       "        s.async = true;\n",
       "        s.onload = () => resolve(paths[lib]);\n",
       "        s.onerror = () => reject(`Error loading script: ${paths[lib]}`);\n",
       "        document.getElementsByTagName(\"head\")[0].appendChild(s);\n",
       "      });\n",
       "    }\n",
       "\n",
       "    function showError(err) {\n",
       "      outputDiv.innerHTML = `<div class=\"error\" style=\"color:red;\">${err}</div>`;\n",
       "      throw err;\n",
       "    }\n",
       "\n",
       "    function displayChart(vegaEmbed) {\n",
       "      vegaEmbed(outputDiv, spec, embedOpt)\n",
       "        .catch(err => showError(`Javascript Error: ${err.message}<br>This usually means there's a typo in your chart specification. See the javascript console for the full traceback.`));\n",
       "    }\n",
       "\n",
       "    if(typeof define === \"function\" && define.amd) {\n",
       "      requirejs.config({paths});\n",
       "      require([\"vega-embed\"], displayChart, err => showError(`Error loading script: ${err.message}`));\n",
       "    } else if (typeof vegaEmbed === \"function\") {\n",
       "      displayChart(vegaEmbed);\n",
       "    } else {\n",
       "      loadScript(\"vega\")\n",
       "        .then(() => loadScript(\"vega-lite\"))\n",
       "        .then(() => loadScript(\"vega-embed\"))\n",
       "        .catch(showError)\n",
       "        .then(() => displayChart(vegaEmbed));\n",
       "    }\n",
       "  })({\"config\": {\"view\": {\"continuousWidth\": 400, \"continuousHeight\": 300}}, \"layer\": [{\"mark\": \"line\", \"encoding\": {\"x\": {\"type\": \"temporal\", \"field\": \"Year\"}, \"y\": {\"type\": \"quantitative\", \"field\": \"Act-Revenue\"}}}, {\"mark\": {\"type\": \"line\", \"color\": \"red\"}, \"encoding\": {\"x\": {\"type\": \"temporal\", \"field\": \"Year\"}, \"y\": {\"type\": \"quantitative\", \"field\": \"Real-Revenue\"}}}], \"data\": {\"name\": \"data-e85553bf9b73d4da9895a4c68afef039\"}, \"$schema\": \"https://vega.github.io/schema/vega-lite/v4.8.1.json\", \"datasets\": {\"data-e85553bf9b73d4da9895a4c68afef039\": [{\"Year\": \"1975\", \"Coded Year\": 0, \"Act-Revenue\": 5.0, \"CPI-U\": 53.8, \"Real-Revenue\": 9.3}, {\"Year\": \"1976\", \"Coded Year\": 1, \"Act-Revenue\": 5.4, \"CPI-U\": 56.9, \"Real-Revenue\": 9.5}, {\"Year\": \"1977\", \"Coded Year\": 2, \"Act-Revenue\": 6.0, \"CPI-U\": 60.6, \"Real-Revenue\": 9.9}, {\"Year\": \"1978\", \"Coded Year\": 3, \"Act-Revenue\": 7.0, \"CPI-U\": 65.2, \"Real-Revenue\": 10.7}, {\"Year\": \"1979\", \"Coded Year\": 4, \"Act-Revenue\": 8.0, \"CPI-U\": 72.6, \"Real-Revenue\": 11.0}, {\"Year\": \"1980\", \"Coded Year\": 5, \"Act-Revenue\": 9.7, \"CPI-U\": 82.4, \"Real-Revenue\": 11.8}, {\"Year\": \"1981\", \"Coded Year\": 6, \"Act-Revenue\": 10.3, \"CPI-U\": 90.9, \"Real-Revenue\": 11.3}, {\"Year\": \"1982\", \"Coded Year\": 7, \"Act-Revenue\": 10.8, \"CPI-U\": 96.5, \"Real-Revenue\": 11.2}, {\"Year\": \"1983\", \"Coded Year\": 8, \"Act-Revenue\": 10.2, \"CPI-U\": 99.6, \"Real-Revenue\": 10.2}, {\"Year\": \"1984\", \"Coded Year\": 9, \"Act-Revenue\": 10.6, \"CPI-U\": 103.9, \"Real-Revenue\": 10.2}, {\"Year\": \"1985\", \"Coded Year\": 10, \"Act-Revenue\": 10.6, \"CPI-U\": 107.6, \"Real-Revenue\": 9.9}, {\"Year\": \"1986\", \"Coded Year\": 11, \"Act-Revenue\": 11.5, \"CPI-U\": 109.6, \"Real-Revenue\": 10.5}, {\"Year\": \"1987\", \"Coded Year\": 12, \"Act-Revenue\": 13.3, \"CPI-U\": 113.6, \"Real-Revenue\": 11.7}, {\"Year\": \"1988\", \"Coded Year\": 13, \"Act-Revenue\": 17.0, \"CPI-U\": 118.3, \"Real-Revenue\": 14.4}, {\"Year\": \"1989\", \"Coded Year\": 14, \"Act-Revenue\": 18.4, \"CPI-U\": 124.0, \"Real-Revenue\": 14.8}, {\"Year\": \"1990\", \"Coded Year\": 15, \"Act-Revenue\": 18.9, \"CPI-U\": 130.7, \"Real-Revenue\": 14.5}, {\"Year\": \"1991\", \"Coded Year\": 16, \"Act-Revenue\": 19.4, \"CPI-U\": 136.2, \"Real-Revenue\": 14.2}, {\"Year\": \"1992\", \"Coded Year\": 17, \"Act-Revenue\": 20.2, \"CPI-U\": 140.3, \"Real-Revenue\": 14.4}, {\"Year\": \"1993\", \"Coded Year\": 18, \"Act-Revenue\": 16.3, \"CPI-U\": 144.5, \"Real-Revenue\": 11.3}, {\"Year\": \"1994\", \"Coded Year\": 19, \"Act-Revenue\": 13.7, \"CPI-U\": 148.2, \"Real-Revenue\": 9.2}, {\"Year\": \"1995\", \"Coded Year\": 20, \"Act-Revenue\": 15.3, \"CPI-U\": 152.4, \"Real-Revenue\": 10.0}, {\"Year\": \"1996\", \"Coded Year\": 21, \"Act-Revenue\": 16.2, \"CPI-U\": 156.9, \"Real-Revenue\": 10.3}]}}, {\"mode\": \"vega-lite\"});\n",
       "</script>"
      ],
      "text/plain": [
       "alt.LayerChart(...)"
      ]
     },
     "execution_count": 18,
     "metadata": {},
     "output_type": "execute_result"
    }
   ],
   "source": [
    "c3 = alt.Chart(data).mark_line(color='red').encode(x='Year:T', y='Real-Revenue')\n",
    "c2 + c3"
   ]
  },
  {
   "cell_type": "code",
   "execution_count": 19,
   "metadata": {},
   "outputs": [
    {
     "data": {
      "text/html": [
       "\n",
       "<div id=\"altair-viz-81916c19f54e4138b66743e56bdae626\"></div>\n",
       "<script type=\"text/javascript\">\n",
       "  (function(spec, embedOpt){\n",
       "    let outputDiv = document.currentScript.previousElementSibling;\n",
       "    if (outputDiv.id !== \"altair-viz-81916c19f54e4138b66743e56bdae626\") {\n",
       "      outputDiv = document.getElementById(\"altair-viz-81916c19f54e4138b66743e56bdae626\");\n",
       "    }\n",
       "    const paths = {\n",
       "      \"vega\": \"https://cdn.jsdelivr.net/npm//vega@5?noext\",\n",
       "      \"vega-lib\": \"https://cdn.jsdelivr.net/npm//vega-lib?noext\",\n",
       "      \"vega-lite\": \"https://cdn.jsdelivr.net/npm//vega-lite@4.8.1?noext\",\n",
       "      \"vega-embed\": \"https://cdn.jsdelivr.net/npm//vega-embed@6?noext\",\n",
       "    };\n",
       "\n",
       "    function loadScript(lib) {\n",
       "      return new Promise(function(resolve, reject) {\n",
       "        var s = document.createElement('script');\n",
       "        s.src = paths[lib];\n",
       "        s.async = true;\n",
       "        s.onload = () => resolve(paths[lib]);\n",
       "        s.onerror = () => reject(`Error loading script: ${paths[lib]}`);\n",
       "        document.getElementsByTagName(\"head\")[0].appendChild(s);\n",
       "      });\n",
       "    }\n",
       "\n",
       "    function showError(err) {\n",
       "      outputDiv.innerHTML = `<div class=\"error\" style=\"color:red;\">${err}</div>`;\n",
       "      throw err;\n",
       "    }\n",
       "\n",
       "    function displayChart(vegaEmbed) {\n",
       "      vegaEmbed(outputDiv, spec, embedOpt)\n",
       "        .catch(err => showError(`Javascript Error: ${err.message}<br>This usually means there's a typo in your chart specification. See the javascript console for the full traceback.`));\n",
       "    }\n",
       "\n",
       "    if(typeof define === \"function\" && define.amd) {\n",
       "      requirejs.config({paths});\n",
       "      require([\"vega-embed\"], displayChart, err => showError(`Error loading script: ${err.message}`));\n",
       "    } else if (typeof vegaEmbed === \"function\") {\n",
       "      displayChart(vegaEmbed);\n",
       "    } else {\n",
       "      loadScript(\"vega\")\n",
       "        .then(() => loadScript(\"vega-lite\"))\n",
       "        .then(() => loadScript(\"vega-embed\"))\n",
       "        .catch(showError)\n",
       "        .then(() => displayChart(vegaEmbed));\n",
       "    }\n",
       "  })({\"config\": {\"view\": {\"continuousWidth\": 400, \"continuousHeight\": 300}}, \"data\": {\"name\": \"data-e85553bf9b73d4da9895a4c68afef039\"}, \"mark\": \"area\", \"encoding\": {\"x\": {\"type\": \"temporal\", \"field\": \"Year\"}, \"y\": {\"type\": \"quantitative\", \"field\": \"Real-Revenue\"}, \"y2\": {\"field\": \"Act-Revenue\"}}, \"$schema\": \"https://vega.github.io/schema/vega-lite/v4.8.1.json\", \"datasets\": {\"data-e85553bf9b73d4da9895a4c68afef039\": [{\"Year\": \"1975\", \"Coded Year\": 0, \"Act-Revenue\": 5.0, \"CPI-U\": 53.8, \"Real-Revenue\": 9.3}, {\"Year\": \"1976\", \"Coded Year\": 1, \"Act-Revenue\": 5.4, \"CPI-U\": 56.9, \"Real-Revenue\": 9.5}, {\"Year\": \"1977\", \"Coded Year\": 2, \"Act-Revenue\": 6.0, \"CPI-U\": 60.6, \"Real-Revenue\": 9.9}, {\"Year\": \"1978\", \"Coded Year\": 3, \"Act-Revenue\": 7.0, \"CPI-U\": 65.2, \"Real-Revenue\": 10.7}, {\"Year\": \"1979\", \"Coded Year\": 4, \"Act-Revenue\": 8.0, \"CPI-U\": 72.6, \"Real-Revenue\": 11.0}, {\"Year\": \"1980\", \"Coded Year\": 5, \"Act-Revenue\": 9.7, \"CPI-U\": 82.4, \"Real-Revenue\": 11.8}, {\"Year\": \"1981\", \"Coded Year\": 6, \"Act-Revenue\": 10.3, \"CPI-U\": 90.9, \"Real-Revenue\": 11.3}, {\"Year\": \"1982\", \"Coded Year\": 7, \"Act-Revenue\": 10.8, \"CPI-U\": 96.5, \"Real-Revenue\": 11.2}, {\"Year\": \"1983\", \"Coded Year\": 8, \"Act-Revenue\": 10.2, \"CPI-U\": 99.6, \"Real-Revenue\": 10.2}, {\"Year\": \"1984\", \"Coded Year\": 9, \"Act-Revenue\": 10.6, \"CPI-U\": 103.9, \"Real-Revenue\": 10.2}, {\"Year\": \"1985\", \"Coded Year\": 10, \"Act-Revenue\": 10.6, \"CPI-U\": 107.6, \"Real-Revenue\": 9.9}, {\"Year\": \"1986\", \"Coded Year\": 11, \"Act-Revenue\": 11.5, \"CPI-U\": 109.6, \"Real-Revenue\": 10.5}, {\"Year\": \"1987\", \"Coded Year\": 12, \"Act-Revenue\": 13.3, \"CPI-U\": 113.6, \"Real-Revenue\": 11.7}, {\"Year\": \"1988\", \"Coded Year\": 13, \"Act-Revenue\": 17.0, \"CPI-U\": 118.3, \"Real-Revenue\": 14.4}, {\"Year\": \"1989\", \"Coded Year\": 14, \"Act-Revenue\": 18.4, \"CPI-U\": 124.0, \"Real-Revenue\": 14.8}, {\"Year\": \"1990\", \"Coded Year\": 15, \"Act-Revenue\": 18.9, \"CPI-U\": 130.7, \"Real-Revenue\": 14.5}, {\"Year\": \"1991\", \"Coded Year\": 16, \"Act-Revenue\": 19.4, \"CPI-U\": 136.2, \"Real-Revenue\": 14.2}, {\"Year\": \"1992\", \"Coded Year\": 17, \"Act-Revenue\": 20.2, \"CPI-U\": 140.3, \"Real-Revenue\": 14.4}, {\"Year\": \"1993\", \"Coded Year\": 18, \"Act-Revenue\": 16.3, \"CPI-U\": 144.5, \"Real-Revenue\": 11.3}, {\"Year\": \"1994\", \"Coded Year\": 19, \"Act-Revenue\": 13.7, \"CPI-U\": 148.2, \"Real-Revenue\": 9.2}, {\"Year\": \"1995\", \"Coded Year\": 20, \"Act-Revenue\": 15.3, \"CPI-U\": 152.4, \"Real-Revenue\": 10.0}, {\"Year\": \"1996\", \"Coded Year\": 21, \"Act-Revenue\": 16.2, \"CPI-U\": 156.9, \"Real-Revenue\": 10.3}]}}, {\"mode\": \"vega-lite\"});\n",
       "</script>"
      ],
      "text/plain": [
       "alt.Chart(...)"
      ]
     },
     "execution_count": 19,
     "metadata": {},
     "output_type": "execute_result"
    }
   ],
   "source": [
    "alt.Chart(data).mark_area().encode(x='Year:T',  y='Real-Revenue', y2='Act-Revenue')"
   ]
  },
  {
   "cell_type": "code",
   "execution_count": 20,
   "metadata": {},
   "outputs": [
    {
     "data": {
      "text/html": [
       "\n",
       "<div id=\"altair-viz-711e05232e184ff88e5ad180cfadcddc\"></div>\n",
       "<script type=\"text/javascript\">\n",
       "  (function(spec, embedOpt){\n",
       "    let outputDiv = document.currentScript.previousElementSibling;\n",
       "    if (outputDiv.id !== \"altair-viz-711e05232e184ff88e5ad180cfadcddc\") {\n",
       "      outputDiv = document.getElementById(\"altair-viz-711e05232e184ff88e5ad180cfadcddc\");\n",
       "    }\n",
       "    const paths = {\n",
       "      \"vega\": \"https://cdn.jsdelivr.net/npm//vega@5?noext\",\n",
       "      \"vega-lib\": \"https://cdn.jsdelivr.net/npm//vega-lib?noext\",\n",
       "      \"vega-lite\": \"https://cdn.jsdelivr.net/npm//vega-lite@4.8.1?noext\",\n",
       "      \"vega-embed\": \"https://cdn.jsdelivr.net/npm//vega-embed@6?noext\",\n",
       "    };\n",
       "\n",
       "    function loadScript(lib) {\n",
       "      return new Promise(function(resolve, reject) {\n",
       "        var s = document.createElement('script');\n",
       "        s.src = paths[lib];\n",
       "        s.async = true;\n",
       "        s.onload = () => resolve(paths[lib]);\n",
       "        s.onerror = () => reject(`Error loading script: ${paths[lib]}`);\n",
       "        document.getElementsByTagName(\"head\")[0].appendChild(s);\n",
       "      });\n",
       "    }\n",
       "\n",
       "    function showError(err) {\n",
       "      outputDiv.innerHTML = `<div class=\"error\" style=\"color:red;\">${err}</div>`;\n",
       "      throw err;\n",
       "    }\n",
       "\n",
       "    function displayChart(vegaEmbed) {\n",
       "      vegaEmbed(outputDiv, spec, embedOpt)\n",
       "        .catch(err => showError(`Javascript Error: ${err.message}<br>This usually means there's a typo in your chart specification. See the javascript console for the full traceback.`));\n",
       "    }\n",
       "\n",
       "    if(typeof define === \"function\" && define.amd) {\n",
       "      requirejs.config({paths});\n",
       "      require([\"vega-embed\"], displayChart, err => showError(`Error loading script: ${err.message}`));\n",
       "    } else if (typeof vegaEmbed === \"function\") {\n",
       "      displayChart(vegaEmbed);\n",
       "    } else {\n",
       "      loadScript(\"vega\")\n",
       "        .then(() => loadScript(\"vega-lite\"))\n",
       "        .then(() => loadScript(\"vega-embed\"))\n",
       "        .catch(showError)\n",
       "        .then(() => displayChart(vegaEmbed));\n",
       "    }\n",
       "  })({\"config\": {\"view\": {\"continuousWidth\": 400, \"continuousHeight\": 300}}, \"data\": {\"name\": \"data-e85553bf9b73d4da9895a4c68afef039\"}, \"mark\": \"bar\", \"encoding\": {\"x\": {\"type\": \"temporal\", \"field\": \"Year\"}, \"y\": {\"type\": \"quantitative\", \"field\": \"Real-Revenue\"}, \"y2\": {\"field\": \"Act-Revenue\"}}, \"$schema\": \"https://vega.github.io/schema/vega-lite/v4.8.1.json\", \"datasets\": {\"data-e85553bf9b73d4da9895a4c68afef039\": [{\"Year\": \"1975\", \"Coded Year\": 0, \"Act-Revenue\": 5.0, \"CPI-U\": 53.8, \"Real-Revenue\": 9.3}, {\"Year\": \"1976\", \"Coded Year\": 1, \"Act-Revenue\": 5.4, \"CPI-U\": 56.9, \"Real-Revenue\": 9.5}, {\"Year\": \"1977\", \"Coded Year\": 2, \"Act-Revenue\": 6.0, \"CPI-U\": 60.6, \"Real-Revenue\": 9.9}, {\"Year\": \"1978\", \"Coded Year\": 3, \"Act-Revenue\": 7.0, \"CPI-U\": 65.2, \"Real-Revenue\": 10.7}, {\"Year\": \"1979\", \"Coded Year\": 4, \"Act-Revenue\": 8.0, \"CPI-U\": 72.6, \"Real-Revenue\": 11.0}, {\"Year\": \"1980\", \"Coded Year\": 5, \"Act-Revenue\": 9.7, \"CPI-U\": 82.4, \"Real-Revenue\": 11.8}, {\"Year\": \"1981\", \"Coded Year\": 6, \"Act-Revenue\": 10.3, \"CPI-U\": 90.9, \"Real-Revenue\": 11.3}, {\"Year\": \"1982\", \"Coded Year\": 7, \"Act-Revenue\": 10.8, \"CPI-U\": 96.5, \"Real-Revenue\": 11.2}, {\"Year\": \"1983\", \"Coded Year\": 8, \"Act-Revenue\": 10.2, \"CPI-U\": 99.6, \"Real-Revenue\": 10.2}, {\"Year\": \"1984\", \"Coded Year\": 9, \"Act-Revenue\": 10.6, \"CPI-U\": 103.9, \"Real-Revenue\": 10.2}, {\"Year\": \"1985\", \"Coded Year\": 10, \"Act-Revenue\": 10.6, \"CPI-U\": 107.6, \"Real-Revenue\": 9.9}, {\"Year\": \"1986\", \"Coded Year\": 11, \"Act-Revenue\": 11.5, \"CPI-U\": 109.6, \"Real-Revenue\": 10.5}, {\"Year\": \"1987\", \"Coded Year\": 12, \"Act-Revenue\": 13.3, \"CPI-U\": 113.6, \"Real-Revenue\": 11.7}, {\"Year\": \"1988\", \"Coded Year\": 13, \"Act-Revenue\": 17.0, \"CPI-U\": 118.3, \"Real-Revenue\": 14.4}, {\"Year\": \"1989\", \"Coded Year\": 14, \"Act-Revenue\": 18.4, \"CPI-U\": 124.0, \"Real-Revenue\": 14.8}, {\"Year\": \"1990\", \"Coded Year\": 15, \"Act-Revenue\": 18.9, \"CPI-U\": 130.7, \"Real-Revenue\": 14.5}, {\"Year\": \"1991\", \"Coded Year\": 16, \"Act-Revenue\": 19.4, \"CPI-U\": 136.2, \"Real-Revenue\": 14.2}, {\"Year\": \"1992\", \"Coded Year\": 17, \"Act-Revenue\": 20.2, \"CPI-U\": 140.3, \"Real-Revenue\": 14.4}, {\"Year\": \"1993\", \"Coded Year\": 18, \"Act-Revenue\": 16.3, \"CPI-U\": 144.5, \"Real-Revenue\": 11.3}, {\"Year\": \"1994\", \"Coded Year\": 19, \"Act-Revenue\": 13.7, \"CPI-U\": 148.2, \"Real-Revenue\": 9.2}, {\"Year\": \"1995\", \"Coded Year\": 20, \"Act-Revenue\": 15.3, \"CPI-U\": 152.4, \"Real-Revenue\": 10.0}, {\"Year\": \"1996\", \"Coded Year\": 21, \"Act-Revenue\": 16.2, \"CPI-U\": 156.9, \"Real-Revenue\": 10.3}]}}, {\"mode\": \"vega-lite\"});\n",
       "</script>"
      ],
      "text/plain": [
       "alt.Chart(...)"
      ]
     },
     "execution_count": 20,
     "metadata": {},
     "output_type": "execute_result"
    }
   ],
   "source": [
    "alt.Chart(data).mark_bar().encode(x='Year:T',  y='Real-Revenue', y2='Act-Revenue')"
   ]
  },
  {
   "cell_type": "code",
   "execution_count": 24,
   "metadata": {},
   "outputs": [
    {
     "data": {
      "text/html": [
       "\n",
       "<div id=\"altair-viz-e83727346d55480e8636b241325bc258\"></div>\n",
       "<script type=\"text/javascript\">\n",
       "  (function(spec, embedOpt){\n",
       "    let outputDiv = document.currentScript.previousElementSibling;\n",
       "    if (outputDiv.id !== \"altair-viz-e83727346d55480e8636b241325bc258\") {\n",
       "      outputDiv = document.getElementById(\"altair-viz-e83727346d55480e8636b241325bc258\");\n",
       "    }\n",
       "    const paths = {\n",
       "      \"vega\": \"https://cdn.jsdelivr.net/npm//vega@5?noext\",\n",
       "      \"vega-lib\": \"https://cdn.jsdelivr.net/npm//vega-lib?noext\",\n",
       "      \"vega-lite\": \"https://cdn.jsdelivr.net/npm//vega-lite@4.8.1?noext\",\n",
       "      \"vega-embed\": \"https://cdn.jsdelivr.net/npm//vega-embed@6?noext\",\n",
       "    };\n",
       "\n",
       "    function loadScript(lib) {\n",
       "      return new Promise(function(resolve, reject) {\n",
       "        var s = document.createElement('script');\n",
       "        s.src = paths[lib];\n",
       "        s.async = true;\n",
       "        s.onload = () => resolve(paths[lib]);\n",
       "        s.onerror = () => reject(`Error loading script: ${paths[lib]}`);\n",
       "        document.getElementsByTagName(\"head\")[0].appendChild(s);\n",
       "      });\n",
       "    }\n",
       "\n",
       "    function showError(err) {\n",
       "      outputDiv.innerHTML = `<div class=\"error\" style=\"color:red;\">${err}</div>`;\n",
       "      throw err;\n",
       "    }\n",
       "\n",
       "    function displayChart(vegaEmbed) {\n",
       "      vegaEmbed(outputDiv, spec, embedOpt)\n",
       "        .catch(err => showError(`Javascript Error: ${err.message}<br>This usually means there's a typo in your chart specification. See the javascript console for the full traceback.`));\n",
       "    }\n",
       "\n",
       "    if(typeof define === \"function\" && define.amd) {\n",
       "      requirejs.config({paths});\n",
       "      require([\"vega-embed\"], displayChart, err => showError(`Error loading script: ${err.message}`));\n",
       "    } else if (typeof vegaEmbed === \"function\") {\n",
       "      displayChart(vegaEmbed);\n",
       "    } else {\n",
       "      loadScript(\"vega\")\n",
       "        .then(() => loadScript(\"vega-lite\"))\n",
       "        .then(() => loadScript(\"vega-embed\"))\n",
       "        .catch(showError)\n",
       "        .then(() => displayChart(vegaEmbed));\n",
       "    }\n",
       "  })({\"config\": {\"view\": {\"continuousWidth\": 400, \"continuousHeight\": 300}}, \"data\": {\"name\": \"data-127c2a2f15fdbb9965975a838a95eb17\"}, \"mark\": \"bar\", \"encoding\": {\"color\": {\"type\": \"nominal\", \"field\": \"Loss\"}, \"x\": {\"type\": \"temporal\", \"field\": \"Year\"}, \"y\": {\"type\": \"quantitative\", \"field\": \"Real-Revenue\"}, \"y2\": {\"field\": \"Act-Revenue\"}}, \"$schema\": \"https://vega.github.io/schema/vega-lite/v4.8.1.json\", \"datasets\": {\"data-127c2a2f15fdbb9965975a838a95eb17\": [{\"Year\": \"1975\", \"Coded Year\": 0, \"Act-Revenue\": 5.0, \"CPI-U\": 53.8, \"Real-Revenue\": 9.3, \"Loss\": false}, {\"Year\": \"1976\", \"Coded Year\": 1, \"Act-Revenue\": 5.4, \"CPI-U\": 56.9, \"Real-Revenue\": 9.5, \"Loss\": false}, {\"Year\": \"1977\", \"Coded Year\": 2, \"Act-Revenue\": 6.0, \"CPI-U\": 60.6, \"Real-Revenue\": 9.9, \"Loss\": false}, {\"Year\": \"1978\", \"Coded Year\": 3, \"Act-Revenue\": 7.0, \"CPI-U\": 65.2, \"Real-Revenue\": 10.7, \"Loss\": false}, {\"Year\": \"1979\", \"Coded Year\": 4, \"Act-Revenue\": 8.0, \"CPI-U\": 72.6, \"Real-Revenue\": 11.0, \"Loss\": false}, {\"Year\": \"1980\", \"Coded Year\": 5, \"Act-Revenue\": 9.7, \"CPI-U\": 82.4, \"Real-Revenue\": 11.8, \"Loss\": false}, {\"Year\": \"1981\", \"Coded Year\": 6, \"Act-Revenue\": 10.3, \"CPI-U\": 90.9, \"Real-Revenue\": 11.3, \"Loss\": false}, {\"Year\": \"1982\", \"Coded Year\": 7, \"Act-Revenue\": 10.8, \"CPI-U\": 96.5, \"Real-Revenue\": 11.2, \"Loss\": false}, {\"Year\": \"1983\", \"Coded Year\": 8, \"Act-Revenue\": 10.2, \"CPI-U\": 99.6, \"Real-Revenue\": 10.2, \"Loss\": false}, {\"Year\": \"1984\", \"Coded Year\": 9, \"Act-Revenue\": 10.6, \"CPI-U\": 103.9, \"Real-Revenue\": 10.2, \"Loss\": true}, {\"Year\": \"1985\", \"Coded Year\": 10, \"Act-Revenue\": 10.6, \"CPI-U\": 107.6, \"Real-Revenue\": 9.9, \"Loss\": true}, {\"Year\": \"1986\", \"Coded Year\": 11, \"Act-Revenue\": 11.5, \"CPI-U\": 109.6, \"Real-Revenue\": 10.5, \"Loss\": true}, {\"Year\": \"1987\", \"Coded Year\": 12, \"Act-Revenue\": 13.3, \"CPI-U\": 113.6, \"Real-Revenue\": 11.7, \"Loss\": true}, {\"Year\": \"1988\", \"Coded Year\": 13, \"Act-Revenue\": 17.0, \"CPI-U\": 118.3, \"Real-Revenue\": 14.4, \"Loss\": true}, {\"Year\": \"1989\", \"Coded Year\": 14, \"Act-Revenue\": 18.4, \"CPI-U\": 124.0, \"Real-Revenue\": 14.8, \"Loss\": true}, {\"Year\": \"1990\", \"Coded Year\": 15, \"Act-Revenue\": 18.9, \"CPI-U\": 130.7, \"Real-Revenue\": 14.5, \"Loss\": true}, {\"Year\": \"1991\", \"Coded Year\": 16, \"Act-Revenue\": 19.4, \"CPI-U\": 136.2, \"Real-Revenue\": 14.2, \"Loss\": true}, {\"Year\": \"1992\", \"Coded Year\": 17, \"Act-Revenue\": 20.2, \"CPI-U\": 140.3, \"Real-Revenue\": 14.4, \"Loss\": true}, {\"Year\": \"1993\", \"Coded Year\": 18, \"Act-Revenue\": 16.3, \"CPI-U\": 144.5, \"Real-Revenue\": 11.3, \"Loss\": true}, {\"Year\": \"1994\", \"Coded Year\": 19, \"Act-Revenue\": 13.7, \"CPI-U\": 148.2, \"Real-Revenue\": 9.2, \"Loss\": true}, {\"Year\": \"1995\", \"Coded Year\": 20, \"Act-Revenue\": 15.3, \"CPI-U\": 152.4, \"Real-Revenue\": 10.0, \"Loss\": true}, {\"Year\": \"1996\", \"Coded Year\": 21, \"Act-Revenue\": 16.2, \"CPI-U\": 156.9, \"Real-Revenue\": 10.3, \"Loss\": true}]}}, {\"mode\": \"vega-lite\"});\n",
       "</script>"
      ],
      "text/plain": [
       "alt.Chart(...)"
      ]
     },
     "execution_count": 24,
     "metadata": {},
     "output_type": "execute_result"
    }
   ],
   "source": [
    "data['Loss'] = data['Real-Revenue'] < data['Act-Revenue']\n",
    "alt.Chart(data).mark_bar().encode(x='Year:T',  y='Real-Revenue', y2='Act-Revenue', color='Loss')"
   ]
  },
  {
   "cell_type": "code",
   "execution_count": 25,
   "metadata": {},
   "outputs": [
    {
     "data": {
      "text/html": [
       "\n",
       "<div id=\"altair-viz-394f66b67f60490e9365f2598d5d1c49\"></div>\n",
       "<script type=\"text/javascript\">\n",
       "  (function(spec, embedOpt){\n",
       "    let outputDiv = document.currentScript.previousElementSibling;\n",
       "    if (outputDiv.id !== \"altair-viz-394f66b67f60490e9365f2598d5d1c49\") {\n",
       "      outputDiv = document.getElementById(\"altair-viz-394f66b67f60490e9365f2598d5d1c49\");\n",
       "    }\n",
       "    const paths = {\n",
       "      \"vega\": \"https://cdn.jsdelivr.net/npm//vega@5?noext\",\n",
       "      \"vega-lib\": \"https://cdn.jsdelivr.net/npm//vega-lib?noext\",\n",
       "      \"vega-lite\": \"https://cdn.jsdelivr.net/npm//vega-lite@4.8.1?noext\",\n",
       "      \"vega-embed\": \"https://cdn.jsdelivr.net/npm//vega-embed@6?noext\",\n",
       "    };\n",
       "\n",
       "    function loadScript(lib) {\n",
       "      return new Promise(function(resolve, reject) {\n",
       "        var s = document.createElement('script');\n",
       "        s.src = paths[lib];\n",
       "        s.async = true;\n",
       "        s.onload = () => resolve(paths[lib]);\n",
       "        s.onerror = () => reject(`Error loading script: ${paths[lib]}`);\n",
       "        document.getElementsByTagName(\"head\")[0].appendChild(s);\n",
       "      });\n",
       "    }\n",
       "\n",
       "    function showError(err) {\n",
       "      outputDiv.innerHTML = `<div class=\"error\" style=\"color:red;\">${err}</div>`;\n",
       "      throw err;\n",
       "    }\n",
       "\n",
       "    function displayChart(vegaEmbed) {\n",
       "      vegaEmbed(outputDiv, spec, embedOpt)\n",
       "        .catch(err => showError(`Javascript Error: ${err.message}<br>This usually means there's a typo in your chart specification. See the javascript console for the full traceback.`));\n",
       "    }\n",
       "\n",
       "    if(typeof define === \"function\" && define.amd) {\n",
       "      requirejs.config({paths});\n",
       "      require([\"vega-embed\"], displayChart, err => showError(`Error loading script: ${err.message}`));\n",
       "    } else if (typeof vegaEmbed === \"function\") {\n",
       "      displayChart(vegaEmbed);\n",
       "    } else {\n",
       "      loadScript(\"vega\")\n",
       "        .then(() => loadScript(\"vega-lite\"))\n",
       "        .then(() => loadScript(\"vega-embed\"))\n",
       "        .catch(showError)\n",
       "        .then(() => displayChart(vegaEmbed));\n",
       "    }\n",
       "  })({\"config\": {\"view\": {\"continuousWidth\": 400, \"continuousHeight\": 300}}, \"data\": {\"name\": \"data-33e78902223fe1a5854de1898d48114a\"}, \"mark\": \"bar\", \"encoding\": {\"color\": {\"type\": \"nominal\", \"field\": \"Loss\"}, \"tooltip\": {\"type\": \"quantitative\", \"field\": \"Deficit\"}, \"x\": {\"type\": \"temporal\", \"field\": \"Year\"}, \"y\": {\"type\": \"quantitative\", \"field\": \"Real-Revenue\"}, \"y2\": {\"field\": \"Act-Revenue\"}}, \"$schema\": \"https://vega.github.io/schema/vega-lite/v4.8.1.json\", \"datasets\": {\"data-33e78902223fe1a5854de1898d48114a\": [{\"Year\": \"1975\", \"Coded Year\": 0, \"Act-Revenue\": 5.0, \"CPI-U\": 53.8, \"Real-Revenue\": 9.3, \"Loss\": false, \"Deficit\": 4.300000000000001}, {\"Year\": \"1976\", \"Coded Year\": 1, \"Act-Revenue\": 5.4, \"CPI-U\": 56.9, \"Real-Revenue\": 9.5, \"Loss\": false, \"Deficit\": 4.1}, {\"Year\": \"1977\", \"Coded Year\": 2, \"Act-Revenue\": 6.0, \"CPI-U\": 60.6, \"Real-Revenue\": 9.9, \"Loss\": false, \"Deficit\": 3.9000000000000004}, {\"Year\": \"1978\", \"Coded Year\": 3, \"Act-Revenue\": 7.0, \"CPI-U\": 65.2, \"Real-Revenue\": 10.7, \"Loss\": false, \"Deficit\": 3.6999999999999993}, {\"Year\": \"1979\", \"Coded Year\": 4, \"Act-Revenue\": 8.0, \"CPI-U\": 72.6, \"Real-Revenue\": 11.0, \"Loss\": false, \"Deficit\": 3.0}, {\"Year\": \"1980\", \"Coded Year\": 5, \"Act-Revenue\": 9.7, \"CPI-U\": 82.4, \"Real-Revenue\": 11.8, \"Loss\": false, \"Deficit\": 2.1000000000000014}, {\"Year\": \"1981\", \"Coded Year\": 6, \"Act-Revenue\": 10.3, \"CPI-U\": 90.9, \"Real-Revenue\": 11.3, \"Loss\": false, \"Deficit\": 1.0}, {\"Year\": \"1982\", \"Coded Year\": 7, \"Act-Revenue\": 10.8, \"CPI-U\": 96.5, \"Real-Revenue\": 11.2, \"Loss\": false, \"Deficit\": 0.3999999999999986}, {\"Year\": \"1983\", \"Coded Year\": 8, \"Act-Revenue\": 10.2, \"CPI-U\": 99.6, \"Real-Revenue\": 10.2, \"Loss\": false, \"Deficit\": 0.0}, {\"Year\": \"1984\", \"Coded Year\": 9, \"Act-Revenue\": 10.6, \"CPI-U\": 103.9, \"Real-Revenue\": 10.2, \"Loss\": true, \"Deficit\": -0.40000000000000036}, {\"Year\": \"1985\", \"Coded Year\": 10, \"Act-Revenue\": 10.6, \"CPI-U\": 107.6, \"Real-Revenue\": 9.9, \"Loss\": true, \"Deficit\": -0.6999999999999993}, {\"Year\": \"1986\", \"Coded Year\": 11, \"Act-Revenue\": 11.5, \"CPI-U\": 109.6, \"Real-Revenue\": 10.5, \"Loss\": true, \"Deficit\": -1.0}, {\"Year\": \"1987\", \"Coded Year\": 12, \"Act-Revenue\": 13.3, \"CPI-U\": 113.6, \"Real-Revenue\": 11.7, \"Loss\": true, \"Deficit\": -1.6000000000000014}, {\"Year\": \"1988\", \"Coded Year\": 13, \"Act-Revenue\": 17.0, \"CPI-U\": 118.3, \"Real-Revenue\": 14.4, \"Loss\": true, \"Deficit\": -2.5999999999999996}, {\"Year\": \"1989\", \"Coded Year\": 14, \"Act-Revenue\": 18.4, \"CPI-U\": 124.0, \"Real-Revenue\": 14.8, \"Loss\": true, \"Deficit\": -3.599999999999998}, {\"Year\": \"1990\", \"Coded Year\": 15, \"Act-Revenue\": 18.9, \"CPI-U\": 130.7, \"Real-Revenue\": 14.5, \"Loss\": true, \"Deficit\": -4.399999999999999}, {\"Year\": \"1991\", \"Coded Year\": 16, \"Act-Revenue\": 19.4, \"CPI-U\": 136.2, \"Real-Revenue\": 14.2, \"Loss\": true, \"Deficit\": -5.199999999999999}, {\"Year\": \"1992\", \"Coded Year\": 17, \"Act-Revenue\": 20.2, \"CPI-U\": 140.3, \"Real-Revenue\": 14.4, \"Loss\": true, \"Deficit\": -5.799999999999999}, {\"Year\": \"1993\", \"Coded Year\": 18, \"Act-Revenue\": 16.3, \"CPI-U\": 144.5, \"Real-Revenue\": 11.3, \"Loss\": true, \"Deficit\": -5.0}, {\"Year\": \"1994\", \"Coded Year\": 19, \"Act-Revenue\": 13.7, \"CPI-U\": 148.2, \"Real-Revenue\": 9.2, \"Loss\": true, \"Deficit\": -4.5}, {\"Year\": \"1995\", \"Coded Year\": 20, \"Act-Revenue\": 15.3, \"CPI-U\": 152.4, \"Real-Revenue\": 10.0, \"Loss\": true, \"Deficit\": -5.300000000000001}, {\"Year\": \"1996\", \"Coded Year\": 21, \"Act-Revenue\": 16.2, \"CPI-U\": 156.9, \"Real-Revenue\": 10.3, \"Loss\": true, \"Deficit\": -5.899999999999999}]}}, {\"mode\": \"vega-lite\"});\n",
       "</script>"
      ],
      "text/plain": [
       "alt.Chart(...)"
      ]
     },
     "execution_count": 25,
     "metadata": {},
     "output_type": "execute_result"
    }
   ],
   "source": [
    "data['Deficit'] = data['Real-Revenue'] - data['Act-Revenue']\n",
    "alt.Chart(data).mark_bar().encode(x='Year:T',  y='Real-Revenue', y2='Act-Revenue', color='Loss', tooltip='Deficit')"
   ]
  },
  {
   "cell_type": "code",
   "execution_count": null,
   "metadata": {},
   "outputs": [],
   "source": []
  }
 ],
 "metadata": {
  "kernelspec": {
   "display_name": "Python 3",
   "language": "python",
   "name": "python3"
  },
  "language_info": {
   "codemirror_mode": {
    "name": "ipython",
    "version": 3
   },
   "file_extension": ".py",
   "mimetype": "text/x-python",
   "name": "python",
   "nbconvert_exporter": "python",
   "pygments_lexer": "ipython3",
   "version": "3.8.3"
  }
 },
 "nbformat": 4,
 "nbformat_minor": 4
}
