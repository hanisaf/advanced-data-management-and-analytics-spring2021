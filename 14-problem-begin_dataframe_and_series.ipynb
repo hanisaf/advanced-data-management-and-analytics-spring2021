{
 "cells": [
  {
   "cell_type": "code",
   "execution_count": 1,
   "metadata": {},
   "outputs": [],
   "source": [
    "import pandas as pd"
   ]
  },
  {
   "cell_type": "code",
   "execution_count": 2,
   "metadata": {},
   "outputs": [
    {
     "data": {
      "text/plain": [
       "A     10\n",
       "A-     5\n",
       "B+     6\n",
       "B      6\n",
       "B-     4\n",
       "C+     3\n",
       "C      1\n",
       "C-     0\n",
       "D      0\n",
       "F      1\n",
       "dtype: int64"
      ]
     },
     "execution_count": 2,
     "metadata": {},
     "output_type": "execute_result"
    }
   ],
   "source": [
    "numbers = [10, 5, 6, 6, 4, 3, 1, 0, 0, 1]\n",
    "labels = ['A', 'A-', 'B+', 'B', 'B-', 'C+', 'C', 'C-', 'D', 'F']\n",
    "\n",
    "data1 = pd.Series(numbers, index=labels)\n",
    "data1"
   ]
  },
  {
   "cell_type": "markdown",
   "metadata": {},
   "source": [
    "- How many entries are there in `data1`\n",
    "- What are the values?\n",
    "- What is the index of the series `data1`?\n",
    "- What is the value associated with `A`?\n",
    "- Extract the subseries of values associated with grades of C and lower\n",
    "- Convert `data1` to a dictionary"
   ]
  },
  {
   "cell_type": "code",
   "execution_count": 3,
   "metadata": {},
   "outputs": [],
   "source": [
    "#work here"
   ]
  },
  {
   "cell_type": "markdown",
   "metadata": {},
   "source": [
    "Assuming `data` is about students taking the course `MIST5730`, and the data below is about students taking the course `MIST6380`"
   ]
  },
  {
   "cell_type": "code",
   "execution_count": 4,
   "metadata": {},
   "outputs": [],
   "source": [
    "grades = {'A': 8, 'A-': 9, 'B+': 13, 'B': 2, 'B-': 4, 'C+': 2, 'C': 0, 'C-': 0, 'D': 0, 'F': 0}"
   ]
  },
  {
   "cell_type": "markdown",
   "metadata": {},
   "source": [
    "\n",
    "- create another series `data2` containing the data in the dictionary `grades`\n",
    "- create a data frame containing the data of the two courses. The first column should be labeled `MIST5730` and the second columns should be `MIST6380`\n",
    "- What is the index of the data frame?\n",
    "- What are the columns of the data frame?\n",
    "- How many entries are there in the data frame?\n",
    "- Extract the data pertaining to `MIST6380` from the data frame. Ensure it is the same data as `data2`"
   ]
  },
  {
   "cell_type": "code",
   "execution_count": 5,
   "metadata": {},
   "outputs": [],
   "source": [
    "#work here"
   ]
  },
  {
   "cell_type": "code",
   "execution_count": null,
   "metadata": {},
   "outputs": [],
   "source": []
  }
 ],
 "metadata": {
  "kernelspec": {
   "display_name": "Python 3",
   "language": "python",
   "name": "python3"
  },
  "language_info": {
   "codemirror_mode": {
    "name": "ipython",
    "version": 3
   },
   "file_extension": ".py",
   "mimetype": "text/x-python",
   "name": "python",
   "nbconvert_exporter": "python",
   "pygments_lexer": "ipython3",
   "version": "3.8.3"
  }
 },
 "nbformat": 4,
 "nbformat_minor": 4
}
