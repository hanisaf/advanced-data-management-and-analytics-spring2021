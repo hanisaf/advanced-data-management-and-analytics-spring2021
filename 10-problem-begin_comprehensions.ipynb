{
 "cells": [
  {
   "cell_type": "markdown",
   "metadata": {},
   "source": [
    "Use comprehensions and reduce functions `sum`, `max`, `min`, `len` to answer the following questions"
   ]
  },
  {
   "cell_type": "code",
   "execution_count": 2,
   "metadata": {},
   "outputs": [],
   "source": [
    "numbers = [10, 5, 6, 6, 4, 3, 1, 0, 0, 1]\n",
    "labels = ['A', 'A-', 'B+', 'B', 'B-', 'C+', 'C', 'C-', 'D', 'F']"
   ]
  },
  {
   "cell_type": "markdown",
   "metadata": {},
   "source": [
    "1. What is the largest value in `numbers`?\n",
    "2. What is the average of values in `numbers`?\n",
    "3. filter `numbers` keeping only numbers greater than `5`.\n",
    "4. Convert `numbers` to a list `stars` where each element is as many stars as the corresponding element in numbers"
   ]
  },
  {
   "cell_type": "code",
   "execution_count": null,
   "metadata": {},
   "outputs": [],
   "source": [
    "#work here"
   ]
  },
  {
   "cell_type": "code",
   "execution_count": 5,
   "metadata": {},
   "outputs": [],
   "source": [
    "grades = {'A': 10, 'A-': 5, 'B+': 6, 'B': 6, 'B-': 4, 'C+': 3, 'C': 1, 'C-': 0, 'D': 0, 'F': 1}"
   ]
  },
  {
   "cell_type": "markdown",
   "metadata": {},
   "source": [
    "5. What is the maximum value in grades?\n",
    "6. What is the key corresponding to this maximum value?\n",
    "7. What grades have values more than five?"
   ]
  },
  {
   "cell_type": "code",
   "execution_count": 1,
   "metadata": {},
   "outputs": [],
   "source": [
    "#work here"
   ]
  },
  {
   "cell_type": "markdown",
   "metadata": {},
   "source": [
    "**Challenge question**\n",
    "\n",
    "8. Sort the list `labels` (in descending order) based on the value assciated with each label. \n",
    "For example `A` comes first because there are `10` students with this grade, then comes `B+` because there are `6` students in this category.\n",
    "You can refer to `numbers` or `grades`."
   ]
  },
  {
   "cell_type": "code",
   "execution_count": null,
   "metadata": {},
   "outputs": [],
   "source": []
  }
 ],
 "metadata": {
  "kernelspec": {
   "display_name": "Python 3",
   "language": "python",
   "name": "python3"
  },
  "language_info": {
   "codemirror_mode": {
    "name": "ipython",
    "version": 3
   },
   "file_extension": ".py",
   "mimetype": "text/x-python",
   "name": "python",
   "nbconvert_exporter": "python",
   "pygments_lexer": "ipython3",
   "version": "3.8.3"
  }
 },
 "nbformat": 4,
 "nbformat_minor": 4
}
