{
 "cells": [
  {
   "cell_type": "code",
   "execution_count": 1,
   "metadata": {},
   "outputs": [],
   "source": [
    "import pandas as pd"
   ]
  },
  {
   "cell_type": "markdown",
   "metadata": {},
   "source": [
    "The data in the csv file was extracted from a [spreadheet](https://collegecost.ed.gov/wwwroot/documents/CATClists2014.xlsx) made available by the [U.S. Department of Education College Affordability and Transparency Center](https://collegecost.ed.gov/).\n",
    "It contains 2014-2015 tuition and fees for universities and colleges in the USA. The data is loaded into the data frame `data`"
   ]
  },
  {
   "cell_type": "code",
   "execution_count": 9,
   "metadata": {},
   "outputs": [
    {
     "data": {
      "text/html": [
       "<div>\n",
       "<style scoped>\n",
       "    .dataframe tbody tr th:only-of-type {\n",
       "        vertical-align: middle;\n",
       "    }\n",
       "\n",
       "    .dataframe tbody tr th {\n",
       "        vertical-align: top;\n",
       "    }\n",
       "\n",
       "    .dataframe thead th {\n",
       "        text-align: right;\n",
       "    }\n",
       "</style>\n",
       "<table border=\"1\" class=\"dataframe\">\n",
       "  <thead>\n",
       "    <tr style=\"text-align: right;\">\n",
       "      <th></th>\n",
       "      <th>Sector</th>\n",
       "      <th>Sector name</th>\n",
       "      <th>UnitID</th>\n",
       "      <th>OPEID</th>\n",
       "      <th>State</th>\n",
       "      <th>2014-15 Tuition and fees</th>\n",
       "      <th>List A: High tuition and fee indicator</th>\n",
       "      <th>List E: Low tuition and fee indicator</th>\n",
       "    </tr>\n",
       "    <tr>\n",
       "      <th>Name of institution</th>\n",
       "      <th></th>\n",
       "      <th></th>\n",
       "      <th></th>\n",
       "      <th></th>\n",
       "      <th></th>\n",
       "      <th></th>\n",
       "      <th></th>\n",
       "      <th></th>\n",
       "    </tr>\n",
       "  </thead>\n",
       "  <tbody>\n",
       "    <tr>\n",
       "      <th>University of Pittsburgh-Pittsburgh Campus</th>\n",
       "      <td>1</td>\n",
       "      <td>4-year, public</td>\n",
       "      <td>215293</td>\n",
       "      <td>337900</td>\n",
       "      <td>PA</td>\n",
       "      <td>17772.0</td>\n",
       "      <td>1</td>\n",
       "      <td>0</td>\n",
       "    </tr>\n",
       "    <tr>\n",
       "      <th>College of William and Mary</th>\n",
       "      <td>1</td>\n",
       "      <td>4-year, public</td>\n",
       "      <td>231624</td>\n",
       "      <td>370500</td>\n",
       "      <td>VA</td>\n",
       "      <td>17656.0</td>\n",
       "      <td>1</td>\n",
       "      <td>0</td>\n",
       "    </tr>\n",
       "    <tr>\n",
       "      <th>Pennsylvania State University-Main Campus</th>\n",
       "      <td>1</td>\n",
       "      <td>4-year, public</td>\n",
       "      <td>214777</td>\n",
       "      <td>332900</td>\n",
       "      <td>PA</td>\n",
       "      <td>17502.0</td>\n",
       "      <td>1</td>\n",
       "      <td>0</td>\n",
       "    </tr>\n",
       "    <tr>\n",
       "      <th>Colorado School of Mines</th>\n",
       "      <td>1</td>\n",
       "      <td>4-year, public</td>\n",
       "      <td>126775</td>\n",
       "      <td>134800</td>\n",
       "      <td>CO</td>\n",
       "      <td>16918.0</td>\n",
       "      <td>1</td>\n",
       "      <td>0</td>\n",
       "    </tr>\n",
       "    <tr>\n",
       "      <th>University of New Hampshire-Main Campus</th>\n",
       "      <td>1</td>\n",
       "      <td>4-year, public</td>\n",
       "      <td>183044</td>\n",
       "      <td>258900</td>\n",
       "      <td>NH</td>\n",
       "      <td>16552.0</td>\n",
       "      <td>1</td>\n",
       "      <td>0</td>\n",
       "    </tr>\n",
       "  </tbody>\n",
       "</table>\n",
       "</div>"
      ],
      "text/plain": [
       "                                            Sector     Sector name  UnitID  \\\n",
       "Name of institution                                                          \n",
       "University of Pittsburgh-Pittsburgh Campus       1  4-year, public  215293   \n",
       "College of William and Mary                      1  4-year, public  231624   \n",
       "Pennsylvania State University-Main Campus        1  4-year, public  214777   \n",
       "Colorado School of Mines                         1  4-year, public  126775   \n",
       "University of New Hampshire-Main Campus          1  4-year, public  183044   \n",
       "\n",
       "                                             OPEID State  \\\n",
       "Name of institution                                        \n",
       "University of Pittsburgh-Pittsburgh Campus  337900    PA   \n",
       "College of William and Mary                 370500    VA   \n",
       "Pennsylvania State University-Main Campus   332900    PA   \n",
       "Colorado School of Mines                    134800    CO   \n",
       "University of New Hampshire-Main Campus     258900    NH   \n",
       "\n",
       "                                            2014-15 Tuition and fees  \\\n",
       "Name of institution                                                    \n",
       "University of Pittsburgh-Pittsburgh Campus                   17772.0   \n",
       "College of William and Mary                                  17656.0   \n",
       "Pennsylvania State University-Main Campus                    17502.0   \n",
       "Colorado School of Mines                                     16918.0   \n",
       "University of New Hampshire-Main Campus                      16552.0   \n",
       "\n",
       "                                            List A: High tuition and fee indicator  \\\n",
       "Name of institution                                                                  \n",
       "University of Pittsburgh-Pittsburgh Campus                                       1   \n",
       "College of William and Mary                                                      1   \n",
       "Pennsylvania State University-Main Campus                                        1   \n",
       "Colorado School of Mines                                                         1   \n",
       "University of New Hampshire-Main Campus                                          1   \n",
       "\n",
       "                                            List E: Low tuition and fee indicator  \n",
       "Name of institution                                                                \n",
       "University of Pittsburgh-Pittsburgh Campus                                      0  \n",
       "College of William and Mary                                                     0  \n",
       "Pennsylvania State University-Main Campus                                       0  \n",
       "Colorado School of Mines                                                        0  \n",
       "University of New Hampshire-Main Campus                                         0  "
      ]
     },
     "execution_count": 9,
     "metadata": {},
     "output_type": "execute_result"
    }
   ],
   "source": [
    "data = pd.read_csv(\"data/college_tuition.csv\").set_index(\"Name of institution\")\n",
    "data.head()"
   ]
  },
  {
   "cell_type": "code",
   "execution_count": 8,
   "metadata": {},
   "outputs": [
    {
     "data": {
      "text/plain": [
       "Sector                                      int64\n",
       "Sector name                                object\n",
       "UnitID                                      int64\n",
       "OPEID                                       int64\n",
       "Name of institution                        object\n",
       "State                                      object\n",
       "2014-15 Tuition and fees                  float64\n",
       "List A: High tuition and fee indicator      int64\n",
       "List E: Low tuition and fee indicator       int64\n",
       "dtype: object"
      ]
     },
     "execution_count": 8,
     "metadata": {},
     "output_type": "execute_result"
    }
   ],
   "source": [
    "data.dtypes"
   ]
  },
  {
   "cell_type": "markdown",
   "metadata": {},
   "source": [
    "# Indexing and selection with Series\n",
    "\n",
    "First we are going to focus on one column in the data frame and extract it into the series `tuition`"
   ]
  },
  {
   "cell_type": "code",
   "execution_count": 24,
   "metadata": {},
   "outputs": [
    {
     "data": {
      "text/plain": [
       "Name of institution\n",
       "University of Pittsburgh-Pittsburgh Campus    17772.0\n",
       "College of William and Mary                   17656.0\n",
       "Pennsylvania State University-Main Campus     17502.0\n",
       "Colorado School of Mines                      16918.0\n",
       "University of New Hampshire-Main Campus       16552.0\n",
       "                                               ...   \n",
       "Industrial Technical College                   6480.0\n",
       "American Educational College                   6422.0\n",
       "Future-Tech Institute                          6279.0\n",
       "Rosslyn Training Academy of Cosmetology        6139.0\n",
       "InterAmerican Technical Institute              2550.0\n",
       "Name: 2014-15 Tuition and fees, Length: 4140, dtype: float64"
      ]
     },
     "execution_count": 24,
     "metadata": {},
     "output_type": "execute_result"
    }
   ],
   "source": [
    "tuition = data[\"2014-15 Tuition and fees\"]\n",
    "tuition"
   ]
  },
  {
   "cell_type": "markdown",
   "metadata": {},
   "source": [
    "- Select the first five entries in the series\n",
    "- Select the last five entries in the series\n",
    "- Select every tenth entry (10% sampling)\n",
    "- What is the tuition of the `'University of Georgia'`?\n",
    "- Select the subseries containing the tuition fees of `'Harvard University'` and `'Massachusetts Institute of Technology'`.\n",
    "- Select the subseries containing tuitions greater than `50000`\n",
    "- Select the subseries containing tuition <= `50000` but greater than `40000`\n",
    "- (Challenge) Select the tuition of institutes of technology, that is colleges with names ending with `Institute of Technology`\n",
    "- (Challenge) What is the cheapest college in `Georgia`? **Hint** you can use the function `sort_values` to sort the series"
   ]
  },
  {
   "cell_type": "code",
   "execution_count": 21,
   "metadata": {},
   "outputs": [
    {
     "data": {
      "text/plain": [
       "Name of institution\n",
       "University of Pittsburgh-Pittsburgh Campus    17772.0\n",
       "College of William and Mary                   17656.0\n",
       "Pennsylvania State University-Main Campus     17502.0\n",
       "Colorado School of Mines                      16918.0\n",
       "University of New Hampshire-Main Campus       16552.0\n",
       "Name: 2014-15 Tuition and fees, dtype: float64"
      ]
     },
     "execution_count": 21,
     "metadata": {},
     "output_type": "execute_result"
    }
   ],
   "source": [
    "test_1 = tuition[:5] # tuition.head(5)\n",
    "test_1"
   ]
  },
  {
   "cell_type": "code",
   "execution_count": 22,
   "metadata": {},
   "outputs": [
    {
     "data": {
      "text/plain": [
       "Name of institution\n",
       "Industrial Technical College               6480.0\n",
       "American Educational College               6422.0\n",
       "Future-Tech Institute                      6279.0\n",
       "Rosslyn Training Academy of Cosmetology    6139.0\n",
       "InterAmerican Technical Institute          2550.0\n",
       "Name: 2014-15 Tuition and fees, dtype: float64"
      ]
     },
     "execution_count": 22,
     "metadata": {},
     "output_type": "execute_result"
    }
   ],
   "source": [
    "test_2 = tuition[-5:] # tuition.tail(5)\n",
    "test_2"
   ]
  },
  {
   "cell_type": "code",
   "execution_count": 23,
   "metadata": {},
   "outputs": [
    {
     "data": {
      "text/plain": [
       "Name of institution\n",
       "University of Pittsburgh-Pittsburgh Campus             17772.0\n",
       "University of Illinois at Urbana-Champaign             15020.0\n",
       "Pennsylvania State University-Penn State Brandywine    13942.0\n",
       "University of New Hampshire at Manchester              13768.0\n",
       "Pennsylvania State University-Penn State DuBois        13528.0\n",
       "                                                        ...   \n",
       "The English Center                                      9705.0\n",
       "Dorsey Business Schools-Roseville                      19968.0\n",
       "Ohio Center for Broadcasting-Columbus                  15557.0\n",
       "Cortiva Institute-New Jersey                            9884.0\n",
       "Automeca Technical College-Ponce                        7256.0\n",
       "Name: 2014-15 Tuition and fees, Length: 414, dtype: float64"
      ]
     },
     "execution_count": 23,
     "metadata": {},
     "output_type": "execute_result"
    }
   ],
   "source": [
    "test_3 = tuition[::10]\n",
    "test_3"
   ]
  },
  {
   "cell_type": "code",
   "execution_count": 27,
   "metadata": {},
   "outputs": [
    {
     "data": {
      "text/plain": [
       "10836.0"
      ]
     },
     "execution_count": 27,
     "metadata": {},
     "output_type": "execute_result"
    }
   ],
   "source": [
    "test_4 = tuition['University of Georgia']\n",
    "test_4"
   ]
  },
  {
   "cell_type": "code",
   "execution_count": 28,
   "metadata": {},
   "outputs": [
    {
     "data": {
      "text/plain": [
       "Name of institution\n",
       "Harvard University                       43938.0\n",
       "Massachusetts Institute of Technology    45016.0\n",
       "Name: 2014-15 Tuition and fees, dtype: float64"
      ]
     },
     "execution_count": 28,
     "metadata": {},
     "output_type": "execute_result"
    }
   ],
   "source": [
    "test_5 = tuition[['Harvard University', 'Massachusetts Institute of Technology']]\n",
    "test_5"
   ]
  },
  {
   "cell_type": "code",
   "execution_count": 31,
   "metadata": {},
   "outputs": [
    {
     "data": {
      "text/plain": [
       "Name of institution\n",
       "Columbia University in the City of New York               51008.0\n",
       "Sarah Lawrence College                                    50780.0\n",
       "Landmark College                                          50080.0\n",
       "Aviator College of Aeronautical Science and Technology    74787.0\n",
       "Name: 2014-15 Tuition and fees, dtype: float64"
      ]
     },
     "execution_count": 31,
     "metadata": {},
     "output_type": "execute_result"
    }
   ],
   "source": [
    "test_6 = tuition[tuition > 50000]\n",
    "test_6"
   ]
  },
  {
   "cell_type": "code",
   "execution_count": 32,
   "metadata": {},
   "outputs": [
    {
     "data": {
      "text/plain": [
       "Name of institution\n",
       "Vassar College                                   49570.0\n",
       "University of Chicago                            49380.0\n",
       "Trinity College                                  49056.0\n",
       "Carnegie Mellon University                       49022.0\n",
       "George Washington University                     48760.0\n",
       "                                                  ...   \n",
       "Southern California Institute of Architecture    40262.0\n",
       "San Francisco Art Institute                      40096.0\n",
       "Hartwick College                                 40070.0\n",
       "Ringling College of Art and Design               40040.0\n",
       "Stetson University                               40040.0\n",
       "Name: 2014-15 Tuition and fees, Length: 172, dtype: float64"
      ]
     },
     "execution_count": 32,
     "metadata": {},
     "output_type": "execute_result"
    }
   ],
   "source": [
    "test_7 = tuition[(tuition <= 50000) & (tuition > 40000)]\n",
    "test_7"
   ]
  },
  {
   "cell_type": "markdown",
   "metadata": {},
   "source": [
    "test_8 = tuition[[x for x in tuition.index if x.endswith('Institute of Technology')]]\n",
    "test_8"
   ]
  },
  {
   "cell_type": "code",
   "execution_count": 40,
   "metadata": {},
   "outputs": [
    {
     "data": {
      "text/plain": [
       "'Central Georgia Technical College'"
      ]
     },
     "execution_count": 40,
     "metadata": {},
     "output_type": "execute_result"
    }
   ],
   "source": [
    "test_9 = tuition[[x for x in tuition.index if 'Georgia' in x]].sort_values().index[0]\n",
    "test_9"
   ]
  },
  {
   "cell_type": "markdown",
   "metadata": {},
   "source": [
    "# Indexing and selection with DataFrame"
   ]
  },
  {
   "cell_type": "code",
   "execution_count": 20,
   "metadata": {},
   "outputs": [
    {
     "data": {
      "text/html": [
       "<div>\n",
       "<style scoped>\n",
       "    .dataframe tbody tr th:only-of-type {\n",
       "        vertical-align: middle;\n",
       "    }\n",
       "\n",
       "    .dataframe tbody tr th {\n",
       "        vertical-align: top;\n",
       "    }\n",
       "\n",
       "    .dataframe thead th {\n",
       "        text-align: right;\n",
       "    }\n",
       "</style>\n",
       "<table border=\"1\" class=\"dataframe\">\n",
       "  <thead>\n",
       "    <tr style=\"text-align: right;\">\n",
       "      <th></th>\n",
       "      <th>Sector</th>\n",
       "      <th>Sector name</th>\n",
       "      <th>UnitID</th>\n",
       "      <th>OPEID</th>\n",
       "      <th>State</th>\n",
       "      <th>2014-15 Tuition and fees</th>\n",
       "      <th>List A: High tuition and fee indicator</th>\n",
       "      <th>List E: Low tuition and fee indicator</th>\n",
       "    </tr>\n",
       "    <tr>\n",
       "      <th>Name of institution</th>\n",
       "      <th></th>\n",
       "      <th></th>\n",
       "      <th></th>\n",
       "      <th></th>\n",
       "      <th></th>\n",
       "      <th></th>\n",
       "      <th></th>\n",
       "      <th></th>\n",
       "    </tr>\n",
       "  </thead>\n",
       "  <tbody>\n",
       "    <tr>\n",
       "      <th>University of Pittsburgh-Pittsburgh Campus</th>\n",
       "      <td>1</td>\n",
       "      <td>4-year, public</td>\n",
       "      <td>215293</td>\n",
       "      <td>337900</td>\n",
       "      <td>PA</td>\n",
       "      <td>17772.0</td>\n",
       "      <td>1</td>\n",
       "      <td>0</td>\n",
       "    </tr>\n",
       "    <tr>\n",
       "      <th>College of William and Mary</th>\n",
       "      <td>1</td>\n",
       "      <td>4-year, public</td>\n",
       "      <td>231624</td>\n",
       "      <td>370500</td>\n",
       "      <td>VA</td>\n",
       "      <td>17656.0</td>\n",
       "      <td>1</td>\n",
       "      <td>0</td>\n",
       "    </tr>\n",
       "    <tr>\n",
       "      <th>Pennsylvania State University-Main Campus</th>\n",
       "      <td>1</td>\n",
       "      <td>4-year, public</td>\n",
       "      <td>214777</td>\n",
       "      <td>332900</td>\n",
       "      <td>PA</td>\n",
       "      <td>17502.0</td>\n",
       "      <td>1</td>\n",
       "      <td>0</td>\n",
       "    </tr>\n",
       "    <tr>\n",
       "      <th>Colorado School of Mines</th>\n",
       "      <td>1</td>\n",
       "      <td>4-year, public</td>\n",
       "      <td>126775</td>\n",
       "      <td>134800</td>\n",
       "      <td>CO</td>\n",
       "      <td>16918.0</td>\n",
       "      <td>1</td>\n",
       "      <td>0</td>\n",
       "    </tr>\n",
       "    <tr>\n",
       "      <th>University of New Hampshire-Main Campus</th>\n",
       "      <td>1</td>\n",
       "      <td>4-year, public</td>\n",
       "      <td>183044</td>\n",
       "      <td>258900</td>\n",
       "      <td>NH</td>\n",
       "      <td>16552.0</td>\n",
       "      <td>1</td>\n",
       "      <td>0</td>\n",
       "    </tr>\n",
       "  </tbody>\n",
       "</table>\n",
       "</div>"
      ],
      "text/plain": [
       "                                            Sector     Sector name  UnitID  \\\n",
       "Name of institution                                                          \n",
       "University of Pittsburgh-Pittsburgh Campus       1  4-year, public  215293   \n",
       "College of William and Mary                      1  4-year, public  231624   \n",
       "Pennsylvania State University-Main Campus        1  4-year, public  214777   \n",
       "Colorado School of Mines                         1  4-year, public  126775   \n",
       "University of New Hampshire-Main Campus          1  4-year, public  183044   \n",
       "\n",
       "                                             OPEID State  \\\n",
       "Name of institution                                        \n",
       "University of Pittsburgh-Pittsburgh Campus  337900    PA   \n",
       "College of William and Mary                 370500    VA   \n",
       "Pennsylvania State University-Main Campus   332900    PA   \n",
       "Colorado School of Mines                    134800    CO   \n",
       "University of New Hampshire-Main Campus     258900    NH   \n",
       "\n",
       "                                            2014-15 Tuition and fees  \\\n",
       "Name of institution                                                    \n",
       "University of Pittsburgh-Pittsburgh Campus                   17772.0   \n",
       "College of William and Mary                                  17656.0   \n",
       "Pennsylvania State University-Main Campus                    17502.0   \n",
       "Colorado School of Mines                                     16918.0   \n",
       "University of New Hampshire-Main Campus                      16552.0   \n",
       "\n",
       "                                            List A: High tuition and fee indicator  \\\n",
       "Name of institution                                                                  \n",
       "University of Pittsburgh-Pittsburgh Campus                                       1   \n",
       "College of William and Mary                                                      1   \n",
       "Pennsylvania State University-Main Campus                                        1   \n",
       "Colorado School of Mines                                                         1   \n",
       "University of New Hampshire-Main Campus                                          1   \n",
       "\n",
       "                                            List E: Low tuition and fee indicator  \n",
       "Name of institution                                                                \n",
       "University of Pittsburgh-Pittsburgh Campus                                      0  \n",
       "College of William and Mary                                                     0  \n",
       "Pennsylvania State University-Main Campus                                       0  \n",
       "Colorado School of Mines                                                        0  \n",
       "University of New Hampshire-Main Campus                                         0  "
      ]
     },
     "execution_count": 20,
     "metadata": {},
     "output_type": "execute_result"
    }
   ],
   "source": [
    "data.head()"
   ]
  },
  {
   "cell_type": "markdown",
   "metadata": {},
   "source": [
    "- Extract `State` and `Sector name` in a new data frame\n",
    "- Extract the row pertaining to the `'University of Georgia'`\n",
    "- What is the data type of the extract row?\n",
    "- Extract two rows pertaning to 'Harvard University' and 'Massachusetts Institute of Technology'.\n",
    "- What is the data type of the extracted rows\n",
    "- Extract the `State` of 'Harvard University' and 'Massachusetts Institute of Technology'.\n",
    "- What is the data type of what you extracted?\n",
    "- What is the tuition fee for institutions in `GA`?\n",
    "- What is the average tuition fee for institutions in `GA`?\n",
    "- Extract the last two columns\n",
    "- Extract the last first five rows and last two columns\n",
    "- Sample 10% of the data using slicing\n",
    "- (Challenge) In which state is the institution of the highest tuition fee located?\n",
    "- (Challenge) What state has the highest average tuition fee?"
   ]
  },
  {
   "cell_type": "code",
   "execution_count": 48,
   "metadata": {},
   "outputs": [
    {
     "data": {
      "text/html": [
       "<div>\n",
       "<style scoped>\n",
       "    .dataframe tbody tr th:only-of-type {\n",
       "        vertical-align: middle;\n",
       "    }\n",
       "\n",
       "    .dataframe tbody tr th {\n",
       "        vertical-align: top;\n",
       "    }\n",
       "\n",
       "    .dataframe thead th {\n",
       "        text-align: right;\n",
       "    }\n",
       "</style>\n",
       "<table border=\"1\" class=\"dataframe\">\n",
       "  <thead>\n",
       "    <tr style=\"text-align: right;\">\n",
       "      <th></th>\n",
       "      <th>State</th>\n",
       "      <th>Sector name</th>\n",
       "    </tr>\n",
       "    <tr>\n",
       "      <th>Name of institution</th>\n",
       "      <th></th>\n",
       "      <th></th>\n",
       "    </tr>\n",
       "  </thead>\n",
       "  <tbody>\n",
       "    <tr>\n",
       "      <th>University of Pittsburgh-Pittsburgh Campus</th>\n",
       "      <td>PA</td>\n",
       "      <td>4-year, public</td>\n",
       "    </tr>\n",
       "    <tr>\n",
       "      <th>College of William and Mary</th>\n",
       "      <td>VA</td>\n",
       "      <td>4-year, public</td>\n",
       "    </tr>\n",
       "    <tr>\n",
       "      <th>Pennsylvania State University-Main Campus</th>\n",
       "      <td>PA</td>\n",
       "      <td>4-year, public</td>\n",
       "    </tr>\n",
       "    <tr>\n",
       "      <th>Colorado School of Mines</th>\n",
       "      <td>CO</td>\n",
       "      <td>4-year, public</td>\n",
       "    </tr>\n",
       "    <tr>\n",
       "      <th>University of New Hampshire-Main Campus</th>\n",
       "      <td>NH</td>\n",
       "      <td>4-year, public</td>\n",
       "    </tr>\n",
       "    <tr>\n",
       "      <th>...</th>\n",
       "      <td>...</td>\n",
       "      <td>...</td>\n",
       "    </tr>\n",
       "    <tr>\n",
       "      <th>Industrial Technical College</th>\n",
       "      <td>PR</td>\n",
       "      <td>Less than 2-year, private for-profit</td>\n",
       "    </tr>\n",
       "    <tr>\n",
       "      <th>American Educational College</th>\n",
       "      <td>PR</td>\n",
       "      <td>Less than 2-year, private for-profit</td>\n",
       "    </tr>\n",
       "    <tr>\n",
       "      <th>Future-Tech Institute</th>\n",
       "      <td>FL</td>\n",
       "      <td>Less than 2-year, private for-profit</td>\n",
       "    </tr>\n",
       "    <tr>\n",
       "      <th>Rosslyn Training Academy of Cosmetology</th>\n",
       "      <td>PR</td>\n",
       "      <td>Less than 2-year, private for-profit</td>\n",
       "    </tr>\n",
       "    <tr>\n",
       "      <th>InterAmerican Technical Institute</th>\n",
       "      <td>FL</td>\n",
       "      <td>Less than 2-year, private for-profit</td>\n",
       "    </tr>\n",
       "  </tbody>\n",
       "</table>\n",
       "<p>4140 rows × 2 columns</p>\n",
       "</div>"
      ],
      "text/plain": [
       "                                           State  \\\n",
       "Name of institution                                \n",
       "University of Pittsburgh-Pittsburgh Campus    PA   \n",
       "College of William and Mary                   VA   \n",
       "Pennsylvania State University-Main Campus     PA   \n",
       "Colorado School of Mines                      CO   \n",
       "University of New Hampshire-Main Campus       NH   \n",
       "...                                          ...   \n",
       "Industrial Technical College                  PR   \n",
       "American Educational College                  PR   \n",
       "Future-Tech Institute                         FL   \n",
       "Rosslyn Training Academy of Cosmetology       PR   \n",
       "InterAmerican Technical Institute             FL   \n",
       "\n",
       "                                                                     Sector name  \n",
       "Name of institution                                                               \n",
       "University of Pittsburgh-Pittsburgh Campus                        4-year, public  \n",
       "College of William and Mary                                       4-year, public  \n",
       "Pennsylvania State University-Main Campus                         4-year, public  \n",
       "Colorado School of Mines                                          4-year, public  \n",
       "University of New Hampshire-Main Campus                           4-year, public  \n",
       "...                                                                          ...  \n",
       "Industrial Technical College                Less than 2-year, private for-profit  \n",
       "American Educational College                Less than 2-year, private for-profit  \n",
       "Future-Tech Institute                       Less than 2-year, private for-profit  \n",
       "Rosslyn Training Academy of Cosmetology     Less than 2-year, private for-profit  \n",
       "InterAmerican Technical Institute           Less than 2-year, private for-profit  \n",
       "\n",
       "[4140 rows x 2 columns]"
      ]
     },
     "execution_count": 48,
     "metadata": {},
     "output_type": "execute_result"
    }
   ],
   "source": [
    "test_10 = data.loc[:, ['State', 'Sector name']] #or, data[['State', 'Sector name']]\n",
    "test_10"
   ]
  },
  {
   "cell_type": "code",
   "execution_count": 50,
   "metadata": {},
   "outputs": [
    {
     "data": {
      "text/plain": [
       "Sector                                                 1\n",
       "Sector name                               4-year, public\n",
       "UnitID                                            139959\n",
       "OPEID                                             159800\n",
       "State                                                 GA\n",
       "2014-15 Tuition and fees                           10836\n",
       "List A: High tuition and fee indicator                 0\n",
       "List E: Low tuition and fee indicator                  0\n",
       "Name: University of Georgia, dtype: object"
      ]
     },
     "execution_count": 50,
     "metadata": {},
     "output_type": "execute_result"
    }
   ],
   "source": [
    "test_11 = data.loc['University of Georgia']\n",
    "test_11"
   ]
  },
  {
   "cell_type": "code",
   "execution_count": 51,
   "metadata": {},
   "outputs": [
    {
     "data": {
      "text/plain": [
       "pandas.core.series.Series"
      ]
     },
     "execution_count": 51,
     "metadata": {},
     "output_type": "execute_result"
    }
   ],
   "source": [
    "test_12 = type(test_11)\n",
    "test_12"
   ]
  },
  {
   "cell_type": "code",
   "execution_count": 54,
   "metadata": {},
   "outputs": [
    {
     "data": {
      "text/html": [
       "<div>\n",
       "<style scoped>\n",
       "    .dataframe tbody tr th:only-of-type {\n",
       "        vertical-align: middle;\n",
       "    }\n",
       "\n",
       "    .dataframe tbody tr th {\n",
       "        vertical-align: top;\n",
       "    }\n",
       "\n",
       "    .dataframe thead th {\n",
       "        text-align: right;\n",
       "    }\n",
       "</style>\n",
       "<table border=\"1\" class=\"dataframe\">\n",
       "  <thead>\n",
       "    <tr style=\"text-align: right;\">\n",
       "      <th></th>\n",
       "      <th>Sector</th>\n",
       "      <th>Sector name</th>\n",
       "      <th>UnitID</th>\n",
       "      <th>OPEID</th>\n",
       "      <th>State</th>\n",
       "      <th>2014-15 Tuition and fees</th>\n",
       "      <th>List A: High tuition and fee indicator</th>\n",
       "      <th>List E: Low tuition and fee indicator</th>\n",
       "    </tr>\n",
       "    <tr>\n",
       "      <th>Name of institution</th>\n",
       "      <th></th>\n",
       "      <th></th>\n",
       "      <th></th>\n",
       "      <th></th>\n",
       "      <th></th>\n",
       "      <th></th>\n",
       "      <th></th>\n",
       "      <th></th>\n",
       "    </tr>\n",
       "  </thead>\n",
       "  <tbody>\n",
       "    <tr>\n",
       "      <th>Harvard University</th>\n",
       "      <td>2</td>\n",
       "      <td>4-year, private not-for-profit</td>\n",
       "      <td>166027</td>\n",
       "      <td>215500</td>\n",
       "      <td>MA</td>\n",
       "      <td>43938.0</td>\n",
       "      <td>0</td>\n",
       "      <td>0</td>\n",
       "    </tr>\n",
       "    <tr>\n",
       "      <th>Massachusetts Institute of Technology</th>\n",
       "      <td>2</td>\n",
       "      <td>4-year, private not-for-profit</td>\n",
       "      <td>166683</td>\n",
       "      <td>217800</td>\n",
       "      <td>MA</td>\n",
       "      <td>45016.0</td>\n",
       "      <td>0</td>\n",
       "      <td>0</td>\n",
       "    </tr>\n",
       "  </tbody>\n",
       "</table>\n",
       "</div>"
      ],
      "text/plain": [
       "                                       Sector                     Sector name  \\\n",
       "Name of institution                                                             \n",
       "Harvard University                          2  4-year, private not-for-profit   \n",
       "Massachusetts Institute of Technology       2  4-year, private not-for-profit   \n",
       "\n",
       "                                       UnitID   OPEID State  \\\n",
       "Name of institution                                           \n",
       "Harvard University                     166027  215500    MA   \n",
       "Massachusetts Institute of Technology  166683  217800    MA   \n",
       "\n",
       "                                       2014-15 Tuition and fees  \\\n",
       "Name of institution                                               \n",
       "Harvard University                                      43938.0   \n",
       "Massachusetts Institute of Technology                   45016.0   \n",
       "\n",
       "                                       List A: High tuition and fee indicator  \\\n",
       "Name of institution                                                             \n",
       "Harvard University                                                          0   \n",
       "Massachusetts Institute of Technology                                       0   \n",
       "\n",
       "                                       List E: Low tuition and fee indicator  \n",
       "Name of institution                                                           \n",
       "Harvard University                                                         0  \n",
       "Massachusetts Institute of Technology                                      0  "
      ]
     },
     "execution_count": 54,
     "metadata": {},
     "output_type": "execute_result"
    }
   ],
   "source": [
    "test_12 = data.loc[['Harvard University', 'Massachusetts Institute of Technology']]\n",
    "test_12"
   ]
  },
  {
   "cell_type": "code",
   "execution_count": 55,
   "metadata": {},
   "outputs": [
    {
     "data": {
      "text/plain": [
       "pandas.core.frame.DataFrame"
      ]
     },
     "execution_count": 55,
     "metadata": {},
     "output_type": "execute_result"
    }
   ],
   "source": [
    "test_13 = type(test_12)\n",
    "test_13"
   ]
  },
  {
   "cell_type": "code",
   "execution_count": 56,
   "metadata": {},
   "outputs": [
    {
     "data": {
      "text/plain": [
       "Name of institution\n",
       "Harvard University                       MA\n",
       "Massachusetts Institute of Technology    MA\n",
       "Name: State, dtype: object"
      ]
     },
     "execution_count": 56,
     "metadata": {},
     "output_type": "execute_result"
    }
   ],
   "source": [
    "test_14 = data.loc[['Harvard University', 'Massachusetts Institute of Technology'], 'State']\n",
    "test_14"
   ]
  },
  {
   "cell_type": "code",
   "execution_count": 57,
   "metadata": {},
   "outputs": [
    {
     "data": {
      "text/plain": [
       "pandas.core.series.Series"
      ]
     },
     "execution_count": 57,
     "metadata": {},
     "output_type": "execute_result"
    }
   ],
   "source": [
    "test_15 = type(test_14)\n",
    "test_15"
   ]
  },
  {
   "cell_type": "code",
   "execution_count": 63,
   "metadata": {},
   "outputs": [
    {
     "data": {
      "text/plain": [
       "Name of institution\n",
       "Georgia Institute of Technology-Main Campus      11394.0\n",
       "University of Georgia                            10836.0\n",
       "Georgia College and State University              8960.0\n",
       "Georgia State University                          8618.0\n",
       "Georgia Regents University                        7326.0\n",
       "                                                  ...   \n",
       "Miller-Motte Technical College-Macon              9225.0\n",
       "Interactive College of Technology-Chamblee        8930.0\n",
       "Interactive College of Technology-Gainesville     8450.0\n",
       "Interactive College of Technology-Morrow          8450.0\n",
       "Helms College                                    15064.0\n",
       "Name: 2014-15 Tuition and fees, Length: 125, dtype: float64"
      ]
     },
     "execution_count": 63,
     "metadata": {},
     "output_type": "execute_result"
    }
   ],
   "source": [
    "test_16 = data.loc[data['State'] == 'GA', '2014-15 Tuition and fees']\n",
    "test_16"
   ]
  },
  {
   "cell_type": "code",
   "execution_count": 64,
   "metadata": {},
   "outputs": [
    {
     "data": {
      "text/plain": [
       "11543.72"
      ]
     },
     "execution_count": 64,
     "metadata": {},
     "output_type": "execute_result"
    }
   ],
   "source": [
    "import numpy as np\n",
    "test_17 = np.mean(test_16)\n",
    "test_17"
   ]
  },
  {
   "cell_type": "code",
   "execution_count": 66,
   "metadata": {},
   "outputs": [
    {
     "data": {
      "text/html": [
       "<div>\n",
       "<style scoped>\n",
       "    .dataframe tbody tr th:only-of-type {\n",
       "        vertical-align: middle;\n",
       "    }\n",
       "\n",
       "    .dataframe tbody tr th {\n",
       "        vertical-align: top;\n",
       "    }\n",
       "\n",
       "    .dataframe thead th {\n",
       "        text-align: right;\n",
       "    }\n",
       "</style>\n",
       "<table border=\"1\" class=\"dataframe\">\n",
       "  <thead>\n",
       "    <tr style=\"text-align: right;\">\n",
       "      <th></th>\n",
       "      <th>List A: High tuition and fee indicator</th>\n",
       "      <th>List E: Low tuition and fee indicator</th>\n",
       "    </tr>\n",
       "    <tr>\n",
       "      <th>Name of institution</th>\n",
       "      <th></th>\n",
       "      <th></th>\n",
       "    </tr>\n",
       "  </thead>\n",
       "  <tbody>\n",
       "    <tr>\n",
       "      <th>University of Pittsburgh-Pittsburgh Campus</th>\n",
       "      <td>1</td>\n",
       "      <td>0</td>\n",
       "    </tr>\n",
       "    <tr>\n",
       "      <th>College of William and Mary</th>\n",
       "      <td>1</td>\n",
       "      <td>0</td>\n",
       "    </tr>\n",
       "    <tr>\n",
       "      <th>Pennsylvania State University-Main Campus</th>\n",
       "      <td>1</td>\n",
       "      <td>0</td>\n",
       "    </tr>\n",
       "    <tr>\n",
       "      <th>Colorado School of Mines</th>\n",
       "      <td>1</td>\n",
       "      <td>0</td>\n",
       "    </tr>\n",
       "    <tr>\n",
       "      <th>University of New Hampshire-Main Campus</th>\n",
       "      <td>1</td>\n",
       "      <td>0</td>\n",
       "    </tr>\n",
       "    <tr>\n",
       "      <th>...</th>\n",
       "      <td>...</td>\n",
       "      <td>...</td>\n",
       "    </tr>\n",
       "    <tr>\n",
       "      <th>Industrial Technical College</th>\n",
       "      <td>0</td>\n",
       "      <td>1</td>\n",
       "    </tr>\n",
       "    <tr>\n",
       "      <th>American Educational College</th>\n",
       "      <td>0</td>\n",
       "      <td>1</td>\n",
       "    </tr>\n",
       "    <tr>\n",
       "      <th>Future-Tech Institute</th>\n",
       "      <td>0</td>\n",
       "      <td>1</td>\n",
       "    </tr>\n",
       "    <tr>\n",
       "      <th>Rosslyn Training Academy of Cosmetology</th>\n",
       "      <td>0</td>\n",
       "      <td>1</td>\n",
       "    </tr>\n",
       "    <tr>\n",
       "      <th>InterAmerican Technical Institute</th>\n",
       "      <td>0</td>\n",
       "      <td>1</td>\n",
       "    </tr>\n",
       "  </tbody>\n",
       "</table>\n",
       "<p>4140 rows × 2 columns</p>\n",
       "</div>"
      ],
      "text/plain": [
       "                                            List A: High tuition and fee indicator  \\\n",
       "Name of institution                                                                  \n",
       "University of Pittsburgh-Pittsburgh Campus                                       1   \n",
       "College of William and Mary                                                      1   \n",
       "Pennsylvania State University-Main Campus                                        1   \n",
       "Colorado School of Mines                                                         1   \n",
       "University of New Hampshire-Main Campus                                          1   \n",
       "...                                                                            ...   \n",
       "Industrial Technical College                                                     0   \n",
       "American Educational College                                                     0   \n",
       "Future-Tech Institute                                                            0   \n",
       "Rosslyn Training Academy of Cosmetology                                          0   \n",
       "InterAmerican Technical Institute                                                0   \n",
       "\n",
       "                                            List E: Low tuition and fee indicator  \n",
       "Name of institution                                                                \n",
       "University of Pittsburgh-Pittsburgh Campus                                      0  \n",
       "College of William and Mary                                                     0  \n",
       "Pennsylvania State University-Main Campus                                       0  \n",
       "Colorado School of Mines                                                        0  \n",
       "University of New Hampshire-Main Campus                                         0  \n",
       "...                                                                           ...  \n",
       "Industrial Technical College                                                    1  \n",
       "American Educational College                                                    1  \n",
       "Future-Tech Institute                                                           1  \n",
       "Rosslyn Training Academy of Cosmetology                                         1  \n",
       "InterAmerican Technical Institute                                               1  \n",
       "\n",
       "[4140 rows x 2 columns]"
      ]
     },
     "execution_count": 66,
     "metadata": {},
     "output_type": "execute_result"
    }
   ],
   "source": [
    "test_18 = data.iloc[:, -2:]\n",
    "test_18"
   ]
  },
  {
   "cell_type": "code",
   "execution_count": 67,
   "metadata": {},
   "outputs": [
    {
     "data": {
      "text/html": [
       "<div>\n",
       "<style scoped>\n",
       "    .dataframe tbody tr th:only-of-type {\n",
       "        vertical-align: middle;\n",
       "    }\n",
       "\n",
       "    .dataframe tbody tr th {\n",
       "        vertical-align: top;\n",
       "    }\n",
       "\n",
       "    .dataframe thead th {\n",
       "        text-align: right;\n",
       "    }\n",
       "</style>\n",
       "<table border=\"1\" class=\"dataframe\">\n",
       "  <thead>\n",
       "    <tr style=\"text-align: right;\">\n",
       "      <th></th>\n",
       "      <th>List A: High tuition and fee indicator</th>\n",
       "      <th>List E: Low tuition and fee indicator</th>\n",
       "    </tr>\n",
       "    <tr>\n",
       "      <th>Name of institution</th>\n",
       "      <th></th>\n",
       "      <th></th>\n",
       "    </tr>\n",
       "  </thead>\n",
       "  <tbody>\n",
       "    <tr>\n",
       "      <th>University of Pittsburgh-Pittsburgh Campus</th>\n",
       "      <td>1</td>\n",
       "      <td>0</td>\n",
       "    </tr>\n",
       "    <tr>\n",
       "      <th>College of William and Mary</th>\n",
       "      <td>1</td>\n",
       "      <td>0</td>\n",
       "    </tr>\n",
       "    <tr>\n",
       "      <th>Pennsylvania State University-Main Campus</th>\n",
       "      <td>1</td>\n",
       "      <td>0</td>\n",
       "    </tr>\n",
       "    <tr>\n",
       "      <th>Colorado School of Mines</th>\n",
       "      <td>1</td>\n",
       "      <td>0</td>\n",
       "    </tr>\n",
       "    <tr>\n",
       "      <th>University of New Hampshire-Main Campus</th>\n",
       "      <td>1</td>\n",
       "      <td>0</td>\n",
       "    </tr>\n",
       "  </tbody>\n",
       "</table>\n",
       "</div>"
      ],
      "text/plain": [
       "                                            List A: High tuition and fee indicator  \\\n",
       "Name of institution                                                                  \n",
       "University of Pittsburgh-Pittsburgh Campus                                       1   \n",
       "College of William and Mary                                                      1   \n",
       "Pennsylvania State University-Main Campus                                        1   \n",
       "Colorado School of Mines                                                         1   \n",
       "University of New Hampshire-Main Campus                                          1   \n",
       "\n",
       "                                            List E: Low tuition and fee indicator  \n",
       "Name of institution                                                                \n",
       "University of Pittsburgh-Pittsburgh Campus                                      0  \n",
       "College of William and Mary                                                     0  \n",
       "Pennsylvania State University-Main Campus                                       0  \n",
       "Colorado School of Mines                                                        0  \n",
       "University of New Hampshire-Main Campus                                         0  "
      ]
     },
     "execution_count": 67,
     "metadata": {},
     "output_type": "execute_result"
    }
   ],
   "source": [
    "test_19 = data.iloc[:5, -2:]\n",
    "test_19"
   ]
  },
  {
   "cell_type": "code",
   "execution_count": 68,
   "metadata": {},
   "outputs": [
    {
     "data": {
      "text/html": [
       "<div>\n",
       "<style scoped>\n",
       "    .dataframe tbody tr th:only-of-type {\n",
       "        vertical-align: middle;\n",
       "    }\n",
       "\n",
       "    .dataframe tbody tr th {\n",
       "        vertical-align: top;\n",
       "    }\n",
       "\n",
       "    .dataframe thead th {\n",
       "        text-align: right;\n",
       "    }\n",
       "</style>\n",
       "<table border=\"1\" class=\"dataframe\">\n",
       "  <thead>\n",
       "    <tr style=\"text-align: right;\">\n",
       "      <th></th>\n",
       "      <th>Sector</th>\n",
       "      <th>Sector name</th>\n",
       "      <th>UnitID</th>\n",
       "      <th>OPEID</th>\n",
       "      <th>State</th>\n",
       "      <th>2014-15 Tuition and fees</th>\n",
       "      <th>List A: High tuition and fee indicator</th>\n",
       "      <th>List E: Low tuition and fee indicator</th>\n",
       "    </tr>\n",
       "    <tr>\n",
       "      <th>Name of institution</th>\n",
       "      <th></th>\n",
       "      <th></th>\n",
       "      <th></th>\n",
       "      <th></th>\n",
       "      <th></th>\n",
       "      <th></th>\n",
       "      <th></th>\n",
       "      <th></th>\n",
       "    </tr>\n",
       "  </thead>\n",
       "  <tbody>\n",
       "    <tr>\n",
       "      <th>University of Pittsburgh-Pittsburgh Campus</th>\n",
       "      <td>1</td>\n",
       "      <td>4-year, public</td>\n",
       "      <td>215293</td>\n",
       "      <td>337900</td>\n",
       "      <td>PA</td>\n",
       "      <td>17772.0</td>\n",
       "      <td>1</td>\n",
       "      <td>0</td>\n",
       "    </tr>\n",
       "    <tr>\n",
       "      <th>University of Illinois at Urbana-Champaign</th>\n",
       "      <td>1</td>\n",
       "      <td>4-year, public</td>\n",
       "      <td>145637</td>\n",
       "      <td>177500</td>\n",
       "      <td>IL</td>\n",
       "      <td>15020.0</td>\n",
       "      <td>1</td>\n",
       "      <td>0</td>\n",
       "    </tr>\n",
       "    <tr>\n",
       "      <th>Pennsylvania State University-Penn State Brandywine</th>\n",
       "      <td>1</td>\n",
       "      <td>4-year, public</td>\n",
       "      <td>214731</td>\n",
       "      <td>332921</td>\n",
       "      <td>PA</td>\n",
       "      <td>13942.0</td>\n",
       "      <td>1</td>\n",
       "      <td>0</td>\n",
       "    </tr>\n",
       "    <tr>\n",
       "      <th>University of New Hampshire at Manchester</th>\n",
       "      <td>1</td>\n",
       "      <td>4-year, public</td>\n",
       "      <td>183071</td>\n",
       "      <td>258901</td>\n",
       "      <td>NH</td>\n",
       "      <td>13768.0</td>\n",
       "      <td>1</td>\n",
       "      <td>0</td>\n",
       "    </tr>\n",
       "    <tr>\n",
       "      <th>Pennsylvania State University-Penn State DuBois</th>\n",
       "      <td>1</td>\n",
       "      <td>4-year, public</td>\n",
       "      <td>214740</td>\n",
       "      <td>332907</td>\n",
       "      <td>PA</td>\n",
       "      <td>13528.0</td>\n",
       "      <td>0</td>\n",
       "      <td>0</td>\n",
       "    </tr>\n",
       "    <tr>\n",
       "      <th>...</th>\n",
       "      <td>...</td>\n",
       "      <td>...</td>\n",
       "      <td>...</td>\n",
       "      <td>...</td>\n",
       "      <td>...</td>\n",
       "      <td>...</td>\n",
       "      <td>...</td>\n",
       "      <td>...</td>\n",
       "    </tr>\n",
       "    <tr>\n",
       "      <th>The English Center</th>\n",
       "      <td>8</td>\n",
       "      <td>Less than 2-year, private not-for-profit</td>\n",
       "      <td>437653</td>\n",
       "      <td>3413400</td>\n",
       "      <td>CA</td>\n",
       "      <td>9705.0</td>\n",
       "      <td>0</td>\n",
       "      <td>0</td>\n",
       "    </tr>\n",
       "    <tr>\n",
       "      <th>Dorsey Business Schools-Roseville</th>\n",
       "      <td>9</td>\n",
       "      <td>Less than 2-year, private for-profit</td>\n",
       "      <td>250744</td>\n",
       "      <td>469204</td>\n",
       "      <td>MI</td>\n",
       "      <td>19968.0</td>\n",
       "      <td>1</td>\n",
       "      <td>0</td>\n",
       "    </tr>\n",
       "    <tr>\n",
       "      <th>Ohio Center for Broadcasting-Columbus</th>\n",
       "      <td>9</td>\n",
       "      <td>Less than 2-year, private for-profit</td>\n",
       "      <td>453756</td>\n",
       "      <td>3068202</td>\n",
       "      <td>OH</td>\n",
       "      <td>15557.0</td>\n",
       "      <td>0</td>\n",
       "      <td>0</td>\n",
       "    </tr>\n",
       "    <tr>\n",
       "      <th>Cortiva Institute-New Jersey</th>\n",
       "      <td>9</td>\n",
       "      <td>Less than 2-year, private for-profit</td>\n",
       "      <td>460640</td>\n",
       "      <td>3766301</td>\n",
       "      <td>NJ</td>\n",
       "      <td>9884.0</td>\n",
       "      <td>0</td>\n",
       "      <td>0</td>\n",
       "    </tr>\n",
       "    <tr>\n",
       "      <th>Automeca Technical College-Ponce</th>\n",
       "      <td>9</td>\n",
       "      <td>Less than 2-year, private for-profit</td>\n",
       "      <td>419721</td>\n",
       "      <td>2297705</td>\n",
       "      <td>PR</td>\n",
       "      <td>7256.0</td>\n",
       "      <td>0</td>\n",
       "      <td>0</td>\n",
       "    </tr>\n",
       "  </tbody>\n",
       "</table>\n",
       "<p>414 rows × 8 columns</p>\n",
       "</div>"
      ],
      "text/plain": [
       "                                                    Sector  \\\n",
       "Name of institution                                          \n",
       "University of Pittsburgh-Pittsburgh Campus               1   \n",
       "University of Illinois at Urbana-Champaign               1   \n",
       "Pennsylvania State University-Penn State Brandy...       1   \n",
       "University of New Hampshire at Manchester                1   \n",
       "Pennsylvania State University-Penn State DuBois          1   \n",
       "...                                                    ...   \n",
       "The English Center                                       8   \n",
       "Dorsey Business Schools-Roseville                        9   \n",
       "Ohio Center for Broadcasting-Columbus                    9   \n",
       "Cortiva Institute-New Jersey                             9   \n",
       "Automeca Technical College-Ponce                         9   \n",
       "\n",
       "                                                                                 Sector name  \\\n",
       "Name of institution                                                                            \n",
       "University of Pittsburgh-Pittsburgh Campus                                    4-year, public   \n",
       "University of Illinois at Urbana-Champaign                                    4-year, public   \n",
       "Pennsylvania State University-Penn State Brandy...                            4-year, public   \n",
       "University of New Hampshire at Manchester                                     4-year, public   \n",
       "Pennsylvania State University-Penn State DuBois                               4-year, public   \n",
       "...                                                                                      ...   \n",
       "The English Center                                  Less than 2-year, private not-for-profit   \n",
       "Dorsey Business Schools-Roseville                       Less than 2-year, private for-profit   \n",
       "Ohio Center for Broadcasting-Columbus                   Less than 2-year, private for-profit   \n",
       "Cortiva Institute-New Jersey                            Less than 2-year, private for-profit   \n",
       "Automeca Technical College-Ponce                        Less than 2-year, private for-profit   \n",
       "\n",
       "                                                    UnitID    OPEID State  \\\n",
       "Name of institution                                                         \n",
       "University of Pittsburgh-Pittsburgh Campus          215293   337900    PA   \n",
       "University of Illinois at Urbana-Champaign          145637   177500    IL   \n",
       "Pennsylvania State University-Penn State Brandy...  214731   332921    PA   \n",
       "University of New Hampshire at Manchester           183071   258901    NH   \n",
       "Pennsylvania State University-Penn State DuBois     214740   332907    PA   \n",
       "...                                                    ...      ...   ...   \n",
       "The English Center                                  437653  3413400    CA   \n",
       "Dorsey Business Schools-Roseville                   250744   469204    MI   \n",
       "Ohio Center for Broadcasting-Columbus               453756  3068202    OH   \n",
       "Cortiva Institute-New Jersey                        460640  3766301    NJ   \n",
       "Automeca Technical College-Ponce                    419721  2297705    PR   \n",
       "\n",
       "                                                    2014-15 Tuition and fees  \\\n",
       "Name of institution                                                            \n",
       "University of Pittsburgh-Pittsburgh Campus                           17772.0   \n",
       "University of Illinois at Urbana-Champaign                           15020.0   \n",
       "Pennsylvania State University-Penn State Brandy...                   13942.0   \n",
       "University of New Hampshire at Manchester                            13768.0   \n",
       "Pennsylvania State University-Penn State DuBois                      13528.0   \n",
       "...                                                                      ...   \n",
       "The English Center                                                    9705.0   \n",
       "Dorsey Business Schools-Roseville                                    19968.0   \n",
       "Ohio Center for Broadcasting-Columbus                                15557.0   \n",
       "Cortiva Institute-New Jersey                                          9884.0   \n",
       "Automeca Technical College-Ponce                                      7256.0   \n",
       "\n",
       "                                                    List A: High tuition and fee indicator  \\\n",
       "Name of institution                                                                          \n",
       "University of Pittsburgh-Pittsburgh Campus                                               1   \n",
       "University of Illinois at Urbana-Champaign                                               1   \n",
       "Pennsylvania State University-Penn State Brandy...                                       1   \n",
       "University of New Hampshire at Manchester                                                1   \n",
       "Pennsylvania State University-Penn State DuBois                                          0   \n",
       "...                                                                                    ...   \n",
       "The English Center                                                                       0   \n",
       "Dorsey Business Schools-Roseville                                                        1   \n",
       "Ohio Center for Broadcasting-Columbus                                                    0   \n",
       "Cortiva Institute-New Jersey                                                             0   \n",
       "Automeca Technical College-Ponce                                                         0   \n",
       "\n",
       "                                                    List E: Low tuition and fee indicator  \n",
       "Name of institution                                                                        \n",
       "University of Pittsburgh-Pittsburgh Campus                                              0  \n",
       "University of Illinois at Urbana-Champaign                                              0  \n",
       "Pennsylvania State University-Penn State Brandy...                                      0  \n",
       "University of New Hampshire at Manchester                                               0  \n",
       "Pennsylvania State University-Penn State DuBois                                         0  \n",
       "...                                                                                   ...  \n",
       "The English Center                                                                      0  \n",
       "Dorsey Business Schools-Roseville                                                       0  \n",
       "Ohio Center for Broadcasting-Columbus                                                   0  \n",
       "Cortiva Institute-New Jersey                                                            0  \n",
       "Automeca Technical College-Ponce                                                        0  \n",
       "\n",
       "[414 rows x 8 columns]"
      ]
     },
     "execution_count": 68,
     "metadata": {},
     "output_type": "execute_result"
    }
   ],
   "source": [
    "test_20 = data.iloc[::10]\n",
    "test_20"
   ]
  },
  {
   "cell_type": "code",
   "execution_count": 72,
   "metadata": {},
   "outputs": [
    {
     "data": {
      "text/plain": [
       "'FL'"
      ]
     },
     "execution_count": 72,
     "metadata": {},
     "output_type": "execute_result"
    }
   ],
   "source": [
    "test_21 = data.sort_values('2014-15 Tuition and fees', ascending=False).iloc[0]['State']\n",
    "test_21"
   ]
  },
  {
   "cell_type": "code",
   "execution_count": 85,
   "metadata": {},
   "outputs": [],
   "source": [
    "states = set(data['State'])\n",
    "state_tuitions = {state:np.mean(data.loc[data.State == state, '2014-15 Tuition and fees']) for state in states}"
   ]
  },
  {
   "cell_type": "code",
   "execution_count": 84,
   "metadata": {},
   "outputs": [
    {
     "data": {
      "text/plain": [
       "'RI'"
      ]
     },
     "execution_count": 84,
     "metadata": {},
     "output_type": "execute_result"
    }
   ],
   "source": [
    "test_22 = max(state_tuitions, key=lambda key: state_tuitions[key])\n",
    "test_22"
   ]
  },
  {
   "cell_type": "code",
   "execution_count": null,
   "metadata": {},
   "outputs": [],
   "source": []
  }
 ],
 "metadata": {
  "kernelspec": {
   "display_name": "Python 3",
   "language": "python",
   "name": "python3"
  },
  "language_info": {
   "codemirror_mode": {
    "name": "ipython",
    "version": 3
   },
   "file_extension": ".py",
   "mimetype": "text/x-python",
   "name": "python",
   "nbconvert_exporter": "python",
   "pygments_lexer": "ipython3",
   "version": "3.8.3"
  }
 },
 "nbformat": 4,
 "nbformat_minor": 4
}
