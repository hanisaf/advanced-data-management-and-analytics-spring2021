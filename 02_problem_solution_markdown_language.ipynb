{
 "cells": [
  {
   "cell_type": "code",
   "execution_count": 1,
   "metadata": {},
   "outputs": [
    {
     "data": {
      "text/html": [
       "<!DOCTYPE html>\n",
       "    <html>\n",
       "    <head>\n",
       "        <meta charset=\"UTF-8\">\n",
       "        <title>Description</title>\n",
       "        <style>\n",
       "</style>\n",
       "        \n",
       "        <link rel=\"stylesheet\" href=\"https://cdn.jsdelivr.net/gh/Microsoft/vscode/extensions/markdown-language-features/media/markdown.css\">\n",
       "<link rel=\"stylesheet\" href=\"https://cdn.jsdelivr.net/gh/Microsoft/vscode/extensions/markdown-language-features/media/highlight.css\">\n",
       "<style>\n",
       "            body {\n",
       "                font-family: -apple-system, BlinkMacSystemFont, 'Segoe WPC', 'Segoe UI', system-ui, 'Ubuntu', 'Droid Sans', sans-serif;\n",
       "                font-size: 14px;\n",
       "                line-height: 1.6;\n",
       "            }\n",
       "        </style>\n",
       "        <style>\n",
       ".task-list-item { list-style-type: none; } .task-list-item-checkbox { margin-left: -20px; vertical-align: middle; }\n",
       "</style>\n",
       "        \n",
       "        \n",
       "        \n",
       "    </head>\n",
       "    <body class=\"vscode-body vscode-light\">\n",
       "        <h1 id=\"description\">Description</h1>\n",
       "<p>This course provides students with knowledge, methods, and technologies of emerging technical issues related to data science. The topics in the course are organized around four themes: reproducible analytics,  advanced data management, communication and delivery, and advanced data analytics.</p>\n",
       "<h1 id=\"learning-outcomes\">Learning outcomes</h1>\n",
       "<p>Students completing the course will have a high level of skill in the use of common data science tools, including:</p>\n",
       "<ul>\n",
       "<li>Python language and Python packages for data analytics</li>\n",
       "<li>Data manipulation and handling</li>\n",
       "<li>Data organization, integration, and transformation</li>\n",
       "</ul>\n",
       "<h1 id=\"topics-and-schedule\">Topics and Schedule</h1>\n",
       "<h2 id=\"class-schedule\">Class Schedule</h2>\n",
       "<table>\n",
       "<thead>\n",
       "<tr>\n",
       "<th>#</th>\n",
       "<th>Theme</th>\n",
       "<th>Module</th>\n",
       "<th>Topics</th>\n",
       "</tr>\n",
       "</thead>\n",
       "<tbody>\n",
       "<tr>\n",
       "<td>1</td>\n",
       "<td>Reproducible analytics</td>\n",
       "<td>The analytics pipeline</td>\n",
       "<td>Course introduction</td>\n",
       "</tr>\n",
       "<tr>\n",
       "<td>2</td>\n",
       "<td></td>\n",
       "<td></td>\n",
       "<td>Markdown language</td>\n",
       "</tr>\n",
       "<tr>\n",
       "<td>3</td>\n",
       "<td></td>\n",
       "<td>Python language fundamentals</td>\n",
       "<td>Variables</td>\n",
       "</tr>\n",
       "</tbody>\n",
       "</table>\n",
       "\n",
       "    </body>\n",
       "    </html>"
      ],
      "text/plain": [
       "<IPython.core.display.HTML object>"
      ]
     },
     "execution_count": 1,
     "metadata": {},
     "output_type": "execute_result"
    }
   ],
   "source": [
    "from IPython.display import HTML\n",
    "HTML(filename=\"data/Description.html\")"
   ]
  },
  {
   "cell_type": "markdown",
   "metadata": {},
   "source": [
    "Recreate the above using Markdown"
   ]
  },
  {
   "cell_type": "markdown",
   "metadata": {},
   "source": [
    "# Description\n",
    "This course provides students with knowledge, methods, and technologies of emerging technical issues related to data science. The topics in the course are organized around four themes: reproducible analytics,  advanced data management, communication and delivery, and advanced data analytics. \n",
    "\n",
    "# Learning outcomes\n",
    "Students completing the course will have a high level of skill in the use of common data science tools, including:\n",
    "- Python language and Python packages for data analytics\n",
    "- Data manipulation and handling\n",
    "- Data organization, integration, and transformation\n",
    "\n",
    "\n",
    "# Topics and Schedule\n",
    "\n",
    "## Class Schedule\n",
    "\n",
    "|  #  |           Theme            |            Module             |                 Topics                  |\n",
    "| --- | -------------------------- | ----------------------------- | --------------------------------------- |\n",
    "| 1   | Reproducible analytics     | The analytics pipeline        | Course introduction                     |\n",
    "| 2   |                            |                               | Markdown language                       |\n",
    "| 3   |                            | Python language fundamentals  | Variables                               |\n"
   ]
  },
  {
   "cell_type": "code",
   "execution_count": null,
   "metadata": {},
   "outputs": [],
   "source": []
  }
 ],
 "metadata": {
  "kernelspec": {
   "display_name": "Python 3",
   "language": "python",
   "name": "python3"
  },
  "language_info": {
   "codemirror_mode": {
    "name": "ipython",
    "version": 3
   },
   "file_extension": ".py",
   "mimetype": "text/x-python",
   "name": "python",
   "nbconvert_exporter": "python",
   "pygments_lexer": "ipython3",
   "version": "3.8.3"
  }
 },
 "nbformat": 4,
 "nbformat_minor": 4
}
