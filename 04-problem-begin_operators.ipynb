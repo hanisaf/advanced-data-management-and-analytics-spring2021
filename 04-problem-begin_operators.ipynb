{
 "cells": [
  {
   "cell_type": "markdown",
   "metadata": {},
   "source": [
    "Below are the grade distribution in one UGA class\n",
    "Create a histogram, like the one below"
   ]
  },
  {
   "cell_type": "raw",
   "metadata": {},
   "source": [
    "A  **********\n",
    "A- *****\n",
    "B+ ******\n",
    "B  ******\n",
    "B- ****\n",
    "C+ ***\n",
    "C  *\n",
    "C- \n",
    "D  \n",
    "F  *"
   ]
  },
  {
   "cell_type": "code",
   "execution_count": 1,
   "metadata": {},
   "outputs": [],
   "source": [
    "a = 10 #10 students got a grade of a\n",
    "a_minus = 5 #5 students got a grade of a-\n",
    "b_plus = 6 \n",
    "b = 6\n",
    "b_minus = 4\n",
    "c_plus = 3\n",
    "c = 1\n",
    "c_minus = 0\n",
    "d = 0\n",
    "f = 1"
   ]
  },
  {
   "cell_type": "code",
   "execution_count": null,
   "metadata": {},
   "outputs": [],
   "source": []
  }
 ],
 "metadata": {
  "kernelspec": {
   "display_name": "Python 3",
   "language": "python",
   "name": "python3"
  },
  "language_info": {
   "codemirror_mode": {
    "name": "ipython",
    "version": 3
   },
   "file_extension": ".py",
   "mimetype": "text/x-python",
   "name": "python",
   "nbconvert_exporter": "python",
   "pygments_lexer": "ipython3",
   "version": "3.8.3"
  }
 },
 "nbformat": 4,
 "nbformat_minor": 4
}
