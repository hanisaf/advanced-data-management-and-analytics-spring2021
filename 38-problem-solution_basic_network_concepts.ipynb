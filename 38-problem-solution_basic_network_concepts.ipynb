{
 "cells": [
  {
   "cell_type": "markdown",
   "metadata": {},
   "source": [
    "The following network represents interaction between characters in Star Wars Episode VI: Return of the Jedi.\n",
    "Each node represents a character, a link indicates that the two characters interacted in the movie more than three times.\n",
    "\n",
    "Data for this network was obtained from [Kaggle](https://www.kaggle.com/ruchi798/star-wars) \n",
    "\n",
    "![Star Wars Episode VI: Return of the Jedi](images/star-wars-7.png)\n",
    "\n",
    "\n",
    "- Use networkx to represent the network.\n",
    "- (re)draw the network.\n",
    "- Show the adjacency Matrix\n",
    "- Who are the connections of `LEIA`?\n",
    "- What is the distance between `KYLO REN` and `MAZ`?\n",
    "- What is the largest clique in the network?"
   ]
  },
  {
   "cell_type": "code",
   "execution_count": 2,
   "metadata": {},
   "outputs": [],
   "source": [
    "import networkx as nx\n",
    "import pandas as pd"
   ]
  },
  {
   "cell_type": "code",
   "execution_count": 3,
   "metadata": {},
   "outputs": [],
   "source": [
    "net = nx.Graph()"
   ]
  },
  {
   "cell_type": "code",
   "execution_count": 4,
   "metadata": {},
   "outputs": [],
   "source": [
    "net.add_node('GENERAL HUX')\n",
    "net.add_node('KYLO REN')\n",
    "net.add_node('REY')\n",
    "net.add_node('FINN')\n",
    "net.add_node('POE')\n",
    "net.add_node('HAN')\n",
    "net.add_node('MAZ')\n",
    "net.add_node('LEIA')\n",
    "net.add_node('C-3PO')"
   ]
  },
  {
   "cell_type": "code",
   "execution_count": 5,
   "metadata": {},
   "outputs": [],
   "source": [
    "# or\n",
    "#net.add_nodes_from(['GENERAL HUX', 'KYLO REN', 'FINN', 'POE', 'REY', 'HAN', 'MAZ', 'C-3PO', 'LEIA'])"
   ]
  },
  {
   "cell_type": "code",
   "execution_count": 6,
   "metadata": {},
   "outputs": [],
   "source": [
    "net.add_edge('GENERAL HUX', 'KYLO REN')\n",
    "net.add_edge('REY', 'KYLO REN')\n",
    "net.add_edge('FINN', 'REY')\n",
    "net.add_edge('FINN', 'POE')\n",
    "net.add_edge('FINN', 'HAN')\n",
    "net.add_edge('REY', 'HAN')\n",
    "net.add_edge('MAZ', 'HAN')\n",
    "net.add_edge('LEIA', 'HAN')\n",
    "net.add_edge('LEIA', 'C-3PO')"
   ]
  },
  {
   "cell_type": "code",
   "execution_count": 7,
   "metadata": {},
   "outputs": [],
   "source": [
    "# or\n",
    "# net.add_edges_from([('GENERAL HUX', 'KYLO REN'), ('KYLO REN', 'REY'), ('FINN', 'POE'), ('FINN', 'REY'), ('FINN', 'HAN'), ('REY', 'HAN'), ('HAN', 'MAZ'), ('HAN', 'LEIA'), ('C-3PO', 'LEIA')])"
   ]
  },
  {
   "cell_type": "code",
   "execution_count": 6,
   "metadata": {},
   "outputs": [
    {
     "data": {
      "text/plain": [
       "NodeView(('GENERAL HUX', 'KYLO REN', 'REY', 'FINN', 'POE', 'HAN', 'MAZ', 'LEIA', 'C-3PO'))"
      ]
     },
     "execution_count": 6,
     "metadata": {},
     "output_type": "execute_result"
    }
   ],
   "source": [
    "net.nodes()"
   ]
  },
  {
   "cell_type": "code",
   "execution_count": 7,
   "metadata": {},
   "outputs": [
    {
     "data": {
      "text/plain": [
       "EdgeView([('GENERAL HUX', 'KYLO REN'), ('KYLO REN', 'REY'), ('REY', 'FINN'), ('REY', 'HAN'), ('FINN', 'POE'), ('FINN', 'HAN'), ('HAN', 'MAZ'), ('HAN', 'LEIA'), ('LEIA', 'C-3PO')])"
      ]
     },
     "execution_count": 7,
     "metadata": {},
     "output_type": "execute_result"
    }
   ],
   "source": [
    "net.edges()"
   ]
  },
  {
   "cell_type": "code",
   "execution_count": 10,
   "metadata": {},
   "outputs": [
    {
     "data": {
      "image/png": "[encoded data removed]",
      "text/plain": [
       "<Figure size 432x288 with 1 Axes>"
      ]
     },
     "metadata": {},
     "output_type": "display_data"
    }
   ],
   "source": [
    "nx.draw(net, with_labels=True)"
   ]
  },
  {
   "cell_type": "code",
   "execution_count": 13,
   "metadata": {},
   "outputs": [
    {
     "data": {
      "text/plain": [
       "matrix([[0, 1, 0, 0, 0, 0, 0, 0, 0],\n",
       "        [1, 0, 1, 0, 0, 0, 0, 0, 0],\n",
       "        [0, 1, 0, 1, 0, 1, 0, 0, 0],\n",
       "        [0, 0, 1, 0, 1, 1, 0, 0, 0],\n",
       "        [0, 0, 0, 1, 0, 0, 0, 0, 0],\n",
       "        [0, 0, 1, 1, 0, 0, 1, 1, 0],\n",
       "        [0, 0, 0, 0, 0, 1, 0, 0, 0],\n",
       "        [0, 0, 0, 0, 0, 1, 0, 0, 1],\n",
       "        [0, 0, 0, 0, 0, 0, 0, 1, 0]], dtype=int32)"
      ]
     },
     "execution_count": 13,
     "metadata": {},
     "output_type": "execute_result"
    }
   ],
   "source": [
    "nx.adj_matrix(net).todense()"
   ]
  },
  {
   "cell_type": "markdown",
   "metadata": {},
   "source": [
    "Who are the connections of LEIA?\n",
    "What is the distance between KYLO REN and MAZ?\n",
    "What is the largest clique in the network?"
   ]
  },
  {
   "cell_type": "code",
   "execution_count": 14,
   "metadata": {},
   "outputs": [
    {
     "data": {
      "text/plain": [
       "['HAN', 'C-3PO']"
      ]
     },
     "execution_count": 14,
     "metadata": {},
     "output_type": "execute_result"
    }
   ],
   "source": [
    "list(net.neighbors('LEIA'))"
   ]
  },
  {
   "cell_type": "code",
   "execution_count": 15,
   "metadata": {},
   "outputs": [
    {
     "data": {
      "text/plain": [
       "['KYLO REN', 'REY', 'HAN', 'MAZ']"
      ]
     },
     "execution_count": 15,
     "metadata": {},
     "output_type": "execute_result"
    }
   ],
   "source": [
    "nx.shortest_path(net, 'KYLO REN', 'MAZ')"
   ]
  },
  {
   "cell_type": "code",
   "execution_count": 8,
   "metadata": {},
   "outputs": [
    {
     "data": {
      "text/plain": [
       "['HAN', 'FINN', 'REY']"
      ]
     },
     "execution_count": 8,
     "metadata": {},
     "output_type": "execute_result"
    }
   ],
   "source": [
    "# largest clique with python\n",
    "cliques = [c for lc in nx.cliques_containing_node(net).values() for c in lc ]\n",
    "cliques = sorted(cliques, key=len, reverse=True )\n",
    "cliques[0]"
   ]
  },
  {
   "cell_type": "code",
   "execution_count": 30,
   "metadata": {},
   "outputs": [
    {
     "data": {
      "text/plain": [
       "['HAN', 'FINN', 'REY']"
      ]
     },
     "execution_count": 30,
     "metadata": {},
     "output_type": "execute_result"
    }
   ],
   "source": [
    "# largest clique with pandas\n",
    "cliques = nx.cliques_containing_node(net)\n",
    "df = pd.DataFrame(pd.Series(cliques), columns=['cliques'])\n",
    "# largest clique of each node\n",
    "df['largest_clique'] = df.cliques.apply(lambda x: sorted(x, key=len, reverse=True)).str[0]\n",
    "# max len of a clique\n",
    "df['max_clique_length'] = df.cliques.apply(lambda x: max(len(l) for l in x))\n",
    "# largest clique in the network\n",
    "df.sort_values('max_clique_length', ascending=False).iloc[0, -1]"
   ]
  },
  {
   "cell_type": "code",
   "execution_count": null,
   "metadata": {},
   "outputs": [],
   "source": []
  }
 ],
 "metadata": {
  "kernelspec": {
   "display_name": "Python 3",
   "language": "python",
   "name": "python3"
  },
  "language_info": {
   "codemirror_mode": {
    "name": "ipython",
    "version": 3
   },
   "file_extension": ".py",
   "mimetype": "text/x-python",
   "name": "python",
   "nbconvert_exporter": "python",
   "pygments_lexer": "ipython3",
   "version": "3.8.3"
  }
 },
 "nbformat": 4,
 "nbformat_minor": 4
}
