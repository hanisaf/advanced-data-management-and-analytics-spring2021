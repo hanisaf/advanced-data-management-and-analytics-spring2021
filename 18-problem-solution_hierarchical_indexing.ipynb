{
 "cells": [
  {
   "cell_type": "code",
   "execution_count": 1,
   "metadata": {},
   "outputs": [],
   "source": [
    "import pandas as pd"
   ]
  },
  {
   "cell_type": "code",
   "execution_count": 6,
   "metadata": {},
   "outputs": [
    {
     "data": {
      "text/html": [
       "<div>\n",
       "<style scoped>\n",
       "    .dataframe tbody tr th:only-of-type {\n",
       "        vertical-align: middle;\n",
       "    }\n",
       "\n",
       "    .dataframe tbody tr th {\n",
       "        vertical-align: top;\n",
       "    }\n",
       "\n",
       "    .dataframe thead th {\n",
       "        text-align: right;\n",
       "    }\n",
       "</style>\n",
       "<table border=\"1\" class=\"dataframe\">\n",
       "  <thead>\n",
       "    <tr style=\"text-align: right;\">\n",
       "      <th></th>\n",
       "      <th>Instructor</th>\n",
       "      <th>Course</th>\n",
       "      <th>Semester</th>\n",
       "      <th>Year</th>\n",
       "      <th>Evaluation</th>\n",
       "    </tr>\n",
       "  </thead>\n",
       "  <tbody>\n",
       "    <tr>\n",
       "      <th>0</th>\n",
       "      <td>Safadi</td>\n",
       "      <td>MIST4610</td>\n",
       "      <td>Fall</td>\n",
       "      <td>2019</td>\n",
       "      <td>5</td>\n",
       "    </tr>\n",
       "    <tr>\n",
       "      <th>1</th>\n",
       "      <td>Aguar</td>\n",
       "      <td>MIST6380</td>\n",
       "      <td>Spring</td>\n",
       "      <td>2018</td>\n",
       "      <td>4</td>\n",
       "    </tr>\n",
       "    <tr>\n",
       "      <th>2</th>\n",
       "      <td>Safadi</td>\n",
       "      <td>MIST5730</td>\n",
       "      <td>Summer</td>\n",
       "      <td>2018</td>\n",
       "      <td>3</td>\n",
       "    </tr>\n",
       "    <tr>\n",
       "      <th>3</th>\n",
       "      <td>Boudreau</td>\n",
       "      <td>MIST4610</td>\n",
       "      <td>Fall</td>\n",
       "      <td>2018</td>\n",
       "      <td>4</td>\n",
       "    </tr>\n",
       "    <tr>\n",
       "      <th>4</th>\n",
       "      <td>Safadi</td>\n",
       "      <td>MIST4610</td>\n",
       "      <td>Summer</td>\n",
       "      <td>2017</td>\n",
       "      <td>3</td>\n",
       "    </tr>\n",
       "  </tbody>\n",
       "</table>\n",
       "</div>"
      ],
      "text/plain": [
       "  Instructor    Course Semester  Year  Evaluation\n",
       "0     Safadi  MIST4610     Fall  2019           5\n",
       "1      Aguar  MIST6380   Spring  2018           4\n",
       "2     Safadi  MIST5730   Summer  2018           3\n",
       "3   Boudreau  MIST4610     Fall  2018           4\n",
       "4     Safadi  MIST4610   Summer  2017           3"
      ]
     },
     "execution_count": 6,
     "metadata": {},
     "output_type": "execute_result"
    }
   ],
   "source": [
    "data=pd.read_csv('data/course_eval.csv')\n",
    "data.head()"
   ]
  },
  {
   "cell_type": "markdown",
   "metadata": {},
   "source": [
    "The data frame contains MIS instructor course evaluation for several courses over different semesters/years.\n",
    "\n",
    "**NOTE** This is a simulated data. The course evaluation numbers are not real!\n",
    "\n",
    "Answer the following questions without using masking!\n",
    "\n",
    "- What is the average evaluation of your favorite instructor, `Safadi`?\n",
    "- What are the courses taught in Summer 2020?\n",
    "- What are the courses taught in Summer of 2019 and 2020?\n",
    "- What are the courses taught in Summer of years 2018 to 2020?\n",
    "- What is the average course evaluation of each instructor?"
   ]
  },
  {
   "cell_type": "code",
   "execution_count": 9,
   "metadata": {},
   "outputs": [
    {
     "data": {
      "text/plain": [
       "2.739130434782609"
      ]
     },
     "execution_count": 9,
     "metadata": {},
     "output_type": "execute_result"
    }
   ],
   "source": [
    "data.set_index('Instructor').loc['Safadi', 'Evaluation'].mean()"
   ]
  },
  {
   "cell_type": "code",
   "execution_count": 17,
   "metadata": {},
   "outputs": [
    {
     "data": {
      "text/plain": [
       "Semester  Year\n",
       "Summer    2020    MIST4600\n",
       "          2020    MIST6380\n",
       "          2020    MIST4610\n",
       "          2020    MIST5730\n",
       "          2020    MIST6380\n",
       "Name: Course, dtype: object"
      ]
     },
     "execution_count": 17,
     "metadata": {},
     "output_type": "execute_result"
    }
   ],
   "source": [
    "data.set_index(['Semester', 'Year']).loc[ ('Summer', 2020) , 'Course']"
   ]
  },
  {
   "cell_type": "code",
   "execution_count": 18,
   "metadata": {},
   "outputs": [
    {
     "data": {
      "text/plain": [
       "Semester  Year\n",
       "Summer    2020    MIST4600\n",
       "          2020    MIST6380\n",
       "          2019    MIST4600\n",
       "          2019    MIST6380\n",
       "          2020    MIST4610\n",
       "          2020    MIST5730\n",
       "          2020    MIST6380\n",
       "Name: Course, dtype: object"
      ]
     },
     "execution_count": 18,
     "metadata": {},
     "output_type": "execute_result"
    }
   ],
   "source": [
    "data.set_index(['Semester', 'Year']).loc[ ('Summer', [2019, 2020]) , 'Course']"
   ]
  },
  {
   "cell_type": "code",
   "execution_count": 20,
   "metadata": {},
   "outputs": [],
   "source": [
    "# data.set_index(['Semester', 'Year']).loc[ ('Summer', 2018:2020) , 'Course'] #invalid syntax, use idx"
   ]
  },
  {
   "cell_type": "code",
   "execution_count": 21,
   "metadata": {},
   "outputs": [],
   "source": [
    "idx = pd.IndexSlice"
   ]
  },
  {
   "cell_type": "code",
   "execution_count": 24,
   "metadata": {},
   "outputs": [],
   "source": [
    "# data.set_index(['Semester', 'Year']).loc[ idx['Summer', 2018:2020] , 'Course'] #need to sort the multi-index to slice"
   ]
  },
  {
   "cell_type": "code",
   "execution_count": 25,
   "metadata": {},
   "outputs": [
    {
     "data": {
      "text/plain": [
       "Semester  Year\n",
       "Summer    2018    MIST5730\n",
       "          2018    MIST4600\n",
       "          2018    MIST4610\n",
       "          2018    MIST6380\n",
       "          2018    MIST4600\n",
       "          2018    MIST4610\n",
       "          2018    MIST4600\n",
       "          2018    MIST5730\n",
       "          2019    MIST4600\n",
       "          2019    MIST6380\n",
       "          2020    MIST4600\n",
       "          2020    MIST6380\n",
       "          2020    MIST4610\n",
       "          2020    MIST5730\n",
       "          2020    MIST6380\n",
       "Name: Course, dtype: object"
      ]
     },
     "execution_count": 25,
     "metadata": {},
     "output_type": "execute_result"
    }
   ],
   "source": [
    "data.set_index(['Semester', 'Year']).sort_index().loc[ idx['Summer', 2018:2020] , 'Course']"
   ]
  },
  {
   "cell_type": "code",
   "execution_count": 35,
   "metadata": {},
   "outputs": [
    {
     "data": {
      "text/plain": [
       "Instructor\n",
       "Safadi        2.739130\n",
       "Aguar         2.909091\n",
       "Boudreau      3.411765\n",
       "Srinivasan    3.375000\n",
       "Name: Evaluation, dtype: float64"
      ]
     },
     "execution_count": 35,
     "metadata": {},
     "output_type": "execute_result"
    }
   ],
   "source": [
    "data.set_index(['Instructor', 'Course', 'Semester'])['Evaluation'].mean(level='Instructor')"
   ]
  },
  {
   "cell_type": "code",
   "execution_count": null,
   "metadata": {},
   "outputs": [],
   "source": []
  }
 ],
 "metadata": {
  "kernelspec": {
   "display_name": "Python 3",
   "language": "python",
   "name": "python3"
  },
  "language_info": {
   "codemirror_mode": {
    "name": "ipython",
    "version": 3
   },
   "file_extension": ".py",
   "mimetype": "text/x-python",
   "name": "python",
   "nbconvert_exporter": "python",
   "pygments_lexer": "ipython3",
   "version": "3.8.3"
  }
 },
 "nbformat": 4,
 "nbformat_minor": 4
}
