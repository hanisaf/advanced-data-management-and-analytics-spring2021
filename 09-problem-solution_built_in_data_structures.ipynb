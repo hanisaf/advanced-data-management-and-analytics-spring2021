{
 "cells": [
  {
   "cell_type": "markdown",
   "metadata": {},
   "source": [
    "Below are the grade distribution in one UGA class\n",
    "Create a histogram, like the one below\n",
    "\n",
    "Redo this twice, starting from data stored in lists and then in a dictionary"
   ]
  },
  {
   "cell_type": "raw",
   "metadata": {},
   "source": [
    "A  **********\n",
    "A- *****\n",
    "B+ ******\n",
    "B  ******\n",
    "B- ****\n",
    "C+ ***\n",
    "C  *\n",
    "C- \n",
    "D  \n",
    "F  *"
   ]
  },
  {
   "cell_type": "markdown",
   "metadata": {},
   "source": []
  },
  {
   "cell_type": "code",
   "execution_count": 1,
   "metadata": {},
   "outputs": [],
   "source": [
    "# this is a helper function to create the bar\n",
    "def create_bar(label, number):\n",
    "    bar = number * '*'\n",
    "    # different ways to justify text to ensure labels are aligned, pick one\n",
    "    line = f\"{label:2} {bar}\"\n",
    "    # or \n",
    "    # line = label.ljust(2) + \" \" + number * '*'\n",
    "    # or\n",
    "    # if len(label) < 2:\n",
    "    #    label += \" \"\n",
    "    return line\n",
    "    "
   ]
  },
  {
   "cell_type": "markdown",
   "metadata": {},
   "source": [
    "# Using lists"
   ]
  },
  {
   "cell_type": "code",
   "execution_count": 2,
   "metadata": {},
   "outputs": [],
   "source": [
    "numbers = [10, 5, 6, 6, 4, 3, 1, 0, 0, 1]\n",
    "labels = ['A', 'A-', 'B+', 'B', 'B-', 'C+', 'C', 'C-', 'D', 'F']"
   ]
  },
  {
   "cell_type": "code",
   "execution_count": 3,
   "metadata": {},
   "outputs": [
    {
     "name": "stdout",
     "output_type": "stream",
     "text": [
      "A  **********\n",
      "A- *****\n",
      "B+ ******\n",
      "B  ******\n",
      "B- ****\n",
      "C+ ***\n",
      "C  *\n",
      "C- \n",
      "D  \n",
      "F  *\n"
     ]
    }
   ],
   "source": [
    "#work here\n",
    "l = len(numbers)\n",
    "for i in range(l):\n",
    "    number = numbers[i]\n",
    "    label = labels[i]\n",
    "    print(create_bar(label, number))"
   ]
  },
  {
   "cell_type": "code",
   "execution_count": 4,
   "metadata": {},
   "outputs": [
    {
     "name": "stdout",
     "output_type": "stream",
     "text": [
      "A  **********\n",
      "A- *****\n",
      "B+ ******\n",
      "B  ******\n",
      "B- ****\n",
      "C+ ***\n",
      "C  *\n",
      "C- \n",
      "D  \n",
      "F  *\n"
     ]
    }
   ],
   "source": [
    "#using a while loop\n",
    "i = 0\n",
    "while i < len(numbers):\n",
    "    number = numbers[i]\n",
    "    label = labels[i]\n",
    "    print(create_bar(label, number))\n",
    "    i += 1"
   ]
  },
  {
   "cell_type": "code",
   "execution_count": 5,
   "metadata": {},
   "outputs": [
    {
     "name": "stdout",
     "output_type": "stream",
     "text": [
      "A  **********\n",
      "A- *****\n",
      "B+ ******\n",
      "B  ******\n",
      "B- ****\n",
      "C+ ***\n",
      "C  *\n",
      "C- \n",
      "D  \n",
      "F  *\n"
     ]
    }
   ],
   "source": [
    "# more advanced (bonus)\n",
    "for number, label in zip(numbers, labels):\n",
    "    print(create_bar(label, number))"
   ]
  },
  {
   "cell_type": "markdown",
   "metadata": {},
   "source": [
    "# Using dictionaries"
   ]
  },
  {
   "cell_type": "code",
   "execution_count": 8,
   "metadata": {},
   "outputs": [],
   "source": [
    "grades = {'A': 10, 'A-': 5, 'B+': 6, 'B': 6, 'B-': 4, 'C+': 3, 'C': 1, 'C-': 0, 'D': 0, 'F': 1}"
   ]
  },
  {
   "cell_type": "code",
   "execution_count": 9,
   "metadata": {},
   "outputs": [
    {
     "name": "stdout",
     "output_type": "stream",
     "text": [
      "A  **********\n",
      "A- *****\n",
      "B+ ******\n",
      "B  ******\n",
      "B- ****\n",
      "C+ ***\n",
      "C  *\n",
      "C- \n",
      "D  \n",
      "F  *\n"
     ]
    }
   ],
   "source": [
    "#work here\n",
    "for key in grades.keys(): #or simply for key in grades\n",
    "    value = grades[key]\n",
    "    print(create_bar(key, value))"
   ]
  },
  {
   "cell_type": "code",
   "execution_count": 10,
   "metadata": {},
   "outputs": [
    {
     "name": "stdout",
     "output_type": "stream",
     "text": [
      "A  **********\n",
      "A- *****\n",
      "B+ ******\n",
      "B  ******\n",
      "B- ****\n",
      "C+ ***\n",
      "C  *\n",
      "C- \n",
      "D  \n",
      "F  *\n"
     ]
    }
   ],
   "source": [
    "# or using items\n",
    "for key, value in grades.items():\n",
    "    print(key.ljust(3) + value * '*')"
   ]
  },
  {
   "cell_type": "code",
   "execution_count": null,
   "metadata": {},
   "outputs": [],
   "source": []
  }
 ],
 "metadata": {
  "kernelspec": {
   "display_name": "Python 3",
   "language": "python",
   "name": "python3"
  },
  "language_info": {
   "codemirror_mode": {
    "name": "ipython",
    "version": 3
   },
   "file_extension": ".py",
   "mimetype": "text/x-python",
   "name": "python",
   "nbconvert_exporter": "python",
   "pygments_lexer": "ipython3",
   "version": "3.7.1"
  }
 },
 "nbformat": 4,
 "nbformat_minor": 4
}
