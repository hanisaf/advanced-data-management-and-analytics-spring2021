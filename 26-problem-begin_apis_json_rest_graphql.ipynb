{
 "cells": [
  {
   "cell_type": "markdown",
   "metadata": {},
   "source": [
    "Refer to [Open Notify](http://api.open-notify.org/) an open source project to provide an API for some of NASA’s data\n",
    "\n",
    "- Using the [International Space Station Current Location API](http://open-notify.org/Open-Notify-API/ISS-Location-Now/), report the current longitude and latitude in a tuple\n",
    "- Using the [People in Space Right Now API](http://open-notify.org/Open-Notify-API/People-In-Space/) report the name of astronauts in a list\n",
    "- Using the [International Space Station Pass Times API](http://open-notify.org/Open-Notify-API/ISS-Pass-Times/) report when ISS will pass over our classroom Latitude and Longitude are 33.951740, -83.377838 respectively\n"
   ]
  },
  {
   "cell_type": "code",
   "execution_count": 1,
   "metadata": {},
   "outputs": [],
   "source": [
    "import pandas as pd\n",
    "import requests\n",
    "import json"
   ]
  },
  {
   "cell_type": "code",
   "execution_count": null,
   "metadata": {},
   "outputs": [],
   "source": []
  }
 ],
 "metadata": {
  "kernelspec": {
   "display_name": "Python 3",
   "language": "python",
   "name": "python3"
  },
  "language_info": {
   "codemirror_mode": {
    "name": "ipython",
    "version": 3
   },
   "file_extension": ".py",
   "mimetype": "text/x-python",
   "name": "python",
   "nbconvert_exporter": "python",
   "pygments_lexer": "ipython3",
   "version": "3.8.3"
  }
 },
 "nbformat": 4,
 "nbformat_minor": 4
}
