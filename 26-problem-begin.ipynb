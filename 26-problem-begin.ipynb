{
 "cells": [
  {
   "cell_type": "markdown",
   "metadata": {},
   "source": [
    "Refer to [Open Notify](http://api.open-notify.org/) an open source project to provide an API for some of NASA’s data\n",
    "\n",
    "- Using the [International Space Station Current Location API](http://open-notify.org/Open-Notify-API/ISS-Location-Now/), report the current longitude and latitude in a tuple\n",
    "- Using the [People in Space Right Now API](http://open-notify.org/Open-Notify-API/People-In-Space/) report the name of astronauts in a list\n",
    "- Using the [International Space Station Pass Times API](http://open-notify.org/Open-Notify-API/ISS-Pass-Times/) report when ISS will pass over our classroom Latitude and Longitude are 33.951740, -83.377838 respectively\n"
   ]
  },
  {
   "cell_type": "code",
   "execution_count": 1,
   "metadata": {},
   "outputs": [],
   "source": [
    "import pandas as pd\n",
    "import requests\n",
    "import json"
   ]
  },
  {
   "cell_type": "code",
   "execution_count": 2,
   "metadata": {},
   "outputs": [],
   "source": [
    "iss_location = requests.get(\"http://api.open-notify.org/iss-now.json\")"
   ]
  },
  {
   "cell_type": "code",
   "execution_count": 9,
   "metadata": {},
   "outputs": [
    {
     "data": {
      "text/plain": [
       "{'iss_position': {'longitude': '31.6701', 'latitude': '-39.2964'},\n",
       " 'timestamp': 1615984482,\n",
       " 'message': 'success'}"
      ]
     },
     "execution_count": 9,
     "metadata": {},
     "output_type": "execute_result"
    }
   ],
   "source": [
    "location_data = json.loads(iss_location.text) #or iss_location.json()\n",
    "location_data"
   ]
  },
  {
   "cell_type": "code",
   "execution_count": 12,
   "metadata": {},
   "outputs": [
    {
     "data": {
      "text/plain": [
       "('31.6701', '-39.2964')"
      ]
     },
     "execution_count": 12,
     "metadata": {},
     "output_type": "execute_result"
    }
   ],
   "source": [
    "test_1 = location_data['iss_position']['longitude'], location_data['iss_position']['latitude']\n",
    "test_1"
   ]
  },
  {
   "cell_type": "code",
   "execution_count": 13,
   "metadata": {},
   "outputs": [
    {
     "data": {
      "text/plain": [
       "{'message': 'success',\n",
       " 'number': 7,\n",
       " 'people': [{'craft': 'ISS', 'name': 'Sergey Ryzhikov'},\n",
       "  {'craft': 'ISS', 'name': 'Kate Rubins'},\n",
       "  {'craft': 'ISS', 'name': 'Sergey Kud-Sverchkov'},\n",
       "  {'craft': 'ISS', 'name': 'Mike Hopkins'},\n",
       "  {'craft': 'ISS', 'name': 'Victor Glover'},\n",
       "  {'craft': 'ISS', 'name': 'Shannon Walker'},\n",
       "  {'craft': 'ISS', 'name': 'Soichi Noguchi'}]}"
      ]
     },
     "execution_count": 13,
     "metadata": {},
     "output_type": "execute_result"
    }
   ],
   "source": [
    "people_data = requests.get(\"http://api.open-notify.org/astros.json\").json()\n",
    "people_data"
   ]
  },
  {
   "cell_type": "code",
   "execution_count": 14,
   "metadata": {},
   "outputs": [
    {
     "data": {
      "text/plain": [
       "['Sergey Ryzhikov',\n",
       " 'Kate Rubins',\n",
       " 'Sergey Kud-Sverchkov',\n",
       " 'Mike Hopkins',\n",
       " 'Victor Glover',\n",
       " 'Shannon Walker',\n",
       " 'Soichi Noguchi']"
      ]
     },
     "execution_count": 14,
     "metadata": {},
     "output_type": "execute_result"
    }
   ],
   "source": [
    "test_2 = [x['name'] for x in people_data['people']]\n",
    "test_2"
   ]
  },
  {
   "cell_type": "code",
   "execution_count": 16,
   "metadata": {},
   "outputs": [
    {
     "data": {
      "text/plain": [
       "{'message': 'success',\n",
       " 'request': {'altitude': 100,\n",
       "  'datetime': 1615984765,\n",
       "  'latitude': 33.95174,\n",
       "  'longitude': -83.377838,\n",
       "  'passes': 5},\n",
       " 'response': [{'duration': 577, 'risetime': 1616024726},\n",
       "  {'duration': 640, 'risetime': 1616030490},\n",
       "  {'duration': 475, 'risetime': 1616036429},\n",
       "  {'duration': 326, 'risetime': 1616042411},\n",
       "  {'duration': 483, 'risetime': 1616048238}]}"
      ]
     },
     "execution_count": 16,
     "metadata": {},
     "output_type": "execute_result"
    }
   ],
   "source": [
    "LAT, LON = 33.951740, -83.377838\n",
    "request = f\"http://api.open-notify.org/iss-pass.json?lat={LAT}&lon={LON}\"\n",
    "time_data = requests.get(request).json()\n",
    "time_data"
   ]
  },
  {
   "cell_type": "code",
   "execution_count": 18,
   "metadata": {},
   "outputs": [
    {
     "data": {
      "text/plain": [
       "1616024726"
      ]
     },
     "execution_count": 18,
     "metadata": {},
     "output_type": "execute_result"
    }
   ],
   "source": [
    "risetime = time_data['response'][0]['risetime']\n",
    "risetime #this is a unix timestamp"
   ]
  },
  {
   "cell_type": "code",
   "execution_count": 21,
   "metadata": {},
   "outputs": [
    {
     "data": {
      "text/plain": [
       "Timestamp('2021-03-17 23:45:26')"
      ]
     },
     "execution_count": 21,
     "metadata": {},
     "output_type": "execute_result"
    }
   ],
   "source": [
    "test_3 = pd.to_datetime(risetime, unit='s')\n",
    "test_3"
   ]
  },
  {
   "cell_type": "code",
   "execution_count": null,
   "metadata": {},
   "outputs": [],
   "source": []
  }
 ],
 "metadata": {
  "kernelspec": {
   "display_name": "Python 3",
   "language": "python",
   "name": "python3"
  },
  "language_info": {
   "codemirror_mode": {
    "name": "ipython",
    "version": 3
   },
   "file_extension": ".py",
   "mimetype": "text/x-python",
   "name": "python",
   "nbconvert_exporter": "python",
   "pygments_lexer": "ipython3",
   "version": "3.8.3"
  }
 },
 "nbformat": 4,
 "nbformat_minor": 4
}
