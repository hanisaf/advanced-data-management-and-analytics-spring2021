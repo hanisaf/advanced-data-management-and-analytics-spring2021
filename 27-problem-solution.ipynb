{
 "cells": [
  {
   "cell_type": "code",
   "execution_count": 1,
   "metadata": {},
   "outputs": [],
   "source": [
    "import requests\n",
    "import xml.etree.ElementTree as ET"
   ]
  },
  {
   "cell_type": "markdown",
   "metadata": {},
   "source": [
    "The URL https://www.w3schools.com/xml/simple.xml links to a restaurant menu in XML format\n",
    "\n",
    "- Using `requests` fetch the data to the notebook\n",
    "- Parse the XML data using element tree\n",
    "\n",
    "\n",
    "\n",
    "1. How many food items are there?\n",
    "2. What is the price of `Strawberry Belgian Waffles`?\n",
    "3. List the names of food items with less than 700 calories"
   ]
  },
  {
   "cell_type": "code",
   "execution_count": 2,
   "metadata": {},
   "outputs": [
    {
     "name": "stdout",
     "output_type": "stream",
     "text": [
      "200\n"
     ]
    }
   ],
   "source": [
    "url = \"https://www.w3schools.com/xml/simple.xml\"\n",
    "response = requests.get(url)\n",
    "print(response.status_code)"
   ]
  },
  {
   "cell_type": "code",
   "execution_count": 3,
   "metadata": {},
   "outputs": [
    {
     "name": "stdout",
     "output_type": "stream",
     "text": [
      "<?xml version=\"1.0\" encoding=\"UTF-8\"?>\r\n",
      "<breakfast_menu>\r\n",
      "  <food>\r\n",
      "    <name>Belgian Waffles</name>\r\n",
      "    <price>$5.95</price>\r\n",
      "    <description>Two of our famous Belgian Waffles with plenty of real maple syrup</description>\r\n",
      "    <calories>650</calories>\r\n",
      "  </food>\r\n",
      "  <food>\r\n",
      "    <name>Strawberry Belgian Waffles</name>\r\n",
      "    <price>$7.95</price>\r\n",
      "    <description>Light Belgian waffles covered with strawberries and whipped cream</description>\r\n",
      "    <calories>900</calories>\r\n",
      "  </food>\r\n",
      "  <food>\r\n",
      "    <name>Berry-Berry Belgian Waffles</name>\r\n",
      "    <price>$8.95</price>\r\n",
      "    <description>Light Belgian waffles covered with an assortment of fresh berries and whipped cream</description>\r\n",
      "    <calories>900</calories>\r\n",
      "  </food>\r\n",
      "  <food>\r\n",
      "    <name>French Toast</name>\r\n",
      "    <price>$4.50</price>\r\n",
      "    <description>Thick slices made from our homemade sourdough bread</description>\r\n",
      "    <calories>600</calories>\r\n",
      "  </food>\r\n",
      "  <food>\r\n",
      "    <name>Homestyle Breakfast</name>\r\n",
      "    <price>$6.95</price>\r\n",
      "    <description>Two eggs, bacon or sausage, toast, and our ever-popular hash browns</description>\r\n",
      "    <calories>950</calories>\r\n",
      "  </food>\r\n",
      "</breakfast_menu>\r\n",
      "\n"
     ]
    }
   ],
   "source": [
    "payload = response.text\n",
    "print(payload)"
   ]
  },
  {
   "cell_type": "code",
   "execution_count": 4,
   "metadata": {},
   "outputs": [],
   "source": [
    "data = ET.fromstring(payload)"
   ]
  },
  {
   "cell_type": "code",
   "execution_count": 5,
   "metadata": {},
   "outputs": [
    {
     "data": {
      "text/plain": [
       "5"
      ]
     },
     "execution_count": 5,
     "metadata": {},
     "output_type": "execute_result"
    }
   ],
   "source": [
    "test_1 = len(list(data))\n",
    "test_1"
   ]
  },
  {
   "cell_type": "code",
   "execution_count": 6,
   "metadata": {},
   "outputs": [
    {
     "data": {
      "text/plain": [
       "'$7.95'"
      ]
     },
     "execution_count": 6,
     "metadata": {},
     "output_type": "execute_result"
    }
   ],
   "source": [
    "item = data.find(\"./food/[name='Strawberry Belgian Waffles']/price\")\n",
    "test_2 = item.text\n",
    "test_2"
   ]
  },
  {
   "cell_type": "code",
   "execution_count": 7,
   "metadata": {},
   "outputs": [
    {
     "data": {
      "text/plain": [
       "['Belgian Waffles', 'French Toast']"
      ]
     },
     "execution_count": 7,
     "metadata": {},
     "output_type": "execute_result"
    }
   ],
   "source": [
    "items = data.findall(\"./food\")\n",
    "res = []\n",
    "for item in items:\n",
    "    calories = int(item.find('calories').text)\n",
    "    if calories < 700:\n",
    "        name = item.find('name').text\n",
    "        res.append(name)\n",
    "test_3 = res\n",
    "test_3"
   ]
  },
  {
   "cell_type": "code",
   "execution_count": null,
   "metadata": {},
   "outputs": [],
   "source": []
  }
 ],
 "metadata": {
  "kernelspec": {
   "display_name": "Python 3",
   "language": "python",
   "name": "python3"
  },
  "language_info": {
   "codemirror_mode": {
    "name": "ipython",
    "version": 3
   },
   "file_extension": ".py",
   "mimetype": "text/x-python",
   "name": "python",
   "nbconvert_exporter": "python",
   "pygments_lexer": "ipython3",
   "version": "3.8.3"
  }
 },
 "nbformat": 4,
 "nbformat_minor": 4
}
