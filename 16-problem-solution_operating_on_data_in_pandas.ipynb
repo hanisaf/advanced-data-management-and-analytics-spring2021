{
 "cells": [
  {
   "cell_type": "code",
   "execution_count": 1,
   "metadata": {},
   "outputs": [],
   "source": [
    "import pandas as pd\n",
    "import numpy as np"
   ]
  },
  {
   "cell_type": "markdown",
   "metadata": {},
   "source": [
    "The file `eastmank.xlsx` contains the actual revenue, consumer price index, and real revenue\n",
    "of the Eastman Kodak company from 1975 to 1992"
   ]
  },
  {
   "cell_type": "code",
   "execution_count": 11,
   "metadata": {},
   "outputs": [
    {
     "data": {
      "text/html": [
       "<div>\n",
       "<style scoped>\n",
       "    .dataframe tbody tr th:only-of-type {\n",
       "        vertical-align: middle;\n",
       "    }\n",
       "\n",
       "    .dataframe tbody tr th {\n",
       "        vertical-align: top;\n",
       "    }\n",
       "\n",
       "    .dataframe thead th {\n",
       "        text-align: right;\n",
       "    }\n",
       "</style>\n",
       "<table border=\"1\" class=\"dataframe\">\n",
       "  <thead>\n",
       "    <tr style=\"text-align: right;\">\n",
       "      <th></th>\n",
       "      <th>Year</th>\n",
       "      <th>Coded Year</th>\n",
       "      <th>Act-Revenue</th>\n",
       "      <th>CPI-U</th>\n",
       "      <th>Real-Revenue</th>\n",
       "    </tr>\n",
       "  </thead>\n",
       "  <tbody>\n",
       "    <tr>\n",
       "      <th>0</th>\n",
       "      <td>1975</td>\n",
       "      <td>0</td>\n",
       "      <td>5.0</td>\n",
       "      <td>53.8</td>\n",
       "      <td>9.3</td>\n",
       "    </tr>\n",
       "    <tr>\n",
       "      <th>1</th>\n",
       "      <td>1976</td>\n",
       "      <td>1</td>\n",
       "      <td>5.4</td>\n",
       "      <td>56.9</td>\n",
       "      <td>9.5</td>\n",
       "    </tr>\n",
       "    <tr>\n",
       "      <th>2</th>\n",
       "      <td>1977</td>\n",
       "      <td>2</td>\n",
       "      <td>6.0</td>\n",
       "      <td>60.6</td>\n",
       "      <td>9.9</td>\n",
       "    </tr>\n",
       "    <tr>\n",
       "      <th>3</th>\n",
       "      <td>1978</td>\n",
       "      <td>3</td>\n",
       "      <td>7.0</td>\n",
       "      <td>65.2</td>\n",
       "      <td>10.7</td>\n",
       "    </tr>\n",
       "    <tr>\n",
       "      <th>4</th>\n",
       "      <td>1979</td>\n",
       "      <td>4</td>\n",
       "      <td>8.0</td>\n",
       "      <td>72.6</td>\n",
       "      <td>11.0</td>\n",
       "    </tr>\n",
       "  </tbody>\n",
       "</table>\n",
       "</div>"
      ],
      "text/plain": [
       "   Year  Coded Year  Act-Revenue  CPI-U  Real-Revenue\n",
       "0  1975           0          5.0   53.8           9.3\n",
       "1  1976           1          5.4   56.9           9.5\n",
       "2  1977           2          6.0   60.6           9.9\n",
       "3  1978           3          7.0   65.2          10.7\n",
       "4  1979           4          8.0   72.6          11.0"
      ]
     },
     "execution_count": 11,
     "metadata": {},
     "output_type": "execute_result"
    }
   ],
   "source": [
    "data = pd.read_excel('data/eastmank.xlsx')\n",
    "data.head()"
   ]
  },
  {
   "cell_type": "markdown",
   "metadata": {},
   "source": [
    "- The revenues are in million of dollars, multiply `Act-Revenue` and `Real-Revenue` by one million and assign back to the data frame\n",
    "- Calculate the difference between `Real-Revenue` and `Act-Revenue`, create a new column `Opt-Expenses` in the data frame\n",
    "- Report the average `Act-Revenue` and `Real-Revenue` in a series\n",
    "- Subtract the mean of `Act-Revenue` and `Real-Revenue` from the values of `Act-Revenue` and `Real-Revenue`\n",
    "- In which years did the company have above than average `Act-Revenue`? Return the results in a sorted list\n",
    "- In which years did the company have above than average `Real-Revenue`? Return the results in a sorted list\n",
    "-  In which years did the company have above than average `Real-Revenue` but below average `Real-Revenue`? Return the results in a sorted list"
   ]
  },
  {
   "cell_type": "code",
   "execution_count": 13,
   "metadata": {},
   "outputs": [],
   "source": [
    "data['Act-Revenue'] = data['Act-Revenue'] * 1e6\n",
    "data['Real-Revenue'] = data['Real-Revenue'] * 1e6"
   ]
  },
  {
   "cell_type": "code",
   "execution_count": 15,
   "metadata": {},
   "outputs": [],
   "source": [
    "data['Opt-Expenses'] = data['Real-Revenue'] - data['Act-Revenue']"
   ]
  },
  {
   "cell_type": "code",
   "execution_count": 17,
   "metadata": {},
   "outputs": [
    {
     "data": {
      "text/plain": [
       "Act-Revenue     1.244545e+07\n",
       "Real-Revenue    1.137727e+07\n",
       "dtype: float64"
      ]
     },
     "execution_count": 17,
     "metadata": {},
     "output_type": "execute_result"
    }
   ],
   "source": [
    "np.mean(data[['Act-Revenue', 'Real-Revenue']]) #or data[['Act-Revenue', 'Real-Revenue']].mean()"
   ]
  },
  {
   "cell_type": "code",
   "execution_count": 19,
   "metadata": {},
   "outputs": [],
   "source": [
    "m_data = data[['Act-Revenue', 'Real-Revenue']].mean()"
   ]
  },
  {
   "cell_type": "code",
   "execution_count": 23,
   "metadata": {},
   "outputs": [],
   "source": [
    "data[['Act-Revenue', 'Real-Revenue']] = data[['Act-Revenue', 'Real-Revenue']] - m_data"
   ]
  },
  {
   "cell_type": "code",
   "execution_count": 27,
   "metadata": {},
   "outputs": [
    {
     "data": {
      "text/plain": [
       "[1987, 1988, 1989, 1990, 1991, 1992, 1993, 1994, 1995, 1996]"
      ]
     },
     "execution_count": 27,
     "metadata": {},
     "output_type": "execute_result"
    }
   ],
   "source": [
    "sorted(data.loc[data['Act-Revenue'] > 0, 'Year'])"
   ]
  },
  {
   "cell_type": "code",
   "execution_count": 28,
   "metadata": {},
   "outputs": [
    {
     "data": {
      "text/plain": [
       "[1980, 1987, 1988, 1989, 1990, 1991, 1992]"
      ]
     },
     "execution_count": 28,
     "metadata": {},
     "output_type": "execute_result"
    }
   ],
   "source": [
    "sorted(data.loc[data['Real-Revenue'] > 0, 'Year'])"
   ]
  },
  {
   "cell_type": "code",
   "execution_count": 29,
   "metadata": {},
   "outputs": [
    {
     "data": {
      "text/plain": [
       "[1980]"
      ]
     },
     "execution_count": 29,
     "metadata": {},
     "output_type": "execute_result"
    }
   ],
   "source": [
    "sorted(set(data.loc[data['Real-Revenue'] > 0, 'Year']) - set(data.loc[data['Act-Revenue'] > 0, 'Year']))"
   ]
  },
  {
   "cell_type": "code",
   "execution_count": null,
   "metadata": {},
   "outputs": [],
   "source": []
  }
 ],
 "metadata": {
  "kernelspec": {
   "display_name": "Python 3",
   "language": "python",
   "name": "python3"
  },
  "language_info": {
   "codemirror_mode": {
    "name": "ipython",
    "version": 3
   },
   "file_extension": ".py",
   "mimetype": "text/x-python",
   "name": "python",
   "nbconvert_exporter": "python",
   "pygments_lexer": "ipython3",
   "version": "3.8.3"
  }
 },
 "nbformat": 4,
 "nbformat_minor": 4
}
