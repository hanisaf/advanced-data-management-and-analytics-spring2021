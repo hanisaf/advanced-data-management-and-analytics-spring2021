{
 "cells": [
  {
   "cell_type": "code",
   "execution_count": 2,
   "metadata": {},
   "outputs": [],
   "source": [
    "from bs4 import BeautifulSoup\n",
    "import requests\n",
    "import pandas as pd\n",
    "import xml.etree.ElementTree as ET"
   ]
  },
  {
   "cell_type": "markdown",
   "metadata": {},
   "source": [
    "Given the web page https://www.sicemdawgs.com/uga-baseball-roster/\n",
    "\n",
    "- Extract in a series the names and positions of UGA Baseball Coaches\n",
    "- Extract in a a data frame the game schedule table"
   ]
  },
  {
   "cell_type": "code",
   "execution_count": 4,
   "metadata": {},
   "outputs": [
    {
     "data": {
      "text/plain": [
       "200"
      ]
     },
     "execution_count": 4,
     "metadata": {},
     "output_type": "execute_result"
    }
   ],
   "source": [
    "r = requests.get('https://www.sicemdawgs.com/uga-baseball-roster/')\n",
    "r.status_code"
   ]
  },
  {
   "cell_type": "code",
   "execution_count": 5,
   "metadata": {},
   "outputs": [],
   "source": [
    "soup = BeautifulSoup(r.text)"
   ]
  },
  {
   "cell_type": "code",
   "execution_count": 13,
   "metadata": {},
   "outputs": [],
   "source": [
    "marker = soup.find('h2', text=\"UGA Baseball Coaches\")\n",
    "bullet_list = marker.find_next('ul')\n",
    "bullets = bullet_list.find_all('li')"
   ]
  },
  {
   "cell_type": "code",
   "execution_count": 24,
   "metadata": {},
   "outputs": [],
   "source": [
    "def extract_bullet(bullet):\n",
    "    comps = bullet.text.split('–')\n",
    "    name = comps[0].strip()\n",
    "    position = comps[1].strip()\n",
    "    return name, position"
   ]
  },
  {
   "cell_type": "code",
   "execution_count": 25,
   "metadata": {},
   "outputs": [
    {
     "data": {
      "text/plain": [
       "[('Scott Stricklin', 'Ike Cousins Head Baseball Coach'),\n",
       " ('Scott Daeley', 'Associate Head Coach/Recruiting Coordinator'),\n",
       " ('Sean Kenny', 'Assistant Coach/Pitching'),\n",
       " ('Brock Bennett', 'Volunteer Coach'),\n",
       " ('Jeff Guy', 'Director of Baseball Operations'),\n",
       " ('Ryan Gearhart', 'Strength & Conditioning'),\n",
       " ('Sean Boland', 'Senior Associate Athletic Trainer'),\n",
       " ('Tatum Hodge', 'Coordinator for Athletic Operations for Baseball')]"
      ]
     },
     "execution_count": 25,
     "metadata": {},
     "output_type": "execute_result"
    }
   ],
   "source": [
    "data = [extract_bullet(bullet) for bullet in bullets]\n",
    "data"
   ]
  },
  {
   "cell_type": "code",
   "execution_count": 28,
   "metadata": {},
   "outputs": [
    {
     "data": {
      "text/plain": [
       "Scott Stricklin                     Ike Cousins Head Baseball Coach\n",
       "Scott Daeley            Associate Head Coach/Recruiting Coordinator\n",
       "Sean Kenny                                 Assistant Coach/Pitching\n",
       "Brock Bennett                                       Volunteer Coach\n",
       "Jeff Guy                            Director of Baseball Operations\n",
       "Ryan Gearhart                               Strength & Conditioning\n",
       "Sean Boland                       Senior Associate Athletic Trainer\n",
       "Tatum Hodge        Coordinator for Athletic Operations for Baseball\n",
       "dtype: object"
      ]
     },
     "execution_count": 28,
     "metadata": {},
     "output_type": "execute_result"
    }
   ],
   "source": [
    "pd.Series(dict(data))"
   ]
  },
  {
   "cell_type": "code",
   "execution_count": null,
   "metadata": {},
   "outputs": [],
   "source": []
  },
  {
   "cell_type": "code",
   "execution_count": 34,
   "metadata": {},
   "outputs": [
    {
     "data": {
      "text/html": [
       "<div>\n",
       "<style scoped>\n",
       "    .dataframe tbody tr th:only-of-type {\n",
       "        vertical-align: middle;\n",
       "    }\n",
       "\n",
       "    .dataframe tbody tr th {\n",
       "        vertical-align: top;\n",
       "    }\n",
       "\n",
       "    .dataframe thead th {\n",
       "        text-align: right;\n",
       "    }\n",
       "</style>\n",
       "<table border=\"1\" class=\"dataframe\">\n",
       "  <thead>\n",
       "    <tr style=\"text-align: right;\">\n",
       "      <th></th>\n",
       "      <th>No.</th>\n",
       "      <th>Name</th>\n",
       "      <th>Pos.</th>\n",
       "      <th>Cl.</th>\n",
       "      <th>Ht.</th>\n",
       "      <th>Wt.</th>\n",
       "      <th>Hometown (Last School)</th>\n",
       "    </tr>\n",
       "  </thead>\n",
       "  <tbody>\n",
       "    <tr>\n",
       "      <th>0</th>\n",
       "      <td>44</td>\n",
       "      <td>Ben Anderson</td>\n",
       "      <td>OF</td>\n",
       "      <td>RSo.</td>\n",
       "      <td>6-1</td>\n",
       "      <td>171</td>\n",
       "      <td>LaGrange, GA (LaGrange)</td>\n",
       "    </tr>\n",
       "    <tr>\n",
       "      <th>1</th>\n",
       "      <td>24</td>\n",
       "      <td>Garrett Blaylock</td>\n",
       "      <td>INF</td>\n",
       "      <td>Jr.</td>\n",
       "      <td>6-3</td>\n",
       "      <td>206</td>\n",
       "      <td>Asheville, NC (T.C. Roberson)</td>\n",
       "    </tr>\n",
       "    <tr>\n",
       "      <th>2</th>\n",
       "      <td>28</td>\n",
       "      <td>Tucker Bradley</td>\n",
       "      <td>OF/LHP</td>\n",
       "      <td>RJr.</td>\n",
       "      <td>6-0</td>\n",
       "      <td>206</td>\n",
       "      <td>Chickamauga, GA (Gordon Lee)</td>\n",
       "    </tr>\n",
       "    <tr>\n",
       "      <th>3</th>\n",
       "      <td>34</td>\n",
       "      <td>Garrett Brown</td>\n",
       "      <td>RHP</td>\n",
       "      <td>RFr.</td>\n",
       "      <td>6-7</td>\n",
       "      <td>209</td>\n",
       "      <td>Manchester, GA (Manchester)</td>\n",
       "    </tr>\n",
       "    <tr>\n",
       "      <th>4</th>\n",
       "      <td>12</td>\n",
       "      <td>Jonathan Cannon</td>\n",
       "      <td>RHP/1B</td>\n",
       "      <td>Fr.</td>\n",
       "      <td>6-6</td>\n",
       "      <td>207</td>\n",
       "      <td>Alpharetta, GA (Centennial)</td>\n",
       "    </tr>\n",
       "  </tbody>\n",
       "</table>\n",
       "</div>"
      ],
      "text/plain": [
       "   No.              Name    Pos.   Cl.  Ht.  Wt.  \\\n",
       "0   44      Ben Anderson      OF  RSo.  6-1  171   \n",
       "1   24  Garrett Blaylock     INF   Jr.  6-3  206   \n",
       "2   28    Tucker Bradley  OF/LHP  RJr.  6-0  206   \n",
       "3   34     Garrett Brown     RHP  RFr.  6-7  209   \n",
       "4   12   Jonathan Cannon  RHP/1B   Fr.  6-6  207   \n",
       "\n",
       "          Hometown (Last School)  \n",
       "0        LaGrange, GA (LaGrange)  \n",
       "1  Asheville, NC (T.C. Roberson)  \n",
       "2   Chickamauga, GA (Gordon Lee)  \n",
       "3    Manchester, GA (Manchester)  \n",
       "4    Alpharetta, GA (Centennial)  "
      ]
     },
     "execution_count": 34,
     "metadata": {},
     "output_type": "execute_result"
    }
   ],
   "source": [
    "tables = pd.read_html('https://www.sicemdawgs.com/uga-baseball-roster/', header=0)\n",
    "table = tables[0]\n",
    "table.head()"
   ]
  },
  {
   "cell_type": "code",
   "execution_count": 36,
   "metadata": {},
   "outputs": [
    {
     "data": {
      "text/plain": [
       "No.                        int64\n",
       "Name                      object\n",
       "Pos.                      object\n",
       "Cl.                       object\n",
       "Ht.                       object\n",
       "Wt.                        int64\n",
       "Hometown (Last School)    object\n",
       "dtype: object"
      ]
     },
     "execution_count": 36,
     "metadata": {},
     "output_type": "execute_result"
    }
   ],
   "source": [
    "table.dtypes"
   ]
  },
  {
   "cell_type": "code",
   "execution_count": 38,
   "metadata": {},
   "outputs": [
    {
     "data": {
      "text/plain": [
       "(39, 7)"
      ]
     },
     "execution_count": 38,
     "metadata": {},
     "output_type": "execute_result"
    }
   ],
   "source": [
    "table.shape"
   ]
  },
  {
   "cell_type": "code",
   "execution_count": null,
   "metadata": {},
   "outputs": [],
   "source": []
  }
 ],
 "metadata": {
  "kernelspec": {
   "display_name": "Python 3",
   "language": "python",
   "name": "python3"
  },
  "language_info": {
   "codemirror_mode": {
    "name": "ipython",
    "version": 3
   },
   "file_extension": ".py",
   "mimetype": "text/x-python",
   "name": "python",
   "nbconvert_exporter": "python",
   "pygments_lexer": "ipython3",
   "version": "3.8.3"
  }
 },
 "nbformat": 4,
 "nbformat_minor": 4
}
