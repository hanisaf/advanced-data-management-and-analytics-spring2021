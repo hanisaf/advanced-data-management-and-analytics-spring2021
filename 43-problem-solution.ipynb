{
 "cells": [
  {
   "cell_type": "code",
   "execution_count": 1,
   "metadata": {},
   "outputs": [],
   "source": [
    "import pandas as pd\n",
    "from sklearn.tree import DecisionTreeClassifier\n",
    "from sklearn.model_selection import train_test_split, GridSearchCV\n",
    "from sklearn.metrics import accuracy_score, confusion_matrix\n",
    "from sklearn.tree import export_text"
   ]
  },
  {
   "cell_type": "markdown",
   "metadata": {},
   "source": [
    "[Mushroom classification](https://www.kaggle.com/uciml/mushroom-classification)\n",
    "\n",
    "This dataset includes descriptions of hypothetical samples corresponding to 23 species of gilled mushrooms in the Agaricus and Lepiota Family Mushroom drawn from The Audubon Society Field Guide to North American Mushrooms (1981). Each species is identified as definitely edible, definitely poisonous, or of unknown edibility and not recommended. This latter class was combined with the poisonous one. The Guide clearly states that there is no simple rule for determining the edibility of a mushroom; no rule like \"leaflets three, let it be'' for Poisonous Oak and Ivy."
   ]
  },
  {
   "cell_type": "code",
   "execution_count": 2,
   "metadata": {},
   "outputs": [
    {
     "data": {
      "text/html": [
       "<div>\n",
       "<style scoped>\n",
       "    .dataframe tbody tr th:only-of-type {\n",
       "        vertical-align: middle;\n",
       "    }\n",
       "\n",
       "    .dataframe tbody tr th {\n",
       "        vertical-align: top;\n",
       "    }\n",
       "\n",
       "    .dataframe thead th {\n",
       "        text-align: right;\n",
       "    }\n",
       "</style>\n",
       "<table border=\"1\" class=\"dataframe\">\n",
       "  <thead>\n",
       "    <tr style=\"text-align: right;\">\n",
       "      <th></th>\n",
       "      <th>class</th>\n",
       "      <th>cap-shape</th>\n",
       "      <th>cap-surface</th>\n",
       "      <th>cap-color</th>\n",
       "      <th>bruises</th>\n",
       "      <th>odor</th>\n",
       "      <th>gill-attachment</th>\n",
       "      <th>gill-spacing</th>\n",
       "      <th>gill-size</th>\n",
       "      <th>gill-color</th>\n",
       "      <th>...</th>\n",
       "      <th>stalk-surface-below-ring</th>\n",
       "      <th>stalk-color-above-ring</th>\n",
       "      <th>stalk-color-below-ring</th>\n",
       "      <th>veil-type</th>\n",
       "      <th>veil-color</th>\n",
       "      <th>ring-number</th>\n",
       "      <th>ring-type</th>\n",
       "      <th>spore-print-color</th>\n",
       "      <th>population</th>\n",
       "      <th>habitat</th>\n",
       "    </tr>\n",
       "  </thead>\n",
       "  <tbody>\n",
       "    <tr>\n",
       "      <th>0</th>\n",
       "      <td>p</td>\n",
       "      <td>x</td>\n",
       "      <td>s</td>\n",
       "      <td>n</td>\n",
       "      <td>t</td>\n",
       "      <td>p</td>\n",
       "      <td>f</td>\n",
       "      <td>c</td>\n",
       "      <td>n</td>\n",
       "      <td>k</td>\n",
       "      <td>...</td>\n",
       "      <td>s</td>\n",
       "      <td>w</td>\n",
       "      <td>w</td>\n",
       "      <td>p</td>\n",
       "      <td>w</td>\n",
       "      <td>o</td>\n",
       "      <td>p</td>\n",
       "      <td>k</td>\n",
       "      <td>s</td>\n",
       "      <td>u</td>\n",
       "    </tr>\n",
       "    <tr>\n",
       "      <th>1</th>\n",
       "      <td>e</td>\n",
       "      <td>x</td>\n",
       "      <td>s</td>\n",
       "      <td>y</td>\n",
       "      <td>t</td>\n",
       "      <td>a</td>\n",
       "      <td>f</td>\n",
       "      <td>c</td>\n",
       "      <td>b</td>\n",
       "      <td>k</td>\n",
       "      <td>...</td>\n",
       "      <td>s</td>\n",
       "      <td>w</td>\n",
       "      <td>w</td>\n",
       "      <td>p</td>\n",
       "      <td>w</td>\n",
       "      <td>o</td>\n",
       "      <td>p</td>\n",
       "      <td>n</td>\n",
       "      <td>n</td>\n",
       "      <td>g</td>\n",
       "    </tr>\n",
       "    <tr>\n",
       "      <th>2</th>\n",
       "      <td>e</td>\n",
       "      <td>b</td>\n",
       "      <td>s</td>\n",
       "      <td>w</td>\n",
       "      <td>t</td>\n",
       "      <td>l</td>\n",
       "      <td>f</td>\n",
       "      <td>c</td>\n",
       "      <td>b</td>\n",
       "      <td>n</td>\n",
       "      <td>...</td>\n",
       "      <td>s</td>\n",
       "      <td>w</td>\n",
       "      <td>w</td>\n",
       "      <td>p</td>\n",
       "      <td>w</td>\n",
       "      <td>o</td>\n",
       "      <td>p</td>\n",
       "      <td>n</td>\n",
       "      <td>n</td>\n",
       "      <td>m</td>\n",
       "    </tr>\n",
       "    <tr>\n",
       "      <th>3</th>\n",
       "      <td>p</td>\n",
       "      <td>x</td>\n",
       "      <td>y</td>\n",
       "      <td>w</td>\n",
       "      <td>t</td>\n",
       "      <td>p</td>\n",
       "      <td>f</td>\n",
       "      <td>c</td>\n",
       "      <td>n</td>\n",
       "      <td>n</td>\n",
       "      <td>...</td>\n",
       "      <td>s</td>\n",
       "      <td>w</td>\n",
       "      <td>w</td>\n",
       "      <td>p</td>\n",
       "      <td>w</td>\n",
       "      <td>o</td>\n",
       "      <td>p</td>\n",
       "      <td>k</td>\n",
       "      <td>s</td>\n",
       "      <td>u</td>\n",
       "    </tr>\n",
       "    <tr>\n",
       "      <th>4</th>\n",
       "      <td>e</td>\n",
       "      <td>x</td>\n",
       "      <td>s</td>\n",
       "      <td>g</td>\n",
       "      <td>f</td>\n",
       "      <td>n</td>\n",
       "      <td>f</td>\n",
       "      <td>w</td>\n",
       "      <td>b</td>\n",
       "      <td>k</td>\n",
       "      <td>...</td>\n",
       "      <td>s</td>\n",
       "      <td>w</td>\n",
       "      <td>w</td>\n",
       "      <td>p</td>\n",
       "      <td>w</td>\n",
       "      <td>o</td>\n",
       "      <td>e</td>\n",
       "      <td>n</td>\n",
       "      <td>a</td>\n",
       "      <td>g</td>\n",
       "    </tr>\n",
       "  </tbody>\n",
       "</table>\n",
       "<p>5 rows × 23 columns</p>\n",
       "</div>"
      ],
      "text/plain": [
       "  class cap-shape cap-surface cap-color bruises odor gill-attachment  \\\n",
       "0     p         x           s         n       t    p               f   \n",
       "1     e         x           s         y       t    a               f   \n",
       "2     e         b           s         w       t    l               f   \n",
       "3     p         x           y         w       t    p               f   \n",
       "4     e         x           s         g       f    n               f   \n",
       "\n",
       "  gill-spacing gill-size gill-color  ... stalk-surface-below-ring  \\\n",
       "0            c         n          k  ...                        s   \n",
       "1            c         b          k  ...                        s   \n",
       "2            c         b          n  ...                        s   \n",
       "3            c         n          n  ...                        s   \n",
       "4            w         b          k  ...                        s   \n",
       "\n",
       "  stalk-color-above-ring stalk-color-below-ring veil-type veil-color  \\\n",
       "0                      w                      w         p          w   \n",
       "1                      w                      w         p          w   \n",
       "2                      w                      w         p          w   \n",
       "3                      w                      w         p          w   \n",
       "4                      w                      w         p          w   \n",
       "\n",
       "  ring-number ring-type spore-print-color population habitat  \n",
       "0           o         p                 k          s       u  \n",
       "1           o         p                 n          n       g  \n",
       "2           o         p                 n          n       m  \n",
       "3           o         p                 k          s       u  \n",
       "4           o         e                 n          a       g  \n",
       "\n",
       "[5 rows x 23 columns]"
      ]
     },
     "execution_count": 2,
     "metadata": {},
     "output_type": "execute_result"
    }
   ],
   "source": [
    "data = pd.read_csv('data/mushrooms.csv')\n",
    "data.head()"
   ]
  },
  {
   "cell_type": "markdown",
   "metadata": {},
   "source": [
    "**Attribute Information**\n",
    "\n",
    "- classes: edible=e, poisonous=p\n",
    "- cap-shape: bell=b,conical=c,convex=x,flat=f, knobbed=k,sunken=s\n",
    "- cap-surface: fibrous=f,grooves=g,scaly=y,smooth=s\n",
    "- cap-color: brown=n,buff=b,cinnamon=c,gray=g,green=r,pink=p,purple=u,red=e,white=w,yellow=y\n",
    "- bruises: bruises=t,no=f\n",
    "- odor: almond=a,anise=l,creosote=c,fishy=y,foul=f,musty=m,none=n,pungent=p,spicy=s\n",
    "- gill-attachment: attached=a,descending=d,free=f,notched=n\n",
    "- gill-spacing: close=c,crowded=w,distant=d\n",
    "- gill-size: broad=b,narrow=n\n",
    "- gill-color: black=k,brown=n,buff=b,chocolate=h,gray=g, green=r,orange=o,pink=p,purple=u,red=e,white=w,yellow=y\n",
    "- stalk-shape: enlarging=e,tapering=t\n",
    "- stalk-root: bulbous=b,club=c,cup=u,equal=e,rhizomorphs=z,rooted=r,missing=?\n",
    "- stalk-surface-above-ring: fibrous=f,scaly=y,silky=k,smooth=s\n",
    "- stalk-surface-below-ring: fibrous=f,scaly=y,silky=k,smooth=s\n",
    "- stalk-color-above-ring: brown=n,buff=b,cinnamon=c,gray=g,orange=o,pink=p,red=e,white=w,yellow=y\n",
    "- stalk-color-below-ring: brown=n,buff=b,cinnamon=c,gray=g,orange=o,pink=p,red=e,white=w,yellow=y\n",
    "- veil-type: partial=p,universal=u\n",
    "- veil-color: brown=n,orange=o,white=w,yellow=y\n",
    "- ring-number: none=n,one=o,two=t\n",
    "- ring-type: cobwebby=c,evanescent=e,flaring=f,large=l,none=n,pendant=p,sheathing=s,zone=z\n",
    "- spore-print-color: black=k,brown=n,buff=b,chocolate=h,green=r,orange=o,purple=u,white=w,yellow=y\n",
    "- population: abundant=a,clustered=c,numerous=n,scattered=s,several=v,solitary=y\n",
    "- habitat: grasses=g,leaves=l,meadows=m,paths=p,urban=u,waste=w,woods=d"
   ]
  },
  {
   "cell_type": "markdown",
   "metadata": {},
   "source": [
    "1. Train a decision tree classifier, print the tree and evaluate its accuracy.\n",
    "\n",
    "**Hint:** you will need to convert the variables to numerical variables\n",
    "\n",
    "2. Retrain and evaluate the tree using separate train and test data, compare the accuracy to the previous step\n",
    "3. Prune the tree by changing its hyper parameters, evaluate the accuracy of the new tree."
   ]
  },
  {
   "cell_type": "code",
   "execution_count": 3,
   "metadata": {},
   "outputs": [
    {
     "name": "stdout",
     "output_type": "stream",
     "text": [
      "|--- odor_n <= 0.50\n",
      "|   |--- stalk-root_c <= 0.50\n",
      "|   |   |--- stalk-root_r <= 0.50\n",
      "|   |   |   |--- spore-print-color_u <= 0.50\n",
      "|   |   |   |   |--- odor_a <= 0.50\n",
      "|   |   |   |   |   |--- odor_l <= 0.50\n",
      "|   |   |   |   |   |   |--- class: p\n",
      "|   |   |   |   |   |--- odor_l >  0.50\n",
      "|   |   |   |   |   |   |--- class: e\n",
      "|   |   |   |   |--- odor_a >  0.50\n",
      "|   |   |   |   |   |--- class: e\n",
      "|   |   |   |--- spore-print-color_u >  0.50\n",
      "|   |   |   |   |--- class: e\n",
      "|   |   |--- stalk-root_r >  0.50\n",
      "|   |   |   |--- class: e\n",
      "|   |--- stalk-root_c >  0.50\n",
      "|   |   |--- bruises_f <= 0.50\n",
      "|   |   |   |--- class: e\n",
      "|   |   |--- bruises_f >  0.50\n",
      "|   |   |   |--- class: p\n",
      "|--- odor_n >  0.50\n",
      "|   |--- spore-print-color_r <= 0.50\n",
      "|   |   |--- stalk-surface-below-ring_y <= 0.50\n",
      "|   |   |   |--- cap-surface_g <= 0.50\n",
      "|   |   |   |   |--- cap-shape_c <= 0.50\n",
      "|   |   |   |   |   |--- gill-size_n <= 0.50\n",
      "|   |   |   |   |   |   |--- class: e\n",
      "|   |   |   |   |   |--- gill-size_n >  0.50\n",
      "|   |   |   |   |   |   |--- bruises_t <= 0.50\n",
      "|   |   |   |   |   |   |   |--- class: e\n",
      "|   |   |   |   |   |   |--- bruises_t >  0.50\n",
      "|   |   |   |   |   |   |   |--- class: p\n",
      "|   |   |   |   |--- cap-shape_c >  0.50\n",
      "|   |   |   |   |   |--- class: p\n",
      "|   |   |   |--- cap-surface_g >  0.50\n",
      "|   |   |   |   |--- class: p\n",
      "|   |   |--- stalk-surface-below-ring_y >  0.50\n",
      "|   |   |   |--- ring-type_p <= 0.50\n",
      "|   |   |   |   |--- class: p\n",
      "|   |   |   |--- ring-type_p >  0.50\n",
      "|   |   |   |   |--- class: e\n",
      "|   |--- spore-print-color_r >  0.50\n",
      "|   |   |--- class: p\n",
      "\n"
     ]
    }
   ],
   "source": [
    "X = pd.get_dummies(data.drop('class', axis=1))\n",
    "y = data['class']\n",
    "dtree = DecisionTreeClassifier()\n",
    "dtree.fit(X, y)\n",
    "print(export_text(dtree, feature_names=list(X.columns)))"
   ]
  },
  {
   "cell_type": "code",
   "execution_count": 4,
   "metadata": {},
   "outputs": [
    {
     "data": {
      "text/plain": [
       "array([[4208,    0],\n",
       "       [   0, 3916]])"
      ]
     },
     "execution_count": 4,
     "metadata": {},
     "output_type": "execute_result"
    }
   ],
   "source": [
    "confusion_matrix(y, dtree.predict(X))"
   ]
  },
  {
   "cell_type": "code",
   "execution_count": 5,
   "metadata": {},
   "outputs": [
    {
     "data": {
      "text/plain": [
       "1.0"
      ]
     },
     "execution_count": 5,
     "metadata": {},
     "output_type": "execute_result"
    }
   ],
   "source": [
    "accuracy_score(y, dtree.predict(X))"
   ]
  },
  {
   "cell_type": "code",
   "execution_count": null,
   "metadata": {},
   "outputs": [],
   "source": []
  },
  {
   "cell_type": "code",
   "execution_count": 6,
   "metadata": {},
   "outputs": [
    {
     "name": "stdout",
     "output_type": "stream",
     "text": [
      "|--- odor_n <= 0.50\n",
      "|   |--- stalk-root_c <= 0.50\n",
      "|   |   |--- stalk-surface-below-ring_y <= 0.50\n",
      "|   |   |   |--- gill-spacing_w <= 0.50\n",
      "|   |   |   |   |--- class: p\n",
      "|   |   |   |--- gill-spacing_w >  0.50\n",
      "|   |   |   |   |--- bruises_f <= 0.50\n",
      "|   |   |   |   |   |--- class: e\n",
      "|   |   |   |   |--- bruises_f >  0.50\n",
      "|   |   |   |   |   |--- class: p\n",
      "|   |   |--- stalk-surface-below-ring_y >  0.50\n",
      "|   |   |   |--- class: e\n",
      "|   |--- stalk-root_c >  0.50\n",
      "|   |   |--- stalk-color-above-ring_w <= 0.50\n",
      "|   |   |   |--- class: p\n",
      "|   |   |--- stalk-color-above-ring_w >  0.50\n",
      "|   |   |   |--- class: e\n",
      "|--- odor_n >  0.50\n",
      "|   |--- spore-print-color_r <= 0.50\n",
      "|   |   |--- stalk-surface-below-ring_y <= 0.50\n",
      "|   |   |   |--- cap-shape_c <= 0.50\n",
      "|   |   |   |   |--- cap-surface_g <= 0.50\n",
      "|   |   |   |   |   |--- gill-size_n <= 0.50\n",
      "|   |   |   |   |   |   |--- class: e\n",
      "|   |   |   |   |   |--- gill-size_n >  0.50\n",
      "|   |   |   |   |   |   |--- population_c <= 0.50\n",
      "|   |   |   |   |   |   |   |--- class: e\n",
      "|   |   |   |   |   |   |--- population_c >  0.50\n",
      "|   |   |   |   |   |   |   |--- class: p\n",
      "|   |   |   |   |--- cap-surface_g >  0.50\n",
      "|   |   |   |   |   |--- class: p\n",
      "|   |   |   |--- cap-shape_c >  0.50\n",
      "|   |   |   |   |--- class: p\n",
      "|   |   |--- stalk-surface-below-ring_y >  0.50\n",
      "|   |   |   |--- ring-number_o <= 0.50\n",
      "|   |   |   |   |--- class: e\n",
      "|   |   |   |--- ring-number_o >  0.50\n",
      "|   |   |   |   |--- class: p\n",
      "|   |--- spore-print-color_r >  0.50\n",
      "|   |   |--- class: p\n",
      "\n"
     ]
    }
   ],
   "source": [
    "train_X, valid_X, train_y, valid_y = train_test_split(X, y, test_size=0.4, random_state=1)\n",
    "dtree = DecisionTreeClassifier()\n",
    "dtree.fit(train_X, train_y)\n",
    "print(export_text(dtree, feature_names=list(X.columns)))"
   ]
  },
  {
   "cell_type": "code",
   "execution_count": 7,
   "metadata": {},
   "outputs": [
    {
     "data": {
      "text/plain": [
       "array([[1670,    0],\n",
       "       [   0, 1580]])"
      ]
     },
     "execution_count": 7,
     "metadata": {},
     "output_type": "execute_result"
    }
   ],
   "source": [
    "confusion_matrix(valid_y, dtree.predict(valid_X))"
   ]
  },
  {
   "cell_type": "code",
   "execution_count": 8,
   "metadata": {},
   "outputs": [
    {
     "data": {
      "text/plain": [
       "1.0"
      ]
     },
     "execution_count": 8,
     "metadata": {},
     "output_type": "execute_result"
    }
   ],
   "source": [
    "accuracy_score(valid_y, dtree.predict(valid_X))"
   ]
  },
  {
   "cell_type": "code",
   "execution_count": null,
   "metadata": {},
   "outputs": [],
   "source": []
  },
  {
   "cell_type": "code",
   "execution_count": 9,
   "metadata": {},
   "outputs": [
    {
     "name": "stdout",
     "output_type": "stream",
     "text": [
      "|--- odor_n <= 0.50\n",
      "|   |--- stalk-root_c <= 0.50\n",
      "|   |   |--- class: p\n",
      "|   |--- stalk-root_c >  0.50\n",
      "|   |   |--- class: e\n",
      "|--- odor_n >  0.50\n",
      "|   |--- spore-print-color_r <= 0.50\n",
      "|   |   |--- class: e\n",
      "|   |--- spore-print-color_r >  0.50\n",
      "|   |   |--- class: p\n",
      "\n"
     ]
    }
   ],
   "source": [
    "dtree = DecisionTreeClassifier(max_depth=2)\n",
    "dtree.fit(train_X, train_y)\n",
    "print(export_text(dtree, feature_names=list(X.columns)))"
   ]
  },
  {
   "cell_type": "code",
   "execution_count": 10,
   "metadata": {},
   "outputs": [
    {
     "data": {
      "text/plain": [
       "array([[1559,  111],\n",
       "       [  40, 1540]])"
      ]
     },
     "execution_count": 10,
     "metadata": {},
     "output_type": "execute_result"
    }
   ],
   "source": [
    "confusion_matrix(valid_y, dtree.predict(valid_X))"
   ]
  },
  {
   "cell_type": "code",
   "execution_count": 11,
   "metadata": {},
   "outputs": [
    {
     "data": {
      "text/plain": [
       "0.9535384615384616"
      ]
     },
     "execution_count": 11,
     "metadata": {},
     "output_type": "execute_result"
    }
   ],
   "source": [
    "accuracy_score(valid_y, dtree.predict(valid_X))"
   ]
  },
  {
   "cell_type": "code",
   "execution_count": null,
   "metadata": {},
   "outputs": [],
   "source": []
  }
 ],
 "metadata": {
  "kernelspec": {
   "display_name": "Python 3",
   "language": "python",
   "name": "python3"
  },
  "language_info": {
   "codemirror_mode": {
    "name": "ipython",
    "version": 3
   },
   "file_extension": ".py",
   "mimetype": "text/x-python",
   "name": "python",
   "nbconvert_exporter": "python",
   "pygments_lexer": "ipython3",
   "version": "3.8.3"
  }
 },
 "nbformat": 4,
 "nbformat_minor": 4
}
