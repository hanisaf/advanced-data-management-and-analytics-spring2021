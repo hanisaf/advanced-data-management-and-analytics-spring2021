{
 "cells": [
  {
   "cell_type": "code",
   "execution_count": 2,
   "metadata": {},
   "outputs": [],
   "source": [
    "import pandas as pd"
   ]
  },
  {
   "cell_type": "code",
   "execution_count": 3,
   "metadata": {},
   "outputs": [
    {
     "data": {
      "text/html": [
       "<div>\n",
       "<style scoped>\n",
       "    .dataframe tbody tr th:only-of-type {\n",
       "        vertical-align: middle;\n",
       "    }\n",
       "\n",
       "    .dataframe tbody tr th {\n",
       "        vertical-align: top;\n",
       "    }\n",
       "\n",
       "    .dataframe thead th {\n",
       "        text-align: right;\n",
       "    }\n",
       "</style>\n",
       "<table border=\"1\" class=\"dataframe\">\n",
       "  <thead>\n",
       "    <tr style=\"text-align: right;\">\n",
       "      <th></th>\n",
       "      <th>timestamp</th>\n",
       "      <th>url</th>\n",
       "      <th>tweet</th>\n",
       "      <th>replies</th>\n",
       "      <th>retweets</th>\n",
       "      <th>quotes</th>\n",
       "      <th>likes</th>\n",
       "    </tr>\n",
       "  </thead>\n",
       "  <tbody>\n",
       "    <tr>\n",
       "      <th>0</th>\n",
       "      <td>2020-01-01 01:15</td>\n",
       "      <td>https://twitter.com/JoeBiden/status/1212180387...</td>\n",
       "      <td>Our final fundraising deadline of 2019 is just...</td>\n",
       "      <td>411</td>\n",
       "      <td>269</td>\n",
       "      <td>32</td>\n",
       "      <td>948</td>\n",
       "    </tr>\n",
       "    <tr>\n",
       "      <th>1</th>\n",
       "      <td>2020-01-01 18:35</td>\n",
       "      <td>https://twitter.com/JoeBiden/status/1212442112...</td>\n",
       "      <td>Every single human being deserves to be treate...</td>\n",
       "      <td>1136</td>\n",
       "      <td>2423</td>\n",
       "      <td>182</td>\n",
       "      <td>11574</td>\n",
       "    </tr>\n",
       "    <tr>\n",
       "      <th>2</th>\n",
       "      <td>2020-01-02 00:01</td>\n",
       "      <td>https://twitter.com/JoeBiden/status/1212524152...</td>\n",
       "      <td>With just over one month until the Iowa Caucus...</td>\n",
       "      <td>332</td>\n",
       "      <td>368</td>\n",
       "      <td>29</td>\n",
       "      <td>1457</td>\n",
       "    </tr>\n",
       "    <tr>\n",
       "      <th>3</th>\n",
       "      <td>2020-01-02 01:05</td>\n",
       "      <td>https://twitter.com/JoeBiden/status/1212540258...</td>\n",
       "      <td>This election is about the soul of our nation ...</td>\n",
       "      <td>5199</td>\n",
       "      <td>10192</td>\n",
       "      <td>1153</td>\n",
       "      <td>44886</td>\n",
       "    </tr>\n",
       "    <tr>\n",
       "      <th>4</th>\n",
       "      <td>2020-01-02 02:07</td>\n",
       "      <td>https://twitter.com/JoeBiden/status/1212556035...</td>\n",
       "      <td>Every day that Donald Trump remains in the Whi...</td>\n",
       "      <td>1070</td>\n",
       "      <td>2005</td>\n",
       "      <td>128</td>\n",
       "      <td>9581</td>\n",
       "    </tr>\n",
       "  </tbody>\n",
       "</table>\n",
       "</div>"
      ],
      "text/plain": [
       "          timestamp                                                url  \\\n",
       "0  2020-01-01 01:15  https://twitter.com/JoeBiden/status/1212180387...   \n",
       "1  2020-01-01 18:35  https://twitter.com/JoeBiden/status/1212442112...   \n",
       "2  2020-01-02 00:01  https://twitter.com/JoeBiden/status/1212524152...   \n",
       "3  2020-01-02 01:05  https://twitter.com/JoeBiden/status/1212540258...   \n",
       "4  2020-01-02 02:07  https://twitter.com/JoeBiden/status/1212556035...   \n",
       "\n",
       "                                               tweet  replies  retweets  \\\n",
       "0  Our final fundraising deadline of 2019 is just...      411       269   \n",
       "1  Every single human being deserves to be treate...     1136      2423   \n",
       "2  With just over one month until the Iowa Caucus...      332       368   \n",
       "3  This election is about the soul of our nation ...     5199     10192   \n",
       "4  Every day that Donald Trump remains in the Whi...     1070      2005   \n",
       "\n",
       "   quotes  likes  \n",
       "0      32    948  \n",
       "1     182  11574  \n",
       "2      29   1457  \n",
       "3    1153  44886  \n",
       "4     128   9581  "
      ]
     },
     "execution_count": 3,
     "metadata": {},
     "output_type": "execute_result"
    }
   ],
   "source": [
    "data=pd.read_csv('data/joe_biden_tweets_2020.csv')\n",
    "data.head()"
   ]
  },
  {
   "cell_type": "markdown",
   "metadata": {},
   "source": [
    "The file `joe_biden_tweets_2020.csv` contains tweets from the Twitter account of President Joe Biden.\n",
    "The data was downloaded from [Kaggle](https://www.kaggle.com/rohanrao/joe-biden-tweets).\n",
    "\n",
    "- Extract the tweet id from the url. The tweet id is the number at the end of the url after `/`\n",
    "- Report the tweets mentinoing `@BarackObama`\n",
    "- Create a new column `mention_count` containing the number of `@` in tweet\n",
    "- Create a new column `hashtag_count` containing the number of `#` in tweet\n",
    "- Create a new column `mentions` by extracting the mentions from the tweet text\n",
    "- Create a new column `hashtags` by extracting the hashtags from the tweet text\n",
    "- Report the five most frequent mentions\n",
    "- Report the five most frequent hashtags\n",
    "- Using string operations, extract the day and month of the tweet from the timestamp"
   ]
  },
  {
   "cell_type": "code",
   "execution_count": null,
   "metadata": {},
   "outputs": [],
   "source": []
  },
  {
   "cell_type": "code",
   "execution_count": 5,
   "metadata": {},
   "outputs": [],
   "source": [
    "data['tweet_id'] = data.url.str.split('/').str[-1]"
   ]
  },
  {
   "cell_type": "code",
   "execution_count": 18,
   "metadata": {},
   "outputs": [],
   "source": [
    "data['mention_count'] = data.tweet.str.findall(r'@').str.len()"
   ]
  },
  {
   "cell_type": "code",
   "execution_count": 19,
   "metadata": {},
   "outputs": [],
   "source": [
    "data['hashtag_count'] = data.tweet.str.findall(r'#').str.len()"
   ]
  },
  {
   "cell_type": "code",
   "execution_count": 22,
   "metadata": {},
   "outputs": [],
   "source": [
    "data['mentions'] = data.tweet.str.findall(r'@\\w+')"
   ]
  },
  {
   "cell_type": "code",
   "execution_count": 23,
   "metadata": {},
   "outputs": [],
   "source": [
    "data['hashtags'] = data.tweet.str.findall(r'#\\w+')"
   ]
  },
  {
   "cell_type": "code",
   "execution_count": 31,
   "metadata": {},
   "outputs": [
    {
     "data": {
      "text/plain": [
       "@KamalaHarris       77\n",
       "@DrBiden            29\n",
       "@BarackObama        28\n",
       "@NRA                24\n",
       "@realDonaldTrump    13\n",
       "dtype: int64"
      ]
     },
     "execution_count": 31,
     "metadata": {},
     "output_type": "execute_result"
    }
   ],
   "source": [
    "pd.Series(data['mentions'].sum()).value_counts().iloc[:5]"
   ]
  },
  {
   "cell_type": "code",
   "execution_count": 32,
   "metadata": {},
   "outputs": [
    {
     "data": {
      "text/plain": [
       "#DemDebate        53\n",
       "#DemConvention    41\n",
       "#BidenTownHall    10\n",
       "#SOULSaturday      7\n",
       "#EarthDay          6\n",
       "dtype: int64"
      ]
     },
     "execution_count": 32,
     "metadata": {},
     "output_type": "execute_result"
    }
   ],
   "source": [
    "pd.Series(data['hashtags'].sum()).value_counts().iloc[:5]"
   ]
  },
  {
   "cell_type": "code",
   "execution_count": 27,
   "metadata": {},
   "outputs": [],
   "source": [
    "data[['day', 'month']] = data.timestamp.str.extract(r'\\d\\d\\d\\d-(\\d\\d)-(\\d\\d)')"
   ]
  },
  {
   "cell_type": "code",
   "execution_count": 28,
   "metadata": {},
   "outputs": [
    {
     "data": {
      "text/html": [
       "<div>\n",
       "<style scoped>\n",
       "    .dataframe tbody tr th:only-of-type {\n",
       "        vertical-align: middle;\n",
       "    }\n",
       "\n",
       "    .dataframe tbody tr th {\n",
       "        vertical-align: top;\n",
       "    }\n",
       "\n",
       "    .dataframe thead th {\n",
       "        text-align: right;\n",
       "    }\n",
       "</style>\n",
       "<table border=\"1\" class=\"dataframe\">\n",
       "  <thead>\n",
       "    <tr style=\"text-align: right;\">\n",
       "      <th></th>\n",
       "      <th>timestamp</th>\n",
       "      <th>url</th>\n",
       "      <th>tweet</th>\n",
       "      <th>replies</th>\n",
       "      <th>retweets</th>\n",
       "      <th>quotes</th>\n",
       "      <th>likes</th>\n",
       "      <th>tweet_id</th>\n",
       "      <th>mention_count</th>\n",
       "      <th>hashtag_count</th>\n",
       "      <th>mentions</th>\n",
       "      <th>hashtags</th>\n",
       "      <th>day</th>\n",
       "      <th>month</th>\n",
       "    </tr>\n",
       "  </thead>\n",
       "  <tbody>\n",
       "    <tr>\n",
       "      <th>0</th>\n",
       "      <td>2020-01-01 01:15</td>\n",
       "      <td>https://twitter.com/JoeBiden/status/1212180387...</td>\n",
       "      <td>Our final fundraising deadline of 2019 is just...</td>\n",
       "      <td>411</td>\n",
       "      <td>269</td>\n",
       "      <td>32</td>\n",
       "      <td>948</td>\n",
       "      <td>1212180387260010496</td>\n",
       "      <td>0</td>\n",
       "      <td>0</td>\n",
       "      <td>[]</td>\n",
       "      <td>[]</td>\n",
       "      <td>01</td>\n",
       "      <td>01</td>\n",
       "    </tr>\n",
       "    <tr>\n",
       "      <th>1</th>\n",
       "      <td>2020-01-01 18:35</td>\n",
       "      <td>https://twitter.com/JoeBiden/status/1212442112...</td>\n",
       "      <td>Every single human being deserves to be treate...</td>\n",
       "      <td>1136</td>\n",
       "      <td>2423</td>\n",
       "      <td>182</td>\n",
       "      <td>11574</td>\n",
       "      <td>1212442112219844609</td>\n",
       "      <td>0</td>\n",
       "      <td>0</td>\n",
       "      <td>[]</td>\n",
       "      <td>[]</td>\n",
       "      <td>01</td>\n",
       "      <td>01</td>\n",
       "    </tr>\n",
       "    <tr>\n",
       "      <th>2</th>\n",
       "      <td>2020-01-02 00:01</td>\n",
       "      <td>https://twitter.com/JoeBiden/status/1212524152...</td>\n",
       "      <td>With just over one month until the Iowa Caucus...</td>\n",
       "      <td>332</td>\n",
       "      <td>368</td>\n",
       "      <td>29</td>\n",
       "      <td>1457</td>\n",
       "      <td>1212524152608833536</td>\n",
       "      <td>0</td>\n",
       "      <td>0</td>\n",
       "      <td>[]</td>\n",
       "      <td>[]</td>\n",
       "      <td>01</td>\n",
       "      <td>02</td>\n",
       "    </tr>\n",
       "    <tr>\n",
       "      <th>3</th>\n",
       "      <td>2020-01-02 01:05</td>\n",
       "      <td>https://twitter.com/JoeBiden/status/1212540258...</td>\n",
       "      <td>This election is about the soul of our nation ...</td>\n",
       "      <td>5199</td>\n",
       "      <td>10192</td>\n",
       "      <td>1153</td>\n",
       "      <td>44886</td>\n",
       "      <td>1212540258681851905</td>\n",
       "      <td>0</td>\n",
       "      <td>0</td>\n",
       "      <td>[]</td>\n",
       "      <td>[]</td>\n",
       "      <td>01</td>\n",
       "      <td>02</td>\n",
       "    </tr>\n",
       "    <tr>\n",
       "      <th>4</th>\n",
       "      <td>2020-01-02 02:07</td>\n",
       "      <td>https://twitter.com/JoeBiden/status/1212556035...</td>\n",
       "      <td>Every day that Donald Trump remains in the Whi...</td>\n",
       "      <td>1070</td>\n",
       "      <td>2005</td>\n",
       "      <td>128</td>\n",
       "      <td>9581</td>\n",
       "      <td>1212556035283705858</td>\n",
       "      <td>0</td>\n",
       "      <td>0</td>\n",
       "      <td>[]</td>\n",
       "      <td>[]</td>\n",
       "      <td>01</td>\n",
       "      <td>02</td>\n",
       "    </tr>\n",
       "  </tbody>\n",
       "</table>\n",
       "</div>"
      ],
      "text/plain": [
       "          timestamp                                                url  \\\n",
       "0  2020-01-01 01:15  https://twitter.com/JoeBiden/status/1212180387...   \n",
       "1  2020-01-01 18:35  https://twitter.com/JoeBiden/status/1212442112...   \n",
       "2  2020-01-02 00:01  https://twitter.com/JoeBiden/status/1212524152...   \n",
       "3  2020-01-02 01:05  https://twitter.com/JoeBiden/status/1212540258...   \n",
       "4  2020-01-02 02:07  https://twitter.com/JoeBiden/status/1212556035...   \n",
       "\n",
       "                                               tweet  replies  retweets  \\\n",
       "0  Our final fundraising deadline of 2019 is just...      411       269   \n",
       "1  Every single human being deserves to be treate...     1136      2423   \n",
       "2  With just over one month until the Iowa Caucus...      332       368   \n",
       "3  This election is about the soul of our nation ...     5199     10192   \n",
       "4  Every day that Donald Trump remains in the Whi...     1070      2005   \n",
       "\n",
       "   quotes  likes             tweet_id  mention_count  hashtag_count mentions  \\\n",
       "0      32    948  1212180387260010496              0              0       []   \n",
       "1     182  11574  1212442112219844609              0              0       []   \n",
       "2      29   1457  1212524152608833536              0              0       []   \n",
       "3    1153  44886  1212540258681851905              0              0       []   \n",
       "4     128   9581  1212556035283705858              0              0       []   \n",
       "\n",
       "  hashtags day month  \n",
       "0       []  01    01  \n",
       "1       []  01    01  \n",
       "2       []  01    02  \n",
       "3       []  01    02  \n",
       "4       []  01    02  "
      ]
     },
     "execution_count": 28,
     "metadata": {},
     "output_type": "execute_result"
    }
   ],
   "source": [
    "data.head()"
   ]
  },
  {
   "cell_type": "code",
   "execution_count": null,
   "metadata": {},
   "outputs": [],
   "source": []
  }
 ],
 "metadata": {
  "kernelspec": {
   "display_name": "Python 3",
   "language": "python",
   "name": "python3"
  },
  "language_info": {
   "codemirror_mode": {
    "name": "ipython",
    "version": 3
   },
   "file_extension": ".py",
   "mimetype": "text/x-python",
   "name": "python",
   "nbconvert_exporter": "python",
   "pygments_lexer": "ipython3",
   "version": "3.8.3"
  }
 },
 "nbformat": 4,
 "nbformat_minor": 4
}
