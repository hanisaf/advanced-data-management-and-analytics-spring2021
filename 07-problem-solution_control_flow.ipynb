{
 "cells": [
  {
   "cell_type": "code",
   "execution_count": 1,
   "metadata": {},
   "outputs": [
    {
     "name": "stdout",
     "output_type": "stream",
     "text": [
      "\n",
      "\"34.206.218.183 - - [01/Dec/2019:00:00:25 -0700] \"\"PUT /explore HTTP/1.0\"\" 200 4958 \"\"http://ortega-mcdaniel.info/author.html\"\" \"\"Mozilla/5.0 (Windows CE) AppleWebKit/5350 (KHTML, like Gecko) Chrome/13.0.842.0 Safari/5350\"\"\"\n",
      "\"100.135.163.93 - - [01/Dec/2019:00:01:04 -0700] \"\"GET /search/tag/list HTTP/1.0\"\" 200 5100 \"\"http://www.sawyer-schroeder.com/search/app/login.html\"\" \"\"Mozilla/5.0 (Windows NT 4.0) AppleWebKit/5341 (KHTML, like Gecko) Chrome/13.0.854.0 Safari/5341\"\"\"\n",
      "\"62.14.248.168 - - [01/Dec/2019:00:02:36 -0700] \"\"GET /apps/cart.jsp?appID=1369 HTTP/1.0\"\" 200 5069 \"\"http://www.nguyen.com/category/\"\" \"\"Mozilla/5.0 (Windows NT 5.01) AppleWebKit/5351 (KHTML, like Gecko) Chrome/15.0.877.0 Safari/5351\"\"\"\n",
      "\"63.47.17.133 - - [01/Dec/2019:00:06:33 -0700] \"\"POST /list HTTP/1.0\"\" 200 5036 \"\"http://rodriguez.info/\"\" \"\"Mozilla/5.0 (compatible; MSIE 6.0; Windows 98; Win 9x 4.90; Trident/5.1)\"\"\"\n",
      "\"2.60.81.142 - - [01/Dec/2019:00:09:43 -0700] \"\"GET /app/main/posts HTTP/1.0\"\" 200 4907 \"\"http://hood-winters.org/tags/search/index.asp\"\" \"\"Mozilla/5.0 (iPod; U; CPU iPhone OS 4_1 like Mac OS X; sl-SI) AppleWebKit/535.35.1 (KHTML, like Gecko) Version/4.0.5 Mobile/8B119 Safari/6535.35.1\"\"\"\n"
     ]
    }
   ],
   "source": [
    "web_log = '''\n",
    "\"34.206.218.183 - - [01/Dec/2019:00:00:25 -0700] \"\"PUT /explore HTTP/1.0\"\" 200 4958 \"\"http://ortega-mcdaniel.info/author.html\"\" \"\"Mozilla/5.0 (Windows CE) AppleWebKit/5350 (KHTML, like Gecko) Chrome/13.0.842.0 Safari/5350\"\"\"\n",
    "\"100.135.163.93 - - [01/Dec/2019:00:01:04 -0700] \"\"GET /search/tag/list HTTP/1.0\"\" 200 5100 \"\"http://www.sawyer-schroeder.com/search/app/login.html\"\" \"\"Mozilla/5.0 (Windows NT 4.0) AppleWebKit/5341 (KHTML, like Gecko) Chrome/13.0.854.0 Safari/5341\"\"\"\n",
    "\"62.14.248.168 - - [01/Dec/2019:00:02:36 -0700] \"\"GET /apps/cart.jsp?appID=1369 HTTP/1.0\"\" 200 5069 \"\"http://www.nguyen.com/category/\"\" \"\"Mozilla/5.0 (Windows NT 5.01) AppleWebKit/5351 (KHTML, like Gecko) Chrome/15.0.877.0 Safari/5351\"\"\"\n",
    "\"63.47.17.133 - - [01/Dec/2019:00:06:33 -0700] \"\"POST /list HTTP/1.0\"\" 200 5036 \"\"http://rodriguez.info/\"\" \"\"Mozilla/5.0 (compatible; MSIE 6.0; Windows 98; Win 9x 4.90; Trident/5.1)\"\"\"\n",
    "\"2.60.81.142 - - [01/Dec/2019:00:09:43 -0700] \"\"GET /app/main/posts HTTP/1.0\"\" 200 4907 \"\"http://hood-winters.org/tags/search/index.asp\"\" \"\"Mozilla/5.0 (iPod; U; CPU iPhone OS 4_1 like Mac OS X; sl-SI) AppleWebKit/535.35.1 (KHTML, like Gecko) Version/4.0.5 Mobile/8B119 Safari/6535.35.1\"\"\"'''\n",
    "\n",
    "print(web_log)"
   ]
  },
  {
   "cell_type": "markdown",
   "metadata": {},
   "source": [
    "The variable `web_log` contains five lines from [a webserver log](https://en.wikipedia.org/wiki/Common_Log_Format)\n",
    "\n",
    "Using `str` expressions, functions, and methods answer the following questions:\n",
    "\n",
    "1. print the requested urls in the web log, each url in one line\n",
    "2. How many of the urls are for `.com` sites\n",
    "3. How many of the urls are for `.info` sites\n",
    "4. How many of the urls are for `.org` sites"
   ]
  },
  {
   "cell_type": "code",
   "execution_count": 2,
   "metadata": {},
   "outputs": [],
   "source": [
    "entries = web_log.strip().splitlines()\n"
   ]
  },
  {
   "cell_type": "code",
   "execution_count": 8,
   "metadata": {},
   "outputs": [
    {
     "name": "stdout",
     "output_type": "stream",
     "text": [
      "http://ortega-mcdaniel.info/author.html\n",
      "http://www.sawyer-schroeder.com/search/app/login.html\n",
      "http://www.nguyen.com/category/\n",
      "http://rodriguez.info/\n",
      "http://hood-winters.org/tags/search/index.asp\n"
     ]
    }
   ],
   "source": [
    "# loop\n",
    "for entry in entries:\n",
    "    #entry = entries[1]\n",
    "    url = entry.split('\"')[7]\n",
    "    print(url)"
   ]
  },
  {
   "cell_type": "code",
   "execution_count": 16,
   "metadata": {},
   "outputs": [
    {
     "name": "stdout",
     "output_type": "stream",
     "text": [
      "http://ortega-mcdaniel.info/author.html\n",
      "http://www.sawyer-schroeder.com/search/app/login.html\n",
      "http://www.nguyen.com/category/\n",
      "http://rodriguez.info/\n",
      "http://hood-winters.org/tags/search/index.asp\n",
      "2 2 1\n"
     ]
    }
   ],
   "source": [
    "count_com = count_info = count_org = 0\n",
    "for i in range(len(entries)):\n",
    "    entry = entries[i]\n",
    "    url = entry.split('\"')[7]\n",
    "    if '.com' in url:\n",
    "        count_com += 1\n",
    "    if '.info' in url: #url.find('.info') > -1:\n",
    "        count_info += 1\n",
    "    if '.org' in url:\n",
    "        count_org += 1\n",
    "    print(url)\n",
    "print(count_com, count_info, count_org)"
   ]
  },
  {
   "cell_type": "code",
   "execution_count": 5,
   "metadata": {},
   "outputs": [
    {
     "data": {
      "text/plain": [
       "'http://www.sawyer-schroeder.com/search/app/login.html'"
      ]
     },
     "execution_count": 5,
     "metadata": {},
     "output_type": "execute_result"
    }
   ],
   "source": [
    "# the code is not bullet proof for example www.computer-programing.edu"
   ]
  },
  {
   "cell_type": "code",
   "execution_count": null,
   "metadata": {},
   "outputs": [],
   "source": []
  }
 ],
 "metadata": {
  "kernelspec": {
   "display_name": "Python 3",
   "language": "python",
   "name": "python3"
  },
  "language_info": {
   "codemirror_mode": {
    "name": "ipython",
    "version": 3
   },
   "file_extension": ".py",
   "mimetype": "text/x-python",
   "name": "python",
   "nbconvert_exporter": "python",
   "pygments_lexer": "ipython3",
   "version": "3.8.5"
  }
 },
 "nbformat": 4,
 "nbformat_minor": 4
}
