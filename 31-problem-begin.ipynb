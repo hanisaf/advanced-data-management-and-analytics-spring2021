{
 "cells": [
  {
   "cell_type": "code",
   "execution_count": 1,
   "metadata": {},
   "outputs": [],
   "source": [
    "import pandas as pd\n",
    "import altair as alt"
   ]
  },
  {
   "cell_type": "code",
   "execution_count": 8,
   "metadata": {},
   "outputs": [],
   "source": [
    "data = pd.read_excel('data/eastmank.xlsx')\n",
    "data.Year = data.Year.apply(str)"
   ]
  },
  {
   "cell_type": "code",
   "execution_count": 9,
   "metadata": {},
   "outputs": [
    {
     "data": {
      "text/html": [
       "<div>\n",
       "<style scoped>\n",
       "    .dataframe tbody tr th:only-of-type {\n",
       "        vertical-align: middle;\n",
       "    }\n",
       "\n",
       "    .dataframe tbody tr th {\n",
       "        vertical-align: top;\n",
       "    }\n",
       "\n",
       "    .dataframe thead th {\n",
       "        text-align: right;\n",
       "    }\n",
       "</style>\n",
       "<table border=\"1\" class=\"dataframe\">\n",
       "  <thead>\n",
       "    <tr style=\"text-align: right;\">\n",
       "      <th></th>\n",
       "      <th>Year</th>\n",
       "      <th>Coded Year</th>\n",
       "      <th>Act-Revenue</th>\n",
       "      <th>CPI-U</th>\n",
       "      <th>Real-Revenue</th>\n",
       "    </tr>\n",
       "  </thead>\n",
       "  <tbody>\n",
       "    <tr>\n",
       "      <th>0</th>\n",
       "      <td>1975</td>\n",
       "      <td>0</td>\n",
       "      <td>5.0</td>\n",
       "      <td>53.8</td>\n",
       "      <td>9.3</td>\n",
       "    </tr>\n",
       "    <tr>\n",
       "      <th>1</th>\n",
       "      <td>1976</td>\n",
       "      <td>1</td>\n",
       "      <td>5.4</td>\n",
       "      <td>56.9</td>\n",
       "      <td>9.5</td>\n",
       "    </tr>\n",
       "    <tr>\n",
       "      <th>2</th>\n",
       "      <td>1977</td>\n",
       "      <td>2</td>\n",
       "      <td>6.0</td>\n",
       "      <td>60.6</td>\n",
       "      <td>9.9</td>\n",
       "    </tr>\n",
       "    <tr>\n",
       "      <th>3</th>\n",
       "      <td>1978</td>\n",
       "      <td>3</td>\n",
       "      <td>7.0</td>\n",
       "      <td>65.2</td>\n",
       "      <td>10.7</td>\n",
       "    </tr>\n",
       "    <tr>\n",
       "      <th>4</th>\n",
       "      <td>1979</td>\n",
       "      <td>4</td>\n",
       "      <td>8.0</td>\n",
       "      <td>72.6</td>\n",
       "      <td>11.0</td>\n",
       "    </tr>\n",
       "  </tbody>\n",
       "</table>\n",
       "</div>"
      ],
      "text/plain": [
       "   Year  Coded Year  Act-Revenue  CPI-U  Real-Revenue\n",
       "0  1975           0          5.0   53.8           9.3\n",
       "1  1976           1          5.4   56.9           9.5\n",
       "2  1977           2          6.0   60.6           9.9\n",
       "3  1978           3          7.0   65.2          10.7\n",
       "4  1979           4          8.0   72.6          11.0"
      ]
     },
     "execution_count": 9,
     "metadata": {},
     "output_type": "execute_result"
    }
   ],
   "source": [
    "data.head()"
   ]
  },
  {
   "cell_type": "markdown",
   "metadata": {},
   "source": [
    "- Create a line chart on which the x is Year and y is Act-Revenue\n",
    "- For better presentation label Year as T (temporal type)\n",
    "- Plot another line of the same chart that shows the Real-Revenue, make this line red to differentiate between it and the previous line\n",
    "- Let us visualize this difference between real and actual revenue with an area mark. Encode x as year, y as real revenue and y2 as actual revenue\n",
    "- Let us visualize it again with a bar chart where x is the year, y is the real revenue and y2 is the actual revenue\n",
    "- Use color to differentiate bars based on if real revenue is smaller than actual revenue\n",
    "- Add a tooltip showing the actual difference between real revenue and actual revenue"
   ]
  },
  {
   "cell_type": "code",
   "execution_count": null,
   "metadata": {},
   "outputs": [],
   "source": []
  }
 ],
 "metadata": {
  "kernelspec": {
   "display_name": "Python 3",
   "language": "python",
   "name": "python3"
  },
  "language_info": {
   "codemirror_mode": {
    "name": "ipython",
    "version": 3
   },
   "file_extension": ".py",
   "mimetype": "text/x-python",
   "name": "python",
   "nbconvert_exporter": "python",
   "pygments_lexer": "ipython3",
   "version": "3.8.3"
  }
 },
 "nbformat": 4,
 "nbformat_minor": 4
}
